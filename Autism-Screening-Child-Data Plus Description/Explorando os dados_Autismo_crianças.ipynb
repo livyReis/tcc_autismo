{
 "cells": [
  {
   "cell_type": "code",
   "execution_count": 1,
   "id": "5133ebdf",
   "metadata": {},
   "outputs": [],
   "source": [
    "# Importando as bibliotecas\n",
    "import pandas as pd;\n",
    "import numpy as np;\n",
    "import seaborn as sns; sns.set();\n",
    "import matplotlib.pyplot as plt;\n",
    "import plotly.express as px;"
   ]
  },
  {
   "cell_type": "code",
   "execution_count": 18,
   "id": "9766c16c",
   "metadata": {},
   "outputs": [],
   "source": [
    "# Ajustando o tamanho e estilo dos gráficos\n",
    "plt.style.use('seaborn-white')\n",
    "#plt.rcParams['figure.figsize'] = (5,4)"
   ]
  },
  {
   "cell_type": "code",
   "execution_count": 3,
   "id": "b436f3ec",
   "metadata": {},
   "outputs": [],
   "source": [
    "# Lendo o Dataset\n",
    "df_autismo_criancas = pd.read_csv('Autism-Child-Data.csv')"
   ]
  },
  {
   "cell_type": "code",
   "execution_count": 4,
   "id": "f16be824",
   "metadata": {},
   "outputs": [],
   "source": [
    "# Renomeando as colunas\n",
    "df_autismo_criancas.columns = [\"AQ01\", \"AQ02\", \"AQ03\", \"AQ04\", \"AQ05\",\"AQ06\",\"AQ07\",\"AQ08\",\"AQ09\",\"AQ10\", \"age\",\"gender\", \"ethnicity\", \"jundice\", \"austim\", \"contry_of_res\", \"used_app_before\", \"result numeric\", \"age_desc\", \"relation\", \"Class/ASD\"]"
   ]
  },
  {
   "cell_type": "code",
   "execution_count": 5,
   "id": "ed6f9937",
   "metadata": {
    "scrolled": true
   },
   "outputs": [
    {
     "data": {
      "text/html": [
       "<div>\n",
       "<style scoped>\n",
       "    .dataframe tbody tr th:only-of-type {\n",
       "        vertical-align: middle;\n",
       "    }\n",
       "\n",
       "    .dataframe tbody tr th {\n",
       "        vertical-align: top;\n",
       "    }\n",
       "\n",
       "    .dataframe thead th {\n",
       "        text-align: right;\n",
       "    }\n",
       "</style>\n",
       "<table border=\"1\" class=\"dataframe\">\n",
       "  <thead>\n",
       "    <tr style=\"text-align: right;\">\n",
       "      <th></th>\n",
       "      <th>AQ01</th>\n",
       "      <th>AQ02</th>\n",
       "      <th>AQ03</th>\n",
       "      <th>AQ04</th>\n",
       "      <th>AQ05</th>\n",
       "      <th>AQ06</th>\n",
       "      <th>AQ07</th>\n",
       "      <th>AQ08</th>\n",
       "      <th>AQ09</th>\n",
       "      <th>AQ10</th>\n",
       "      <th>...</th>\n",
       "      <th>gender</th>\n",
       "      <th>ethnicity</th>\n",
       "      <th>jundice</th>\n",
       "      <th>austim</th>\n",
       "      <th>contry_of_res</th>\n",
       "      <th>used_app_before</th>\n",
       "      <th>result numeric</th>\n",
       "      <th>age_desc</th>\n",
       "      <th>relation</th>\n",
       "      <th>Class/ASD</th>\n",
       "    </tr>\n",
       "  </thead>\n",
       "  <tbody>\n",
       "    <tr>\n",
       "      <th>0</th>\n",
       "      <td>1</td>\n",
       "      <td>1</td>\n",
       "      <td>0</td>\n",
       "      <td>0</td>\n",
       "      <td>1</td>\n",
       "      <td>1</td>\n",
       "      <td>0</td>\n",
       "      <td>1</td>\n",
       "      <td>0</td>\n",
       "      <td>0</td>\n",
       "      <td>...</td>\n",
       "      <td>m</td>\n",
       "      <td>'Middle Eastern '</td>\n",
       "      <td>no</td>\n",
       "      <td>no</td>\n",
       "      <td>Jordan</td>\n",
       "      <td>no</td>\n",
       "      <td>5</td>\n",
       "      <td>'4-11 years'</td>\n",
       "      <td>Parent</td>\n",
       "      <td>NO</td>\n",
       "    </tr>\n",
       "    <tr>\n",
       "      <th>1</th>\n",
       "      <td>1</td>\n",
       "      <td>1</td>\n",
       "      <td>0</td>\n",
       "      <td>0</td>\n",
       "      <td>0</td>\n",
       "      <td>1</td>\n",
       "      <td>1</td>\n",
       "      <td>1</td>\n",
       "      <td>0</td>\n",
       "      <td>0</td>\n",
       "      <td>...</td>\n",
       "      <td>m</td>\n",
       "      <td>?</td>\n",
       "      <td>no</td>\n",
       "      <td>no</td>\n",
       "      <td>Jordan</td>\n",
       "      <td>yes</td>\n",
       "      <td>5</td>\n",
       "      <td>'4-11 years'</td>\n",
       "      <td>?</td>\n",
       "      <td>NO</td>\n",
       "    </tr>\n",
       "    <tr>\n",
       "      <th>2</th>\n",
       "      <td>0</td>\n",
       "      <td>1</td>\n",
       "      <td>0</td>\n",
       "      <td>0</td>\n",
       "      <td>1</td>\n",
       "      <td>1</td>\n",
       "      <td>0</td>\n",
       "      <td>0</td>\n",
       "      <td>0</td>\n",
       "      <td>1</td>\n",
       "      <td>...</td>\n",
       "      <td>f</td>\n",
       "      <td>?</td>\n",
       "      <td>yes</td>\n",
       "      <td>no</td>\n",
       "      <td>Jordan</td>\n",
       "      <td>no</td>\n",
       "      <td>4</td>\n",
       "      <td>'4-11 years'</td>\n",
       "      <td>?</td>\n",
       "      <td>NO</td>\n",
       "    </tr>\n",
       "    <tr>\n",
       "      <th>3</th>\n",
       "      <td>1</td>\n",
       "      <td>1</td>\n",
       "      <td>1</td>\n",
       "      <td>1</td>\n",
       "      <td>1</td>\n",
       "      <td>1</td>\n",
       "      <td>1</td>\n",
       "      <td>1</td>\n",
       "      <td>1</td>\n",
       "      <td>1</td>\n",
       "      <td>...</td>\n",
       "      <td>m</td>\n",
       "      <td>Others</td>\n",
       "      <td>yes</td>\n",
       "      <td>no</td>\n",
       "      <td>'United States'</td>\n",
       "      <td>no</td>\n",
       "      <td>10</td>\n",
       "      <td>'4-11 years'</td>\n",
       "      <td>Parent</td>\n",
       "      <td>YES</td>\n",
       "    </tr>\n",
       "    <tr>\n",
       "      <th>4</th>\n",
       "      <td>0</td>\n",
       "      <td>0</td>\n",
       "      <td>1</td>\n",
       "      <td>0</td>\n",
       "      <td>1</td>\n",
       "      <td>1</td>\n",
       "      <td>0</td>\n",
       "      <td>1</td>\n",
       "      <td>0</td>\n",
       "      <td>1</td>\n",
       "      <td>...</td>\n",
       "      <td>m</td>\n",
       "      <td>?</td>\n",
       "      <td>no</td>\n",
       "      <td>yes</td>\n",
       "      <td>Egypt</td>\n",
       "      <td>no</td>\n",
       "      <td>5</td>\n",
       "      <td>'4-11 years'</td>\n",
       "      <td>?</td>\n",
       "      <td>NO</td>\n",
       "    </tr>\n",
       "    <tr>\n",
       "      <th>5</th>\n",
       "      <td>1</td>\n",
       "      <td>0</td>\n",
       "      <td>1</td>\n",
       "      <td>1</td>\n",
       "      <td>1</td>\n",
       "      <td>1</td>\n",
       "      <td>0</td>\n",
       "      <td>1</td>\n",
       "      <td>0</td>\n",
       "      <td>1</td>\n",
       "      <td>...</td>\n",
       "      <td>m</td>\n",
       "      <td>White-European</td>\n",
       "      <td>no</td>\n",
       "      <td>no</td>\n",
       "      <td>'United Kingdom'</td>\n",
       "      <td>no</td>\n",
       "      <td>7</td>\n",
       "      <td>'4-11 years'</td>\n",
       "      <td>Parent</td>\n",
       "      <td>YES</td>\n",
       "    </tr>\n",
       "    <tr>\n",
       "      <th>6</th>\n",
       "      <td>1</td>\n",
       "      <td>1</td>\n",
       "      <td>1</td>\n",
       "      <td>1</td>\n",
       "      <td>1</td>\n",
       "      <td>1</td>\n",
       "      <td>1</td>\n",
       "      <td>1</td>\n",
       "      <td>0</td>\n",
       "      <td>0</td>\n",
       "      <td>...</td>\n",
       "      <td>f</td>\n",
       "      <td>'Middle Eastern '</td>\n",
       "      <td>no</td>\n",
       "      <td>no</td>\n",
       "      <td>Bahrain</td>\n",
       "      <td>no</td>\n",
       "      <td>8</td>\n",
       "      <td>'4-11 years'</td>\n",
       "      <td>Parent</td>\n",
       "      <td>YES</td>\n",
       "    </tr>\n",
       "    <tr>\n",
       "      <th>7</th>\n",
       "      <td>1</td>\n",
       "      <td>1</td>\n",
       "      <td>1</td>\n",
       "      <td>1</td>\n",
       "      <td>1</td>\n",
       "      <td>1</td>\n",
       "      <td>1</td>\n",
       "      <td>0</td>\n",
       "      <td>0</td>\n",
       "      <td>0</td>\n",
       "      <td>...</td>\n",
       "      <td>f</td>\n",
       "      <td>'Middle Eastern '</td>\n",
       "      <td>no</td>\n",
       "      <td>no</td>\n",
       "      <td>Bahrain</td>\n",
       "      <td>no</td>\n",
       "      <td>7</td>\n",
       "      <td>'4-11 years'</td>\n",
       "      <td>Parent</td>\n",
       "      <td>YES</td>\n",
       "    </tr>\n",
       "    <tr>\n",
       "      <th>8</th>\n",
       "      <td>0</td>\n",
       "      <td>0</td>\n",
       "      <td>1</td>\n",
       "      <td>1</td>\n",
       "      <td>1</td>\n",
       "      <td>0</td>\n",
       "      <td>1</td>\n",
       "      <td>1</td>\n",
       "      <td>0</td>\n",
       "      <td>0</td>\n",
       "      <td>...</td>\n",
       "      <td>f</td>\n",
       "      <td>?</td>\n",
       "      <td>no</td>\n",
       "      <td>yes</td>\n",
       "      <td>Austria</td>\n",
       "      <td>no</td>\n",
       "      <td>5</td>\n",
       "      <td>'4-11 years'</td>\n",
       "      <td>?</td>\n",
       "      <td>NO</td>\n",
       "    </tr>\n",
       "    <tr>\n",
       "      <th>9</th>\n",
       "      <td>1</td>\n",
       "      <td>0</td>\n",
       "      <td>0</td>\n",
       "      <td>0</td>\n",
       "      <td>1</td>\n",
       "      <td>1</td>\n",
       "      <td>1</td>\n",
       "      <td>1</td>\n",
       "      <td>1</td>\n",
       "      <td>1</td>\n",
       "      <td>...</td>\n",
       "      <td>m</td>\n",
       "      <td>White-European</td>\n",
       "      <td>yes</td>\n",
       "      <td>no</td>\n",
       "      <td>'United Kingdom'</td>\n",
       "      <td>no</td>\n",
       "      <td>7</td>\n",
       "      <td>'4-11 years'</td>\n",
       "      <td>Self</td>\n",
       "      <td>YES</td>\n",
       "    </tr>\n",
       "  </tbody>\n",
       "</table>\n",
       "<p>10 rows × 21 columns</p>\n",
       "</div>"
      ],
      "text/plain": [
       "   AQ01  AQ02  AQ03  AQ04  AQ05  AQ06  AQ07  AQ08  AQ09  AQ10  ... gender  \\\n",
       "0     1     1     0     0     1     1     0     1     0     0  ...      m   \n",
       "1     1     1     0     0     0     1     1     1     0     0  ...      m   \n",
       "2     0     1     0     0     1     1     0     0     0     1  ...      f   \n",
       "3     1     1     1     1     1     1     1     1     1     1  ...      m   \n",
       "4     0     0     1     0     1     1     0     1     0     1  ...      m   \n",
       "5     1     0     1     1     1     1     0     1     0     1  ...      m   \n",
       "6     1     1     1     1     1     1     1     1     0     0  ...      f   \n",
       "7     1     1     1     1     1     1     1     0     0     0  ...      f   \n",
       "8     0     0     1     1     1     0     1     1     0     0  ...      f   \n",
       "9     1     0     0     0     1     1     1     1     1     1  ...      m   \n",
       "\n",
       "           ethnicity jundice austim     contry_of_res used_app_before  \\\n",
       "0  'Middle Eastern '      no     no            Jordan              no   \n",
       "1                  ?      no     no            Jordan             yes   \n",
       "2                  ?     yes     no            Jordan              no   \n",
       "3             Others     yes     no   'United States'              no   \n",
       "4                  ?      no    yes             Egypt              no   \n",
       "5     White-European      no     no  'United Kingdom'              no   \n",
       "6  'Middle Eastern '      no     no           Bahrain              no   \n",
       "7  'Middle Eastern '      no     no           Bahrain              no   \n",
       "8                  ?      no    yes           Austria              no   \n",
       "9     White-European     yes     no  'United Kingdom'              no   \n",
       "\n",
       "  result numeric      age_desc relation Class/ASD  \n",
       "0              5  '4-11 years'   Parent        NO  \n",
       "1              5  '4-11 years'        ?        NO  \n",
       "2              4  '4-11 years'        ?        NO  \n",
       "3             10  '4-11 years'   Parent       YES  \n",
       "4              5  '4-11 years'        ?        NO  \n",
       "5              7  '4-11 years'   Parent       YES  \n",
       "6              8  '4-11 years'   Parent       YES  \n",
       "7              7  '4-11 years'   Parent       YES  \n",
       "8              5  '4-11 years'        ?        NO  \n",
       "9              7  '4-11 years'     Self       YES  \n",
       "\n",
       "[10 rows x 21 columns]"
      ]
     },
     "execution_count": 5,
     "metadata": {},
     "output_type": "execute_result"
    }
   ],
   "source": [
    "# Visualizando as 10 primeiras linhas do dataset\n",
    "df_autismo_criancas.head(10)"
   ]
  },
  {
   "cell_type": "code",
   "execution_count": 6,
   "id": "3d46a0fc",
   "metadata": {},
   "outputs": [],
   "source": [
    "# Substituuindo valores com '?' por Nan para posteriormente eliminá-los.\n",
    "df_autismo_criancas = df_autismo_criancas.replace('?', np.nan)"
   ]
  },
  {
   "cell_type": "code",
   "execution_count": 7,
   "id": "c4365d8b",
   "metadata": {},
   "outputs": [
    {
     "data": {
      "text/plain": [
       "(291, 21)"
      ]
     },
     "execution_count": 7,
     "metadata": {},
     "output_type": "execute_result"
    }
   ],
   "source": [
    "# Visualizando a quantidade de instâncias e atributos contidas no Dataframe\n",
    "df_autismo_criancas.shape"
   ]
  },
  {
   "cell_type": "code",
   "execution_count": 8,
   "id": "e7a790f0",
   "metadata": {},
   "outputs": [
    {
     "name": "stdout",
     "output_type": "stream",
     "text": [
      "<class 'pandas.core.frame.DataFrame'>\n",
      "RangeIndex: 291 entries, 0 to 290\n",
      "Data columns (total 21 columns):\n",
      " #   Column           Non-Null Count  Dtype \n",
      "---  ------           --------------  ----- \n",
      " 0   AQ01             291 non-null    int64 \n",
      " 1   AQ02             291 non-null    int64 \n",
      " 2   AQ03             291 non-null    int64 \n",
      " 3   AQ04             291 non-null    int64 \n",
      " 4   AQ05             291 non-null    int64 \n",
      " 5   AQ06             291 non-null    int64 \n",
      " 6   AQ07             291 non-null    int64 \n",
      " 7   AQ08             291 non-null    int64 \n",
      " 8   AQ09             291 non-null    int64 \n",
      " 9   AQ10             291 non-null    int64 \n",
      " 10  age              287 non-null    object\n",
      " 11  gender           291 non-null    object\n",
      " 12  ethnicity        248 non-null    object\n",
      " 13  jundice          291 non-null    object\n",
      " 14  austim           291 non-null    object\n",
      " 15  contry_of_res    291 non-null    object\n",
      " 16  used_app_before  291 non-null    object\n",
      " 17  result numeric   291 non-null    int64 \n",
      " 18  age_desc         291 non-null    object\n",
      " 19  relation         248 non-null    object\n",
      " 20  Class/ASD        291 non-null    object\n",
      "dtypes: int64(11), object(10)\n",
      "memory usage: 47.9+ KB\n"
     ]
    }
   ],
   "source": [
    "# Visualizando as informações gerais do Dataframe\n",
    "df_autismo_criancas.info()"
   ]
  },
  {
   "cell_type": "code",
   "execution_count": 9,
   "id": "5abe29e6",
   "metadata": {
    "scrolled": true
   },
   "outputs": [
    {
     "data": {
      "text/plain": [
       "AQ01                0\n",
       "AQ02                0\n",
       "AQ03                0\n",
       "AQ04                0\n",
       "AQ05                0\n",
       "AQ06                0\n",
       "AQ07                0\n",
       "AQ08                0\n",
       "AQ09                0\n",
       "AQ10                0\n",
       "age                 4\n",
       "gender              0\n",
       "ethnicity          43\n",
       "jundice             0\n",
       "austim              0\n",
       "contry_of_res       0\n",
       "used_app_before     0\n",
       "result numeric      0\n",
       "age_desc            0\n",
       "relation           43\n",
       "Class/ASD           0\n",
       "dtype: int64"
      ]
     },
     "execution_count": 9,
     "metadata": {},
     "output_type": "execute_result"
    }
   ],
   "source": [
    "# Visualizando a quantidade total de dados nulos no Dataset\n",
    "df_autismo_criancas.isnull().sum()"
   ]
  },
  {
   "cell_type": "code",
   "execution_count": 10,
   "id": "5ae0ff9a",
   "metadata": {},
   "outputs": [
    {
     "data": {
      "text/plain": [
       "AQ01                0.000000\n",
       "AQ02                0.000000\n",
       "AQ03                0.000000\n",
       "AQ04                0.000000\n",
       "AQ05                0.000000\n",
       "AQ06                0.000000\n",
       "AQ07                0.000000\n",
       "AQ08                0.000000\n",
       "AQ09                0.000000\n",
       "AQ10                0.000000\n",
       "age                 1.374570\n",
       "gender              0.000000\n",
       "ethnicity          14.776632\n",
       "jundice             0.000000\n",
       "austim              0.000000\n",
       "contry_of_res       0.000000\n",
       "used_app_before     0.000000\n",
       "result numeric      0.000000\n",
       "age_desc            0.000000\n",
       "relation           14.776632\n",
       "Class/ASD           0.000000\n",
       "dtype: float64"
      ]
     },
     "execution_count": 10,
     "metadata": {},
     "output_type": "execute_result"
    }
   ],
   "source": [
    "# Visualizando a porcentagem total de dados nulos no Dataset\n",
    "df_autismo_criancas.isnull().sum()/df_autismo_criancas.shape[0]*100"
   ]
  },
  {
   "cell_type": "code",
   "execution_count": 11,
   "id": "edac2c8d",
   "metadata": {},
   "outputs": [],
   "source": [
    "# Elimando as colunas com maior incidência de dados dados nulos, pois assim permacemos com o mesmo números de entrada de dados.\n",
    "df_autismo_criancas = df_autismo_criancas.drop(columns=['ethnicity', 'relation'], inplace = False, axis = 1)"
   ]
  },
  {
   "cell_type": "code",
   "execution_count": 12,
   "id": "d32c2d29",
   "metadata": {},
   "outputs": [],
   "source": [
    "# Eliminar apenas algumas linhas com dados nulos\n",
    "df_autismo_criancas = df_autismo_criancas.dropna(inplace = False, axis = 0)"
   ]
  },
  {
   "cell_type": "code",
   "execution_count": 13,
   "id": "12b6d9d6",
   "metadata": {},
   "outputs": [
    {
     "data": {
      "text/plain": [
       "(287, 19)"
      ]
     },
     "execution_count": 13,
     "metadata": {},
     "output_type": "execute_result"
    }
   ],
   "source": [
    "# Confirmando o número de instância da pesquisa após a remoção dos dados ausentes\n",
    "df_autismo_criancas.shape"
   ]
  },
  {
   "cell_type": "code",
   "execution_count": 14,
   "id": "6a7b93c8",
   "metadata": {},
   "outputs": [
    {
     "data": {
      "text/plain": [
       "AQ01               0\n",
       "AQ02               0\n",
       "AQ03               0\n",
       "AQ04               0\n",
       "AQ05               0\n",
       "AQ06               0\n",
       "AQ07               0\n",
       "AQ08               0\n",
       "AQ09               0\n",
       "AQ10               0\n",
       "age                0\n",
       "gender             0\n",
       "jundice            0\n",
       "austim             0\n",
       "contry_of_res      0\n",
       "used_app_before    0\n",
       "result numeric     0\n",
       "age_desc           0\n",
       "Class/ASD          0\n",
       "dtype: int64"
      ]
     },
     "execution_count": 14,
     "metadata": {},
     "output_type": "execute_result"
    }
   ],
   "source": [
    "# Visualizando novamente se ainda existe dados nulos no Dataset. \n",
    "df_autismo_criancas.isnull().sum()"
   ]
  },
  {
   "cell_type": "code",
   "execution_count": 15,
   "id": "da1d2a0c",
   "metadata": {},
   "outputs": [
    {
     "data": {
      "text/plain": [
       "4     92\n",
       "5     45\n",
       "6     38\n",
       "7     27\n",
       "11    26\n",
       "8     21\n",
       "9     20\n",
       "10    18\n",
       "Name: age, dtype: int64"
      ]
     },
     "execution_count": 15,
     "metadata": {},
     "output_type": "execute_result"
    }
   ],
   "source": [
    "# Visualizando um panorama das idades dos participantes da pesquisa\n",
    "df_autismo_criancas['age'].value_counts()"
   ]
  },
  {
   "cell_type": "code",
   "execution_count": 16,
   "id": "2ace9282",
   "metadata": {},
   "outputs": [
    {
     "data": {
      "image/png": "[encoded data removed]",
      "text/plain": [
       "<Figure size 360x288 with 1 Axes>"
      ]
     },
     "metadata": {},
     "output_type": "display_data"
    }
   ],
   "source": [
    "# Visualizando a distribuição de frequência das idades dos participantes da pesquisa\n",
    "df_autismo_criancas['age'].value_counts().plot.bar();"
   ]
  },
  {
   "cell_type": "code",
   "execution_count": 49,
   "id": "c28edb89",
   "metadata": {},
   "outputs": [
    {
     "data": {
      "text/plain": [
       "no     238\n",
       "yes     49\n",
       "Name: austim, dtype: int64"
      ]
     },
     "execution_count": 49,
     "metadata": {},
     "output_type": "execute_result"
    }
   ],
   "source": [
    "df_autismo_criancas['austim'].value_counts()"
   ]
  },
  {
   "cell_type": "code",
   "execution_count": 51,
   "id": "fe4bbe8d",
   "metadata": {},
   "outputs": [
    {
     "data": {
      "text/plain": [
       "no     82.926829\n",
       "yes    17.073171\n",
       "Name: austim, dtype: float64"
      ]
     },
     "execution_count": 51,
     "metadata": {},
     "output_type": "execute_result"
    }
   ],
   "source": [
    "df_autismo_criancas['austim'].value_counts()/df_autismo_criancas.shape[0]*100"
   ]
  },
  {
   "cell_type": "code",
   "execution_count": 50,
   "id": "15b0c32b",
   "metadata": {},
   "outputs": [
    {
     "data": {
      "image/png": "[encoded data removed]",
      "text/plain": [
       "<Figure size 360x288 with 1 Axes>"
      ]
     },
     "metadata": {},
     "output_type": "display_data"
    }
   ],
   "source": [
    "df_autismo_criancas['austim'].value_counts().plot.bar();"
   ]
  },
  {
   "cell_type": "code",
   "execution_count": 104,
   "id": "be619feb",
   "metadata": {},
   "outputs": [],
   "source": [
    "# Criando um dataset apenas com o grupo das crianças com TEA\n",
    "criancas_TEA = df_autismo_criancas.loc[df_autismo_criancas['austim'] == 'yes']"
   ]
  },
  {
   "cell_type": "code",
   "execution_count": 107,
   "id": "8ca9f720",
   "metadata": {},
   "outputs": [
    {
     "data": {
      "image/png": "[encoded data removed]",
      "text/plain": [
       "<Figure size 360x288 with 1 Axes>"
      ]
     },
     "metadata": {},
     "output_type": "display_data"
    }
   ],
   "source": [
    "sns.countplot(data = criancas_TEA, y='gender')\n",
    "sns.despine()"
   ]
  },
  {
   "cell_type": "code",
   "execution_count": 108,
   "id": "65431ded",
   "metadata": {},
   "outputs": [
    {
     "data": {
      "image/png": "[encoded data removed]",
      "text/plain": [
       "<Figure size 360x288 with 1 Axes>"
      ]
     },
     "metadata": {},
     "output_type": "display_data"
    }
   ],
   "source": [
    "sns.countplot(data= criancas_TEA, y= 'age', order = criancas_TEA[\"age\"].value_counts().index)\n",
    "sns.despine()"
   ]
  },
  {
   "cell_type": "code",
   "execution_count": 111,
   "id": "a39bd24b",
   "metadata": {},
   "outputs": [
    {
     "data": {
      "image/png": "[encoded data removed]",
      "text/plain": [
       "<Figure size 360x288 with 1 Axes>"
      ]
     },
     "metadata": {},
     "output_type": "display_data"
    }
   ],
   "source": [
    "sns.countplot(data= criancas_TEA, x= 'age', hue = 'gender', order = criancas_TEA[\"age\"].value_counts().index.)\n",
    "sns.despine()"
   ]
  }
 ],
 "metadata": {
  "kernelspec": {
   "display_name": "Python 3",
   "language": "python",
   "name": "python3"
  },
  "language_info": {
   "codemirror_mode": {
    "name": "ipython",
    "version": 3
   },
   "file_extension": ".py",
   "mimetype": "text/x-python",
   "name": "python",
   "nbconvert_exporter": "python",
   "pygments_lexer": "ipython3",
   "version": "3.8.8"
  }
 },
 "nbformat": 4,
 "nbformat_minor": 5
}
