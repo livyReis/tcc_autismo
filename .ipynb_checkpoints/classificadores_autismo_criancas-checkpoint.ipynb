{
 "cells": [
  {
   "cell_type": "markdown",
   "metadata": {
    "id": "lfm7yLre3VVP"
   },
   "source": [
    "# **Projeto TCC**"
   ]
  },
  {
   "cell_type": "markdown",
   "metadata": {
    "id": "GjgCqpTX3ay2"
   },
   "source": [
    "## Título : O uso de modelos de aprendizagem de máquina para identificação das principais características do Transtorno do Espectro Autista em Crianças"
   ]
  },
  {
   "cell_type": "markdown",
   "metadata": {
    "id": "-hMihwuX3iqQ"
   },
   "source": [
    "### Objetivo\n",
    "\n",
    "Este projeto tem como objetivo utilizar vários modelos supervisionados de aprendizagem de máquina para identificar as principais características do Transtorno do Espectro Autista. O transtorno do espectro autista (TEA) é conhecido por apresentar adversidade no neurodesenvolvimento apontado como desenvolvimento atípico, manifestações comportamentais, déficits na comunicação e na interação social, padrões de comportamentos repetitivos e estereotipados, podendo apresentar um repertório restrito de interesses e atividades. Nos últimos anos o número de ocorrências de crianças que manifestam sintomas e são diagnósticas com TEA, vem crescendo significativamente. Portanto, uma triagem de TEA acessível e eficiente em termos de tempo é iminente para ajudar os profissionais de saúde e informar os indivíduos se eles devem buscar o diagnóstico clínico formal. No entanto, esses conjuntos de dados são raros, dificultando a realização de análises completas para melhorar a eficiência, sensibilidade, especificidade e precisão preditiva do processo de triagem de TEA. Atualmente, conjuntos de dados de autismo muito limitados associados a exames clínicos ou de triagem estão disponíveis e a maioria deles é de natureza genética. Portanto, propomos um novo conjunto de dados relacionado à triagem de autismo de crianças que continha 20 recursos a serem utilizados para análise posterior, especialmente na determinação de traços autistas influentes e na melhoria da classificação de casos de TEA. Neste conjunto de dados, registramos dez características comportamentais (AQ-10-Child) mais dez características individuais que provaram ser eficazes na detecção de casos de TEA de controles na ciência do comportamento."
   ]
  },
  {
   "cell_type": "markdown",
   "metadata": {
    "id": "eIb9XQ_dhqxk"
   },
   "source": [
    "### Dicionário dos Dados"
   ]
  },
  {
   "cell_type": "markdown",
   "metadata": {
    "id": "PsV4RVZkhy0b"
   },
   "source": [
    "|Atributo                 |     Dicionário                                    |\n",
    "|-------------------------|---------------------------------------------------|\n",
    "|A1_Score                 | Binário {0,1}                                            |\n",
    "|A2_Score                 | Binário {0,1}                                          |\n",
    "|A3_Score                  | Binário {0,1}                                               |\n",
    "|A4_Score                    | Binário {0,1}                                             | \n",
    "|A5_Score            | Binário {0,1}                  |\n",
    "|A6_Score           | Binário {0,1}     |\n",
    "|A7_Score                | Binário {0,1}                                                                        |\n",
    "|A8_Score            | Binário {0,1}     |\n",
    "|A9_Score            |Binário {0,1}  |\n",
    "|A10_Score             | Binário {0,1}  |\n",
    "|age             | numeric |\n",
    "|gender                 | Categorical (m or f) |\n",
    "|ethnicity             |  Categorical  |\n",
    "|icterícia        | Categorical (yes or no)                            |\n",
    "|austim                | Categorical (yes or no)                       | \n",
    "|contry_of_res                 | Categorical   |\n",
    "|used_app_before                    | Categorical (yes or no)          |\n",
    "|result numeric| Numeric                        |\n",
    "|age_desc  | Categorical                         |\n",
    "|relation PDD                | Categorical (yes or no)    |\n",
    "|Class/ASD               | Categorical (yes or no)                           |"
   ]
  },
  {
   "cell_type": "markdown",
   "metadata": {},
   "source": [
    "### Link do Git:\n",
    "- https://github.com/livyReis/tcc_autismo"
   ]
  },
  {
   "cell_type": "markdown",
   "metadata": {
    "id": "5H4dmduZWpFZ"
   },
   "source": [
    "### Importando as bibliotecas"
   ]
  },
  {
   "cell_type": "code",
   "execution_count": null,
   "metadata": {
    "executionInfo": {
     "elapsed": 572,
     "status": "ok",
     "timestamp": 1638784595294,
     "user": {
      "displayName": "Liviany Reis Rodrigues",
      "photoUrl": "https://lh3.googleusercontent.com/a/default-user=s64",
      "userId": "13974134542734238498"
     },
     "user_tz": 180
    },
    "id": "PRnjjTRDCqf4"
   },
   "outputs": [],
   "source": [
    "import pandas as pd\n",
    "import numpy as np\n",
    "import matplotlib.pyplot as plt\n",
    "import seaborn as sns\n",
    "\n",
    "from scipy import stats\n",
    "from scipy.stats import kruskal\n",
    "\n",
    "from sklearn import preprocessing\n",
    "from sklearn import model_selection\n",
    "from sklearn import tree\n",
    "\n",
    "from sklearn.model_selection import RepeatedStratifiedKFold\n",
    "from sklearn.model_selection import RandomizedSearchCV\n",
    "from sklearn.model_selection import GridSearchCV\n",
    "\n",
    "from sklearn.metrics import classification_report\n",
    "from sklearn.metrics import confusion_matrix\n",
    "from sklearn.metrics import accuracy_score, precision_score, f1_score\n",
    "\n",
    "from sklearn.ensemble import RandomForestClassifier\n",
    "from sklearn.ensemble import BaggingClassifier\n",
    "from sklearn.ensemble import VotingClassifier\n",
    "from sklearn.tree import DecisionTreeClassifier\n",
    "from sklearn.neural_network import MLPClassifier\n",
    "from sklearn.neighbors import KNeighborsClassifier\n",
    "from sklearn.preprocessing import MinMaxScaler\n",
    "from sklearn.decomposition import PCA\n",
    "\n",
    "from numpy.random import randn\n",
    "from numpy.random import seed\n",
    "\n",
    "from warnings import filterwarnings\n",
    "filterwarnings('ignore')"
   ]
  },
  {
   "cell_type": "code",
   "execution_count": 2,
   "metadata": {
    "executionInfo": {
     "elapsed": 22,
     "status": "ok",
     "timestamp": 1638784596325,
     "user": {
      "displayName": "Liviany Reis Rodrigues",
      "photoUrl": "https://lh3.googleusercontent.com/a/default-user=s64",
      "userId": "13974134542734238498"
     },
     "user_tz": 180
    },
    "id": "UIACjfNG54mP"
   },
   "outputs": [],
   "source": [
    "#Estilo dos gráficos\n",
    "plt.style.use('seaborn-bright')\n",
    "#Padronizando o tamanho dos gráficos \n",
    "plt.rcParams['figure.figsize'] = (5,4)\n",
    "%matplotlib inline"
   ]
  },
  {
   "cell_type": "markdown",
   "metadata": {
    "id": "01yBwsHEUUlv"
   },
   "source": [
    "**Lendo o Dataset**"
   ]
  },
  {
   "cell_type": "code",
   "execution_count": 3,
   "metadata": {
    "executionInfo": {
     "elapsed": 21,
     "status": "ok",
     "timestamp": 1638784596330,
     "user": {
      "displayName": "Liviany Reis Rodrigues",
      "photoUrl": "https://lh3.googleusercontent.com/a/default-user=s64",
      "userId": "13974134542734238498"
     },
     "user_tz": 180
    },
    "id": "3ilF9Hn2DG8b"
   },
   "outputs": [],
   "source": [
    "autismo_criancas = pd.read_csv('Autism-Child-Data.csv')"
   ]
  },
  {
   "cell_type": "code",
   "execution_count": 4,
   "metadata": {},
   "outputs": [],
   "source": [
    "# Renomeando as colunas\n",
    "autismo_criancas.columns = [\"AQ01\", \"AQ02\", \"AQ03\", \"AQ04\", \"AQ05\",\"AQ06\",\"AQ07\",\"AQ08\",\"AQ09\",\"AQ10\", \"age\",\"gender\", \"ethnicity\", \"icterícia\", \"austim\", \"contry_of_res\", \"used_app_before\", \"result numeric\", \"age_desc\", \"relation PDD\", \"Class/ASD\"]"
   ]
  },
  {
   "cell_type": "markdown",
   "metadata": {
    "id": "KUE7aMueES13"
   },
   "source": [
    "**Visão Geral do Dataframe**"
   ]
  },
  {
   "cell_type": "code",
   "execution_count": 55,
   "metadata": {
    "colab": {
     "base_uri": "https://localhost:8080/",
     "height": 313
    },
    "executionInfo": {
     "elapsed": 243,
     "status": "ok",
     "timestamp": 1638784597599,
     "user": {
      "displayName": "Liviany Reis Rodrigues",
      "photoUrl": "https://lh3.googleusercontent.com/a/default-user=s64",
      "userId": "13974134542734238498"
     },
     "user_tz": 180
    },
    "id": "ptNmIID1DatL",
    "outputId": "58b691f7-c7d8-4af2-cd14-9cfc14021bff"
   },
   "outputs": [
    {
     "data": {
      "text/html": [
       "<div>\n",
       "<style scoped>\n",
       "    .dataframe tbody tr th:only-of-type {\n",
       "        vertical-align: middle;\n",
       "    }\n",
       "\n",
       "    .dataframe tbody tr th {\n",
       "        vertical-align: top;\n",
       "    }\n",
       "\n",
       "    .dataframe thead th {\n",
       "        text-align: right;\n",
       "    }\n",
       "</style>\n",
       "<table border=\"1\" class=\"dataframe\">\n",
       "  <thead>\n",
       "    <tr style=\"text-align: right;\">\n",
       "      <th></th>\n",
       "      <th>AQ01</th>\n",
       "      <th>AQ02</th>\n",
       "      <th>AQ03</th>\n",
       "      <th>AQ04</th>\n",
       "      <th>AQ05</th>\n",
       "      <th>AQ06</th>\n",
       "      <th>AQ07</th>\n",
       "      <th>AQ08</th>\n",
       "      <th>AQ09</th>\n",
       "      <th>AQ10</th>\n",
       "      <th>austim</th>\n",
       "    </tr>\n",
       "  </thead>\n",
       "  <tbody>\n",
       "    <tr>\n",
       "      <th>0</th>\n",
       "      <td>1</td>\n",
       "      <td>1</td>\n",
       "      <td>0</td>\n",
       "      <td>0</td>\n",
       "      <td>1</td>\n",
       "      <td>1</td>\n",
       "      <td>0</td>\n",
       "      <td>1</td>\n",
       "      <td>0</td>\n",
       "      <td>0</td>\n",
       "      <td>no</td>\n",
       "    </tr>\n",
       "    <tr>\n",
       "      <th>1</th>\n",
       "      <td>1</td>\n",
       "      <td>1</td>\n",
       "      <td>0</td>\n",
       "      <td>0</td>\n",
       "      <td>0</td>\n",
       "      <td>1</td>\n",
       "      <td>1</td>\n",
       "      <td>1</td>\n",
       "      <td>0</td>\n",
       "      <td>0</td>\n",
       "      <td>no</td>\n",
       "    </tr>\n",
       "    <tr>\n",
       "      <th>2</th>\n",
       "      <td>0</td>\n",
       "      <td>1</td>\n",
       "      <td>0</td>\n",
       "      <td>0</td>\n",
       "      <td>1</td>\n",
       "      <td>1</td>\n",
       "      <td>0</td>\n",
       "      <td>0</td>\n",
       "      <td>0</td>\n",
       "      <td>1</td>\n",
       "      <td>no</td>\n",
       "    </tr>\n",
       "    <tr>\n",
       "      <th>3</th>\n",
       "      <td>1</td>\n",
       "      <td>1</td>\n",
       "      <td>1</td>\n",
       "      <td>1</td>\n",
       "      <td>1</td>\n",
       "      <td>1</td>\n",
       "      <td>1</td>\n",
       "      <td>1</td>\n",
       "      <td>1</td>\n",
       "      <td>1</td>\n",
       "      <td>no</td>\n",
       "    </tr>\n",
       "    <tr>\n",
       "      <th>4</th>\n",
       "      <td>0</td>\n",
       "      <td>0</td>\n",
       "      <td>1</td>\n",
       "      <td>0</td>\n",
       "      <td>1</td>\n",
       "      <td>1</td>\n",
       "      <td>0</td>\n",
       "      <td>1</td>\n",
       "      <td>0</td>\n",
       "      <td>1</td>\n",
       "      <td>yes</td>\n",
       "    </tr>\n",
       "    <tr>\n",
       "      <th>5</th>\n",
       "      <td>1</td>\n",
       "      <td>0</td>\n",
       "      <td>1</td>\n",
       "      <td>1</td>\n",
       "      <td>1</td>\n",
       "      <td>1</td>\n",
       "      <td>0</td>\n",
       "      <td>1</td>\n",
       "      <td>0</td>\n",
       "      <td>1</td>\n",
       "      <td>no</td>\n",
       "    </tr>\n",
       "    <tr>\n",
       "      <th>6</th>\n",
       "      <td>1</td>\n",
       "      <td>1</td>\n",
       "      <td>1</td>\n",
       "      <td>1</td>\n",
       "      <td>1</td>\n",
       "      <td>1</td>\n",
       "      <td>1</td>\n",
       "      <td>1</td>\n",
       "      <td>0</td>\n",
       "      <td>0</td>\n",
       "      <td>no</td>\n",
       "    </tr>\n",
       "    <tr>\n",
       "      <th>7</th>\n",
       "      <td>1</td>\n",
       "      <td>1</td>\n",
       "      <td>1</td>\n",
       "      <td>1</td>\n",
       "      <td>1</td>\n",
       "      <td>1</td>\n",
       "      <td>1</td>\n",
       "      <td>0</td>\n",
       "      <td>0</td>\n",
       "      <td>0</td>\n",
       "      <td>no</td>\n",
       "    </tr>\n",
       "    <tr>\n",
       "      <th>8</th>\n",
       "      <td>0</td>\n",
       "      <td>0</td>\n",
       "      <td>1</td>\n",
       "      <td>1</td>\n",
       "      <td>1</td>\n",
       "      <td>0</td>\n",
       "      <td>1</td>\n",
       "      <td>1</td>\n",
       "      <td>0</td>\n",
       "      <td>0</td>\n",
       "      <td>yes</td>\n",
       "    </tr>\n",
       "    <tr>\n",
       "      <th>9</th>\n",
       "      <td>1</td>\n",
       "      <td>0</td>\n",
       "      <td>0</td>\n",
       "      <td>0</td>\n",
       "      <td>1</td>\n",
       "      <td>1</td>\n",
       "      <td>1</td>\n",
       "      <td>1</td>\n",
       "      <td>1</td>\n",
       "      <td>1</td>\n",
       "      <td>no</td>\n",
       "    </tr>\n",
       "  </tbody>\n",
       "</table>\n",
       "</div>"
      ],
      "text/plain": [
       "   AQ01  AQ02  AQ03  AQ04  AQ05  AQ06  AQ07  AQ08  AQ09  AQ10 austim\n",
       "0     1     1     0     0     1     1     0     1     0     0     no\n",
       "1     1     1     0     0     0     1     1     1     0     0     no\n",
       "2     0     1     0     0     1     1     0     0     0     1     no\n",
       "3     1     1     1     1     1     1     1     1     1     1     no\n",
       "4     0     0     1     0     1     1     0     1     0     1    yes\n",
       "5     1     0     1     1     1     1     0     1     0     1     no\n",
       "6     1     1     1     1     1     1     1     1     0     0     no\n",
       "7     1     1     1     1     1     1     1     0     0     0     no\n",
       "8     0     0     1     1     1     0     1     1     0     0    yes\n",
       "9     1     0     0     0     1     1     1     1     1     1     no"
      ]
     },
     "execution_count": 55,
     "metadata": {},
     "output_type": "execute_result"
    }
   ],
   "source": [
    "# Visualizando as 03 primeiras linhas do Dataframe\n",
    "autismo_criancas.head(10)"
   ]
  },
  {
   "cell_type": "code",
   "execution_count": 6,
   "metadata": {},
   "outputs": [
    {
     "data": {
      "text/plain": [
       "(291, 21)"
      ]
     },
     "execution_count": 6,
     "metadata": {},
     "output_type": "execute_result"
    }
   ],
   "source": [
    "# Visualizando o número de entradas e atributos contidos no Dataframe\n",
    "autismo_criancas.shape"
   ]
  },
  {
   "cell_type": "code",
   "execution_count": 7,
   "metadata": {},
   "outputs": [
    {
     "name": "stdout",
     "output_type": "stream",
     "text": [
      "<class 'pandas.core.frame.DataFrame'>\n",
      "RangeIndex: 291 entries, 0 to 290\n",
      "Data columns (total 21 columns):\n",
      " #   Column           Non-Null Count  Dtype \n",
      "---  ------           --------------  ----- \n",
      " 0   AQ01             291 non-null    int64 \n",
      " 1   AQ02             291 non-null    int64 \n",
      " 2   AQ03             291 non-null    int64 \n",
      " 3   AQ04             291 non-null    int64 \n",
      " 4   AQ05             291 non-null    int64 \n",
      " 5   AQ06             291 non-null    int64 \n",
      " 6   AQ07             291 non-null    int64 \n",
      " 7   AQ08             291 non-null    int64 \n",
      " 8   AQ09             291 non-null    int64 \n",
      " 9   AQ10             291 non-null    int64 \n",
      " 10  age              291 non-null    object\n",
      " 11  gender           291 non-null    object\n",
      " 12  ethnicity        291 non-null    object\n",
      " 13  icterícia        291 non-null    object\n",
      " 14  austim           291 non-null    object\n",
      " 15  contry_of_res    291 non-null    object\n",
      " 16  used_app_before  291 non-null    object\n",
      " 17  result numeric   291 non-null    int64 \n",
      " 18  age_desc         291 non-null    object\n",
      " 19  relation PDD     291 non-null    object\n",
      " 20  Class/ASD        291 non-null    object\n",
      "dtypes: int64(11), object(10)\n",
      "memory usage: 47.9+ KB\n"
     ]
    }
   ],
   "source": [
    "# Visualizando os tipos dos dados\n",
    "autismo_criancas.info()"
   ]
  },
  {
   "cell_type": "markdown",
   "metadata": {},
   "source": [
    "**Pré-Processamento dos Dados**"
   ]
  },
  {
   "cell_type": "markdown",
   "metadata": {},
   "source": [
    "Observou-se que existia no Dataset dados ausentes preenchidos com o ponto de interrogação, nesse caso foi realizado a alteração dos dados para posteriormente eliminá-los."
   ]
  },
  {
   "cell_type": "code",
   "execution_count": 8,
   "metadata": {},
   "outputs": [],
   "source": [
    "# Substituuindo valores com '?' por Nan para posteriormente eliminá-los.\n",
    "autismo_criancas = autismo_criancas.replace('?', np.nan)"
   ]
  },
  {
   "cell_type": "code",
   "execution_count": 9,
   "metadata": {},
   "outputs": [
    {
     "data": {
      "text/plain": [
       "AQ01                0.000000\n",
       "AQ02                0.000000\n",
       "AQ03                0.000000\n",
       "AQ04                0.000000\n",
       "AQ05                0.000000\n",
       "AQ06                0.000000\n",
       "AQ07                0.000000\n",
       "AQ08                0.000000\n",
       "AQ09                0.000000\n",
       "AQ10                0.000000\n",
       "age                 1.374570\n",
       "gender              0.000000\n",
       "ethnicity          14.776632\n",
       "icterícia           0.000000\n",
       "austim              0.000000\n",
       "contry_of_res       0.000000\n",
       "used_app_before     0.000000\n",
       "result numeric      0.000000\n",
       "age_desc            0.000000\n",
       "relation PDD       14.776632\n",
       "Class/ASD           0.000000\n",
       "dtype: float64"
      ]
     },
     "execution_count": 9,
     "metadata": {},
     "output_type": "execute_result"
    }
   ],
   "source": [
    "# Visualizando a porcentagem total de dados nulos no Dataset\n",
    "autismo_criancas.isnull().sum()/autismo_criancas.shape[0]*100"
   ]
  },
  {
   "cell_type": "markdown",
   "metadata": {},
   "source": [
    "Após a alteração dos dados foi observado que o número de dados nulos era significativo para a quantidade total de entradas contidas no dataset. Dessa forma, optou-se pela remoção dos atributos que apresentavam maior incidência de dados ausentes, por entender que esta ação não afetaria a quantidade de instâncias totais no dataframe, por fim, foi eliminado apenas 04 linhas para a eliminação de dados nulos contidos no atributo idade. "
   ]
  },
  {
   "cell_type": "code",
   "execution_count": 10,
   "metadata": {},
   "outputs": [],
   "source": [
    "# Elimando as colunas com os dados ausentes\n",
    "autismo_criancas.drop(columns=['ethnicity', 'relation PDD'], inplace = True, axis = 1)"
   ]
  },
  {
   "cell_type": "code",
   "execution_count": 11,
   "metadata": {},
   "outputs": [],
   "source": [
    "autismo_criancas.dropna(inplace = True, axis = 0)"
   ]
  },
  {
   "cell_type": "code",
   "execution_count": 12,
   "metadata": {},
   "outputs": [
    {
     "data": {
      "text/plain": [
       "AQ01               0\n",
       "AQ02               0\n",
       "AQ03               0\n",
       "AQ04               0\n",
       "AQ05               0\n",
       "AQ06               0\n",
       "AQ07               0\n",
       "AQ08               0\n",
       "AQ09               0\n",
       "AQ10               0\n",
       "age                0\n",
       "gender             0\n",
       "icterícia          0\n",
       "austim             0\n",
       "contry_of_res      0\n",
       "used_app_before    0\n",
       "result numeric     0\n",
       "age_desc           0\n",
       "Class/ASD          0\n",
       "dtype: int64"
      ]
     },
     "execution_count": 12,
     "metadata": {},
     "output_type": "execute_result"
    }
   ],
   "source": [
    "# Visualizando se ainda existem dados nulos no Dataset\n",
    "autismo_criancas.isnull().sum()"
   ]
  },
  {
   "cell_type": "markdown",
   "metadata": {},
   "source": [
    "**Eliminando variáveis que não serão utilizadas na análise exploratória e nem nos modelos de aprendizagem de máquina.**"
   ]
  },
  {
   "cell_type": "code",
   "execution_count": 13,
   "metadata": {},
   "outputs": [],
   "source": [
    "autismo_criancas = autismo_criancas.drop(columns=['used_app_before', 'age_desc'], inplace = False, axis = 1)"
   ]
  },
  {
   "cell_type": "markdown",
   "metadata": {},
   "source": [
    "**Alterando os tipos dos dados com intuito de melhor analisá-los**"
   ]
  },
  {
   "cell_type": "code",
   "execution_count": 14,
   "metadata": {},
   "outputs": [],
   "source": [
    "autismo_criancas['age'] = autismo_criancas['age'].astype('int64')\n",
    "autismo_criancas['gender'] = autismo_criancas['gender'].astype('category')\n",
    "autismo_criancas['icterícia'] = autismo_criancas['icterícia'].astype('category')\n",
    "autismo_criancas['austim'] = autismo_criancas['austim'].astype('category')\n",
    "autismo_criancas['contry_of_res'] = autismo_criancas['contry_of_res'].astype('category')\n",
    "autismo_criancas['result numeric'] = autismo_criancas['result numeric'].astype('category')\n",
    "autismo_criancas['Class/ASD'] = autismo_criancas['Class/ASD'].astype('category')\n"
   ]
  },
  {
   "cell_type": "code",
   "execution_count": 15,
   "metadata": {},
   "outputs": [
    {
     "name": "stdout",
     "output_type": "stream",
     "text": [
      "<class 'pandas.core.frame.DataFrame'>\n",
      "Int64Index: 287 entries, 0 to 290\n",
      "Data columns (total 17 columns):\n",
      " #   Column          Non-Null Count  Dtype   \n",
      "---  ------          --------------  -----   \n",
      " 0   AQ01            287 non-null    int64   \n",
      " 1   AQ02            287 non-null    int64   \n",
      " 2   AQ03            287 non-null    int64   \n",
      " 3   AQ04            287 non-null    int64   \n",
      " 4   AQ05            287 non-null    int64   \n",
      " 5   AQ06            287 non-null    int64   \n",
      " 6   AQ07            287 non-null    int64   \n",
      " 7   AQ08            287 non-null    int64   \n",
      " 8   AQ09            287 non-null    int64   \n",
      " 9   AQ10            287 non-null    int64   \n",
      " 10  age             287 non-null    int64   \n",
      " 11  gender          287 non-null    category\n",
      " 12  icterícia       287 non-null    category\n",
      " 13  austim          287 non-null    category\n",
      " 14  contry_of_res   287 non-null    category\n",
      " 15  result numeric  287 non-null    category\n",
      " 16  Class/ASD       287 non-null    category\n",
      "dtypes: category(6), int64(11)\n",
      "memory usage: 31.9 KB\n"
     ]
    }
   ],
   "source": [
    "autismo_criancas.info()"
   ]
  },
  {
   "cell_type": "markdown",
   "metadata": {},
   "source": [
    "## Análise Exploratória dos Dados"
   ]
  },
  {
   "cell_type": "markdown",
   "metadata": {},
   "source": [
    "**Frequência das idade**"
   ]
  },
  {
   "cell_type": "code",
   "execution_count": 16,
   "metadata": {},
   "outputs": [
    {
     "data": {
      "image/png": "[encoded data removed]",
      "text/plain": [
       "<Figure size 432x288 with 1 Axes>"
      ]
     },
     "metadata": {
      "needs_background": "light"
     },
     "output_type": "display_data"
    }
   ],
   "source": [
    "# Plotando a frequência das idades\n",
    "sns.countplot(data = autismo_criancas, y='age', order = autismo_criancas[\"age\"].value_counts().index)\n",
    "sns.despine()"
   ]
  },
  {
   "cell_type": "markdown",
   "metadata": {},
   "source": [
    "**Porcentagem dos gêneros das crianças**"
   ]
  },
  {
   "cell_type": "code",
   "execution_count": 17,
   "metadata": {},
   "outputs": [
    {
     "data": {
      "image/png": "[encoded data removed]",
      "text/plain": [
       "<Figure size 432x288 with 1 Axes>"
      ]
     },
     "metadata": {},
     "output_type": "display_data"
    }
   ],
   "source": [
    "porcentagem_autismo = autismo_criancas['gender'].value_counts()/autismo_criancas.shape[0]*100\n",
    "#define o nível de separabilidade entre as partes, ordem do vetor representa as partes\n",
    "explode = (0, 0.1)\n",
    "\n",
    "# define o formato de visualização com saída em 1.1%%, sombras e a separação entre as partes\n",
    "plt.pie(porcentagem_autismo, autopct='%1.1f%%', labels = autismo_criancas['gender'].unique(), shadow=True, explode=explode)\n",
    "\n",
    "# define que o gráfico será plotado em circulo\n",
    "plt.axis('equal')\n",
    "plt.title('Gender')\n",
    "plt.show()"
   ]
  },
  {
   "cell_type": "markdown",
   "metadata": {},
   "source": [
    "**Porcentagem das crianças que apresentam Icterícia**"
   ]
  },
  {
   "cell_type": "code",
   "execution_count": 18,
   "metadata": {},
   "outputs": [
    {
     "data": {
      "image/png": "[encoded data removed]",
      "text/plain": [
       "<Figure size 432x288 with 1 Axes>"
      ]
     },
     "metadata": {},
     "output_type": "display_data"
    }
   ],
   "source": [
    "porcentagem_ictericia = autismo_criancas['icterícia'].value_counts()/autismo_criancas.shape[0]*100\n",
    "#define o nível de separabilidade entre as partes, ordem do vetor representa as partes\n",
    "explode = (0, 0.1)\n",
    "\n",
    "# define o formato de visualização com saída em 1.1%%, sombras e a separação entre as partes\n",
    "plt.pie(porcentagem_ictericia , autopct='%1.1f%%', labels = autismo_criancas['icterícia'].unique(), shadow=True, explode=explode)\n",
    "\n",
    "# define que o gráfico será plotado em circulo\n",
    "plt.axis('equal')\n",
    "plt.title('Icterícia')\n",
    "plt.show()"
   ]
  },
  {
   "cell_type": "markdown",
   "metadata": {},
   "source": [
    "**Frequência das Cidades que foram realizadas a pesquisa**"
   ]
  },
  {
   "cell_type": "code",
   "execution_count": 19,
   "metadata": {},
   "outputs": [
    {
     "data": {
      "image/png": "[encoded data removed]",
      "text/plain": [
       "<Figure size 432x288 with 1 Axes>"
      ]
     },
     "metadata": {
      "needs_background": "light"
     },
     "output_type": "display_data"
    }
   ],
   "source": [
    "a = autismo_criancas['contry_of_res'].value_counts()[:10].plot.bar()\n",
    "plt.show()"
   ]
  },
  {
   "cell_type": "code",
   "execution_count": 20,
   "metadata": {},
   "outputs": [],
   "source": [
    "# Adicionando a contagem dos crimes em um Dataframe.\n",
    "cont_contry_of_res = autismo_criancas['contry_of_res'].value_counts()[:10].reset_index()"
   ]
  },
  {
   "cell_type": "code",
   "execution_count": 21,
   "metadata": {},
   "outputs": [
    {
     "data": {
      "text/html": [
       "<div>\n",
       "<style scoped>\n",
       "    .dataframe tbody tr th:only-of-type {\n",
       "        vertical-align: middle;\n",
       "    }\n",
       "\n",
       "    .dataframe tbody tr th {\n",
       "        vertical-align: top;\n",
       "    }\n",
       "\n",
       "    .dataframe thead th {\n",
       "        text-align: right;\n",
       "    }\n",
       "</style>\n",
       "<table border=\"1\" class=\"dataframe\">\n",
       "  <thead>\n",
       "    <tr style=\"text-align: right;\">\n",
       "      <th></th>\n",
       "      <th>index</th>\n",
       "      <th>contry_of_res</th>\n",
       "    </tr>\n",
       "  </thead>\n",
       "  <tbody>\n",
       "    <tr>\n",
       "      <th>0</th>\n",
       "      <td>'United Kingdom'</td>\n",
       "      <td>49</td>\n",
       "    </tr>\n",
       "    <tr>\n",
       "      <th>1</th>\n",
       "      <td>India</td>\n",
       "      <td>42</td>\n",
       "    </tr>\n",
       "    <tr>\n",
       "      <th>2</th>\n",
       "      <td>'United States'</td>\n",
       "      <td>42</td>\n",
       "    </tr>\n",
       "    <tr>\n",
       "      <th>3</th>\n",
       "      <td>Australia</td>\n",
       "      <td>23</td>\n",
       "    </tr>\n",
       "    <tr>\n",
       "      <th>4</th>\n",
       "      <td>Jordan</td>\n",
       "      <td>17</td>\n",
       "    </tr>\n",
       "    <tr>\n",
       "      <th>5</th>\n",
       "      <td>'New Zealand'</td>\n",
       "      <td>13</td>\n",
       "    </tr>\n",
       "    <tr>\n",
       "      <th>6</th>\n",
       "      <td>Egypt</td>\n",
       "      <td>8</td>\n",
       "    </tr>\n",
       "    <tr>\n",
       "      <th>7</th>\n",
       "      <td>Canada</td>\n",
       "      <td>7</td>\n",
       "    </tr>\n",
       "    <tr>\n",
       "      <th>8</th>\n",
       "      <td>'United Arab Emirates'</td>\n",
       "      <td>7</td>\n",
       "    </tr>\n",
       "    <tr>\n",
       "      <th>9</th>\n",
       "      <td>Bangladesh</td>\n",
       "      <td>6</td>\n",
       "    </tr>\n",
       "  </tbody>\n",
       "</table>\n",
       "</div>"
      ],
      "text/plain": [
       "                    index  contry_of_res\n",
       "0        'United Kingdom'             49\n",
       "1                   India             42\n",
       "2         'United States'             42\n",
       "3               Australia             23\n",
       "4                  Jordan             17\n",
       "5           'New Zealand'             13\n",
       "6                   Egypt              8\n",
       "7                  Canada              7\n",
       "8  'United Arab Emirates'              7\n",
       "9              Bangladesh              6"
      ]
     },
     "execution_count": 21,
     "metadata": {},
     "output_type": "execute_result"
    }
   ],
   "source": [
    "cont_contry_of_res"
   ]
  },
  {
   "cell_type": "code",
   "execution_count": 22,
   "metadata": {},
   "outputs": [],
   "source": [
    "# Renomeando os atributos.\n",
    "cont_contry_of_res.rename(columns={'index':'Cidade', 'contry_of_res':'Quantidade'}, inplace=True)"
   ]
  },
  {
   "cell_type": "code",
   "execution_count": 23,
   "metadata": {},
   "outputs": [
    {
     "data": {
      "text/html": [
       "<div>\n",
       "<style scoped>\n",
       "    .dataframe tbody tr th:only-of-type {\n",
       "        vertical-align: middle;\n",
       "    }\n",
       "\n",
       "    .dataframe tbody tr th {\n",
       "        vertical-align: top;\n",
       "    }\n",
       "\n",
       "    .dataframe thead th {\n",
       "        text-align: right;\n",
       "    }\n",
       "</style>\n",
       "<table border=\"1\" class=\"dataframe\">\n",
       "  <thead>\n",
       "    <tr style=\"text-align: right;\">\n",
       "      <th></th>\n",
       "      <th>Cidade</th>\n",
       "      <th>Quantidade</th>\n",
       "    </tr>\n",
       "  </thead>\n",
       "  <tbody>\n",
       "    <tr>\n",
       "      <th>0</th>\n",
       "      <td>'United Kingdom'</td>\n",
       "      <td>49</td>\n",
       "    </tr>\n",
       "    <tr>\n",
       "      <th>1</th>\n",
       "      <td>India</td>\n",
       "      <td>42</td>\n",
       "    </tr>\n",
       "    <tr>\n",
       "      <th>2</th>\n",
       "      <td>'United States'</td>\n",
       "      <td>42</td>\n",
       "    </tr>\n",
       "    <tr>\n",
       "      <th>3</th>\n",
       "      <td>Australia</td>\n",
       "      <td>23</td>\n",
       "    </tr>\n",
       "    <tr>\n",
       "      <th>4</th>\n",
       "      <td>Jordan</td>\n",
       "      <td>17</td>\n",
       "    </tr>\n",
       "  </tbody>\n",
       "</table>\n",
       "</div>"
      ],
      "text/plain": [
       "             Cidade  Quantidade\n",
       "0  'United Kingdom'          49\n",
       "1             India          42\n",
       "2   'United States'          42\n",
       "3         Australia          23\n",
       "4            Jordan          17"
      ]
     },
     "execution_count": 23,
     "metadata": {},
     "output_type": "execute_result"
    }
   ],
   "source": [
    "cont_contry_of_res.head(5)"
   ]
  },
  {
   "cell_type": "code",
   "execution_count": 24,
   "metadata": {},
   "outputs": [],
   "source": [
    "#Função para adicionar os rótulos dos valores para cada categoria.\n",
    "def set_label_y_in_bar(bar):\n",
    "  for b in bar:\n",
    "    height_bar = b.get_height()\n",
    "    ax.annotate(\n",
    "      '{}'.format(height_bar),\n",
    "      xy=(b.get_x() + b.get_width()/2, height_bar),\n",
    "      xytext=(-16,-10),\n",
    "      textcoords = 'offset points',\n",
    "      ha = 'left',\n",
    "      va = 'center_baseline',\n",
    "      fontsize=10,\n",
    "      color='white'\n",
    "    )"
   ]
  },
  {
   "cell_type": "code",
   "execution_count": 25,
   "metadata": {},
   "outputs": [
    {
     "data": {
      "image/png": "[encoded data removed]",
      "text/plain": [
       "<Figure size 576x432 with 1 Axes>"
      ]
     },
     "metadata": {
      "needs_background": "light"
     },
     "output_type": "display_data"
    }
   ],
   "source": [
    "#Atribuindo Cores para o gráfico dos tipos de crimes realizados em Vancouver. \n",
    "azul_escuro = '#000080'\n",
    "azul_claro = '#6495ED'\n",
    "cinza_escuro = '#3A5FCD'\n",
    "\n",
    "\n",
    "\n",
    "cores_grafico01 = [azul_escuro, azul_escuro, azul_escuro, azul_claro, azul_claro, azul_claro,  \n",
    "        azul_claro, azul_claro, azul_claro, azul_claro]\n",
    "\n",
    "#Criando \n",
    "fig, ax = plt.subplots(figsize=(8,6))\n",
    "width = 0.9\n",
    "cidades_autismo = ax.bar(cont_contry_of_res.Cidade, cont_contry_of_res.Quantidade, width, color=cores_grafico01, align='center')\n",
    "          \n",
    "#Removendo os grids e eixos do gráfico\n",
    "ax.spines['bottom'].set_visible(False)\n",
    "ax.spines['left'].set_visible(False)\n",
    "ax.spines['right'].set_visible(False)\n",
    "ax.spines['top'].set_visible(False)\n",
    "\n",
    "#Removendo eixo y\n",
    "plt.gca().axes.get_yaxis().set_visible(False)\n",
    "\n",
    "#labels do eixo\n",
    "plt.xticks(rotation=80)\n",
    "\n",
    "# Variável utilizar para determinar a distância do texto do título do eixo y. \n",
    "x_text_antes = 0.7\n",
    "\n",
    "#Adicionando um Título ao gráfico\n",
    "plt.text(x= x_text_antes, y=1,\n",
    "         s='Crianças dos $\\\\bf{Países}$ $\\\\bf{da}$ $\\\\bf{Europa}$, $\\\\bf{Ásia}$\\n'\n",
    "         'e $\\\\bf{América}$ foram os mais recorrentes na pesquisa',\n",
    "         horizontalalignment='center',\n",
    "         verticalalignment='center', fontsize=16, color=cinza_escuro, transform=ax.transAxes)\n",
    "\n",
    "#Chamando a função que irá adicionar os rótulos dos valores para cada categoria dos tipos de crimes. \n",
    "set_label_y_in_bar(cidades_autismo)\n",
    "plt.show()"
   ]
  },
  {
   "cell_type": "markdown",
   "metadata": {},
   "source": [
    "**Porcentagem das crianças com Transtorno do Espectro Autista(TEA)**"
   ]
  },
  {
   "cell_type": "code",
   "execution_count": 26,
   "metadata": {},
   "outputs": [
    {
     "data": {
      "image/png": "[encoded data removed]",
      "text/plain": [
       "<Figure size 432x288 with 1 Axes>"
      ]
     },
     "metadata": {},
     "output_type": "display_data"
    }
   ],
   "source": [
    "porcentagem_autismo = autismo_criancas['austim'].value_counts()/autismo_criancas.shape[0]*100\n",
    "#define o nível de separabilidade entre as partes, ordem do vetor representa as partes\n",
    "explode = (0, 0.1)\n",
    "\n",
    "# define o formato de visualização com saída em 1.1%%, sombras e a separação entre as partes\n",
    "plt.pie(porcentagem_autismo, autopct='%1.1f%%', labels = autismo_criancas['austim'].unique(), shadow=True, explode=explode)\n",
    "\n",
    "# define que o gráfico será plotado em circulo\n",
    "#plt.axis('equal')\n",
    "plt.title('Autismo')\n",
    "plt.show()"
   ]
  },
  {
   "cell_type": "code",
   "execution_count": 27,
   "metadata": {},
   "outputs": [
    {
     "data": {
      "image/png": "[encoded data removed]",
      "text/plain": [
       "<Figure size 432x288 with 1 Axes>"
      ]
     },
     "metadata": {
      "needs_background": "light"
     },
     "output_type": "display_data"
    }
   ],
   "source": [
    "# Plotando a frequência do Resultado Numérico\n",
    "sns.countplot(data = autismo_criancas, x='result numeric', order = autismo_criancas[\"result numeric\"].value_counts().index)\n",
    "sns.despine()"
   ]
  },
  {
   "cell_type": "markdown",
   "metadata": {},
   "source": [
    "**Porcentagem da Class/ASD**"
   ]
  },
  {
   "cell_type": "code",
   "execution_count": 28,
   "metadata": {
    "scrolled": true
   },
   "outputs": [
    {
     "data": {
      "image/png": "[encoded data removed]",
      "text/plain": [
       "<Figure size 432x288 with 1 Axes>"
      ]
     },
     "metadata": {},
     "output_type": "display_data"
    }
   ],
   "source": [
    "porcentagem_class_ASD = autismo_criancas['Class/ASD'].value_counts()/autismo_criancas.shape[0]*100\n",
    "#define o nível de separabilidade entre as partes, ordem do vetor representa as partes\n",
    "explode = (0, 0.1)\n",
    "\n",
    "# define o formato de visualização com saída em 1.1%%, sombras e a separação entre as partes\n",
    "plt.pie(porcentagem_class_ASD, autopct='%1.1f%%', labels = autismo_criancas['Class/ASD'].unique(), shadow=True, explode=explode)\n",
    "\n",
    "# define que o gráfico será plotado em circulo\n",
    "#plt.axis('equal')\n",
    "plt.title('Class_ASD')\n",
    "plt.show()"
   ]
  },
  {
   "cell_type": "markdown",
   "metadata": {},
   "source": [
    "**Sumário dos dados contínuos**"
   ]
  },
  {
   "cell_type": "code",
   "execution_count": 29,
   "metadata": {},
   "outputs": [
    {
     "data": {
      "text/html": [
       "<div>\n",
       "<style scoped>\n",
       "    .dataframe tbody tr th:only-of-type {\n",
       "        vertical-align: middle;\n",
       "    }\n",
       "\n",
       "    .dataframe tbody tr th {\n",
       "        vertical-align: top;\n",
       "    }\n",
       "\n",
       "    .dataframe thead th {\n",
       "        text-align: right;\n",
       "    }\n",
       "</style>\n",
       "<table border=\"1\" class=\"dataframe\">\n",
       "  <thead>\n",
       "    <tr style=\"text-align: right;\">\n",
       "      <th></th>\n",
       "      <th>AQ01</th>\n",
       "      <th>AQ02</th>\n",
       "      <th>AQ03</th>\n",
       "      <th>AQ04</th>\n",
       "      <th>AQ05</th>\n",
       "      <th>AQ06</th>\n",
       "      <th>AQ07</th>\n",
       "      <th>AQ08</th>\n",
       "      <th>AQ09</th>\n",
       "      <th>AQ10</th>\n",
       "      <th>age</th>\n",
       "    </tr>\n",
       "  </thead>\n",
       "  <tbody>\n",
       "    <tr>\n",
       "      <th>count</th>\n",
       "      <td>287.000000</td>\n",
       "      <td>287.000000</td>\n",
       "      <td>287.000000</td>\n",
       "      <td>287.000000</td>\n",
       "      <td>287.000000</td>\n",
       "      <td>287.000000</td>\n",
       "      <td>287.000000</td>\n",
       "      <td>287.000000</td>\n",
       "      <td>287.000000</td>\n",
       "      <td>287.000000</td>\n",
       "      <td>287.000000</td>\n",
       "    </tr>\n",
       "    <tr>\n",
       "      <th>mean</th>\n",
       "      <td>0.634146</td>\n",
       "      <td>0.533101</td>\n",
       "      <td>0.745645</td>\n",
       "      <td>0.554007</td>\n",
       "      <td>0.749129</td>\n",
       "      <td>0.710801</td>\n",
       "      <td>0.609756</td>\n",
       "      <td>0.491289</td>\n",
       "      <td>0.498258</td>\n",
       "      <td>0.731707</td>\n",
       "      <td>6.355401</td>\n",
       "    </tr>\n",
       "    <tr>\n",
       "      <th>std</th>\n",
       "      <td>0.482510</td>\n",
       "      <td>0.499775</td>\n",
       "      <td>0.436259</td>\n",
       "      <td>0.497943</td>\n",
       "      <td>0.434272</td>\n",
       "      <td>0.454182</td>\n",
       "      <td>0.488657</td>\n",
       "      <td>0.500797</td>\n",
       "      <td>0.500870</td>\n",
       "      <td>0.443845</td>\n",
       "      <td>2.369495</td>\n",
       "    </tr>\n",
       "    <tr>\n",
       "      <th>min</th>\n",
       "      <td>0.000000</td>\n",
       "      <td>0.000000</td>\n",
       "      <td>0.000000</td>\n",
       "      <td>0.000000</td>\n",
       "      <td>0.000000</td>\n",
       "      <td>0.000000</td>\n",
       "      <td>0.000000</td>\n",
       "      <td>0.000000</td>\n",
       "      <td>0.000000</td>\n",
       "      <td>0.000000</td>\n",
       "      <td>4.000000</td>\n",
       "    </tr>\n",
       "    <tr>\n",
       "      <th>25%</th>\n",
       "      <td>0.000000</td>\n",
       "      <td>0.000000</td>\n",
       "      <td>0.000000</td>\n",
       "      <td>0.000000</td>\n",
       "      <td>0.500000</td>\n",
       "      <td>0.000000</td>\n",
       "      <td>0.000000</td>\n",
       "      <td>0.000000</td>\n",
       "      <td>0.000000</td>\n",
       "      <td>0.000000</td>\n",
       "      <td>4.000000</td>\n",
       "    </tr>\n",
       "    <tr>\n",
       "      <th>50%</th>\n",
       "      <td>1.000000</td>\n",
       "      <td>1.000000</td>\n",
       "      <td>1.000000</td>\n",
       "      <td>1.000000</td>\n",
       "      <td>1.000000</td>\n",
       "      <td>1.000000</td>\n",
       "      <td>1.000000</td>\n",
       "      <td>0.000000</td>\n",
       "      <td>0.000000</td>\n",
       "      <td>1.000000</td>\n",
       "      <td>6.000000</td>\n",
       "    </tr>\n",
       "    <tr>\n",
       "      <th>75%</th>\n",
       "      <td>1.000000</td>\n",
       "      <td>1.000000</td>\n",
       "      <td>1.000000</td>\n",
       "      <td>1.000000</td>\n",
       "      <td>1.000000</td>\n",
       "      <td>1.000000</td>\n",
       "      <td>1.000000</td>\n",
       "      <td>1.000000</td>\n",
       "      <td>1.000000</td>\n",
       "      <td>1.000000</td>\n",
       "      <td>8.000000</td>\n",
       "    </tr>\n",
       "    <tr>\n",
       "      <th>max</th>\n",
       "      <td>1.000000</td>\n",
       "      <td>1.000000</td>\n",
       "      <td>1.000000</td>\n",
       "      <td>1.000000</td>\n",
       "      <td>1.000000</td>\n",
       "      <td>1.000000</td>\n",
       "      <td>1.000000</td>\n",
       "      <td>1.000000</td>\n",
       "      <td>1.000000</td>\n",
       "      <td>1.000000</td>\n",
       "      <td>11.000000</td>\n",
       "    </tr>\n",
       "  </tbody>\n",
       "</table>\n",
       "</div>"
      ],
      "text/plain": [
       "             AQ01        AQ02        AQ03        AQ04        AQ05        AQ06  \\\n",
       "count  287.000000  287.000000  287.000000  287.000000  287.000000  287.000000   \n",
       "mean     0.634146    0.533101    0.745645    0.554007    0.749129    0.710801   \n",
       "std      0.482510    0.499775    0.436259    0.497943    0.434272    0.454182   \n",
       "min      0.000000    0.000000    0.000000    0.000000    0.000000    0.000000   \n",
       "25%      0.000000    0.000000    0.000000    0.000000    0.500000    0.000000   \n",
       "50%      1.000000    1.000000    1.000000    1.000000    1.000000    1.000000   \n",
       "75%      1.000000    1.000000    1.000000    1.000000    1.000000    1.000000   \n",
       "max      1.000000    1.000000    1.000000    1.000000    1.000000    1.000000   \n",
       "\n",
       "             AQ07        AQ08        AQ09        AQ10         age  \n",
       "count  287.000000  287.000000  287.000000  287.000000  287.000000  \n",
       "mean     0.609756    0.491289    0.498258    0.731707    6.355401  \n",
       "std      0.488657    0.500797    0.500870    0.443845    2.369495  \n",
       "min      0.000000    0.000000    0.000000    0.000000    4.000000  \n",
       "25%      0.000000    0.000000    0.000000    0.000000    4.000000  \n",
       "50%      1.000000    0.000000    0.000000    1.000000    6.000000  \n",
       "75%      1.000000    1.000000    1.000000    1.000000    8.000000  \n",
       "max      1.000000    1.000000    1.000000    1.000000   11.000000  "
      ]
     },
     "execution_count": 29,
     "metadata": {},
     "output_type": "execute_result"
    }
   ],
   "source": [
    "autismo_criancas.describe()"
   ]
  },
  {
   "cell_type": "markdown",
   "metadata": {},
   "source": [
    "**Checando Outliers**"
   ]
  },
  {
   "cell_type": "code",
   "execution_count": 30,
   "metadata": {},
   "outputs": [
    {
     "data": {
      "text/plain": [
       "<AxesSubplot:>"
      ]
     },
     "execution_count": 30,
     "metadata": {},
     "output_type": "execute_result"
    },
    {
     "data": {
      "image/png": "[encoded data removed]",
      "text/plain": [
       "<Figure size 432x288 with 1 Axes>"
      ]
     },
     "metadata": {
      "needs_background": "light"
     },
     "output_type": "display_data"
    }
   ],
   "source": [
    "autismo_criancas['age'].plot.box()"
   ]
  },
  {
   "cell_type": "markdown",
   "metadata": {
    "id": "qLGUEK3KUhKF"
   },
   "source": [
    "## Tratamento e Enriquecimento dos dados"
   ]
  },
  {
   "cell_type": "code",
   "execution_count": 31,
   "metadata": {},
   "outputs": [],
   "source": [
    "# Elimando as colunas que não serão utilizadas nos modelos\n",
    "autismo_criancas.drop(columns=['age','gender', 'icterícia', 'contry_of_res', 'result numeric', 'Class/ASD'], inplace = True, axis = 1)"
   ]
  },
  {
   "cell_type": "markdown",
   "metadata": {},
   "source": [
    "**Separando os atributos (features) e a classe**"
   ]
  },
  {
   "cell_type": "code",
   "execution_count": 32,
   "metadata": {},
   "outputs": [],
   "source": [
    "X = autismo_criancas.drop([\"austim\"], axis = 1).to_numpy()\n",
    "y = autismo_criancas[\"austim\"].values"
   ]
  },
  {
   "cell_type": "markdown",
   "metadata": {
    "id": "ZqAdQwHiDZSL"
   },
   "source": [
    "**Codificação das freatures categóricas**"
   ]
  },
  {
   "cell_type": "code",
   "execution_count": 33,
   "metadata": {
    "executionInfo": {
     "elapsed": 207,
     "status": "ok",
     "timestamp": 1638784597643,
     "user": {
      "displayName": "Liviany Reis Rodrigues",
      "photoUrl": "https://lh3.googleusercontent.com/a/default-user=s64",
      "userId": "13974134542734238498"
     },
     "user_tz": 180
    },
    "id": "1D2dTtIOFlQr"
   },
   "outputs": [],
   "source": [
    "from sklearn import preprocessing\n",
    "\n",
    "label_encoder = preprocessing.LabelEncoder()\n",
    "\n",
    "y = label_encoder.fit_transform(y)\n"
   ]
  },
  {
   "cell_type": "markdown",
   "metadata": {},
   "source": [
    "### Plotando o dataset\n",
    "* As classes são destacadas por cores\n",
    "* Técnica de Análise de Componentes Principais para reduzir as dimensões"
   ]
  },
  {
   "cell_type": "code",
   "execution_count": 34,
   "metadata": {},
   "outputs": [
    {
     "data": {
      "image/png": "[encoded data removed]",
      "text/plain": [
       "<Figure size 1080x720 with 1 Axes>"
      ]
     },
     "metadata": {
      "needs_background": "light"
     },
     "output_type": "display_data"
    }
   ],
   "source": [
    "pca = PCA(2)\n",
    "X_pca = pca.fit_transform(preprocessing.minmax_scale(X))\n",
    "\n",
    "fig, ax = plt.subplots(figsize=(15,10))\n",
    "scatter = ax.scatter(X_pca[:, 0], X_pca[:, 1], c=y)\n",
    "\n",
    "legend1 = ax.legend(*scatter.legend_elements(),\n",
    "                    loc=\"lower left\", title=\"Classes\")\n",
    "ax.add_artist(legend1)\n",
    "plt.show()"
   ]
  },
  {
   "cell_type": "markdown",
   "metadata": {},
   "source": [
    "# Naive Bayse"
   ]
  },
  {
   "cell_type": "markdown",
   "metadata": {},
   "source": [
    "**Dividindo a base em treino, teste e validação**"
   ]
  },
  {
   "cell_type": "code",
   "execution_count": 35,
   "metadata": {},
   "outputs": [],
   "source": [
    "from sklearn.model_selection import train_test_split\n",
    "\n",
    "SEED = 42\n",
    "\n",
    "X_train, X_test, y_train, y_test = train_test_split(X, y, test_size = 0.30, random_state = SEED, stratify=y)\n",
    "X_train, X_valid, y_train, y_valid = train_test_split(X_train, y_train, test_size = 0.30, random_state = SEED, stratify=y_train)"
   ]
  },
  {
   "cell_type": "markdown",
   "metadata": {},
   "source": [
    "**Padronizando separadamente as bases**"
   ]
  },
  {
   "cell_type": "code",
   "execution_count": 36,
   "metadata": {},
   "outputs": [],
   "source": [
    "X_train = preprocessing.minmax_scale(X_train)\n",
    "X_test = preprocessing.minmax_scale(X_test)\n",
    "X_valid = preprocessing.minmax_scale(X_valid)"
   ]
  },
  {
   "cell_type": "markdown",
   "metadata": {},
   "source": [
    "**Instanciando o modelo**"
   ]
  },
  {
   "cell_type": "code",
   "execution_count": 37,
   "metadata": {},
   "outputs": [
    {
     "data": {
      "text/plain": [
       "GaussianNB()"
      ]
     },
     "execution_count": 37,
     "metadata": {},
     "output_type": "execute_result"
    }
   ],
   "source": [
    "from sklearn.naive_bayes import GaussianNB\n",
    "\n",
    "nb = GaussianNB()\n",
    "\n",
    "nb.fit(X_train, y_train)"
   ]
  },
  {
   "cell_type": "markdown",
   "metadata": {},
   "source": [
    "**Imprimindo o Relatório de Teste**"
   ]
  },
  {
   "cell_type": "code",
   "execution_count": 38,
   "metadata": {},
   "outputs": [
    {
     "name": "stdout",
     "output_type": "stream",
     "text": [
      "Score de teste: 0.7931034482758621\n",
      "              precision    recall  f1-score   support\n",
      "\n",
      "           0       0.82      0.96      0.88        72\n",
      "           1       0.00      0.00      0.00        15\n",
      "\n",
      "    accuracy                           0.79        87\n",
      "   macro avg       0.41      0.48      0.44        87\n",
      "weighted avg       0.68      0.79      0.73        87\n",
      "\n"
     ]
    }
   ],
   "source": [
    "from sklearn.metrics import precision_score\n",
    "from sklearn.metrics import classification_report\n",
    "\n",
    "print(\"Score de teste:\", precision_score(y_test, nb.predict(X_test), average=\"micro\"))\n",
    "\n",
    "print(classification_report(y_test, nb.predict(X_test)))"
   ]
  },
  {
   "cell_type": "markdown",
   "metadata": {},
   "source": [
    "**Validando o modelo**\n",
    "* Usando a métrica de precisão para avaliar o modelo."
   ]
  },
  {
   "cell_type": "code",
   "execution_count": 39,
   "metadata": {},
   "outputs": [
    {
     "name": "stderr",
     "output_type": "stream",
     "text": [
      "Treinamento: 100%|█████████████████████████████████████████████████████████████████████| 10/10 [00:00<00:00, 31.24it/s]\n"
     ]
    }
   ],
   "source": [
    "from tqdm import tqdm \n",
    "import numpy as np\n",
    "\n",
    "scores_train, scores_valid, params = [], [], []\n",
    "\n",
    "search_space = np.linspace(1e-12,1, 10)\n",
    "\n",
    "# Definindo uma barra de progresso:\n",
    "\n",
    "for var in tqdm(search_space, desc=\"Treinamento: \"):\n",
    "  nb = GaussianNB(var_smoothing=var)\n",
    "  \n",
    "  nb.fit(X_train, y_train)\n",
    "  \n",
    "  score_train = precision_score(y_train, nb.predict(X_train), average=\"micro\")\n",
    "  \n",
    "  score_valid = precision_score(y_valid, nb.predict(X_valid), average=\"micro\")\n",
    "\n",
    "  scores_train.append(score_train)\n",
    "  scores_valid.append(score_valid)\n",
    "  params.append(dict(var_smoothing=var))"
   ]
  },
  {
   "cell_type": "code",
   "execution_count": 40,
   "metadata": {},
   "outputs": [
    {
     "name": "stdout",
     "output_type": "stream",
     "text": [
      "Melhores parâmetros:  {'var_smoothing': 0.111111111112}\n",
      "Melhor score de treino:  0.8285714285714286\n",
      "Melhor score de validação:  0.85\n"
     ]
    }
   ],
   "source": [
    "zipped_results = zip(scores_train, scores_valid, params)\n",
    "\n",
    "best_result =  max(zipped_results, key = lambda res: res[1])\n",
    "\n",
    "best_score_train, best_score_valid, best_params = best_result\n",
    "\n",
    "print(\"Melhores parâmetros: \", best_params)\n",
    "print(\"Melhor score de treino: \", best_score_train)\n",
    "print(\"Melhor score de validação: \", best_score_valid)"
   ]
  },
  {
   "cell_type": "markdown",
   "metadata": {},
   "source": [
    "**Testando o modelo com os parâmetros otimizados**"
   ]
  },
  {
   "cell_type": "code",
   "execution_count": 41,
   "metadata": {},
   "outputs": [
    {
     "name": "stdout",
     "output_type": "stream",
     "text": [
      "Score de teste: 0.8275862068965517\n",
      "              precision    recall  f1-score   support\n",
      "\n",
      "           0       0.83      1.00      0.91        72\n",
      "           1       0.00      0.00      0.00        15\n",
      "\n",
      "    accuracy                           0.83        87\n",
      "   macro avg       0.41      0.50      0.45        87\n",
      "weighted avg       0.68      0.83      0.75        87\n",
      "\n"
     ]
    }
   ],
   "source": [
    "svm = GaussianNB()\n",
    "\n",
    "nb.fit(X_train, y_train)\n",
    "\n",
    "print(\"Score de teste:\", precision_score(y_test, nb.predict(X_test), average=\"micro\"))\n",
    "print(classification_report(y_test, nb.predict(X_test)))"
   ]
  },
  {
   "cell_type": "markdown",
   "metadata": {},
   "source": [
    "# Random Forest"
   ]
  },
  {
   "cell_type": "markdown",
   "metadata": {},
   "source": [
    "## Instanciando as bibliotecas"
   ]
  },
  {
   "cell_type": "code",
   "execution_count": 42,
   "metadata": {},
   "outputs": [],
   "source": [
    "from sklearn.datasets import make_classification\n",
    "from sklearn.model_selection import cross_val_score\n",
    "from sklearn.model_selection import RepeatedStratifiedKFold\n",
    "from sklearn.ensemble import RandomForestClassifier\n",
    "\n",
    "SEED = 42"
   ]
  },
  {
   "cell_type": "markdown",
   "metadata": {},
   "source": [
    "## Avaliando o modelo com os parâmetros padrões"
   ]
  },
  {
   "cell_type": "code",
   "execution_count": 43,
   "metadata": {},
   "outputs": [
    {
     "name": "stdout",
     "output_type": "stream",
     "text": [
      "Train >> F1_Weighted: 0.747 (0.061)\n",
      "Test score:  0.761\n"
     ]
    }
   ],
   "source": [
    "from sklearn.metrics import accuracy_score, precision_score, f1_score\n",
    "\n",
    "def f1_weighted(y_true, y_pred):\n",
    "  \"\"\" Função auxiliar para o cáulo da medida-f ponderada \"\"\"\n",
    "  return f1_score(y_true, y_pred, average=\"weighted\").round(3)\n",
    "\n",
    "def score_model(model, X, y, n_splits=10, n_repeats=3, scoring='f1_weighted', random_state=SEED):\n",
    "\n",
    "  cv = RepeatedStratifiedKFold(n_splits=n_splits, \n",
    "                               n_repeats=n_repeats, \n",
    "                               random_state=random_state)\n",
    "  \n",
    "  n_scores = cross_val_score(model, X, y, \n",
    "                             scoring=scoring, \n",
    "                             cv=cv, \n",
    "                             n_jobs=-1, \n",
    "                             error_score='raise')\n",
    "  \n",
    "  return f'{scoring.title()}: %.3f (%.3f)' % (n_scores.mean(), n_scores.std())\n",
    "\n",
    "\n",
    "model = RandomForestClassifier(random_state=SEED)\n",
    "print(\"Train >>\", score_model(model, X_train, y_train))\n",
    "model.fit(X_train, y_train)\n",
    "print(\"Test score: \", f1_weighted(y_test, model.predict(X_test)))"
   ]
  },
  {
   "cell_type": "markdown",
   "metadata": {},
   "source": [
    "**Validando o modelo**"
   ]
  },
  {
   "cell_type": "code",
   "execution_count": 44,
   "metadata": {},
   "outputs": [
    {
     "name": "stdout",
     "output_type": "stream",
     "text": [
      "Fitting 5 folds for each of 60 candidates, totalling 300 fits\n"
     ]
    },
    {
     "data": {
      "text/plain": [
       "GridSearchCV(cv=5, estimator=RandomForestClassifier(random_state=42), n_jobs=-1,\n",
       "             param_grid={'criterion': ['gini', 'entropy'],\n",
       "                         'max_features': ['auto', 'sqrt', 'log2'],\n",
       "                         'n_estimators': range(10, 101, 10)},\n",
       "             scoring='f1_weighted', verbose=4)"
      ]
     },
     "execution_count": 44,
     "metadata": {},
     "output_type": "execute_result"
    }
   ],
   "source": [
    "from sklearn.model_selection import GridSearchCV\n",
    "\n",
    "# Definindo a lista de parâmetros e seus possíveis valores.\n",
    "\n",
    "parameters = {\n",
    "    \"n_estimators\": range(10, 101, 10),\n",
    "    \"criterion\": [\"gini\", \"entropy\"],\n",
    "    \"max_features\": [\"auto\", \"sqrt\", \"log2\"],\n",
    "}\n",
    "\n",
    "\n",
    "# Notem que a validação agora demora mais que com os modelos que usamos até então.\n",
    "grid_search = GridSearchCV(RandomForestClassifier(random_state=SEED), \n",
    "                    parameters,\n",
    "                    scoring  = \"f1_weighted\",\n",
    "                    n_jobs= -1, \n",
    "                    verbose=4,\n",
    "                    cv = 5)# Quando atribuímos um número inteiro (quantidade de folds) ao parâmetro cv, a validação cruzada é estratificada\n",
    "\n",
    "grid_search.fit(X_train, y_train)\n"
   ]
  },
  {
   "cell_type": "markdown",
   "metadata": {},
   "source": [
    "## Melhores parâmetros"
   ]
  },
  {
   "cell_type": "code",
   "execution_count": 45,
   "metadata": {},
   "outputs": [
    {
     "name": "stdout",
     "output_type": "stream",
     "text": [
      "{'criterion': 'gini', 'max_features': 'auto', 'n_estimators': 10}\n"
     ]
    }
   ],
   "source": [
    "best_params = grid_search.best_params_\n",
    "print(best_params)"
   ]
  },
  {
   "cell_type": "markdown",
   "metadata": {},
   "source": [
    "## Score de teste pós validação"
   ]
  },
  {
   "cell_type": "code",
   "execution_count": 46,
   "metadata": {},
   "outputs": [
    {
     "name": "stdout",
     "output_type": "stream",
     "text": [
      "Train >>  F1_Weighted: 0.755 (0.065)\n",
      "Test score pós-validação:  0.739\n",
      "Test score PRÉ-validação:  0.761\n"
     ]
    }
   ],
   "source": [
    "model = RandomForestClassifier(**best_params, random_state = SEED)\n",
    "\n",
    "print(\"Train >> \", score_model(model, X_train, y_train))\n",
    "model.fit(X_train, y_train)\n",
    "print(\"Test score pós-validação: \", f1_weighted(y_test, model.predict(X_test)))\n",
    "\n",
    "model = RandomForestClassifier(random_state = SEED)\n",
    "model.fit(X_train, y_train)\n",
    "print(\"Test score PRÉ-validação: \", f1_weighted(y_test, model.predict(X_test)))"
   ]
  },
  {
   "cell_type": "markdown",
   "metadata": {},
   "source": [
    "## Importância de cada feature"
   ]
  },
  {
   "cell_type": "code",
   "execution_count": 47,
   "metadata": {},
   "outputs": [],
   "source": [
    "features_name = autismo_criancas.columns"
   ]
  },
  {
   "cell_type": "code",
   "execution_count": 49,
   "metadata": {},
   "outputs": [
    {
     "data": {
      "text/plain": [
       "Text(0.5, 0, 'Feature Importance')"
      ]
     },
     "execution_count": 49,
     "metadata": {},
     "output_type": "execute_result"
    },
    {
     "data": {
      "image/png": "[encoded data removed]",
      "text/plain": [
       "<Figure size 432x288 with 1 Axes>"
      ]
     },
     "metadata": {
      "needs_background": "light"
     },
     "output_type": "display_data"
    }
   ],
   "source": [
    "sort = model.feature_importances_.argsort()\n",
    "\n",
    "qtd = len(sort) - 10\n",
    "\n",
    "plt.barh(features_name[sort][qtd:], model.feature_importances_[sort][qtd:])\n",
    "plt.xlabel(\"Feature Importance\")"
   ]
  },
  {
   "cell_type": "markdown",
   "metadata": {},
   "source": [
    "# SVM"
   ]
  },
  {
   "cell_type": "markdown",
   "metadata": {},
   "source": [
    "## Instanciando o modelo"
   ]
  },
  {
   "cell_type": "code",
   "execution_count": 50,
   "metadata": {},
   "outputs": [
    {
     "data": {
      "text/plain": [
       "SVC(kernel='linear', random_state=42)"
      ]
     },
     "execution_count": 50,
     "metadata": {},
     "output_type": "execute_result"
    }
   ],
   "source": [
    "from sklearn.svm import SVC\n",
    "\n",
    "svm = SVC(kernel=\"linear\", \n",
    "          random_state=SEED)\n",
    "\n",
    "svm.fit(X_train, y_train)"
   ]
  },
  {
   "cell_type": "markdown",
   "metadata": {},
   "source": [
    "## Testanto o modelo"
   ]
  },
  {
   "cell_type": "code",
   "execution_count": 51,
   "metadata": {},
   "outputs": [
    {
     "name": "stdout",
     "output_type": "stream",
     "text": [
      "Score de teste: 0.8275862068965517\n",
      "              precision    recall  f1-score   support\n",
      "\n",
      "           0       0.83      1.00      0.91        72\n",
      "           1       0.00      0.00      0.00        15\n",
      "\n",
      "    accuracy                           0.83        87\n",
      "   macro avg       0.41      0.50      0.45        87\n",
      "weighted avg       0.68      0.83      0.75        87\n",
      "\n"
     ]
    }
   ],
   "source": [
    "from sklearn.metrics import classification_report\n",
    "from sklearn.metrics import precision_score\n",
    "\n",
    "print(\"Score de teste:\", precision_score(y_test, svm.predict(X_test), average=\"micro\"))\n",
    "\n",
    "print(classification_report(y_test, svm.predict(X_test)))"
   ]
  },
  {
   "cell_type": "markdown",
   "metadata": {},
   "source": [
    "## Otimização dos parâmetros\n",
    "* Vamos treinar o modelo com os Kernel: Linear, Poly, rbf, sigmoid\n",
    "* Vamos experimentar tunar os seguintes parâmetros do SVM:\n",
    "* C - Parâmetro de regularização\n",
    "* degree - Grau do polinômio\n",
    "* coef0 - Valor do termo indepedente do polinômio"
   ]
  },
  {
   "cell_type": "code",
   "execution_count": 52,
   "metadata": {},
   "outputs": [
    {
     "name": "stderr",
     "output_type": "stream",
     "text": [
      "Treinamento:   0%|                                                                    | 3/5000 [00:00<03:38, 22.89it/s]"
     ]
    },
    {
     "name": "stdout",
     "output_type": "stream",
     "text": [
      "***********************************************************************\n",
      "Iniciando o processo de teste para o Kernel: linear\n",
      "****************************   Teste 1/3   *************************\n",
      "Quantidade de treinamentos que serão efetuados na validação:  5000\n"
     ]
    },
    {
     "name": "stderr",
     "output_type": "stream",
     "text": [
      "Treinamento: 100%|█████████████████████████████████████████████████████████████████| 5000/5000 [05:06<00:00, 16.32it/s]\n",
      "Treinamento:   0%|                                                                            | 0/5000 [00:00<?, ?it/s]"
     ]
    },
    {
     "name": "stdout",
     "output_type": "stream",
     "text": [
      "#####################################################################\n",
      "*****************    Exibindo o melhor resultado    ****************\n",
      "Melhores parâmetros:  {'C': 0.1, 'degree': 2.0, 'coef0': 0.5}\n",
      "Melhor score de treino:  0.8285714285714286\n",
      "Melhor score de validação:  0.8333333333333334\n",
      "\n",
      "\n",
      "****************************   Teste 2/3   *************************\n",
      "Quantidade de treinamentos que serão efetuados na validação:  5000\n"
     ]
    },
    {
     "name": "stderr",
     "output_type": "stream",
     "text": [
      "Treinamento: 100%|█████████████████████████████████████████████████████████████████| 5000/5000 [03:51<00:00, 21.62it/s]\n",
      "Treinamento:   0%|                                                                    | 4/5000 [00:00<02:36, 32.00it/s]"
     ]
    },
    {
     "name": "stdout",
     "output_type": "stream",
     "text": [
      "#####################################################################\n",
      "*****************    Exibindo o melhor resultado    ****************\n",
      "Melhores parâmetros:  {'C': 0.5, 'degree': 2.0, 'coef0': 0.5}\n",
      "Melhor score de treino:  0.8285714285714286\n",
      "Melhor score de validação:  0.8333333333333334\n",
      "\n",
      "\n",
      "****************************   Teste 3/3   *************************\n",
      "Quantidade de treinamentos que serão efetuados na validação:  5000\n"
     ]
    },
    {
     "name": "stderr",
     "output_type": "stream",
     "text": [
      "Treinamento: 100%|█████████████████████████████████████████████████████████████████| 5000/5000 [04:46<00:00, 17.46it/s]\n",
      "Treinamento:   0%|                                                                    | 1/5000 [00:00<09:06,  9.14it/s]"
     ]
    },
    {
     "name": "stdout",
     "output_type": "stream",
     "text": [
      "#####################################################################\n",
      "*****************    Exibindo o melhor resultado    ****************\n",
      "Melhores parâmetros:  {'C': 1.0, 'degree': 2.0, 'coef0': 0.5}\n",
      "Melhor score de treino:  0.8285714285714286\n",
      "Melhor score de validação:  0.8333333333333334\n",
      "\n",
      "\n",
      "***********************************************************************\n",
      "Iniciando o processo de teste para o Kernel: poly\n",
      "****************************   Teste 1/3   *************************\n",
      "Quantidade de treinamentos que serão efetuados na validação:  5000\n"
     ]
    },
    {
     "name": "stderr",
     "output_type": "stream",
     "text": [
      "Treinamento: 100%|█████████████████████████████████████████████████████████████████| 5000/5000 [05:06<00:00, 16.29it/s]\n",
      "Treinamento:   0%|                                                                    | 3/5000 [00:00<03:02, 27.43it/s]"
     ]
    },
    {
     "name": "stdout",
     "output_type": "stream",
     "text": [
      "#####################################################################\n",
      "*****************    Exibindo o melhor resultado    ****************\n",
      "Melhores parâmetros:  {'C': 0.1, 'degree': 2.0, 'coef0': 0.5}\n",
      "Melhor score de treino:  0.8285714285714286\n",
      "Melhor score de validação:  0.8333333333333334\n",
      "\n",
      "\n",
      "****************************   Teste 2/3   *************************\n",
      "Quantidade de treinamentos que serão efetuados na validação:  5000\n"
     ]
    },
    {
     "name": "stderr",
     "output_type": "stream",
     "text": [
      "Treinamento: 100%|█████████████████████████████████████████████████████████████████| 5000/5000 [04:56<00:00, 16.85it/s]\n",
      "Treinamento:   0%|                                                                            | 0/5000 [00:00<?, ?it/s]"
     ]
    },
    {
     "name": "stdout",
     "output_type": "stream",
     "text": [
      "#####################################################################\n",
      "*****************    Exibindo o melhor resultado    ****************\n",
      "Melhores parâmetros:  {'C': 0.5, 'degree': 2.0, 'coef0': 0.5}\n",
      "Melhor score de treino:  0.8285714285714286\n",
      "Melhor score de validação:  0.8333333333333334\n",
      "\n",
      "\n",
      "****************************   Teste 3/3   *************************\n",
      "Quantidade de treinamentos que serão efetuados na validação:  5000\n"
     ]
    },
    {
     "name": "stderr",
     "output_type": "stream",
     "text": [
      "Treinamento: 100%|█████████████████████████████████████████████████████████████████| 5000/5000 [04:41<00:00, 17.75it/s]"
     ]
    },
    {
     "name": "stdout",
     "output_type": "stream",
     "text": [
      "#####################################################################\n",
      "*****************    Exibindo o melhor resultado    ****************\n",
      "Melhores parâmetros:  {'C': 1.0, 'degree': 2.0, 'coef0': 0.5}\n",
      "Melhor score de treino:  0.8357142857142857\n",
      "Melhor score de validação:  0.85\n",
      "\n",
      "\n"
     ]
    },
    {
     "name": "stderr",
     "output_type": "stream",
     "text": [
      "\n"
     ]
    }
   ],
   "source": [
    "#Importando as bibliotecas\n",
    "from sklearn.metrics import precision_score\n",
    "from tqdm import tqdm \n",
    "from itertools import product\n",
    "import numpy as np\n",
    "\n",
    "# Adicionando um for para realizar o treinamento de uma lista de Kernel.\n",
    "for i in range(2):\n",
    "  lista_kernel = ['linear', 'poly']\n",
    "  print('***********************************************************************')\n",
    "  print(\"Iniciando o processo de teste para o Kernel: {}\".format(lista_kernel[i]))\n",
    "  \n",
    "  #Adicionando outro for para realizar 5 treinamento para cada Kernel e com parâmentos diferentes para cada treinamento.\n",
    "  for t in range(3):\n",
    "    print(\"****************************   Teste {}/3   *************************\".format(t+1))\n",
    " #Definindo os valores dos possíveis parâmetros para cada teste.   \n",
    "    C_start = [0.1, 0.5, 1]\n",
    "    C_stop = [2, 10, 10, 100,1000]\n",
    "    C_range = np.linspace(C_start[t],C_stop[t] , 10).round(2)\n",
    "    degree_range = np.linspace(2, 6)\n",
    "    coef0_range = np.linspace(.5, 10, 10).round(2)    \n",
    "    \n",
    "    search_space = tuple(product(C_range, degree_range, coef0_range))\n",
    "\n",
    "    print(\"Quantidade de treinamentos que serão efetuados na validação: \", len(search_space))\n",
    "\n",
    "# Validadação do treinamento, utilizando a métrica de precisão para avaliar o modelo\n",
    "\n",
    "    scores_train, scores_valid, params = [], [], []\n",
    "    \n",
    "    for C, degree, coef0 in tqdm(search_space, desc=\"Treinamento: \"):\n",
    "      \n",
    "      svm = SVC(C=C, \n",
    "              degree=degree, \n",
    "              coef0 = coef0, \n",
    "              kernel=lista_kernel[i], \n",
    "              random_state=SEED)\n",
    "      \n",
    "      svm.fit(X_train, y_train)\n",
    "      \n",
    "      score_train = precision_score(y_train, svm.predict(X_train), average=\"micro\")\n",
    "      \n",
    "      score_valid = precision_score(y_valid, svm.predict(X_valid), average=\"micro\")\n",
    "\n",
    "      scores_train.append(score_train)\n",
    "      scores_valid.append(score_valid)\n",
    "      params.append(dict(C=C, degree=degree, coef0=coef0))\n",
    "\n",
    "      \n",
    "  \n",
    "# Exibindo os resultados para cada treinamento\n",
    "    print('#####################################################################')\n",
    "    print(\"*****************    Exibindo o melhor resultado    ****************\")\n",
    "    \n",
    "\n",
    "      \n",
    "    zipped_results = zip(scores_train, scores_valid, params)\n",
    "\n",
    "    best_result =  max(zipped_results, key = lambda res: res[1])\n",
    "\n",
    "    best_score_train, best_score_valid, best_params = best_result\n",
    "\n",
    "    print(\"Melhores parâmetros: \", best_params)\n",
    "    print(\"Melhor score de treino: \", best_score_train)\n",
    "    print(\"Melhor score de validação: \", best_score_valid)\n",
    "    print('\\n')"
   ]
  },
  {
   "cell_type": "markdown",
   "metadata": {},
   "source": [
    "## Testando o modelo com os parâmetros otimizados e utilizando os melhores resultados do melhor Kernel.¶"
   ]
  },
  {
   "cell_type": "code",
   "execution_count": 54,
   "metadata": {},
   "outputs": [
    {
     "name": "stdout",
     "output_type": "stream",
     "text": [
      "Score de teste: 0.8275862068965517\n",
      "              precision    recall  f1-score   support\n",
      "\n",
      "           0       0.83      1.00      0.91        72\n",
      "           1       0.00      0.00      0.00        15\n",
      "\n",
      "    accuracy                           0.83        87\n",
      "   macro avg       0.41      0.50      0.45        87\n",
      "weighted avg       0.68      0.83      0.75        87\n",
      "\n"
     ]
    }
   ],
   "source": [
    "#Testando o modelo com o melhor resultado para cada Kernel\n",
    "\n",
    "#Testando o modelo com o melhor resultado encontrado no treinamento para Kernel Linear\n",
    "svm = SVC(kernel=\"poly\",\n",
    "          C= 1, \n",
    "          degree= 2.0, \n",
    "          coef0 = 0.5,\n",
    "          random_state=SEED)\n",
    "\n",
    "svm.fit(X_train, y_train)\n",
    "\n",
    "print(\"Score de teste:\", precision_score(y_test, svm.predict(X_test), average=\"micro\"))\n",
    "print(classification_report(y_test, svm.predict(X_test)))"
   ]
  },
  {
   "cell_type": "markdown",
   "metadata": {},
   "source": [
    "# KNN"
   ]
  },
  {
   "cell_type": "markdown",
   "metadata": {},
   "source": [
    "## Divindo em treino e teste"
   ]
  },
  {
   "cell_type": "code",
   "execution_count": null,
   "metadata": {},
   "outputs": [],
   "source": [
    "from sklearn.model_selection import train_test_split\n",
    "\n",
    "X_train, X_test, y_train, y_test = train_test_split(X, y, test_size = 0.30, random_state = 10, stratify=y)\n",
    "\n",
    "X_train, X_valid, y_train, y_valid = train_test_split(X_train, y_train, test_size = 0.30, random_state = 10, stratify=y_train)"
   ]
  },
  {
   "cell_type": "markdown",
   "metadata": {},
   "source": [
    "## Instanciando modelo \n",
    "\n",
    "TODO: Listar aqui alguns parâmetros importantes"
   ]
  },
  {
   "cell_type": "code",
   "execution_count": null,
   "metadata": {},
   "outputs": [],
   "source": [
    "from sklearn.neighbors import KNeighborsClassifier\n",
    "\n",
    "k_range = range(1, 100)\n",
    "k_scores_train = []\n",
    "k_scores_valid = []\n",
    "\n",
    "for k in k_range:\n",
    "    knn = KNeighborsClassifier(n_neighbors=k)\n",
    "    \n",
    "    knn.fit(X_train, y_train)\n",
    "\n",
    "    k_scores_train.append(knn.score(X_train, y_train))   \n",
    "    k_scores_valid.append(knn.score(X_valid, y_valid))\n",
    "\n",
    "best_values = max(zip(k_range, k_scores_train, k_scores_valid), key=lambda v:v[-1])\n",
    "\n",
    "best_k, best_acc_train, best_acc_valid = best_values\n",
    "\n",
    "print(\"Melhor k: \", best_k)\n",
    "print(\"Melhor acurárica de treino: \", best_acc_train)\n",
    "print(\"Melhor acurárica de validação: \", best_acc_valid)"
   ]
  },
  {
   "cell_type": "markdown",
   "metadata": {},
   "source": [
    "## Avaliando modelo treinado"
   ]
  },
  {
   "cell_type": "code",
   "execution_count": null,
   "metadata": {},
   "outputs": [],
   "source": [
    " knn = KNeighborsClassifier(n_neighbors=best_k)\n",
    " knn.fit(X_train, y_train)"
   ]
  },
  {
   "cell_type": "code",
   "execution_count": null,
   "metadata": {},
   "outputs": [],
   "source": [
    "print(\"Acurácia de treino: \", knn.score(X_train, y_train))\n",
    "print(\"Acurácia de validação: \", knn.score(X_valid, y_valid))\n",
    "print(\"Acurácia de teste: \", knn.score(X_test, y_test))"
   ]
  }
 ],
 "metadata": {
  "colab": {
   "authorship_tag": "ABX9TyOPri0+XBxvtM8B9Ddo5byM",
   "collapsed_sections": [],
   "name": "classificador_naive_bayes.ipynb",
   "provenance": []
  },
  "kernelspec": {
   "display_name": "Python 3",
   "language": "python",
   "name": "python3"
  },
  "language_info": {
   "codemirror_mode": {
    "name": "ipython",
    "version": 3
   },
   "file_extension": ".py",
   "mimetype": "text/x-python",
   "name": "python",
   "nbconvert_exporter": "python",
   "pygments_lexer": "ipython3",
   "version": "3.8.8"
  }
 },
 "nbformat": 4,
 "nbformat_minor": 1
}
