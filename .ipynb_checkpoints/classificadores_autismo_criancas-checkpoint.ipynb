{
 "cells": [
  {
   "cell_type": "markdown",
   "metadata": {
    "id": "lfm7yLre3VVP"
   },
   "source": [
    "# **Projeto TCC**"
   ]
  },
  {
   "cell_type": "markdown",
   "metadata": {
    "id": "GjgCqpTX3ay2"
   },
   "source": [
    "## Título : O uso de modelos de aprendizagem de máquina para identificação das principais características do Transtorno do Espectro Autista em Crianças"
   ]
  },
  {
   "cell_type": "markdown",
   "metadata": {
    "id": "-hMihwuX3iqQ"
   },
   "source": [
    "### Objetivo\n",
    "\n",
    "O Transtorno do Espectro Autista (TEA)  ́e caracterizado como resultado de problemas no neurodesenvolvimento que provocam comportamentos atípicos que afetam, principalmente, o desenvolvimento motor, a comunicação e as relações sociais. Associados a esses déficits, algumas crianças apresentam repert ́orio restrito de interesses e atividades, como também,\n",
    "padrões repetitivos de comportamento. Além disso, cada criança  ́e diagnosticada de acordo com o grau de comprometimento das habilidades que serão diferenciadas por níveis e especificidade. Por este motivo, que esse transtorno é conhecido de “espectro autista”.\n",
    "Pesquisas revelam que nos  ́ultimos anos o número de ocorrências de crianças que manifestam sintomas e são diagnósticadas com o TEA, vem crescendo significativamente.\n",
    "A Organização Mundial da Saúde (OMS) apontou que uma a cada 160 crianças possui o diagnóstico em todo o mundo. No Brasil, estudos indicam que aproximadamente uma a cada 143 crianças de até 04 anos possuem fortes indícios de serem diagnósticadas com TEA, nos meninos aparecem com maior ocorrência em 04 vezes em relação ao número de meninas. A agência de saúde, salienta ainda, que não existe cura para o TEA, no entanto, dependendo do nível de gravidade do diagnóstico, e com terapias adequadas  ́e\n",
    "possível viver de forma independente.\n",
    "Portanto, devido à importância do tema o presente estudo tem o intuito de avaliar o desempenho de 03 (três) algoritmos supervisionados de AM (Random Forest, K-NN e Naive-Bayes) para indicar se uma criança possui características comportamentais do Transtorno do Espectro Autista (TEA). Somado a isso, pretende-se ainda, realizar uma análise exploratória na base de dados com intuito de averiguar a eficácia do instrumento de rastreamento AQ 10 Child em relação aos comportamentos característicos do TEA, consequentemente, responder as questões seguinte questões de pesquisa: ̃\n",
    "1. Quantas crianças os pais ou responsáveis indicaram possuir o diagnóstico do TEA?\n",
    "2. Qual a faixa etária das crianças com diagnóstico do TEA?\n",
    "3. Qual o gênero predominante das crianças que possui o TEA?\n",
    "4. A criança possuir Icterícia colabora para a manifestação do TEA?\n",
    "5. Quais os paıses com maior ocorrência do diagnóstico?\n",
    "6. Existe criança do Brasil que tenha participado da pesquisa, se sim, quais os comportamentos característicos apresentados, e seu perfil?\n",
    "7. Quantos comportamentos atípicos podem caracterizar que uma criança possui o TEA?\n",
    "8. Quais os sinais do transtorno que possui maior ocorrências nas crianças com o TEA?\n"
   ]
  },
  {
   "cell_type": "markdown",
   "metadata": {
    "id": "eIb9XQ_dhqxk"
   },
   "source": [
    "### Dicionário dos Dados"
   ]
  },
  {
   "cell_type": "markdown",
   "metadata": {
    "id": "PsV4RVZkhy0b"
   },
   "source": [
    "|Atributo                 |     Dicionário                                    |\n",
    "|-------------------------|---------------------------------------------------|\n",
    "|A1_Score                 | Alta percepção em baixos ruídos que geralmente outros não percebem?                                          |\n",
    "|A2_Score                 | Maior concentração na visão do todo em comparação a pequenos detalhes?                                          |\n",
    "|A3_Score                  | Facilidade de comunicação com várias pessoas diferentes ao mesmo tempo?                                               |\n",
    "|A4_Score                    | Facilidade de fazer múltiplas tarefas simultaneamente?                                             | \n",
    "|A5_Score            | Dificuldade de manter uma conversa com seus colegas?                  |\n",
    "|A6_Score           | Facilidade em manter conversas informais?     |\n",
    "|A7_Score                | Dificuldade de percepção de intenções e sentimentos em histórias?                                                                        |\n",
    "|A8_Score            | Dificuldade de brincar com a imaginação fugindo da realidade   |\n",
    "|A9_Score            |Facilidade de reconhecer sentimentos a partir de expressões faciais alheias?  |\n",
    "|A10_Score             | Dificuldade de fazer novas amizades?  |\n",
    "|age             | numeric |\n",
    "|gender                 | Categorical (m or f) |\n",
    "|ethnicity             |  Categorical  |\n",
    "|icterícia        | Categorical (yes or no)                            |\n",
    "|austim                | Categorical (yes or no)                       | \n",
    "|contry_of_res                 | Categorical   |\n",
    "|used_app_before                    | Categorical (yes or no)          |\n",
    "|result numeric| Numeric                        |\n",
    "|age_desc  | Categorical                         |\n",
    "|relation PDD                | Categorical (yes or no)    |\n",
    "|Class/ASD               | Categorical (yes or no)                           |"
   ]
  },
  {
   "cell_type": "markdown",
   "metadata": {},
   "source": [
    "### Link do Git:\n",
    "- https://github.com/livyReis/tcc_autismo"
   ]
  },
  {
   "cell_type": "markdown",
   "metadata": {
    "id": "5H4dmduZWpFZ"
   },
   "source": [
    "### Importando as bibliotecas"
   ]
  },
  {
   "cell_type": "code",
   "execution_count": 73,
   "metadata": {
    "executionInfo": {
     "elapsed": 572,
     "status": "ok",
     "timestamp": 1638784595294,
     "user": {
      "displayName": "Liviany Reis Rodrigues",
      "photoUrl": "https://lh3.googleusercontent.com/a/default-user=s64",
      "userId": "13974134542734238498"
     },
     "user_tz": 180
    },
    "id": "PRnjjTRDCqf4"
   },
   "outputs": [],
   "source": [
    "import pandas as pd\n",
    "import numpy as np \n",
    "import matplotlib.pyplot as plt\n",
    "import seaborn as sns\n",
    "\n",
    "from scipy import stats\n",
    "from scipy.stats import kruskal\n",
    "\n",
    "from sklearn import preprocessing\n",
    "from sklearn import model_selection\n",
    "from sklearn import tree\n",
    "\n",
    "from sklearn.model_selection import RepeatedStratifiedKFold\n",
    "from sklearn.model_selection import RandomizedSearchCV\n",
    "from sklearn.model_selection import GridSearchCV\n",
    "\n",
    "from sklearn.metrics import classification_report\n",
    "from sklearn.metrics import confusion_matrix\n",
    "from sklearn.metrics import accuracy_score, precision_score, f1_score\n",
    "\n",
    "from sklearn.ensemble import RandomForestClassifier\n",
    "from sklearn.ensemble import BaggingClassifier\n",
    "from sklearn.ensemble import VotingClassifier\n",
    "from sklearn.tree import DecisionTreeClassifier\n",
    "from sklearn.neural_network import MLPClassifier\n",
    "from sklearn.neighbors import KNeighborsClassifier\n",
    "from sklearn.preprocessing import MinMaxScaler\n",
    "from sklearn.decomposition import PCA\n",
    "from sklearn.model_selection import train_test_split\n",
    "\n",
    "from numpy.random import randn\n",
    "from numpy.random import seed\n",
    "\n",
    "from warnings import filterwarnings\n",
    "filterwarnings('ignore')\n",
    "\n",
    "from sklearn.tree import DecisionTreeClassifier \n",
    "from sklearn import preprocessing\n",
    "from sklearn.model_selection import train_test_split\n",
    "from sklearn import tree\n",
    "from sklearn.metrics import classification_report, precision_score\n"
   ]
  },
  {
   "cell_type": "code",
   "execution_count": 74,
   "metadata": {
    "executionInfo": {
     "elapsed": 22,
     "status": "ok",
     "timestamp": 1638784596325,
     "user": {
      "displayName": "Liviany Reis Rodrigues",
      "photoUrl": "https://lh3.googleusercontent.com/a/default-user=s64",
      "userId": "13974134542734238498"
     },
     "user_tz": 180
    },
    "id": "UIACjfNG54mP"
   },
   "outputs": [],
   "source": [
    "#Estilo dos gráficos\n",
    "plt.style.use('seaborn-bright')\n",
    "#Padronizando o tamanho dos gráficos \n",
    "plt.rcParams['figure.figsize'] = (5,4)\n",
    "%matplotlib inline"
   ]
  },
  {
   "cell_type": "markdown",
   "metadata": {
    "id": "01yBwsHEUUlv"
   },
   "source": [
    "**Lendo o Dataset**"
   ]
  },
  {
   "cell_type": "code",
   "execution_count": 75,
   "metadata": {
    "executionInfo": {
     "elapsed": 21,
     "status": "ok",
     "timestamp": 1638784596330,
     "user": {
      "displayName": "Liviany Reis Rodrigues",
      "photoUrl": "https://lh3.googleusercontent.com/a/default-user=s64",
      "userId": "13974134542734238498"
     },
     "user_tz": 180
    },
    "id": "3ilF9Hn2DG8b"
   },
   "outputs": [],
   "source": [
    "autismo_criancas = pd.read_csv('Dados/Autism-Child-Data.csv')"
   ]
  },
  {
   "cell_type": "code",
   "execution_count": 76,
   "metadata": {},
   "outputs": [],
   "source": [
    "# Renomeando as colunas\n",
    "autismo_criancas.columns = [\"AQ01\", \"AQ02\", \"AQ03\", \"AQ04\", \"AQ05\",\"AQ06\",\"AQ07\",\"AQ08\",\"AQ09\",\"AQ10\", \"age\",\"gender\", \"ethnicity\", \"icterícia\", \"austim\", \"contry_of_res\", \"used_app_before\", \"result numeric\", \"age_desc\", \"relation PDD\", \"Class/ASD\"]"
   ]
  },
  {
   "cell_type": "markdown",
   "metadata": {
    "id": "KUE7aMueES13"
   },
   "source": [
    "**Visão Geral do Dataframe**"
   ]
  },
  {
   "cell_type": "code",
   "execution_count": 77,
   "metadata": {
    "colab": {
     "base_uri": "https://localhost:8080/",
     "height": 313
    },
    "executionInfo": {
     "elapsed": 243,
     "status": "ok",
     "timestamp": 1638784597599,
     "user": {
      "displayName": "Liviany Reis Rodrigues",
      "photoUrl": "https://lh3.googleusercontent.com/a/default-user=s64",
      "userId": "13974134542734238498"
     },
     "user_tz": 180
    },
    "id": "ptNmIID1DatL",
    "outputId": "58b691f7-c7d8-4af2-cd14-9cfc14021bff"
   },
   "outputs": [
    {
     "data": {
      "text/html": [
       "<div>\n",
       "<style scoped>\n",
       "    .dataframe tbody tr th:only-of-type {\n",
       "        vertical-align: middle;\n",
       "    }\n",
       "\n",
       "    .dataframe tbody tr th {\n",
       "        vertical-align: top;\n",
       "    }\n",
       "\n",
       "    .dataframe thead th {\n",
       "        text-align: right;\n",
       "    }\n",
       "</style>\n",
       "<table border=\"1\" class=\"dataframe\">\n",
       "  <thead>\n",
       "    <tr style=\"text-align: right;\">\n",
       "      <th></th>\n",
       "      <th>AQ01</th>\n",
       "      <th>AQ02</th>\n",
       "      <th>AQ03</th>\n",
       "      <th>AQ04</th>\n",
       "      <th>AQ05</th>\n",
       "      <th>AQ06</th>\n",
       "      <th>AQ07</th>\n",
       "      <th>AQ08</th>\n",
       "      <th>AQ09</th>\n",
       "      <th>AQ10</th>\n",
       "      <th>...</th>\n",
       "      <th>gender</th>\n",
       "      <th>ethnicity</th>\n",
       "      <th>icterícia</th>\n",
       "      <th>austim</th>\n",
       "      <th>contry_of_res</th>\n",
       "      <th>used_app_before</th>\n",
       "      <th>result numeric</th>\n",
       "      <th>age_desc</th>\n",
       "      <th>relation PDD</th>\n",
       "      <th>Class/ASD</th>\n",
       "    </tr>\n",
       "  </thead>\n",
       "  <tbody>\n",
       "    <tr>\n",
       "      <th>0</th>\n",
       "      <td>1</td>\n",
       "      <td>1</td>\n",
       "      <td>0</td>\n",
       "      <td>0</td>\n",
       "      <td>1</td>\n",
       "      <td>1</td>\n",
       "      <td>0</td>\n",
       "      <td>1</td>\n",
       "      <td>0</td>\n",
       "      <td>0</td>\n",
       "      <td>...</td>\n",
       "      <td>m</td>\n",
       "      <td>'Middle Eastern '</td>\n",
       "      <td>no</td>\n",
       "      <td>no</td>\n",
       "      <td>Jordan</td>\n",
       "      <td>no</td>\n",
       "      <td>5</td>\n",
       "      <td>'4-11 years'</td>\n",
       "      <td>Parent</td>\n",
       "      <td>NO</td>\n",
       "    </tr>\n",
       "    <tr>\n",
       "      <th>1</th>\n",
       "      <td>1</td>\n",
       "      <td>1</td>\n",
       "      <td>0</td>\n",
       "      <td>0</td>\n",
       "      <td>0</td>\n",
       "      <td>1</td>\n",
       "      <td>1</td>\n",
       "      <td>1</td>\n",
       "      <td>0</td>\n",
       "      <td>0</td>\n",
       "      <td>...</td>\n",
       "      <td>m</td>\n",
       "      <td>?</td>\n",
       "      <td>no</td>\n",
       "      <td>no</td>\n",
       "      <td>Jordan</td>\n",
       "      <td>yes</td>\n",
       "      <td>5</td>\n",
       "      <td>'4-11 years'</td>\n",
       "      <td>?</td>\n",
       "      <td>NO</td>\n",
       "    </tr>\n",
       "    <tr>\n",
       "      <th>2</th>\n",
       "      <td>0</td>\n",
       "      <td>1</td>\n",
       "      <td>0</td>\n",
       "      <td>0</td>\n",
       "      <td>1</td>\n",
       "      <td>1</td>\n",
       "      <td>0</td>\n",
       "      <td>0</td>\n",
       "      <td>0</td>\n",
       "      <td>1</td>\n",
       "      <td>...</td>\n",
       "      <td>f</td>\n",
       "      <td>?</td>\n",
       "      <td>yes</td>\n",
       "      <td>no</td>\n",
       "      <td>Jordan</td>\n",
       "      <td>no</td>\n",
       "      <td>4</td>\n",
       "      <td>'4-11 years'</td>\n",
       "      <td>?</td>\n",
       "      <td>NO</td>\n",
       "    </tr>\n",
       "  </tbody>\n",
       "</table>\n",
       "<p>3 rows × 21 columns</p>\n",
       "</div>"
      ],
      "text/plain": [
       "   AQ01  AQ02  AQ03  AQ04  AQ05  AQ06  AQ07  AQ08  AQ09  AQ10  ... gender  \\\n",
       "0     1     1     0     0     1     1     0     1     0     0  ...      m   \n",
       "1     1     1     0     0     0     1     1     1     0     0  ...      m   \n",
       "2     0     1     0     0     1     1     0     0     0     1  ...      f   \n",
       "\n",
       "           ethnicity icterícia austim contry_of_res used_app_before  \\\n",
       "0  'Middle Eastern '        no     no        Jordan              no   \n",
       "1                  ?        no     no        Jordan             yes   \n",
       "2                  ?       yes     no        Jordan              no   \n",
       "\n",
       "  result numeric      age_desc relation PDD Class/ASD  \n",
       "0              5  '4-11 years'       Parent        NO  \n",
       "1              5  '4-11 years'            ?        NO  \n",
       "2              4  '4-11 years'            ?        NO  \n",
       "\n",
       "[3 rows x 21 columns]"
      ]
     },
     "execution_count": 77,
     "metadata": {},
     "output_type": "execute_result"
    }
   ],
   "source": [
    "# Visualizando as 03 primeiras linhas do Dataframe\n",
    "autismo_criancas.head(3)"
   ]
  },
  {
   "cell_type": "code",
   "execution_count": 78,
   "metadata": {},
   "outputs": [
    {
     "data": {
      "text/plain": [
       "(291, 21)"
      ]
     },
     "execution_count": 78,
     "metadata": {},
     "output_type": "execute_result"
    }
   ],
   "source": [
    "# Visualizando o número de entradas e atributos contidos no Dataframe\n",
    "autismo_criancas.shape"
   ]
  },
  {
   "cell_type": "code",
   "execution_count": 79,
   "metadata": {},
   "outputs": [
    {
     "name": "stdout",
     "output_type": "stream",
     "text": [
      "<class 'pandas.core.frame.DataFrame'>\n",
      "RangeIndex: 291 entries, 0 to 290\n",
      "Data columns (total 21 columns):\n",
      " #   Column           Non-Null Count  Dtype \n",
      "---  ------           --------------  ----- \n",
      " 0   AQ01             291 non-null    int64 \n",
      " 1   AQ02             291 non-null    int64 \n",
      " 2   AQ03             291 non-null    int64 \n",
      " 3   AQ04             291 non-null    int64 \n",
      " 4   AQ05             291 non-null    int64 \n",
      " 5   AQ06             291 non-null    int64 \n",
      " 6   AQ07             291 non-null    int64 \n",
      " 7   AQ08             291 non-null    int64 \n",
      " 8   AQ09             291 non-null    int64 \n",
      " 9   AQ10             291 non-null    int64 \n",
      " 10  age              291 non-null    object\n",
      " 11  gender           291 non-null    object\n",
      " 12  ethnicity        291 non-null    object\n",
      " 13  icterícia        291 non-null    object\n",
      " 14  austim           291 non-null    object\n",
      " 15  contry_of_res    291 non-null    object\n",
      " 16  used_app_before  291 non-null    object\n",
      " 17  result numeric   291 non-null    int64 \n",
      " 18  age_desc         291 non-null    object\n",
      " 19  relation PDD     291 non-null    object\n",
      " 20  Class/ASD        291 non-null    object\n",
      "dtypes: int64(11), object(10)\n",
      "memory usage: 47.9+ KB\n"
     ]
    }
   ],
   "source": [
    "# Visualizando os tipos dos dados\n",
    "autismo_criancas.info()"
   ]
  },
  {
   "cell_type": "markdown",
   "metadata": {},
   "source": [
    "**Pré-Processamento dos Dados**"
   ]
  },
  {
   "cell_type": "markdown",
   "metadata": {},
   "source": [
    "Observou-se que existia no Dataset dados ausentes preenchidos com o ponto de interrogação, nesse caso foi realizado a alteração dos dados para posteriormente eliminá-los."
   ]
  },
  {
   "cell_type": "code",
   "execution_count": 80,
   "metadata": {},
   "outputs": [],
   "source": [
    "# Substituindo valores com '?' por Nan para posteriormente eliminá-los.\n",
    "autismo_criancas = autismo_criancas.replace('?', np.nan)"
   ]
  },
  {
   "cell_type": "code",
   "execution_count": 81,
   "metadata": {},
   "outputs": [
    {
     "data": {
      "text/plain": [
       "AQ01                0.000000\n",
       "AQ02                0.000000\n",
       "AQ03                0.000000\n",
       "AQ04                0.000000\n",
       "AQ05                0.000000\n",
       "AQ06                0.000000\n",
       "AQ07                0.000000\n",
       "AQ08                0.000000\n",
       "AQ09                0.000000\n",
       "AQ10                0.000000\n",
       "age                 1.374570\n",
       "gender              0.000000\n",
       "ethnicity          14.776632\n",
       "icterícia           0.000000\n",
       "austim              0.000000\n",
       "contry_of_res       0.000000\n",
       "used_app_before     0.000000\n",
       "result numeric      0.000000\n",
       "age_desc            0.000000\n",
       "relation PDD       14.776632\n",
       "Class/ASD           0.000000\n",
       "dtype: float64"
      ]
     },
     "execution_count": 81,
     "metadata": {},
     "output_type": "execute_result"
    }
   ],
   "source": [
    "# Visualizando a porcentagem total de dados nulos no Dataset\n",
    "autismo_criancas.isnull().sum()/autismo_criancas.shape[0]*100"
   ]
  },
  {
   "cell_type": "markdown",
   "metadata": {},
   "source": [
    "Após a alteração dos dados foi observado que o número de dados nulos era significativo para a quantidade total de entradas contidas no dataset. Dessa forma, optou-se pela remoção dos atributos que apresentavam maior incidência de dados ausentes, por entender que esta ação não afetaria a quantidade de instâncias totais no dataframe, por fim, foi eliminado apenas 04 linhas para a eliminação de dados nulos contidos no atributo idade. "
   ]
  },
  {
   "cell_type": "code",
   "execution_count": 82,
   "metadata": {},
   "outputs": [],
   "source": [
    "# Elimando as colunas com os dados ausentes e atributos que não serão utilizados nas análises futuras\n",
    "autismo_criancas.drop(columns=['ethnicity','relation PDD', 'used_app_before','age_desc'], inplace = True, axis = 1)"
   ]
  },
  {
   "cell_type": "code",
   "execution_count": 83,
   "metadata": {},
   "outputs": [],
   "source": [
    "autismo_criancas.dropna(inplace = True, axis = 0)"
   ]
  },
  {
   "cell_type": "code",
   "execution_count": 84,
   "metadata": {},
   "outputs": [
    {
     "data": {
      "text/plain": [
       "AQ01              0\n",
       "AQ02              0\n",
       "AQ03              0\n",
       "AQ04              0\n",
       "AQ05              0\n",
       "AQ06              0\n",
       "AQ07              0\n",
       "AQ08              0\n",
       "AQ09              0\n",
       "AQ10              0\n",
       "age               0\n",
       "gender            0\n",
       "icterícia         0\n",
       "austim            0\n",
       "contry_of_res     0\n",
       "result numeric    0\n",
       "Class/ASD         0\n",
       "dtype: int64"
      ]
     },
     "execution_count": 84,
     "metadata": {},
     "output_type": "execute_result"
    }
   ],
   "source": [
    "# Visualizando se ainda existem dados nulos no Dataset\n",
    "autismo_criancas.isnull().sum()"
   ]
  },
  {
   "cell_type": "markdown",
   "metadata": {},
   "source": [
    "**Alterando os tipos dos dados com intuito de melhor analisá-los**"
   ]
  },
  {
   "cell_type": "code",
   "execution_count": 85,
   "metadata": {},
   "outputs": [],
   "source": [
    "autismo_criancas['AQ01'] = autismo_criancas['AQ01'].astype('int64')\n",
    "autismo_criancas['AQ02'] = autismo_criancas['AQ02'].astype('int64')\n",
    "autismo_criancas['AQ03'] = autismo_criancas['AQ03'].astype('int64')\n",
    "autismo_criancas['AQ04'] = autismo_criancas['AQ04'].astype('int64')\n",
    "autismo_criancas['AQ05'] = autismo_criancas['AQ05'].astype('int64')\n",
    "autismo_criancas['AQ06'] = autismo_criancas['AQ06'].astype('int64')\n",
    "autismo_criancas['AQ07'] = autismo_criancas['AQ07'].astype('int64')\n",
    "autismo_criancas['AQ08'] = autismo_criancas['AQ08'].astype('int64')\n",
    "autismo_criancas['AQ09'] = autismo_criancas['AQ09'].astype('int64')\n",
    "autismo_criancas['AQ10'] = autismo_criancas['AQ10'].astype('int64')\n",
    "autismo_criancas['age'] = autismo_criancas['age'].astype('int64')\n",
    "autismo_criancas['gender'] = autismo_criancas['gender'].astype('category')\n",
    "autismo_criancas['icterícia'] = autismo_criancas['icterícia'].astype('category')\n",
    "autismo_criancas['austim'] = autismo_criancas['austim'].astype('category')\n",
    "autismo_criancas['contry_of_res'] = autismo_criancas['contry_of_res'].astype('category')\n",
    "autismo_criancas['result numeric'] = autismo_criancas['result numeric'].astype('int64')\n",
    "autismo_criancas['Class/ASD'] = autismo_criancas['Class/ASD'].astype('category')"
   ]
  },
  {
   "cell_type": "code",
   "execution_count": 86,
   "metadata": {},
   "outputs": [
    {
     "name": "stdout",
     "output_type": "stream",
     "text": [
      "<class 'pandas.core.frame.DataFrame'>\n",
      "Int64Index: 287 entries, 0 to 290\n",
      "Data columns (total 17 columns):\n",
      " #   Column          Non-Null Count  Dtype   \n",
      "---  ------          --------------  -----   \n",
      " 0   AQ01            287 non-null    int64   \n",
      " 1   AQ02            287 non-null    int64   \n",
      " 2   AQ03            287 non-null    int64   \n",
      " 3   AQ04            287 non-null    int64   \n",
      " 4   AQ05            287 non-null    int64   \n",
      " 5   AQ06            287 non-null    int64   \n",
      " 6   AQ07            287 non-null    int64   \n",
      " 7   AQ08            287 non-null    int64   \n",
      " 8   AQ09            287 non-null    int64   \n",
      " 9   AQ10            287 non-null    int64   \n",
      " 10  age             287 non-null    int64   \n",
      " 11  gender          287 non-null    category\n",
      " 12  icterícia       287 non-null    category\n",
      " 13  austim          287 non-null    category\n",
      " 14  contry_of_res   287 non-null    category\n",
      " 15  result numeric  287 non-null    int64   \n",
      " 16  Class/ASD       287 non-null    category\n",
      "dtypes: category(5), int64(12)\n",
      "memory usage: 33.5 KB\n"
     ]
    }
   ],
   "source": [
    "autismo_criancas.info()"
   ]
  },
  {
   "cell_type": "markdown",
   "metadata": {},
   "source": [
    "**Sumário dos dados contínuos**"
   ]
  },
  {
   "cell_type": "code",
   "execution_count": 87,
   "metadata": {},
   "outputs": [
    {
     "data": {
      "text/html": [
       "<div>\n",
       "<style scoped>\n",
       "    .dataframe tbody tr th:only-of-type {\n",
       "        vertical-align: middle;\n",
       "    }\n",
       "\n",
       "    .dataframe tbody tr th {\n",
       "        vertical-align: top;\n",
       "    }\n",
       "\n",
       "    .dataframe thead th {\n",
       "        text-align: right;\n",
       "    }\n",
       "</style>\n",
       "<table border=\"1\" class=\"dataframe\">\n",
       "  <thead>\n",
       "    <tr style=\"text-align: right;\">\n",
       "      <th></th>\n",
       "      <th>AQ01</th>\n",
       "      <th>AQ02</th>\n",
       "      <th>AQ03</th>\n",
       "      <th>AQ04</th>\n",
       "      <th>AQ05</th>\n",
       "      <th>AQ06</th>\n",
       "      <th>AQ07</th>\n",
       "      <th>AQ08</th>\n",
       "      <th>AQ09</th>\n",
       "      <th>AQ10</th>\n",
       "      <th>age</th>\n",
       "      <th>result numeric</th>\n",
       "    </tr>\n",
       "  </thead>\n",
       "  <tbody>\n",
       "    <tr>\n",
       "      <th>count</th>\n",
       "      <td>287.000000</td>\n",
       "      <td>287.000000</td>\n",
       "      <td>287.000000</td>\n",
       "      <td>287.000000</td>\n",
       "      <td>287.000000</td>\n",
       "      <td>287.000000</td>\n",
       "      <td>287.000000</td>\n",
       "      <td>287.000000</td>\n",
       "      <td>287.000000</td>\n",
       "      <td>287.000000</td>\n",
       "      <td>287.000000</td>\n",
       "      <td>287.000000</td>\n",
       "    </tr>\n",
       "    <tr>\n",
       "      <th>mean</th>\n",
       "      <td>0.634146</td>\n",
       "      <td>0.533101</td>\n",
       "      <td>0.745645</td>\n",
       "      <td>0.554007</td>\n",
       "      <td>0.749129</td>\n",
       "      <td>0.710801</td>\n",
       "      <td>0.609756</td>\n",
       "      <td>0.491289</td>\n",
       "      <td>0.498258</td>\n",
       "      <td>0.731707</td>\n",
       "      <td>6.355401</td>\n",
       "      <td>6.257840</td>\n",
       "    </tr>\n",
       "    <tr>\n",
       "      <th>std</th>\n",
       "      <td>0.482510</td>\n",
       "      <td>0.499775</td>\n",
       "      <td>0.436259</td>\n",
       "      <td>0.497943</td>\n",
       "      <td>0.434272</td>\n",
       "      <td>0.454182</td>\n",
       "      <td>0.488657</td>\n",
       "      <td>0.500797</td>\n",
       "      <td>0.500870</td>\n",
       "      <td>0.443845</td>\n",
       "      <td>2.369495</td>\n",
       "      <td>2.281669</td>\n",
       "    </tr>\n",
       "    <tr>\n",
       "      <th>min</th>\n",
       "      <td>0.000000</td>\n",
       "      <td>0.000000</td>\n",
       "      <td>0.000000</td>\n",
       "      <td>0.000000</td>\n",
       "      <td>0.000000</td>\n",
       "      <td>0.000000</td>\n",
       "      <td>0.000000</td>\n",
       "      <td>0.000000</td>\n",
       "      <td>0.000000</td>\n",
       "      <td>0.000000</td>\n",
       "      <td>4.000000</td>\n",
       "      <td>0.000000</td>\n",
       "    </tr>\n",
       "    <tr>\n",
       "      <th>25%</th>\n",
       "      <td>0.000000</td>\n",
       "      <td>0.000000</td>\n",
       "      <td>0.000000</td>\n",
       "      <td>0.000000</td>\n",
       "      <td>0.500000</td>\n",
       "      <td>0.000000</td>\n",
       "      <td>0.000000</td>\n",
       "      <td>0.000000</td>\n",
       "      <td>0.000000</td>\n",
       "      <td>0.000000</td>\n",
       "      <td>4.000000</td>\n",
       "      <td>5.000000</td>\n",
       "    </tr>\n",
       "    <tr>\n",
       "      <th>50%</th>\n",
       "      <td>1.000000</td>\n",
       "      <td>1.000000</td>\n",
       "      <td>1.000000</td>\n",
       "      <td>1.000000</td>\n",
       "      <td>1.000000</td>\n",
       "      <td>1.000000</td>\n",
       "      <td>1.000000</td>\n",
       "      <td>0.000000</td>\n",
       "      <td>0.000000</td>\n",
       "      <td>1.000000</td>\n",
       "      <td>6.000000</td>\n",
       "      <td>6.000000</td>\n",
       "    </tr>\n",
       "    <tr>\n",
       "      <th>75%</th>\n",
       "      <td>1.000000</td>\n",
       "      <td>1.000000</td>\n",
       "      <td>1.000000</td>\n",
       "      <td>1.000000</td>\n",
       "      <td>1.000000</td>\n",
       "      <td>1.000000</td>\n",
       "      <td>1.000000</td>\n",
       "      <td>1.000000</td>\n",
       "      <td>1.000000</td>\n",
       "      <td>1.000000</td>\n",
       "      <td>8.000000</td>\n",
       "      <td>8.000000</td>\n",
       "    </tr>\n",
       "    <tr>\n",
       "      <th>max</th>\n",
       "      <td>1.000000</td>\n",
       "      <td>1.000000</td>\n",
       "      <td>1.000000</td>\n",
       "      <td>1.000000</td>\n",
       "      <td>1.000000</td>\n",
       "      <td>1.000000</td>\n",
       "      <td>1.000000</td>\n",
       "      <td>1.000000</td>\n",
       "      <td>1.000000</td>\n",
       "      <td>1.000000</td>\n",
       "      <td>11.000000</td>\n",
       "      <td>10.000000</td>\n",
       "    </tr>\n",
       "  </tbody>\n",
       "</table>\n",
       "</div>"
      ],
      "text/plain": [
       "             AQ01        AQ02        AQ03        AQ04        AQ05        AQ06  \\\n",
       "count  287.000000  287.000000  287.000000  287.000000  287.000000  287.000000   \n",
       "mean     0.634146    0.533101    0.745645    0.554007    0.749129    0.710801   \n",
       "std      0.482510    0.499775    0.436259    0.497943    0.434272    0.454182   \n",
       "min      0.000000    0.000000    0.000000    0.000000    0.000000    0.000000   \n",
       "25%      0.000000    0.000000    0.000000    0.000000    0.500000    0.000000   \n",
       "50%      1.000000    1.000000    1.000000    1.000000    1.000000    1.000000   \n",
       "75%      1.000000    1.000000    1.000000    1.000000    1.000000    1.000000   \n",
       "max      1.000000    1.000000    1.000000    1.000000    1.000000    1.000000   \n",
       "\n",
       "             AQ07        AQ08        AQ09        AQ10         age  \\\n",
       "count  287.000000  287.000000  287.000000  287.000000  287.000000   \n",
       "mean     0.609756    0.491289    0.498258    0.731707    6.355401   \n",
       "std      0.488657    0.500797    0.500870    0.443845    2.369495   \n",
       "min      0.000000    0.000000    0.000000    0.000000    4.000000   \n",
       "25%      0.000000    0.000000    0.000000    0.000000    4.000000   \n",
       "50%      1.000000    0.000000    0.000000    1.000000    6.000000   \n",
       "75%      1.000000    1.000000    1.000000    1.000000    8.000000   \n",
       "max      1.000000    1.000000    1.000000    1.000000   11.000000   \n",
       "\n",
       "       result numeric  \n",
       "count      287.000000  \n",
       "mean         6.257840  \n",
       "std          2.281669  \n",
       "min          0.000000  \n",
       "25%          5.000000  \n",
       "50%          6.000000  \n",
       "75%          8.000000  \n",
       "max         10.000000  "
      ]
     },
     "execution_count": 87,
     "metadata": {},
     "output_type": "execute_result"
    }
   ],
   "source": [
    "autismo_criancas.describe()"
   ]
  },
  {
   "cell_type": "markdown",
   "metadata": {},
   "source": [
    "**Checando Outliers**"
   ]
  },
  {
   "cell_type": "code",
   "execution_count": 88,
   "metadata": {},
   "outputs": [
    {
     "data": {
      "image/png": "[encoded data removed]",
      "text/plain": [
       "<Figure size 500x400 with 1 Axes>"
      ]
     },
     "metadata": {},
     "output_type": "display_data"
    }
   ],
   "source": [
    "autismo_criancas['age'].plot.box();"
   ]
  },
  {
   "cell_type": "markdown",
   "metadata": {},
   "source": [
    "## Análise Exploratória dos Dados"
   ]
  },
  {
   "cell_type": "markdown",
   "metadata": {},
   "source": [
    "**Breve explicação para entendimento das análises e remoções realizadas nas seções seguintes.**\n",
    "- Essa base de dados foi coletada com uso de um software para celular denominado de ASDTests criado pelos autores Thabtah et al. 2018, cujo tema é: A new computational intelligence approach to detect autistic features for autism screenings pelo. O aplicativo possui 10 perguntas relacionadas aos padrões comportamentais do TEA, baseadas no instrumento de rasteamento denominado AQ-10-Child. Posteriormente, os autores realizaram uma pesquisa em diversos países, disponibilizando os resultados nos principais repositórios de código aberto (Kaggle e Universidade da Calif ́ornia-Irvine-UCI). Basicamente, o aplicativo utiliza um algoritmo que soma o número de respostas positivas e armazena na variável ”result numeric”, a criança que apresentar a partir de sete sinais comportamentais sugeridos pelo questionário é classificada possuir TEA na variável Class/ASD. No entanto, ao realizar uma exploração dos dados, observou-se que as crianças que participaram da pesquisa e que haviam sido indicadas pelos responsáveis possuir o diagnóstico do TEA, não necessariamente, apresentavam a partir de sete características comportamentais. Dessa forma, o presente estudo utilizará a base de dados sem a classificação realizada pelo aplicativo ASDTests para implementar os modelos de Aprendizagem de Maquina (Random Forest, K-NN e Naive-Bayes e Máquina de Vetor de Suporte). Abaixo é demonstrado todas as análises realizadas que possibilita uma melhor compreensão do que foi relatado acima."
   ]
  },
  {
   "cell_type": "markdown",
   "metadata": {},
   "source": [
    "## Crianças indicada com TEA por seus responsáveis"
   ]
  },
  {
   "cell_type": "code",
   "execution_count": 89,
   "metadata": {},
   "outputs": [
    {
     "data": {
      "text/plain": [
       "no     238\n",
       "yes     49\n",
       "Name: austim, dtype: int64"
      ]
     },
     "execution_count": 89,
     "metadata": {},
     "output_type": "execute_result"
    }
   ],
   "source": [
    "autismo_criancas['austim'].value_counts()"
   ]
  },
  {
   "cell_type": "markdown",
   "metadata": {},
   "source": [
    "Observa-se que já existia 49 crianças com diagnóstico do TEA, na análise seguinte será exibido a classificação realizada pelo aplicativo ASDTests."
   ]
  },
  {
   "cell_type": "markdown",
   "metadata": {},
   "source": [
    "## Classificação realizada pelo aplicativo ASDTests"
   ]
  },
  {
   "cell_type": "markdown",
   "metadata": {},
   "source": [
    "**Frequência das Crianças que foram avaliadas pelo aplicativo ASDTests para identificação dos comportamentos característicos do TEA**"
   ]
  },
  {
   "cell_type": "code",
   "execution_count": 90,
   "metadata": {},
   "outputs": [
    {
     "data": {
      "text/plain": [
       "NO     148\n",
       "YES    139\n",
       "Name: Class/ASD, dtype: int64"
      ]
     },
     "execution_count": 90,
     "metadata": {},
     "output_type": "execute_result"
    }
   ],
   "source": [
    "autismo_criancas['Class/ASD'].value_counts()"
   ]
  },
  {
   "cell_type": "markdown",
   "metadata": {},
   "source": [
    "Observa-se uma diferença significativa do número de casos indicados pelo algoritmo do aplicativo para os informados pelos responsáveis, até aqui sem problemas, já que é natural o algoritmo encontrar novos casos de TEA."
   ]
  },
  {
   "cell_type": "code",
   "execution_count": 91,
   "metadata": {},
   "outputs": [
    {
     "data": {
      "image/png": "[encoded data removed]",
      "text/plain": [
       "<Figure size 500x400 with 1 Axes>"
      ]
     },
     "metadata": {},
     "output_type": "display_data"
    }
   ],
   "source": [
    "# Visualizando a classificação pelo aplicativo.\n",
    "sns.countplot(data = autismo_criancas, x='result numeric', hue='Class/ASD')\n",
    "sns.despine()"
   ]
  },
  {
   "cell_type": "markdown",
   "metadata": {},
   "source": [
    "O gráfico acima nos permite observar que a classificação realizada pelo aplicativo ASDTest, basicamente, soma o número de respostas positivas e armazena na variável \"result numeric\", a criança que apresentar a partir de sete sinais comportamentais sugeridos pelo questionário é classificada possuir TEA na variável Class/ASD."
   ]
  },
  {
   "cell_type": "markdown",
   "metadata": {},
   "source": [
    "No entanto, ao realizar uma exploração dos dados, observou-se que as crianças que participaram da pesquisa e que haviam sido indicadas por seus responsáveis possuir o diagnóstico do TEA, não necessariamente, apresentavam a partir de sete características comportamentais, conforme gráfico abaixo."
   ]
  },
  {
   "cell_type": "code",
   "execution_count": 92,
   "metadata": {},
   "outputs": [
    {
     "data": {
      "image/png": "[encoded data removed]",
      "text/plain": [
       "<Figure size 500x400 with 1 Axes>"
      ]
     },
     "metadata": {},
     "output_type": "display_data"
    }
   ],
   "source": [
    "# Plotando da frequência das idades\n",
    "sns.countplot(data = autismo_criancas, x='result numeric', hue='austim')\n",
    "sns.despine()"
   ]
  },
  {
   "cell_type": "markdown",
   "metadata": {},
   "source": [
    "Nas análises abaixo faremos um filtro para analisarmos as características comportamentais das crianças que foram indicadas por seus responsáveis já possuir o diagnóstico do TEA e verificar se o algoritmo utilizado pelo aplicativo ASDTests classificou corretamente as crianças indicadas por seus responsáveis possuir o TEA. "
   ]
  },
  {
   "cell_type": "markdown",
   "metadata": {},
   "source": [
    "## Explorando as características das Crianças que foram indicadas pelos responsáveis possuir TEA."
   ]
  },
  {
   "cell_type": "code",
   "execution_count": 93,
   "metadata": {},
   "outputs": [],
   "source": [
    "criancas_TEA = autismo_criancas.loc[autismo_criancas['austim'] == 'yes']"
   ]
  },
  {
   "cell_type": "code",
   "execution_count": 94,
   "metadata": {},
   "outputs": [
    {
     "data": {
      "text/html": [
       "<div>\n",
       "<style scoped>\n",
       "    .dataframe tbody tr th:only-of-type {\n",
       "        vertical-align: middle;\n",
       "    }\n",
       "\n",
       "    .dataframe tbody tr th {\n",
       "        vertical-align: top;\n",
       "    }\n",
       "\n",
       "    .dataframe thead th {\n",
       "        text-align: right;\n",
       "    }\n",
       "</style>\n",
       "<table border=\"1\" class=\"dataframe\">\n",
       "  <thead>\n",
       "    <tr style=\"text-align: right;\">\n",
       "      <th></th>\n",
       "      <th>AQ01</th>\n",
       "      <th>AQ02</th>\n",
       "      <th>AQ03</th>\n",
       "      <th>AQ04</th>\n",
       "      <th>AQ05</th>\n",
       "      <th>AQ06</th>\n",
       "      <th>AQ07</th>\n",
       "      <th>AQ08</th>\n",
       "      <th>AQ09</th>\n",
       "      <th>AQ10</th>\n",
       "      <th>age</th>\n",
       "      <th>gender</th>\n",
       "      <th>icterícia</th>\n",
       "      <th>austim</th>\n",
       "      <th>contry_of_res</th>\n",
       "      <th>result numeric</th>\n",
       "      <th>Class/ASD</th>\n",
       "    </tr>\n",
       "  </thead>\n",
       "  <tbody>\n",
       "    <tr>\n",
       "      <th>4</th>\n",
       "      <td>0</td>\n",
       "      <td>0</td>\n",
       "      <td>1</td>\n",
       "      <td>0</td>\n",
       "      <td>1</td>\n",
       "      <td>1</td>\n",
       "      <td>0</td>\n",
       "      <td>1</td>\n",
       "      <td>0</td>\n",
       "      <td>1</td>\n",
       "      <td>4</td>\n",
       "      <td>m</td>\n",
       "      <td>no</td>\n",
       "      <td>yes</td>\n",
       "      <td>Egypt</td>\n",
       "      <td>5</td>\n",
       "      <td>NO</td>\n",
       "    </tr>\n",
       "    <tr>\n",
       "      <th>8</th>\n",
       "      <td>0</td>\n",
       "      <td>0</td>\n",
       "      <td>1</td>\n",
       "      <td>1</td>\n",
       "      <td>1</td>\n",
       "      <td>0</td>\n",
       "      <td>1</td>\n",
       "      <td>1</td>\n",
       "      <td>0</td>\n",
       "      <td>0</td>\n",
       "      <td>11</td>\n",
       "      <td>f</td>\n",
       "      <td>no</td>\n",
       "      <td>yes</td>\n",
       "      <td>Austria</td>\n",
       "      <td>5</td>\n",
       "      <td>NO</td>\n",
       "    </tr>\n",
       "    <tr>\n",
       "      <th>17</th>\n",
       "      <td>1</td>\n",
       "      <td>0</td>\n",
       "      <td>1</td>\n",
       "      <td>1</td>\n",
       "      <td>1</td>\n",
       "      <td>0</td>\n",
       "      <td>1</td>\n",
       "      <td>1</td>\n",
       "      <td>1</td>\n",
       "      <td>1</td>\n",
       "      <td>11</td>\n",
       "      <td>m</td>\n",
       "      <td>no</td>\n",
       "      <td>yes</td>\n",
       "      <td>'United States'</td>\n",
       "      <td>8</td>\n",
       "      <td>YES</td>\n",
       "    </tr>\n",
       "    <tr>\n",
       "      <th>24</th>\n",
       "      <td>0</td>\n",
       "      <td>0</td>\n",
       "      <td>1</td>\n",
       "      <td>1</td>\n",
       "      <td>1</td>\n",
       "      <td>0</td>\n",
       "      <td>1</td>\n",
       "      <td>1</td>\n",
       "      <td>1</td>\n",
       "      <td>0</td>\n",
       "      <td>6</td>\n",
       "      <td>m</td>\n",
       "      <td>no</td>\n",
       "      <td>yes</td>\n",
       "      <td>'United Kingdom'</td>\n",
       "      <td>6</td>\n",
       "      <td>NO</td>\n",
       "    </tr>\n",
       "    <tr>\n",
       "      <th>27</th>\n",
       "      <td>0</td>\n",
       "      <td>1</td>\n",
       "      <td>1</td>\n",
       "      <td>0</td>\n",
       "      <td>0</td>\n",
       "      <td>0</td>\n",
       "      <td>1</td>\n",
       "      <td>1</td>\n",
       "      <td>0</td>\n",
       "      <td>1</td>\n",
       "      <td>6</td>\n",
       "      <td>m</td>\n",
       "      <td>no</td>\n",
       "      <td>yes</td>\n",
       "      <td>'United Arab Emirates'</td>\n",
       "      <td>5</td>\n",
       "      <td>NO</td>\n",
       "    </tr>\n",
       "  </tbody>\n",
       "</table>\n",
       "</div>"
      ],
      "text/plain": [
       "    AQ01  AQ02  AQ03  AQ04  AQ05  AQ06  AQ07  AQ08  AQ09  AQ10  age gender  \\\n",
       "4      0     0     1     0     1     1     0     1     0     1    4      m   \n",
       "8      0     0     1     1     1     0     1     1     0     0   11      f   \n",
       "17     1     0     1     1     1     0     1     1     1     1   11      m   \n",
       "24     0     0     1     1     1     0     1     1     1     0    6      m   \n",
       "27     0     1     1     0     0     0     1     1     0     1    6      m   \n",
       "\n",
       "   icterícia austim           contry_of_res  result numeric Class/ASD  \n",
       "4         no    yes                   Egypt               5        NO  \n",
       "8         no    yes                 Austria               5        NO  \n",
       "17        no    yes         'United States'               8       YES  \n",
       "24        no    yes        'United Kingdom'               6        NO  \n",
       "27        no    yes  'United Arab Emirates'               5        NO  "
      ]
     },
     "execution_count": 94,
     "metadata": {},
     "output_type": "execute_result"
    }
   ],
   "source": [
    "criancas_TEA.head()"
   ]
  },
  {
   "cell_type": "code",
   "execution_count": 95,
   "metadata": {},
   "outputs": [
    {
     "data": {
      "text/plain": [
       "(49, 17)"
      ]
     },
     "execution_count": 95,
     "metadata": {},
     "output_type": "execute_result"
    }
   ],
   "source": [
    "criancas_TEA.shape"
   ]
  },
  {
   "cell_type": "markdown",
   "metadata": {},
   "source": [
    "O conjunto de Dados possuia 291 entradas, com 49 crianças que os responsáveis indicaram já possuir o diagnóstico do TEA. Dessa forma temos uma base de dados desbalanceada. Abaixo faremos algumas análises com o intuíto de explorar o máximo as características pertinentes ao grupo de crianças com TEA."
   ]
  },
  {
   "cell_type": "code",
   "execution_count": 96,
   "metadata": {},
   "outputs": [
    {
     "data": {
      "text/plain": [
       "NO     28\n",
       "YES    21\n",
       "Name: Class/ASD, dtype: int64"
      ]
     },
     "execution_count": 96,
     "metadata": {},
     "output_type": "execute_result"
    }
   ],
   "source": [
    "criancas_TEA['Class/ASD'].value_counts()"
   ]
  },
  {
   "cell_type": "code",
   "execution_count": 97,
   "metadata": {},
   "outputs": [
    {
     "data": {
      "image/png": "[encoded data removed]",
      "text/plain": [
       "<Figure size 500x400 with 1 Axes>"
      ]
     },
     "metadata": {},
     "output_type": "display_data"
    }
   ],
   "source": [
    "criancas_TEA['Class/ASD'].value_counts().plot.bar()\n",
    "for pos in ['right', 'top']: \n",
    "    plt.gca().spines[pos].set_visible(False) \n",
    "plt.show()"
   ]
  },
  {
   "cell_type": "markdown",
   "metadata": {},
   "source": [
    "O gráfico acima demonstra que o aplicativo ASDTests não classificou na sua análise 28 crianças de possuir o Transtorno do Espectro Autista (TEA), fato este que inviabiliza seu método utilizado, pois o uso do somatório dos comportamentos característicos a partir de sete perguntas não é eficiente para indicar se a criança possui indícios de possuir o transtorno. Nas análises abaixo buscaremos mais evidências que comprovam tais questionamentos."
   ]
  },
  {
   "cell_type": "markdown",
   "metadata": {},
   "source": [
    "## Respondendo as questões de Pesquisa"
   ]
  },
  {
   "cell_type": "markdown",
   "metadata": {},
   "source": [
    "### **QP 01: Quantas crianças que participaram da pesquisa os pais ou responsáveis indicaram possuir o diagnóstico do TEA?**"
   ]
  },
  {
   "cell_type": "code",
   "execution_count": 98,
   "metadata": {},
   "outputs": [
    {
     "data": {
      "text/plain": [
       "no     238\n",
       "yes     49\n",
       "Name: austim, dtype: int64"
      ]
     },
     "execution_count": 98,
     "metadata": {},
     "output_type": "execute_result"
    }
   ],
   "source": [
    "autismo_criancas['austim'].value_counts()"
   ]
  },
  {
   "cell_type": "code",
   "execution_count": 99,
   "metadata": {},
   "outputs": [
    {
     "data": {
      "image/png": "[encoded data removed]",
      "text/plain": [
       "<Figure size 500x400 with 1 Axes>"
      ]
     },
     "metadata": {},
     "output_type": "display_data"
    }
   ],
   "source": [
    "autismo_criancas['austim'].value_counts().plot.bar();\n"
   ]
  },
  {
   "cell_type": "markdown",
   "metadata": {},
   "source": [
    "**Porcentagem das crianças que participaram da Pesquisa e já possuiam o dignóstico do Transtorno do Espectro Autista(TEA)**"
   ]
  },
  {
   "cell_type": "code",
   "execution_count": 100,
   "metadata": {},
   "outputs": [
    {
     "data": {
      "image/png": "[encoded data removed]",
      "text/plain": [
       "<Figure size 500x400 with 1 Axes>"
      ]
     },
     "metadata": {},
     "output_type": "display_data"
    }
   ],
   "source": [
    "porcentagem_autismo = autismo_criancas['austim'].value_counts()\n",
    "#define o nível de separabilidade entre as partes, ordem do vetor representa as partes\n",
    "explode = (0, 0.1)\n",
    "\n",
    "# define o formato de visualização com saída em 1.1%%, sombras e a separação entre as partes\n",
    "plt.pie(porcentagem_autismo, autopct='%1.1f%%', labels = autismo_criancas['austim'].unique(), shadow=True, explode=explode)\n",
    "\n",
    "# define que o gráfico será plotado em circulo\n",
    "#plt.axis('equal')\n",
    "plt.title('Autismo')\n",
    "plt.show()"
   ]
  },
  {
   "cell_type": "code",
   "execution_count": 101,
   "metadata": {
    "scrolled": true
   },
   "outputs": [
    {
     "data": {
      "text/plain": [
       "no     238\n",
       "yes     49\n",
       "Name: austim, dtype: int64"
      ]
     },
     "execution_count": 101,
     "metadata": {},
     "output_type": "execute_result"
    }
   ],
   "source": [
    "autismo_criancas['austim'].value_counts()"
   ]
  },
  {
   "cell_type": "markdown",
   "metadata": {},
   "source": [
    "Observa-se que já existia na base de dados 49 crianças com diagnóstico do TEA indicadas por seus responsáveis, indicando que acima de 80% da base de dados era de crianças sem o diagnóstico inicial do TEA."
   ]
  },
  {
   "cell_type": "markdown",
   "metadata": {},
   "source": [
    "### **QP 02: Qual a faixa etária das crianças com diagnóstico do  TEA?**"
   ]
  },
  {
   "cell_type": "code",
   "execution_count": 102,
   "metadata": {
    "scrolled": false
   },
   "outputs": [
    {
     "data": {
      "image/png": "[encoded data removed]",
      "text/plain": [
       "<Figure size 500x400 with 1 Axes>"
      ]
     },
     "metadata": {},
     "output_type": "display_data"
    }
   ],
   "source": [
    "# Plotando a frequência das idades\n",
    "sns.countplot(data = criancas_TEA, x='age', order = autismo_criancas[\"age\"].value_counts().index)\n",
    "sns.despine()"
   ]
  },
  {
   "cell_type": "markdown",
   "metadata": {},
   "source": [
    "### **QP 03: Qual o gênero predominante das crianças que possui TEA?**"
   ]
  },
  {
   "cell_type": "code",
   "execution_count": 103,
   "metadata": {},
   "outputs": [
    {
     "data": {
      "text/plain": [
       "m    31\n",
       "f    18\n",
       "Name: gender, dtype: int64"
      ]
     },
     "execution_count": 103,
     "metadata": {},
     "output_type": "execute_result"
    }
   ],
   "source": [
    "criancas_TEA['gender'].value_counts()"
   ]
  },
  {
   "cell_type": "code",
   "execution_count": 104,
   "metadata": {},
   "outputs": [
    {
     "data": {
      "image/png": "[encoded data removed]",
      "text/plain": [
       "<Figure size 500x400 with 1 Axes>"
      ]
     },
     "metadata": {},
     "output_type": "display_data"
    }
   ],
   "source": [
    "porcentagem_autismo = criancas_TEA['gender'].value_counts()/criancas_TEA.shape[0]*100\n",
    "#define o nível de separabilidade entre as partes, ordem do vetor representa as partes\n",
    "explode = (0, 0.1)\n",
    "\n",
    "# define o formato de visualização com saída em 1.1%%, sombras e a separação entre as partes\n",
    "plt.pie(porcentagem_autismo, autopct='%1.1f%%', labels = criancas_TEA['gender'].unique(), shadow=True, explode=explode)\n",
    "\n",
    "# define que o gráfico será plotado em circulo\n",
    "plt.axis('equal')\n",
    "plt.title('Gender')\n",
    "plt.show()"
   ]
  },
  {
   "cell_type": "markdown",
   "metadata": {},
   "source": [
    "O gráfico exibe a predominância do gênero masculino nas crianças com TEA. "
   ]
  },
  {
   "cell_type": "markdown",
   "metadata": {},
   "source": [
    "### **QP 04: A Criança possuir Icterícia colabora para a manifestação do TEA?**"
   ]
  },
  {
   "cell_type": "markdown",
   "metadata": {},
   "source": [
    "**Porcentagem das crianças que apresentam Icterícia**"
   ]
  },
  {
   "cell_type": "code",
   "execution_count": 105,
   "metadata": {},
   "outputs": [
    {
     "data": {
      "text/plain": [
       "no     38\n",
       "yes    11\n",
       "Name: icterícia, dtype: int64"
      ]
     },
     "execution_count": 105,
     "metadata": {},
     "output_type": "execute_result"
    }
   ],
   "source": [
    "criancas_TEA['icterícia'].value_counts()"
   ]
  },
  {
   "cell_type": "code",
   "execution_count": 106,
   "metadata": {},
   "outputs": [
    {
     "data": {
      "image/png": "[encoded data removed]",
      "text/plain": [
       "<Figure size 500x400 with 1 Axes>"
      ]
     },
     "metadata": {},
     "output_type": "display_data"
    }
   ],
   "source": [
    "porcentagem_ictericia = criancas_TEA['icterícia'].value_counts()/criancas_TEA.shape[0]*100\n",
    "#define o nível de separabilidade entre as partes, ordem do vetor representa as partes\n",
    "explode = (0, 0.1)\n",
    "\n",
    "# define o formato de visualização com saída em 1.1%%, sombras e a separação entre as partes\n",
    "plt.pie(porcentagem_ictericia , autopct='%1.1f%%', labels = criancas_TEA['icterícia'].unique(), shadow=True, explode=explode)\n",
    "\n",
    "# define que o gráfico será plotado em circulo\n",
    "plt.axis('equal')\n",
    "plt.title('Icterícia')\n",
    "plt.show()"
   ]
  },
  {
   "cell_type": "markdown",
   "metadata": {},
   "source": [
    "Observa-se que as crianças com o Transtorno do Espectro Autista (TEA) na sua maioria não está associada possuir também Icterícia, uma vez que, o grupo de crianças com TEA, majoritariamente, não apresentavam o diagnóstico de Icterícia."
   ]
  },
  {
   "cell_type": "markdown",
   "metadata": {},
   "source": [
    "### **QP 05: Quais os países com maior ocorrência do diagnóstico?**"
   ]
  },
  {
   "cell_type": "code",
   "execution_count": 107,
   "metadata": {},
   "outputs": [],
   "source": [
    "# Adicionando a contagem dos crimes em um Dataframe.\n",
    "cont_contry_of_res = criancas_TEA['contry_of_res'].value_counts()[:10].reset_index();"
   ]
  },
  {
   "cell_type": "code",
   "execution_count": 108,
   "metadata": {},
   "outputs": [
    {
     "data": {
      "text/html": [
       "<div>\n",
       "<style scoped>\n",
       "    .dataframe tbody tr th:only-of-type {\n",
       "        vertical-align: middle;\n",
       "    }\n",
       "\n",
       "    .dataframe tbody tr th {\n",
       "        vertical-align: top;\n",
       "    }\n",
       "\n",
       "    .dataframe thead th {\n",
       "        text-align: right;\n",
       "    }\n",
       "</style>\n",
       "<table border=\"1\" class=\"dataframe\">\n",
       "  <thead>\n",
       "    <tr style=\"text-align: right;\">\n",
       "      <th></th>\n",
       "      <th>index</th>\n",
       "      <th>contry_of_res</th>\n",
       "    </tr>\n",
       "  </thead>\n",
       "  <tbody>\n",
       "    <tr>\n",
       "      <th>0</th>\n",
       "      <td>'United Kingdom'</td>\n",
       "      <td>14</td>\n",
       "    </tr>\n",
       "    <tr>\n",
       "      <th>1</th>\n",
       "      <td>'United States'</td>\n",
       "      <td>7</td>\n",
       "    </tr>\n",
       "    <tr>\n",
       "      <th>2</th>\n",
       "      <td>Australia</td>\n",
       "      <td>7</td>\n",
       "    </tr>\n",
       "    <tr>\n",
       "      <th>3</th>\n",
       "      <td>India</td>\n",
       "      <td>3</td>\n",
       "    </tr>\n",
       "    <tr>\n",
       "      <th>4</th>\n",
       "      <td>Mexico</td>\n",
       "      <td>2</td>\n",
       "    </tr>\n",
       "    <tr>\n",
       "      <th>5</th>\n",
       "      <td>'United Arab Emirates'</td>\n",
       "      <td>2</td>\n",
       "    </tr>\n",
       "    <tr>\n",
       "      <th>6</th>\n",
       "      <td>Canada</td>\n",
       "      <td>2</td>\n",
       "    </tr>\n",
       "    <tr>\n",
       "      <th>7</th>\n",
       "      <td>'Costa Rica'</td>\n",
       "      <td>1</td>\n",
       "    </tr>\n",
       "    <tr>\n",
       "      <th>8</th>\n",
       "      <td>Bangladesh</td>\n",
       "      <td>1</td>\n",
       "    </tr>\n",
       "    <tr>\n",
       "      <th>9</th>\n",
       "      <td>Pakistan</td>\n",
       "      <td>1</td>\n",
       "    </tr>\n",
       "  </tbody>\n",
       "</table>\n",
       "</div>"
      ],
      "text/plain": [
       "                    index  contry_of_res\n",
       "0        'United Kingdom'             14\n",
       "1         'United States'              7\n",
       "2               Australia              7\n",
       "3                   India              3\n",
       "4                  Mexico              2\n",
       "5  'United Arab Emirates'              2\n",
       "6                  Canada              2\n",
       "7            'Costa Rica'              1\n",
       "8              Bangladesh              1\n",
       "9                Pakistan              1"
      ]
     },
     "execution_count": 108,
     "metadata": {},
     "output_type": "execute_result"
    }
   ],
   "source": [
    "cont_contry_of_res"
   ]
  },
  {
   "cell_type": "markdown",
   "metadata": {},
   "source": [
    "### **QP 06: Existe criança do Brasil que tenha participado da Pesquisa, se sim, quais os comportamentos característicos do TEA apresentados?**"
   ]
  },
  {
   "cell_type": "code",
   "execution_count": 109,
   "metadata": {},
   "outputs": [],
   "source": [
    "criancas_TEA_Brasil = criancas_TEA.loc[criancas_TEA['contry_of_res'] == 'Brazil']"
   ]
  },
  {
   "cell_type": "code",
   "execution_count": 110,
   "metadata": {},
   "outputs": [
    {
     "data": {
      "text/html": [
       "<div>\n",
       "<style scoped>\n",
       "    .dataframe tbody tr th:only-of-type {\n",
       "        vertical-align: middle;\n",
       "    }\n",
       "\n",
       "    .dataframe tbody tr th {\n",
       "        vertical-align: top;\n",
       "    }\n",
       "\n",
       "    .dataframe thead th {\n",
       "        text-align: right;\n",
       "    }\n",
       "</style>\n",
       "<table border=\"1\" class=\"dataframe\">\n",
       "  <thead>\n",
       "    <tr style=\"text-align: right;\">\n",
       "      <th></th>\n",
       "      <th>AQ01</th>\n",
       "      <th>AQ02</th>\n",
       "      <th>AQ03</th>\n",
       "      <th>AQ04</th>\n",
       "      <th>AQ05</th>\n",
       "      <th>AQ06</th>\n",
       "      <th>AQ07</th>\n",
       "      <th>AQ08</th>\n",
       "      <th>AQ09</th>\n",
       "      <th>AQ10</th>\n",
       "      <th>age</th>\n",
       "      <th>gender</th>\n",
       "      <th>icterícia</th>\n",
       "      <th>austim</th>\n",
       "      <th>contry_of_res</th>\n",
       "      <th>result numeric</th>\n",
       "      <th>Class/ASD</th>\n",
       "    </tr>\n",
       "  </thead>\n",
       "  <tbody>\n",
       "    <tr>\n",
       "      <th>77</th>\n",
       "      <td>1</td>\n",
       "      <td>1</td>\n",
       "      <td>1</td>\n",
       "      <td>1</td>\n",
       "      <td>1</td>\n",
       "      <td>1</td>\n",
       "      <td>1</td>\n",
       "      <td>0</td>\n",
       "      <td>1</td>\n",
       "      <td>1</td>\n",
       "      <td>4</td>\n",
       "      <td>m</td>\n",
       "      <td>no</td>\n",
       "      <td>yes</td>\n",
       "      <td>Brazil</td>\n",
       "      <td>9</td>\n",
       "      <td>YES</td>\n",
       "    </tr>\n",
       "  </tbody>\n",
       "</table>\n",
       "</div>"
      ],
      "text/plain": [
       "    AQ01  AQ02  AQ03  AQ04  AQ05  AQ06  AQ07  AQ08  AQ09  AQ10  age gender  \\\n",
       "77     1     1     1     1     1     1     1     0     1     1    4      m   \n",
       "\n",
       "   icterícia austim contry_of_res  result numeric Class/ASD  \n",
       "77        no    yes        Brazil               9       YES  "
      ]
     },
     "execution_count": 110,
     "metadata": {},
     "output_type": "execute_result"
    }
   ],
   "source": [
    "criancas_TEA_Brasil"
   ]
  },
  {
   "cell_type": "markdown",
   "metadata": {},
   "source": [
    "O Brasileiro apresentou 09 das 10 características comportamentais sugeridas no questionário AQ_10_child, possuia 04 anos de idade e era do sexo Masculino, por fim, não possuia Icterícia."
   ]
  },
  {
   "cell_type": "markdown",
   "metadata": {},
   "source": [
    "### **QP 07: Quantos comportamentos atípicos sugeridos pelo questionário AQ_10_child podem caracterizar que uma criança possui TEA?**"
   ]
  },
  {
   "cell_type": "code",
   "execution_count": 111,
   "metadata": {},
   "outputs": [
    {
     "data": {
      "image/png": "[encoded data removed]",
      "text/plain": [
       "<Figure size 500x400 with 1 Axes>"
      ]
     },
     "metadata": {},
     "output_type": "display_data"
    }
   ],
   "source": [
    "# Visualizando a quantidade de características comportamentais do TEA\n",
    "sns.countplot(data = criancas_TEA, y='result numeric', order= criancas_TEA['result numeric'].value_counts().index )\n",
    "sns.despine()"
   ]
  },
  {
   "cell_type": "markdown",
   "metadata": {},
   "source": [
    "Observa-se no gráfico acima que é possível indicar indícios de uma criança possuir o TEA ao apresentar um único comportamento sugerido pelo questionário, e que todas as crianças que participaram da pesquisa apresentavam uma mais comportamentos atípicos. Nas análises abaixo essa constatação ficará mais evidente."
   ]
  },
  {
   "cell_type": "markdown",
   "metadata": {},
   "source": [
    "**Crianças com 01 comportamento característicos do TEA**"
   ]
  },
  {
   "cell_type": "code",
   "execution_count": 112,
   "metadata": {},
   "outputs": [],
   "source": [
    "crianca_TEA_01_CARAC = criancas_TEA.loc[criancas_TEA['result numeric'] == 1]"
   ]
  },
  {
   "cell_type": "code",
   "execution_count": 113,
   "metadata": {
    "scrolled": true
   },
   "outputs": [
    {
     "data": {
      "text/html": [
       "<div>\n",
       "<style scoped>\n",
       "    .dataframe tbody tr th:only-of-type {\n",
       "        vertical-align: middle;\n",
       "    }\n",
       "\n",
       "    .dataframe tbody tr th {\n",
       "        vertical-align: top;\n",
       "    }\n",
       "\n",
       "    .dataframe thead th {\n",
       "        text-align: right;\n",
       "    }\n",
       "</style>\n",
       "<table border=\"1\" class=\"dataframe\">\n",
       "  <thead>\n",
       "    <tr style=\"text-align: right;\">\n",
       "      <th></th>\n",
       "      <th>AQ01</th>\n",
       "      <th>AQ02</th>\n",
       "      <th>AQ03</th>\n",
       "      <th>AQ04</th>\n",
       "      <th>AQ05</th>\n",
       "      <th>AQ06</th>\n",
       "      <th>AQ07</th>\n",
       "      <th>AQ08</th>\n",
       "      <th>AQ09</th>\n",
       "      <th>AQ10</th>\n",
       "      <th>age</th>\n",
       "      <th>gender</th>\n",
       "      <th>icterícia</th>\n",
       "      <th>austim</th>\n",
       "      <th>contry_of_res</th>\n",
       "      <th>result numeric</th>\n",
       "      <th>Class/ASD</th>\n",
       "    </tr>\n",
       "  </thead>\n",
       "  <tbody>\n",
       "    <tr>\n",
       "      <th>216</th>\n",
       "      <td>0</td>\n",
       "      <td>0</td>\n",
       "      <td>0</td>\n",
       "      <td>0</td>\n",
       "      <td>0</td>\n",
       "      <td>0</td>\n",
       "      <td>0</td>\n",
       "      <td>0</td>\n",
       "      <td>0</td>\n",
       "      <td>1</td>\n",
       "      <td>11</td>\n",
       "      <td>m</td>\n",
       "      <td>no</td>\n",
       "      <td>yes</td>\n",
       "      <td>Turkey</td>\n",
       "      <td>1</td>\n",
       "      <td>NO</td>\n",
       "    </tr>\n",
       "    <tr>\n",
       "      <th>246</th>\n",
       "      <td>0</td>\n",
       "      <td>0</td>\n",
       "      <td>0</td>\n",
       "      <td>0</td>\n",
       "      <td>0</td>\n",
       "      <td>0</td>\n",
       "      <td>1</td>\n",
       "      <td>0</td>\n",
       "      <td>0</td>\n",
       "      <td>0</td>\n",
       "      <td>10</td>\n",
       "      <td>m</td>\n",
       "      <td>no</td>\n",
       "      <td>yes</td>\n",
       "      <td>'United Arab Emirates'</td>\n",
       "      <td>1</td>\n",
       "      <td>NO</td>\n",
       "    </tr>\n",
       "  </tbody>\n",
       "</table>\n",
       "</div>"
      ],
      "text/plain": [
       "     AQ01  AQ02  AQ03  AQ04  AQ05  AQ06  AQ07  AQ08  AQ09  AQ10  age gender  \\\n",
       "216     0     0     0     0     0     0     0     0     0     1   11      m   \n",
       "246     0     0     0     0     0     0     1     0     0     0   10      m   \n",
       "\n",
       "    icterícia austim           contry_of_res  result numeric Class/ASD  \n",
       "216        no    yes                  Turkey               1        NO  \n",
       "246        no    yes  'United Arab Emirates'               1        NO  "
      ]
     },
     "execution_count": 113,
     "metadata": {},
     "output_type": "execute_result"
    }
   ],
   "source": [
    "crianca_TEA_01_CARAC"
   ]
  },
  {
   "cell_type": "code",
   "execution_count": 114,
   "metadata": {},
   "outputs": [
    {
     "data": {
      "text/plain": [
       "(2, 17)"
      ]
     },
     "execution_count": 114,
     "metadata": {},
     "output_type": "execute_result"
    }
   ],
   "source": [
    "crianca_TEA_01_CARAC.shape"
   ]
  },
  {
   "cell_type": "markdown",
   "metadata": {},
   "source": [
    "Ao realizar o filtro percebe-se que as características comportamentais se diferem. Uma criança possui dificuldade de fazer novas amizades, enquanto que a outra possui dificuldade de percepção de intenções e sentimentos em histórias."
   ]
  },
  {
   "cell_type": "markdown",
   "metadata": {},
   "source": [
    "**Crianças com 02 comportamento característicos do TEA**"
   ]
  },
  {
   "cell_type": "code",
   "execution_count": 115,
   "metadata": {},
   "outputs": [
    {
     "data": {
      "text/html": [
       "<div>\n",
       "<style scoped>\n",
       "    .dataframe tbody tr th:only-of-type {\n",
       "        vertical-align: middle;\n",
       "    }\n",
       "\n",
       "    .dataframe tbody tr th {\n",
       "        vertical-align: top;\n",
       "    }\n",
       "\n",
       "    .dataframe thead th {\n",
       "        text-align: right;\n",
       "    }\n",
       "</style>\n",
       "<table border=\"1\" class=\"dataframe\">\n",
       "  <thead>\n",
       "    <tr style=\"text-align: right;\">\n",
       "      <th></th>\n",
       "      <th>AQ01</th>\n",
       "      <th>AQ02</th>\n",
       "      <th>AQ03</th>\n",
       "      <th>AQ04</th>\n",
       "      <th>AQ05</th>\n",
       "      <th>AQ06</th>\n",
       "      <th>AQ07</th>\n",
       "      <th>AQ08</th>\n",
       "      <th>AQ09</th>\n",
       "      <th>AQ10</th>\n",
       "      <th>age</th>\n",
       "      <th>gender</th>\n",
       "      <th>icterícia</th>\n",
       "      <th>austim</th>\n",
       "      <th>contry_of_res</th>\n",
       "      <th>result numeric</th>\n",
       "      <th>Class/ASD</th>\n",
       "    </tr>\n",
       "  </thead>\n",
       "  <tbody>\n",
       "    <tr>\n",
       "      <th>48</th>\n",
       "      <td>0</td>\n",
       "      <td>1</td>\n",
       "      <td>0</td>\n",
       "      <td>0</td>\n",
       "      <td>1</td>\n",
       "      <td>0</td>\n",
       "      <td>0</td>\n",
       "      <td>0</td>\n",
       "      <td>0</td>\n",
       "      <td>0</td>\n",
       "      <td>7</td>\n",
       "      <td>m</td>\n",
       "      <td>no</td>\n",
       "      <td>yes</td>\n",
       "      <td>Jordan</td>\n",
       "      <td>2</td>\n",
       "      <td>NO</td>\n",
       "    </tr>\n",
       "    <tr>\n",
       "      <th>98</th>\n",
       "      <td>0</td>\n",
       "      <td>0</td>\n",
       "      <td>1</td>\n",
       "      <td>1</td>\n",
       "      <td>0</td>\n",
       "      <td>0</td>\n",
       "      <td>0</td>\n",
       "      <td>0</td>\n",
       "      <td>0</td>\n",
       "      <td>0</td>\n",
       "      <td>7</td>\n",
       "      <td>m</td>\n",
       "      <td>no</td>\n",
       "      <td>yes</td>\n",
       "      <td>'United States'</td>\n",
       "      <td>2</td>\n",
       "      <td>NO</td>\n",
       "    </tr>\n",
       "    <tr>\n",
       "      <th>279</th>\n",
       "      <td>0</td>\n",
       "      <td>0</td>\n",
       "      <td>1</td>\n",
       "      <td>0</td>\n",
       "      <td>0</td>\n",
       "      <td>0</td>\n",
       "      <td>0</td>\n",
       "      <td>0</td>\n",
       "      <td>0</td>\n",
       "      <td>1</td>\n",
       "      <td>4</td>\n",
       "      <td>m</td>\n",
       "      <td>no</td>\n",
       "      <td>yes</td>\n",
       "      <td>India</td>\n",
       "      <td>2</td>\n",
       "      <td>NO</td>\n",
       "    </tr>\n",
       "  </tbody>\n",
       "</table>\n",
       "</div>"
      ],
      "text/plain": [
       "     AQ01  AQ02  AQ03  AQ04  AQ05  AQ06  AQ07  AQ08  AQ09  AQ10  age gender  \\\n",
       "48      0     1     0     0     1     0     0     0     0     0    7      m   \n",
       "98      0     0     1     1     0     0     0     0     0     0    7      m   \n",
       "279     0     0     1     0     0     0     0     0     0     1    4      m   \n",
       "\n",
       "    icterícia austim    contry_of_res  result numeric Class/ASD  \n",
       "48         no    yes           Jordan               2        NO  \n",
       "98         no    yes  'United States'               2        NO  \n",
       "279        no    yes            India               2        NO  "
      ]
     },
     "execution_count": 115,
     "metadata": {},
     "output_type": "execute_result"
    }
   ],
   "source": [
    "crianca_TEA_02_CARAC = criancas_TEA.loc[criancas_TEA['result numeric'] == 2]\n",
    "crianca_TEA_02_CARAC"
   ]
  },
  {
   "cell_type": "code",
   "execution_count": 116,
   "metadata": {},
   "outputs": [
    {
     "data": {
      "text/plain": [
       "(3, 17)"
      ]
     },
     "execution_count": 116,
     "metadata": {},
     "output_type": "execute_result"
    }
   ],
   "source": [
    "crianca_TEA_02_CARAC.shape"
   ]
  },
  {
   "cell_type": "markdown",
   "metadata": {},
   "source": [
    "**Crianças com 03 comportamento característicos do TEA**"
   ]
  },
  {
   "cell_type": "code",
   "execution_count": 117,
   "metadata": {},
   "outputs": [
    {
     "data": {
      "text/html": [
       "<div>\n",
       "<style scoped>\n",
       "    .dataframe tbody tr th:only-of-type {\n",
       "        vertical-align: middle;\n",
       "    }\n",
       "\n",
       "    .dataframe tbody tr th {\n",
       "        vertical-align: top;\n",
       "    }\n",
       "\n",
       "    .dataframe thead th {\n",
       "        text-align: right;\n",
       "    }\n",
       "</style>\n",
       "<table border=\"1\" class=\"dataframe\">\n",
       "  <thead>\n",
       "    <tr style=\"text-align: right;\">\n",
       "      <th></th>\n",
       "      <th>AQ01</th>\n",
       "      <th>AQ02</th>\n",
       "      <th>AQ03</th>\n",
       "      <th>AQ04</th>\n",
       "      <th>AQ05</th>\n",
       "      <th>AQ06</th>\n",
       "      <th>AQ07</th>\n",
       "      <th>AQ08</th>\n",
       "      <th>AQ09</th>\n",
       "      <th>AQ10</th>\n",
       "      <th>age</th>\n",
       "      <th>gender</th>\n",
       "      <th>icterícia</th>\n",
       "      <th>austim</th>\n",
       "      <th>contry_of_res</th>\n",
       "      <th>result numeric</th>\n",
       "      <th>Class/ASD</th>\n",
       "    </tr>\n",
       "  </thead>\n",
       "  <tbody>\n",
       "    <tr>\n",
       "      <th>28</th>\n",
       "      <td>0</td>\n",
       "      <td>0</td>\n",
       "      <td>1</td>\n",
       "      <td>0</td>\n",
       "      <td>1</td>\n",
       "      <td>0</td>\n",
       "      <td>1</td>\n",
       "      <td>0</td>\n",
       "      <td>0</td>\n",
       "      <td>0</td>\n",
       "      <td>4</td>\n",
       "      <td>f</td>\n",
       "      <td>yes</td>\n",
       "      <td>yes</td>\n",
       "      <td>Georgia</td>\n",
       "      <td>3</td>\n",
       "      <td>NO</td>\n",
       "    </tr>\n",
       "    <tr>\n",
       "      <th>106</th>\n",
       "      <td>1</td>\n",
       "      <td>0</td>\n",
       "      <td>0</td>\n",
       "      <td>0</td>\n",
       "      <td>1</td>\n",
       "      <td>0</td>\n",
       "      <td>0</td>\n",
       "      <td>0</td>\n",
       "      <td>0</td>\n",
       "      <td>1</td>\n",
       "      <td>4</td>\n",
       "      <td>f</td>\n",
       "      <td>yes</td>\n",
       "      <td>yes</td>\n",
       "      <td>'United Kingdom'</td>\n",
       "      <td>3</td>\n",
       "      <td>NO</td>\n",
       "    </tr>\n",
       "    <tr>\n",
       "      <th>161</th>\n",
       "      <td>0</td>\n",
       "      <td>1</td>\n",
       "      <td>0</td>\n",
       "      <td>0</td>\n",
       "      <td>0</td>\n",
       "      <td>1</td>\n",
       "      <td>0</td>\n",
       "      <td>0</td>\n",
       "      <td>0</td>\n",
       "      <td>1</td>\n",
       "      <td>9</td>\n",
       "      <td>f</td>\n",
       "      <td>no</td>\n",
       "      <td>yes</td>\n",
       "      <td>'United Kingdom'</td>\n",
       "      <td>3</td>\n",
       "      <td>NO</td>\n",
       "    </tr>\n",
       "    <tr>\n",
       "      <th>270</th>\n",
       "      <td>1</td>\n",
       "      <td>0</td>\n",
       "      <td>1</td>\n",
       "      <td>0</td>\n",
       "      <td>0</td>\n",
       "      <td>0</td>\n",
       "      <td>0</td>\n",
       "      <td>0</td>\n",
       "      <td>1</td>\n",
       "      <td>0</td>\n",
       "      <td>4</td>\n",
       "      <td>f</td>\n",
       "      <td>no</td>\n",
       "      <td>yes</td>\n",
       "      <td>'United Kingdom'</td>\n",
       "      <td>3</td>\n",
       "      <td>NO</td>\n",
       "    </tr>\n",
       "  </tbody>\n",
       "</table>\n",
       "</div>"
      ],
      "text/plain": [
       "     AQ01  AQ02  AQ03  AQ04  AQ05  AQ06  AQ07  AQ08  AQ09  AQ10  age gender  \\\n",
       "28      0     0     1     0     1     0     1     0     0     0    4      f   \n",
       "106     1     0     0     0     1     0     0     0     0     1    4      f   \n",
       "161     0     1     0     0     0     1     0     0     0     1    9      f   \n",
       "270     1     0     1     0     0     0     0     0     1     0    4      f   \n",
       "\n",
       "    icterícia austim     contry_of_res  result numeric Class/ASD  \n",
       "28        yes    yes           Georgia               3        NO  \n",
       "106       yes    yes  'United Kingdom'               3        NO  \n",
       "161        no    yes  'United Kingdom'               3        NO  \n",
       "270        no    yes  'United Kingdom'               3        NO  "
      ]
     },
     "execution_count": 117,
     "metadata": {},
     "output_type": "execute_result"
    }
   ],
   "source": [
    "crianca_TEA_03_CARAC = criancas_TEA.loc[criancas_TEA['result numeric'] == 3]\n",
    "crianca_TEA_03_CARAC"
   ]
  },
  {
   "cell_type": "code",
   "execution_count": 118,
   "metadata": {},
   "outputs": [
    {
     "data": {
      "text/plain": [
       "(4, 17)"
      ]
     },
     "execution_count": 118,
     "metadata": {},
     "output_type": "execute_result"
    }
   ],
   "source": [
    "crianca_TEA_03_CARAC.shape"
   ]
  },
  {
   "cell_type": "markdown",
   "metadata": {},
   "source": [
    "**Crianças com 04 comportamento característicos do TEA**"
   ]
  },
  {
   "cell_type": "code",
   "execution_count": 119,
   "metadata": {},
   "outputs": [
    {
     "data": {
      "text/html": [
       "<div>\n",
       "<style scoped>\n",
       "    .dataframe tbody tr th:only-of-type {\n",
       "        vertical-align: middle;\n",
       "    }\n",
       "\n",
       "    .dataframe tbody tr th {\n",
       "        vertical-align: top;\n",
       "    }\n",
       "\n",
       "    .dataframe thead th {\n",
       "        text-align: right;\n",
       "    }\n",
       "</style>\n",
       "<table border=\"1\" class=\"dataframe\">\n",
       "  <thead>\n",
       "    <tr style=\"text-align: right;\">\n",
       "      <th></th>\n",
       "      <th>AQ01</th>\n",
       "      <th>AQ02</th>\n",
       "      <th>AQ03</th>\n",
       "      <th>AQ04</th>\n",
       "      <th>AQ05</th>\n",
       "      <th>AQ06</th>\n",
       "      <th>AQ07</th>\n",
       "      <th>AQ08</th>\n",
       "      <th>AQ09</th>\n",
       "      <th>AQ10</th>\n",
       "      <th>age</th>\n",
       "      <th>gender</th>\n",
       "      <th>icterícia</th>\n",
       "      <th>austim</th>\n",
       "      <th>contry_of_res</th>\n",
       "      <th>result numeric</th>\n",
       "      <th>Class/ASD</th>\n",
       "    </tr>\n",
       "  </thead>\n",
       "  <tbody>\n",
       "    <tr>\n",
       "      <th>103</th>\n",
       "      <td>0</td>\n",
       "      <td>0</td>\n",
       "      <td>0</td>\n",
       "      <td>0</td>\n",
       "      <td>1</td>\n",
       "      <td>1</td>\n",
       "      <td>1</td>\n",
       "      <td>0</td>\n",
       "      <td>0</td>\n",
       "      <td>1</td>\n",
       "      <td>4</td>\n",
       "      <td>m</td>\n",
       "      <td>no</td>\n",
       "      <td>yes</td>\n",
       "      <td>Malaysia</td>\n",
       "      <td>4</td>\n",
       "      <td>NO</td>\n",
       "    </tr>\n",
       "    <tr>\n",
       "      <th>118</th>\n",
       "      <td>0</td>\n",
       "      <td>1</td>\n",
       "      <td>1</td>\n",
       "      <td>0</td>\n",
       "      <td>1</td>\n",
       "      <td>0</td>\n",
       "      <td>0</td>\n",
       "      <td>0</td>\n",
       "      <td>0</td>\n",
       "      <td>1</td>\n",
       "      <td>4</td>\n",
       "      <td>m</td>\n",
       "      <td>no</td>\n",
       "      <td>yes</td>\n",
       "      <td>Bangladesh</td>\n",
       "      <td>4</td>\n",
       "      <td>NO</td>\n",
       "    </tr>\n",
       "    <tr>\n",
       "      <th>170</th>\n",
       "      <td>0</td>\n",
       "      <td>0</td>\n",
       "      <td>1</td>\n",
       "      <td>0</td>\n",
       "      <td>1</td>\n",
       "      <td>0</td>\n",
       "      <td>1</td>\n",
       "      <td>0</td>\n",
       "      <td>0</td>\n",
       "      <td>1</td>\n",
       "      <td>4</td>\n",
       "      <td>f</td>\n",
       "      <td>no</td>\n",
       "      <td>yes</td>\n",
       "      <td>Australia</td>\n",
       "      <td>4</td>\n",
       "      <td>NO</td>\n",
       "    </tr>\n",
       "    <tr>\n",
       "      <th>198</th>\n",
       "      <td>1</td>\n",
       "      <td>0</td>\n",
       "      <td>0</td>\n",
       "      <td>0</td>\n",
       "      <td>1</td>\n",
       "      <td>0</td>\n",
       "      <td>1</td>\n",
       "      <td>0</td>\n",
       "      <td>0</td>\n",
       "      <td>1</td>\n",
       "      <td>9</td>\n",
       "      <td>m</td>\n",
       "      <td>no</td>\n",
       "      <td>yes</td>\n",
       "      <td>Australia</td>\n",
       "      <td>4</td>\n",
       "      <td>NO</td>\n",
       "    </tr>\n",
       "    <tr>\n",
       "      <th>199</th>\n",
       "      <td>1</td>\n",
       "      <td>0</td>\n",
       "      <td>0</td>\n",
       "      <td>0</td>\n",
       "      <td>1</td>\n",
       "      <td>0</td>\n",
       "      <td>1</td>\n",
       "      <td>0</td>\n",
       "      <td>0</td>\n",
       "      <td>1</td>\n",
       "      <td>9</td>\n",
       "      <td>m</td>\n",
       "      <td>yes</td>\n",
       "      <td>yes</td>\n",
       "      <td>Australia</td>\n",
       "      <td>4</td>\n",
       "      <td>NO</td>\n",
       "    </tr>\n",
       "    <tr>\n",
       "      <th>255</th>\n",
       "      <td>0</td>\n",
       "      <td>0</td>\n",
       "      <td>0</td>\n",
       "      <td>1</td>\n",
       "      <td>1</td>\n",
       "      <td>1</td>\n",
       "      <td>0</td>\n",
       "      <td>0</td>\n",
       "      <td>0</td>\n",
       "      <td>1</td>\n",
       "      <td>5</td>\n",
       "      <td>m</td>\n",
       "      <td>no</td>\n",
       "      <td>yes</td>\n",
       "      <td>India</td>\n",
       "      <td>4</td>\n",
       "      <td>NO</td>\n",
       "    </tr>\n",
       "    <tr>\n",
       "      <th>287</th>\n",
       "      <td>1</td>\n",
       "      <td>0</td>\n",
       "      <td>0</td>\n",
       "      <td>0</td>\n",
       "      <td>1</td>\n",
       "      <td>0</td>\n",
       "      <td>1</td>\n",
       "      <td>0</td>\n",
       "      <td>0</td>\n",
       "      <td>1</td>\n",
       "      <td>7</td>\n",
       "      <td>f</td>\n",
       "      <td>yes</td>\n",
       "      <td>yes</td>\n",
       "      <td>Australia</td>\n",
       "      <td>4</td>\n",
       "      <td>NO</td>\n",
       "    </tr>\n",
       "  </tbody>\n",
       "</table>\n",
       "</div>"
      ],
      "text/plain": [
       "     AQ01  AQ02  AQ03  AQ04  AQ05  AQ06  AQ07  AQ08  AQ09  AQ10  age gender  \\\n",
       "103     0     0     0     0     1     1     1     0     0     1    4      m   \n",
       "118     0     1     1     0     1     0     0     0     0     1    4      m   \n",
       "170     0     0     1     0     1     0     1     0     0     1    4      f   \n",
       "198     1     0     0     0     1     0     1     0     0     1    9      m   \n",
       "199     1     0     0     0     1     0     1     0     0     1    9      m   \n",
       "255     0     0     0     1     1     1     0     0     0     1    5      m   \n",
       "287     1     0     0     0     1     0     1     0     0     1    7      f   \n",
       "\n",
       "    icterícia austim contry_of_res  result numeric Class/ASD  \n",
       "103        no    yes      Malaysia               4        NO  \n",
       "118        no    yes    Bangladesh               4        NO  \n",
       "170        no    yes     Australia               4        NO  \n",
       "198        no    yes     Australia               4        NO  \n",
       "199       yes    yes     Australia               4        NO  \n",
       "255        no    yes         India               4        NO  \n",
       "287       yes    yes     Australia               4        NO  "
      ]
     },
     "execution_count": 119,
     "metadata": {},
     "output_type": "execute_result"
    }
   ],
   "source": [
    "crianca_TEA_04_CARAC = criancas_TEA.loc[criancas_TEA['result numeric'] == 4]\n",
    "crianca_TEA_04_CARAC"
   ]
  },
  {
   "cell_type": "code",
   "execution_count": 120,
   "metadata": {},
   "outputs": [
    {
     "data": {
      "text/plain": [
       "(7, 17)"
      ]
     },
     "execution_count": 120,
     "metadata": {},
     "output_type": "execute_result"
    }
   ],
   "source": [
    "crianca_TEA_04_CARAC.shape"
   ]
  },
  {
   "cell_type": "markdown",
   "metadata": {},
   "source": [
    "Observa-se que ao buscar todas as crianças com 04 comportamentos do TEA apresentam dificuldade de manter uma conversa com seus colegas (AQ05) e dificuldade de fazer novas amizades (AQ10)."
   ]
  },
  {
   "cell_type": "markdown",
   "metadata": {},
   "source": [
    "**Crianças com 05 comportamento característicos do TEA**"
   ]
  },
  {
   "cell_type": "code",
   "execution_count": 121,
   "metadata": {},
   "outputs": [
    {
     "data": {
      "text/html": [
       "<div>\n",
       "<style scoped>\n",
       "    .dataframe tbody tr th:only-of-type {\n",
       "        vertical-align: middle;\n",
       "    }\n",
       "\n",
       "    .dataframe tbody tr th {\n",
       "        vertical-align: top;\n",
       "    }\n",
       "\n",
       "    .dataframe thead th {\n",
       "        text-align: right;\n",
       "    }\n",
       "</style>\n",
       "<table border=\"1\" class=\"dataframe\">\n",
       "  <thead>\n",
       "    <tr style=\"text-align: right;\">\n",
       "      <th></th>\n",
       "      <th>AQ01</th>\n",
       "      <th>AQ02</th>\n",
       "      <th>AQ03</th>\n",
       "      <th>AQ04</th>\n",
       "      <th>AQ05</th>\n",
       "      <th>AQ06</th>\n",
       "      <th>AQ07</th>\n",
       "      <th>AQ08</th>\n",
       "      <th>AQ09</th>\n",
       "      <th>AQ10</th>\n",
       "      <th>age</th>\n",
       "      <th>gender</th>\n",
       "      <th>icterícia</th>\n",
       "      <th>austim</th>\n",
       "      <th>contry_of_res</th>\n",
       "      <th>result numeric</th>\n",
       "      <th>Class/ASD</th>\n",
       "    </tr>\n",
       "  </thead>\n",
       "  <tbody>\n",
       "    <tr>\n",
       "      <th>4</th>\n",
       "      <td>0</td>\n",
       "      <td>0</td>\n",
       "      <td>1</td>\n",
       "      <td>0</td>\n",
       "      <td>1</td>\n",
       "      <td>1</td>\n",
       "      <td>0</td>\n",
       "      <td>1</td>\n",
       "      <td>0</td>\n",
       "      <td>1</td>\n",
       "      <td>4</td>\n",
       "      <td>m</td>\n",
       "      <td>no</td>\n",
       "      <td>yes</td>\n",
       "      <td>Egypt</td>\n",
       "      <td>5</td>\n",
       "      <td>NO</td>\n",
       "    </tr>\n",
       "    <tr>\n",
       "      <th>8</th>\n",
       "      <td>0</td>\n",
       "      <td>0</td>\n",
       "      <td>1</td>\n",
       "      <td>1</td>\n",
       "      <td>1</td>\n",
       "      <td>0</td>\n",
       "      <td>1</td>\n",
       "      <td>1</td>\n",
       "      <td>0</td>\n",
       "      <td>0</td>\n",
       "      <td>11</td>\n",
       "      <td>f</td>\n",
       "      <td>no</td>\n",
       "      <td>yes</td>\n",
       "      <td>Austria</td>\n",
       "      <td>5</td>\n",
       "      <td>NO</td>\n",
       "    </tr>\n",
       "    <tr>\n",
       "      <th>27</th>\n",
       "      <td>0</td>\n",
       "      <td>1</td>\n",
       "      <td>1</td>\n",
       "      <td>0</td>\n",
       "      <td>0</td>\n",
       "      <td>0</td>\n",
       "      <td>1</td>\n",
       "      <td>1</td>\n",
       "      <td>0</td>\n",
       "      <td>1</td>\n",
       "      <td>6</td>\n",
       "      <td>m</td>\n",
       "      <td>no</td>\n",
       "      <td>yes</td>\n",
       "      <td>'United Arab Emirates'</td>\n",
       "      <td>5</td>\n",
       "      <td>NO</td>\n",
       "    </tr>\n",
       "    <tr>\n",
       "      <th>67</th>\n",
       "      <td>0</td>\n",
       "      <td>0</td>\n",
       "      <td>1</td>\n",
       "      <td>0</td>\n",
       "      <td>1</td>\n",
       "      <td>1</td>\n",
       "      <td>1</td>\n",
       "      <td>0</td>\n",
       "      <td>1</td>\n",
       "      <td>0</td>\n",
       "      <td>4</td>\n",
       "      <td>f</td>\n",
       "      <td>no</td>\n",
       "      <td>yes</td>\n",
       "      <td>Pakistan</td>\n",
       "      <td>5</td>\n",
       "      <td>NO</td>\n",
       "    </tr>\n",
       "    <tr>\n",
       "      <th>87</th>\n",
       "      <td>1</td>\n",
       "      <td>1</td>\n",
       "      <td>1</td>\n",
       "      <td>1</td>\n",
       "      <td>0</td>\n",
       "      <td>1</td>\n",
       "      <td>0</td>\n",
       "      <td>0</td>\n",
       "      <td>0</td>\n",
       "      <td>0</td>\n",
       "      <td>5</td>\n",
       "      <td>m</td>\n",
       "      <td>no</td>\n",
       "      <td>yes</td>\n",
       "      <td>'Costa Rica'</td>\n",
       "      <td>5</td>\n",
       "      <td>NO</td>\n",
       "    </tr>\n",
       "    <tr>\n",
       "      <th>90</th>\n",
       "      <td>1</td>\n",
       "      <td>0</td>\n",
       "      <td>0</td>\n",
       "      <td>1</td>\n",
       "      <td>1</td>\n",
       "      <td>1</td>\n",
       "      <td>1</td>\n",
       "      <td>0</td>\n",
       "      <td>0</td>\n",
       "      <td>0</td>\n",
       "      <td>11</td>\n",
       "      <td>f</td>\n",
       "      <td>yes</td>\n",
       "      <td>yes</td>\n",
       "      <td>'United Kingdom'</td>\n",
       "      <td>5</td>\n",
       "      <td>NO</td>\n",
       "    </tr>\n",
       "    <tr>\n",
       "      <th>238</th>\n",
       "      <td>1</td>\n",
       "      <td>0</td>\n",
       "      <td>0</td>\n",
       "      <td>1</td>\n",
       "      <td>1</td>\n",
       "      <td>1</td>\n",
       "      <td>0</td>\n",
       "      <td>0</td>\n",
       "      <td>0</td>\n",
       "      <td>1</td>\n",
       "      <td>11</td>\n",
       "      <td>f</td>\n",
       "      <td>no</td>\n",
       "      <td>yes</td>\n",
       "      <td>Australia</td>\n",
       "      <td>5</td>\n",
       "      <td>NO</td>\n",
       "    </tr>\n",
       "  </tbody>\n",
       "</table>\n",
       "</div>"
      ],
      "text/plain": [
       "     AQ01  AQ02  AQ03  AQ04  AQ05  AQ06  AQ07  AQ08  AQ09  AQ10  age gender  \\\n",
       "4       0     0     1     0     1     1     0     1     0     1    4      m   \n",
       "8       0     0     1     1     1     0     1     1     0     0   11      f   \n",
       "27      0     1     1     0     0     0     1     1     0     1    6      m   \n",
       "67      0     0     1     0     1     1     1     0     1     0    4      f   \n",
       "87      1     1     1     1     0     1     0     0     0     0    5      m   \n",
       "90      1     0     0     1     1     1     1     0     0     0   11      f   \n",
       "238     1     0     0     1     1     1     0     0     0     1   11      f   \n",
       "\n",
       "    icterícia austim           contry_of_res  result numeric Class/ASD  \n",
       "4          no    yes                   Egypt               5        NO  \n",
       "8          no    yes                 Austria               5        NO  \n",
       "27         no    yes  'United Arab Emirates'               5        NO  \n",
       "67         no    yes                Pakistan               5        NO  \n",
       "87         no    yes            'Costa Rica'               5        NO  \n",
       "90        yes    yes        'United Kingdom'               5        NO  \n",
       "238        no    yes               Australia               5        NO  "
      ]
     },
     "execution_count": 121,
     "metadata": {},
     "output_type": "execute_result"
    }
   ],
   "source": [
    "crianca_TEA_05_CARAC = criancas_TEA.loc[criancas_TEA['result numeric'] == 5]\n",
    "crianca_TEA_05_CARAC"
   ]
  },
  {
   "cell_type": "code",
   "execution_count": 122,
   "metadata": {},
   "outputs": [
    {
     "data": {
      "text/plain": [
       "(7, 17)"
      ]
     },
     "execution_count": 122,
     "metadata": {},
     "output_type": "execute_result"
    }
   ],
   "source": [
    "crianca_TEA_05_CARAC.shape"
   ]
  },
  {
   "cell_type": "markdown",
   "metadata": {},
   "source": [
    "**Crianças com 06 comportamento característicos do TEA**"
   ]
  },
  {
   "cell_type": "code",
   "execution_count": 123,
   "metadata": {},
   "outputs": [
    {
     "data": {
      "text/html": [
       "<div>\n",
       "<style scoped>\n",
       "    .dataframe tbody tr th:only-of-type {\n",
       "        vertical-align: middle;\n",
       "    }\n",
       "\n",
       "    .dataframe tbody tr th {\n",
       "        vertical-align: top;\n",
       "    }\n",
       "\n",
       "    .dataframe thead th {\n",
       "        text-align: right;\n",
       "    }\n",
       "</style>\n",
       "<table border=\"1\" class=\"dataframe\">\n",
       "  <thead>\n",
       "    <tr style=\"text-align: right;\">\n",
       "      <th></th>\n",
       "      <th>AQ01</th>\n",
       "      <th>AQ02</th>\n",
       "      <th>AQ03</th>\n",
       "      <th>AQ04</th>\n",
       "      <th>AQ05</th>\n",
       "      <th>AQ06</th>\n",
       "      <th>AQ07</th>\n",
       "      <th>AQ08</th>\n",
       "      <th>AQ09</th>\n",
       "      <th>AQ10</th>\n",
       "      <th>age</th>\n",
       "      <th>gender</th>\n",
       "      <th>icterícia</th>\n",
       "      <th>austim</th>\n",
       "      <th>contry_of_res</th>\n",
       "      <th>result numeric</th>\n",
       "      <th>Class/ASD</th>\n",
       "    </tr>\n",
       "  </thead>\n",
       "  <tbody>\n",
       "    <tr>\n",
       "      <th>24</th>\n",
       "      <td>0</td>\n",
       "      <td>0</td>\n",
       "      <td>1</td>\n",
       "      <td>1</td>\n",
       "      <td>1</td>\n",
       "      <td>0</td>\n",
       "      <td>1</td>\n",
       "      <td>1</td>\n",
       "      <td>1</td>\n",
       "      <td>0</td>\n",
       "      <td>6</td>\n",
       "      <td>m</td>\n",
       "      <td>no</td>\n",
       "      <td>yes</td>\n",
       "      <td>'United Kingdom'</td>\n",
       "      <td>6</td>\n",
       "      <td>NO</td>\n",
       "    </tr>\n",
       "    <tr>\n",
       "      <th>99</th>\n",
       "      <td>1</td>\n",
       "      <td>1</td>\n",
       "      <td>0</td>\n",
       "      <td>1</td>\n",
       "      <td>0</td>\n",
       "      <td>1</td>\n",
       "      <td>1</td>\n",
       "      <td>0</td>\n",
       "      <td>1</td>\n",
       "      <td>0</td>\n",
       "      <td>11</td>\n",
       "      <td>f</td>\n",
       "      <td>yes</td>\n",
       "      <td>yes</td>\n",
       "      <td>'United Kingdom'</td>\n",
       "      <td>6</td>\n",
       "      <td>NO</td>\n",
       "    </tr>\n",
       "    <tr>\n",
       "      <th>131</th>\n",
       "      <td>0</td>\n",
       "      <td>1</td>\n",
       "      <td>1</td>\n",
       "      <td>1</td>\n",
       "      <td>1</td>\n",
       "      <td>1</td>\n",
       "      <td>0</td>\n",
       "      <td>0</td>\n",
       "      <td>0</td>\n",
       "      <td>1</td>\n",
       "      <td>5</td>\n",
       "      <td>m</td>\n",
       "      <td>yes</td>\n",
       "      <td>yes</td>\n",
       "      <td>'United Kingdom'</td>\n",
       "      <td>6</td>\n",
       "      <td>NO</td>\n",
       "    </tr>\n",
       "    <tr>\n",
       "      <th>192</th>\n",
       "      <td>1</td>\n",
       "      <td>0</td>\n",
       "      <td>1</td>\n",
       "      <td>0</td>\n",
       "      <td>1</td>\n",
       "      <td>1</td>\n",
       "      <td>1</td>\n",
       "      <td>0</td>\n",
       "      <td>1</td>\n",
       "      <td>0</td>\n",
       "      <td>4</td>\n",
       "      <td>f</td>\n",
       "      <td>yes</td>\n",
       "      <td>yes</td>\n",
       "      <td>'United Kingdom'</td>\n",
       "      <td>6</td>\n",
       "      <td>NO</td>\n",
       "    </tr>\n",
       "    <tr>\n",
       "      <th>208</th>\n",
       "      <td>1</td>\n",
       "      <td>0</td>\n",
       "      <td>1</td>\n",
       "      <td>1</td>\n",
       "      <td>1</td>\n",
       "      <td>1</td>\n",
       "      <td>0</td>\n",
       "      <td>1</td>\n",
       "      <td>0</td>\n",
       "      <td>0</td>\n",
       "      <td>5</td>\n",
       "      <td>m</td>\n",
       "      <td>no</td>\n",
       "      <td>yes</td>\n",
       "      <td>Mexico</td>\n",
       "      <td>6</td>\n",
       "      <td>NO</td>\n",
       "    </tr>\n",
       "  </tbody>\n",
       "</table>\n",
       "</div>"
      ],
      "text/plain": [
       "     AQ01  AQ02  AQ03  AQ04  AQ05  AQ06  AQ07  AQ08  AQ09  AQ10  age gender  \\\n",
       "24      0     0     1     1     1     0     1     1     1     0    6      m   \n",
       "99      1     1     0     1     0     1     1     0     1     0   11      f   \n",
       "131     0     1     1     1     1     1     0     0     0     1    5      m   \n",
       "192     1     0     1     0     1     1     1     0     1     0    4      f   \n",
       "208     1     0     1     1     1     1     0     1     0     0    5      m   \n",
       "\n",
       "    icterícia austim     contry_of_res  result numeric Class/ASD  \n",
       "24         no    yes  'United Kingdom'               6        NO  \n",
       "99        yes    yes  'United Kingdom'               6        NO  \n",
       "131       yes    yes  'United Kingdom'               6        NO  \n",
       "192       yes    yes  'United Kingdom'               6        NO  \n",
       "208        no    yes            Mexico               6        NO  "
      ]
     },
     "execution_count": 123,
     "metadata": {},
     "output_type": "execute_result"
    }
   ],
   "source": [
    "crianca_TEA_06_CARAC = criancas_TEA.loc[criancas_TEA['result numeric'] == 6]\n",
    "crianca_TEA_06_CARAC"
   ]
  },
  {
   "cell_type": "code",
   "execution_count": 124,
   "metadata": {},
   "outputs": [
    {
     "data": {
      "text/plain": [
       "(5, 17)"
      ]
     },
     "execution_count": 124,
     "metadata": {},
     "output_type": "execute_result"
    }
   ],
   "source": [
    "crianca_TEA_06_CARAC.shape"
   ]
  },
  {
   "cell_type": "markdown",
   "metadata": {},
   "source": [
    "**Crianças com 07 comportamento característicos do TEA**"
   ]
  },
  {
   "cell_type": "code",
   "execution_count": 125,
   "metadata": {},
   "outputs": [
    {
     "data": {
      "text/html": [
       "<div>\n",
       "<style scoped>\n",
       "    .dataframe tbody tr th:only-of-type {\n",
       "        vertical-align: middle;\n",
       "    }\n",
       "\n",
       "    .dataframe tbody tr th {\n",
       "        vertical-align: top;\n",
       "    }\n",
       "\n",
       "    .dataframe thead th {\n",
       "        text-align: right;\n",
       "    }\n",
       "</style>\n",
       "<table border=\"1\" class=\"dataframe\">\n",
       "  <thead>\n",
       "    <tr style=\"text-align: right;\">\n",
       "      <th></th>\n",
       "      <th>AQ01</th>\n",
       "      <th>AQ02</th>\n",
       "      <th>AQ03</th>\n",
       "      <th>AQ04</th>\n",
       "      <th>AQ05</th>\n",
       "      <th>AQ06</th>\n",
       "      <th>AQ07</th>\n",
       "      <th>AQ08</th>\n",
       "      <th>AQ09</th>\n",
       "      <th>AQ10</th>\n",
       "      <th>age</th>\n",
       "      <th>gender</th>\n",
       "      <th>icterícia</th>\n",
       "      <th>austim</th>\n",
       "      <th>contry_of_res</th>\n",
       "      <th>result numeric</th>\n",
       "      <th>Class/ASD</th>\n",
       "    </tr>\n",
       "  </thead>\n",
       "  <tbody>\n",
       "    <tr>\n",
       "      <th>58</th>\n",
       "      <td>1</td>\n",
       "      <td>0</td>\n",
       "      <td>1</td>\n",
       "      <td>1</td>\n",
       "      <td>1</td>\n",
       "      <td>1</td>\n",
       "      <td>0</td>\n",
       "      <td>0</td>\n",
       "      <td>1</td>\n",
       "      <td>1</td>\n",
       "      <td>4</td>\n",
       "      <td>m</td>\n",
       "      <td>no</td>\n",
       "      <td>yes</td>\n",
       "      <td>'United States'</td>\n",
       "      <td>7</td>\n",
       "      <td>YES</td>\n",
       "    </tr>\n",
       "    <tr>\n",
       "      <th>73</th>\n",
       "      <td>1</td>\n",
       "      <td>0</td>\n",
       "      <td>1</td>\n",
       "      <td>1</td>\n",
       "      <td>1</td>\n",
       "      <td>1</td>\n",
       "      <td>0</td>\n",
       "      <td>0</td>\n",
       "      <td>1</td>\n",
       "      <td>1</td>\n",
       "      <td>8</td>\n",
       "      <td>f</td>\n",
       "      <td>no</td>\n",
       "      <td>yes</td>\n",
       "      <td>Canada</td>\n",
       "      <td>7</td>\n",
       "      <td>YES</td>\n",
       "    </tr>\n",
       "    <tr>\n",
       "      <th>149</th>\n",
       "      <td>1</td>\n",
       "      <td>1</td>\n",
       "      <td>1</td>\n",
       "      <td>1</td>\n",
       "      <td>1</td>\n",
       "      <td>1</td>\n",
       "      <td>0</td>\n",
       "      <td>0</td>\n",
       "      <td>0</td>\n",
       "      <td>1</td>\n",
       "      <td>4</td>\n",
       "      <td>m</td>\n",
       "      <td>no</td>\n",
       "      <td>yes</td>\n",
       "      <td>'Saudi Arabia'</td>\n",
       "      <td>7</td>\n",
       "      <td>YES</td>\n",
       "    </tr>\n",
       "    <tr>\n",
       "      <th>150</th>\n",
       "      <td>1</td>\n",
       "      <td>0</td>\n",
       "      <td>1</td>\n",
       "      <td>0</td>\n",
       "      <td>1</td>\n",
       "      <td>1</td>\n",
       "      <td>0</td>\n",
       "      <td>1</td>\n",
       "      <td>1</td>\n",
       "      <td>1</td>\n",
       "      <td>4</td>\n",
       "      <td>m</td>\n",
       "      <td>no</td>\n",
       "      <td>yes</td>\n",
       "      <td>'United States'</td>\n",
       "      <td>7</td>\n",
       "      <td>YES</td>\n",
       "    </tr>\n",
       "    <tr>\n",
       "      <th>157</th>\n",
       "      <td>0</td>\n",
       "      <td>1</td>\n",
       "      <td>0</td>\n",
       "      <td>1</td>\n",
       "      <td>1</td>\n",
       "      <td>1</td>\n",
       "      <td>1</td>\n",
       "      <td>0</td>\n",
       "      <td>1</td>\n",
       "      <td>1</td>\n",
       "      <td>9</td>\n",
       "      <td>m</td>\n",
       "      <td>no</td>\n",
       "      <td>yes</td>\n",
       "      <td>'United Kingdom'</td>\n",
       "      <td>7</td>\n",
       "      <td>YES</td>\n",
       "    </tr>\n",
       "    <tr>\n",
       "      <th>209</th>\n",
       "      <td>1</td>\n",
       "      <td>0</td>\n",
       "      <td>1</td>\n",
       "      <td>1</td>\n",
       "      <td>1</td>\n",
       "      <td>1</td>\n",
       "      <td>0</td>\n",
       "      <td>1</td>\n",
       "      <td>0</td>\n",
       "      <td>1</td>\n",
       "      <td>5</td>\n",
       "      <td>m</td>\n",
       "      <td>no</td>\n",
       "      <td>yes</td>\n",
       "      <td>Mexico</td>\n",
       "      <td>7</td>\n",
       "      <td>YES</td>\n",
       "    </tr>\n",
       "  </tbody>\n",
       "</table>\n",
       "</div>"
      ],
      "text/plain": [
       "     AQ01  AQ02  AQ03  AQ04  AQ05  AQ06  AQ07  AQ08  AQ09  AQ10  age gender  \\\n",
       "58      1     0     1     1     1     1     0     0     1     1    4      m   \n",
       "73      1     0     1     1     1     1     0     0     1     1    8      f   \n",
       "149     1     1     1     1     1     1     0     0     0     1    4      m   \n",
       "150     1     0     1     0     1     1     0     1     1     1    4      m   \n",
       "157     0     1     0     1     1     1     1     0     1     1    9      m   \n",
       "209     1     0     1     1     1     1     0     1     0     1    5      m   \n",
       "\n",
       "    icterícia austim     contry_of_res  result numeric Class/ASD  \n",
       "58         no    yes   'United States'               7       YES  \n",
       "73         no    yes            Canada               7       YES  \n",
       "149        no    yes    'Saudi Arabia'               7       YES  \n",
       "150        no    yes   'United States'               7       YES  \n",
       "157        no    yes  'United Kingdom'               7       YES  \n",
       "209        no    yes            Mexico               7       YES  "
      ]
     },
     "execution_count": 125,
     "metadata": {},
     "output_type": "execute_result"
    }
   ],
   "source": [
    "crianca_TEA_07_CARAC = criancas_TEA.loc[criancas_TEA['result numeric'] == 7]\n",
    "crianca_TEA_07_CARAC"
   ]
  },
  {
   "cell_type": "code",
   "execution_count": 126,
   "metadata": {},
   "outputs": [
    {
     "data": {
      "text/plain": [
       "(6, 17)"
      ]
     },
     "execution_count": 126,
     "metadata": {},
     "output_type": "execute_result"
    }
   ],
   "source": [
    "crianca_TEA_07_CARAC.shape"
   ]
  },
  {
   "cell_type": "markdown",
   "metadata": {},
   "source": [
    "Todas as crianças com 07 características comportamentais do TEA apresentavamm dificuldade de manter uma conversa com seus colegas (AQ05), Facilidade em manter conversas informais (AQ06) e Dificuldade de fazer novas amizades (AQ10). "
   ]
  },
  {
   "cell_type": "markdown",
   "metadata": {},
   "source": [
    "**Crianças com 08 comportamento característicos do TEA**"
   ]
  },
  {
   "cell_type": "code",
   "execution_count": 127,
   "metadata": {},
   "outputs": [
    {
     "data": {
      "text/html": [
       "<div>\n",
       "<style scoped>\n",
       "    .dataframe tbody tr th:only-of-type {\n",
       "        vertical-align: middle;\n",
       "    }\n",
       "\n",
       "    .dataframe tbody tr th {\n",
       "        vertical-align: top;\n",
       "    }\n",
       "\n",
       "    .dataframe thead th {\n",
       "        text-align: right;\n",
       "    }\n",
       "</style>\n",
       "<table border=\"1\" class=\"dataframe\">\n",
       "  <thead>\n",
       "    <tr style=\"text-align: right;\">\n",
       "      <th></th>\n",
       "      <th>AQ01</th>\n",
       "      <th>AQ02</th>\n",
       "      <th>AQ03</th>\n",
       "      <th>AQ04</th>\n",
       "      <th>AQ05</th>\n",
       "      <th>AQ06</th>\n",
       "      <th>AQ07</th>\n",
       "      <th>AQ08</th>\n",
       "      <th>AQ09</th>\n",
       "      <th>AQ10</th>\n",
       "      <th>age</th>\n",
       "      <th>gender</th>\n",
       "      <th>icterícia</th>\n",
       "      <th>austim</th>\n",
       "      <th>contry_of_res</th>\n",
       "      <th>result numeric</th>\n",
       "      <th>Class/ASD</th>\n",
       "    </tr>\n",
       "  </thead>\n",
       "  <tbody>\n",
       "    <tr>\n",
       "      <th>17</th>\n",
       "      <td>1</td>\n",
       "      <td>0</td>\n",
       "      <td>1</td>\n",
       "      <td>1</td>\n",
       "      <td>1</td>\n",
       "      <td>0</td>\n",
       "      <td>1</td>\n",
       "      <td>1</td>\n",
       "      <td>1</td>\n",
       "      <td>1</td>\n",
       "      <td>11</td>\n",
       "      <td>m</td>\n",
       "      <td>no</td>\n",
       "      <td>yes</td>\n",
       "      <td>'United States'</td>\n",
       "      <td>8</td>\n",
       "      <td>YES</td>\n",
       "    </tr>\n",
       "    <tr>\n",
       "      <th>97</th>\n",
       "      <td>1</td>\n",
       "      <td>1</td>\n",
       "      <td>1</td>\n",
       "      <td>0</td>\n",
       "      <td>1</td>\n",
       "      <td>1</td>\n",
       "      <td>1</td>\n",
       "      <td>0</td>\n",
       "      <td>1</td>\n",
       "      <td>1</td>\n",
       "      <td>4</td>\n",
       "      <td>m</td>\n",
       "      <td>no</td>\n",
       "      <td>yes</td>\n",
       "      <td>'United States'</td>\n",
       "      <td>8</td>\n",
       "      <td>YES</td>\n",
       "    </tr>\n",
       "    <tr>\n",
       "      <th>156</th>\n",
       "      <td>1</td>\n",
       "      <td>1</td>\n",
       "      <td>0</td>\n",
       "      <td>0</td>\n",
       "      <td>1</td>\n",
       "      <td>1</td>\n",
       "      <td>1</td>\n",
       "      <td>1</td>\n",
       "      <td>1</td>\n",
       "      <td>1</td>\n",
       "      <td>6</td>\n",
       "      <td>f</td>\n",
       "      <td>no</td>\n",
       "      <td>yes</td>\n",
       "      <td>'United Kingdom'</td>\n",
       "      <td>8</td>\n",
       "      <td>YES</td>\n",
       "    </tr>\n",
       "    <tr>\n",
       "      <th>200</th>\n",
       "      <td>1</td>\n",
       "      <td>1</td>\n",
       "      <td>1</td>\n",
       "      <td>1</td>\n",
       "      <td>1</td>\n",
       "      <td>1</td>\n",
       "      <td>1</td>\n",
       "      <td>0</td>\n",
       "      <td>1</td>\n",
       "      <td>0</td>\n",
       "      <td>4</td>\n",
       "      <td>f</td>\n",
       "      <td>no</td>\n",
       "      <td>yes</td>\n",
       "      <td>'United Kingdom'</td>\n",
       "      <td>8</td>\n",
       "      <td>YES</td>\n",
       "    </tr>\n",
       "    <tr>\n",
       "      <th>220</th>\n",
       "      <td>1</td>\n",
       "      <td>1</td>\n",
       "      <td>1</td>\n",
       "      <td>1</td>\n",
       "      <td>1</td>\n",
       "      <td>1</td>\n",
       "      <td>1</td>\n",
       "      <td>0</td>\n",
       "      <td>0</td>\n",
       "      <td>1</td>\n",
       "      <td>4</td>\n",
       "      <td>m</td>\n",
       "      <td>no</td>\n",
       "      <td>yes</td>\n",
       "      <td>'United States'</td>\n",
       "      <td>8</td>\n",
       "      <td>YES</td>\n",
       "    </tr>\n",
       "  </tbody>\n",
       "</table>\n",
       "</div>"
      ],
      "text/plain": [
       "     AQ01  AQ02  AQ03  AQ04  AQ05  AQ06  AQ07  AQ08  AQ09  AQ10  age gender  \\\n",
       "17      1     0     1     1     1     0     1     1     1     1   11      m   \n",
       "97      1     1     1     0     1     1     1     0     1     1    4      m   \n",
       "156     1     1     0     0     1     1     1     1     1     1    6      f   \n",
       "200     1     1     1     1     1     1     1     0     1     0    4      f   \n",
       "220     1     1     1     1     1     1     1     0     0     1    4      m   \n",
       "\n",
       "    icterícia austim     contry_of_res  result numeric Class/ASD  \n",
       "17         no    yes   'United States'               8       YES  \n",
       "97         no    yes   'United States'               8       YES  \n",
       "156        no    yes  'United Kingdom'               8       YES  \n",
       "200        no    yes  'United Kingdom'               8       YES  \n",
       "220        no    yes   'United States'               8       YES  "
      ]
     },
     "execution_count": 127,
     "metadata": {},
     "output_type": "execute_result"
    }
   ],
   "source": [
    "crianca_TEA_08_CARAC = criancas_TEA.loc[criancas_TEA['result numeric'] == 8]\n",
    "crianca_TEA_08_CARAC"
   ]
  },
  {
   "cell_type": "code",
   "execution_count": 128,
   "metadata": {},
   "outputs": [
    {
     "data": {
      "text/plain": [
       "(5, 17)"
      ]
     },
     "execution_count": 128,
     "metadata": {},
     "output_type": "execute_result"
    }
   ],
   "source": [
    "crianca_TEA_08_CARAC.shape"
   ]
  },
  {
   "cell_type": "markdown",
   "metadata": {},
   "source": [
    "Todas as crianças com 08 comportamentos característicos do TEA apresentavam alta percepção em baixos ruídos que geralmente outros não percebem (AQ01), Dificuldade de manter uma conversa com seus colegas (AQ05) e Dificuldade de percepção de intenções e sentimentos em histórias (AQ07)."
   ]
  },
  {
   "cell_type": "markdown",
   "metadata": {},
   "source": [
    "**Crianças com 09 comportamento característicos do TEA**"
   ]
  },
  {
   "cell_type": "code",
   "execution_count": 129,
   "metadata": {},
   "outputs": [
    {
     "data": {
      "text/html": [
       "<div>\n",
       "<style scoped>\n",
       "    .dataframe tbody tr th:only-of-type {\n",
       "        vertical-align: middle;\n",
       "    }\n",
       "\n",
       "    .dataframe tbody tr th {\n",
       "        vertical-align: top;\n",
       "    }\n",
       "\n",
       "    .dataframe thead th {\n",
       "        text-align: right;\n",
       "    }\n",
       "</style>\n",
       "<table border=\"1\" class=\"dataframe\">\n",
       "  <thead>\n",
       "    <tr style=\"text-align: right;\">\n",
       "      <th></th>\n",
       "      <th>AQ01</th>\n",
       "      <th>AQ02</th>\n",
       "      <th>AQ03</th>\n",
       "      <th>AQ04</th>\n",
       "      <th>AQ05</th>\n",
       "      <th>AQ06</th>\n",
       "      <th>AQ07</th>\n",
       "      <th>AQ08</th>\n",
       "      <th>AQ09</th>\n",
       "      <th>AQ10</th>\n",
       "      <th>age</th>\n",
       "      <th>gender</th>\n",
       "      <th>icterícia</th>\n",
       "      <th>austim</th>\n",
       "      <th>contry_of_res</th>\n",
       "      <th>result numeric</th>\n",
       "      <th>Class/ASD</th>\n",
       "    </tr>\n",
       "  </thead>\n",
       "  <tbody>\n",
       "    <tr>\n",
       "      <th>68</th>\n",
       "      <td>1</td>\n",
       "      <td>0</td>\n",
       "      <td>1</td>\n",
       "      <td>1</td>\n",
       "      <td>1</td>\n",
       "      <td>1</td>\n",
       "      <td>1</td>\n",
       "      <td>1</td>\n",
       "      <td>1</td>\n",
       "      <td>1</td>\n",
       "      <td>4</td>\n",
       "      <td>m</td>\n",
       "      <td>no</td>\n",
       "      <td>yes</td>\n",
       "      <td>Canada</td>\n",
       "      <td>9</td>\n",
       "      <td>YES</td>\n",
       "    </tr>\n",
       "    <tr>\n",
       "      <th>77</th>\n",
       "      <td>1</td>\n",
       "      <td>1</td>\n",
       "      <td>1</td>\n",
       "      <td>1</td>\n",
       "      <td>1</td>\n",
       "      <td>1</td>\n",
       "      <td>1</td>\n",
       "      <td>0</td>\n",
       "      <td>1</td>\n",
       "      <td>1</td>\n",
       "      <td>4</td>\n",
       "      <td>m</td>\n",
       "      <td>no</td>\n",
       "      <td>yes</td>\n",
       "      <td>Brazil</td>\n",
       "      <td>9</td>\n",
       "      <td>YES</td>\n",
       "    </tr>\n",
       "    <tr>\n",
       "      <th>80</th>\n",
       "      <td>0</td>\n",
       "      <td>1</td>\n",
       "      <td>1</td>\n",
       "      <td>1</td>\n",
       "      <td>1</td>\n",
       "      <td>1</td>\n",
       "      <td>1</td>\n",
       "      <td>1</td>\n",
       "      <td>1</td>\n",
       "      <td>1</td>\n",
       "      <td>7</td>\n",
       "      <td>m</td>\n",
       "      <td>yes</td>\n",
       "      <td>yes</td>\n",
       "      <td>'New Zealand'</td>\n",
       "      <td>9</td>\n",
       "      <td>YES</td>\n",
       "    </tr>\n",
       "    <tr>\n",
       "      <th>133</th>\n",
       "      <td>1</td>\n",
       "      <td>1</td>\n",
       "      <td>1</td>\n",
       "      <td>1</td>\n",
       "      <td>1</td>\n",
       "      <td>1</td>\n",
       "      <td>0</td>\n",
       "      <td>1</td>\n",
       "      <td>1</td>\n",
       "      <td>1</td>\n",
       "      <td>4</td>\n",
       "      <td>m</td>\n",
       "      <td>no</td>\n",
       "      <td>yes</td>\n",
       "      <td>'United Kingdom'</td>\n",
       "      <td>9</td>\n",
       "      <td>YES</td>\n",
       "    </tr>\n",
       "    <tr>\n",
       "      <th>188</th>\n",
       "      <td>1</td>\n",
       "      <td>1</td>\n",
       "      <td>1</td>\n",
       "      <td>1</td>\n",
       "      <td>1</td>\n",
       "      <td>0</td>\n",
       "      <td>1</td>\n",
       "      <td>1</td>\n",
       "      <td>1</td>\n",
       "      <td>1</td>\n",
       "      <td>4</td>\n",
       "      <td>f</td>\n",
       "      <td>no</td>\n",
       "      <td>yes</td>\n",
       "      <td>Australia</td>\n",
       "      <td>9</td>\n",
       "      <td>YES</td>\n",
       "    </tr>\n",
       "    <tr>\n",
       "      <th>272</th>\n",
       "      <td>1</td>\n",
       "      <td>1</td>\n",
       "      <td>1</td>\n",
       "      <td>1</td>\n",
       "      <td>1</td>\n",
       "      <td>0</td>\n",
       "      <td>1</td>\n",
       "      <td>1</td>\n",
       "      <td>1</td>\n",
       "      <td>1</td>\n",
       "      <td>8</td>\n",
       "      <td>m</td>\n",
       "      <td>no</td>\n",
       "      <td>yes</td>\n",
       "      <td>Australia</td>\n",
       "      <td>9</td>\n",
       "      <td>YES</td>\n",
       "    </tr>\n",
       "    <tr>\n",
       "      <th>278</th>\n",
       "      <td>1</td>\n",
       "      <td>1</td>\n",
       "      <td>1</td>\n",
       "      <td>1</td>\n",
       "      <td>1</td>\n",
       "      <td>1</td>\n",
       "      <td>1</td>\n",
       "      <td>1</td>\n",
       "      <td>1</td>\n",
       "      <td>0</td>\n",
       "      <td>6</td>\n",
       "      <td>m</td>\n",
       "      <td>no</td>\n",
       "      <td>yes</td>\n",
       "      <td>India</td>\n",
       "      <td>9</td>\n",
       "      <td>YES</td>\n",
       "    </tr>\n",
       "  </tbody>\n",
       "</table>\n",
       "</div>"
      ],
      "text/plain": [
       "     AQ01  AQ02  AQ03  AQ04  AQ05  AQ06  AQ07  AQ08  AQ09  AQ10  age gender  \\\n",
       "68      1     0     1     1     1     1     1     1     1     1    4      m   \n",
       "77      1     1     1     1     1     1     1     0     1     1    4      m   \n",
       "80      0     1     1     1     1     1     1     1     1     1    7      m   \n",
       "133     1     1     1     1     1     1     0     1     1     1    4      m   \n",
       "188     1     1     1     1     1     0     1     1     1     1    4      f   \n",
       "272     1     1     1     1     1     0     1     1     1     1    8      m   \n",
       "278     1     1     1     1     1     1     1     1     1     0    6      m   \n",
       "\n",
       "    icterícia austim     contry_of_res  result numeric Class/ASD  \n",
       "68         no    yes            Canada               9       YES  \n",
       "77         no    yes            Brazil               9       YES  \n",
       "80        yes    yes     'New Zealand'               9       YES  \n",
       "133        no    yes  'United Kingdom'               9       YES  \n",
       "188        no    yes         Australia               9       YES  \n",
       "272        no    yes         Australia               9       YES  \n",
       "278        no    yes             India               9       YES  "
      ]
     },
     "execution_count": 129,
     "metadata": {},
     "output_type": "execute_result"
    }
   ],
   "source": [
    "crianca_TEA_09_CARAC = criancas_TEA.loc[criancas_TEA['result numeric'] == 9]\n",
    "crianca_TEA_09_CARAC"
   ]
  },
  {
   "cell_type": "code",
   "execution_count": 130,
   "metadata": {},
   "outputs": [
    {
     "data": {
      "text/plain": [
       "(7, 17)"
      ]
     },
     "execution_count": 130,
     "metadata": {},
     "output_type": "execute_result"
    }
   ],
   "source": [
    "crianca_TEA_09_CARAC.shape"
   ]
  },
  {
   "cell_type": "markdown",
   "metadata": {},
   "source": [
    "**Crianças com 10 comportamento característicos do TEA**"
   ]
  },
  {
   "cell_type": "code",
   "execution_count": 131,
   "metadata": {},
   "outputs": [
    {
     "data": {
      "text/html": [
       "<div>\n",
       "<style scoped>\n",
       "    .dataframe tbody tr th:only-of-type {\n",
       "        vertical-align: middle;\n",
       "    }\n",
       "\n",
       "    .dataframe tbody tr th {\n",
       "        vertical-align: top;\n",
       "    }\n",
       "\n",
       "    .dataframe thead th {\n",
       "        text-align: right;\n",
       "    }\n",
       "</style>\n",
       "<table border=\"1\" class=\"dataframe\">\n",
       "  <thead>\n",
       "    <tr style=\"text-align: right;\">\n",
       "      <th></th>\n",
       "      <th>AQ01</th>\n",
       "      <th>AQ02</th>\n",
       "      <th>AQ03</th>\n",
       "      <th>AQ04</th>\n",
       "      <th>AQ05</th>\n",
       "      <th>AQ06</th>\n",
       "      <th>AQ07</th>\n",
       "      <th>AQ08</th>\n",
       "      <th>AQ09</th>\n",
       "      <th>AQ10</th>\n",
       "      <th>age</th>\n",
       "      <th>gender</th>\n",
       "      <th>icterícia</th>\n",
       "      <th>austim</th>\n",
       "      <th>contry_of_res</th>\n",
       "      <th>result numeric</th>\n",
       "      <th>Class/ASD</th>\n",
       "    </tr>\n",
       "  </thead>\n",
       "  <tbody>\n",
       "    <tr>\n",
       "      <th>138</th>\n",
       "      <td>1</td>\n",
       "      <td>1</td>\n",
       "      <td>1</td>\n",
       "      <td>1</td>\n",
       "      <td>1</td>\n",
       "      <td>1</td>\n",
       "      <td>1</td>\n",
       "      <td>1</td>\n",
       "      <td>1</td>\n",
       "      <td>1</td>\n",
       "      <td>9</td>\n",
       "      <td>m</td>\n",
       "      <td>yes</td>\n",
       "      <td>yes</td>\n",
       "      <td>'United Kingdom'</td>\n",
       "      <td>10</td>\n",
       "      <td>YES</td>\n",
       "    </tr>\n",
       "    <tr>\n",
       "      <th>214</th>\n",
       "      <td>1</td>\n",
       "      <td>1</td>\n",
       "      <td>1</td>\n",
       "      <td>1</td>\n",
       "      <td>1</td>\n",
       "      <td>1</td>\n",
       "      <td>1</td>\n",
       "      <td>1</td>\n",
       "      <td>1</td>\n",
       "      <td>1</td>\n",
       "      <td>4</td>\n",
       "      <td>f</td>\n",
       "      <td>no</td>\n",
       "      <td>yes</td>\n",
       "      <td>'United States'</td>\n",
       "      <td>10</td>\n",
       "      <td>YES</td>\n",
       "    </tr>\n",
       "    <tr>\n",
       "      <th>286</th>\n",
       "      <td>1</td>\n",
       "      <td>1</td>\n",
       "      <td>1</td>\n",
       "      <td>1</td>\n",
       "      <td>1</td>\n",
       "      <td>1</td>\n",
       "      <td>1</td>\n",
       "      <td>1</td>\n",
       "      <td>1</td>\n",
       "      <td>1</td>\n",
       "      <td>7</td>\n",
       "      <td>f</td>\n",
       "      <td>yes</td>\n",
       "      <td>yes</td>\n",
       "      <td>'United Kingdom'</td>\n",
       "      <td>10</td>\n",
       "      <td>YES</td>\n",
       "    </tr>\n",
       "  </tbody>\n",
       "</table>\n",
       "</div>"
      ],
      "text/plain": [
       "     AQ01  AQ02  AQ03  AQ04  AQ05  AQ06  AQ07  AQ08  AQ09  AQ10  age gender  \\\n",
       "138     1     1     1     1     1     1     1     1     1     1    9      m   \n",
       "214     1     1     1     1     1     1     1     1     1     1    4      f   \n",
       "286     1     1     1     1     1     1     1     1     1     1    7      f   \n",
       "\n",
       "    icterícia austim     contry_of_res  result numeric Class/ASD  \n",
       "138       yes    yes  'United Kingdom'              10       YES  \n",
       "214        no    yes   'United States'              10       YES  \n",
       "286       yes    yes  'United Kingdom'              10       YES  "
      ]
     },
     "execution_count": 131,
     "metadata": {},
     "output_type": "execute_result"
    }
   ],
   "source": [
    "crianca_TEA_10_CARAC = criancas_TEA.loc[criancas_TEA['result numeric'] == 10]\n",
    "crianca_TEA_10_CARAC"
   ]
  },
  {
   "cell_type": "code",
   "execution_count": 132,
   "metadata": {},
   "outputs": [
    {
     "data": {
      "text/plain": [
       "(3, 17)"
      ]
     },
     "execution_count": 132,
     "metadata": {},
     "output_type": "execute_result"
    }
   ],
   "source": [
    "crianca_TEA_10_CARAC.shape"
   ]
  },
  {
   "cell_type": "markdown",
   "metadata": {},
   "source": [
    "### **QP 08: Quais os sinais do transtorno que possui maior ocorrências nas crianças com TEA?**"
   ]
  },
  {
   "cell_type": "code",
   "execution_count": 133,
   "metadata": {},
   "outputs": [],
   "source": [
    "#Agrupando o atributo faixa etaria\n",
    "agrup_autism=criancas_TEA.groupby(criancas_TEA['austim'])"
   ]
  },
  {
   "cell_type": "code",
   "execution_count": 134,
   "metadata": {},
   "outputs": [
    {
     "data": {
      "text/html": [
       "<div>\n",
       "<style scoped>\n",
       "    .dataframe tbody tr th:only-of-type {\n",
       "        vertical-align: middle;\n",
       "    }\n",
       "\n",
       "    .dataframe tbody tr th {\n",
       "        vertical-align: top;\n",
       "    }\n",
       "\n",
       "    .dataframe thead th {\n",
       "        text-align: right;\n",
       "    }\n",
       "</style>\n",
       "<table border=\"1\" class=\"dataframe\">\n",
       "  <thead>\n",
       "    <tr style=\"text-align: right;\">\n",
       "      <th></th>\n",
       "      <th>AQ01</th>\n",
       "      <th>AQ02</th>\n",
       "      <th>AQ03</th>\n",
       "      <th>AQ04</th>\n",
       "      <th>AQ05</th>\n",
       "      <th>AQ06</th>\n",
       "      <th>AQ07</th>\n",
       "      <th>AQ08</th>\n",
       "      <th>AQ09</th>\n",
       "      <th>AQ10</th>\n",
       "    </tr>\n",
       "    <tr>\n",
       "      <th>austim</th>\n",
       "      <th></th>\n",
       "      <th></th>\n",
       "      <th></th>\n",
       "      <th></th>\n",
       "      <th></th>\n",
       "      <th></th>\n",
       "      <th></th>\n",
       "      <th></th>\n",
       "      <th></th>\n",
       "      <th></th>\n",
       "    </tr>\n",
       "  </thead>\n",
       "  <tbody>\n",
       "    <tr>\n",
       "      <th>no</th>\n",
       "      <td>0</td>\n",
       "      <td>0</td>\n",
       "      <td>0</td>\n",
       "      <td>0</td>\n",
       "      <td>0</td>\n",
       "      <td>0</td>\n",
       "      <td>0</td>\n",
       "      <td>0</td>\n",
       "      <td>0</td>\n",
       "      <td>0</td>\n",
       "    </tr>\n",
       "    <tr>\n",
       "      <th>yes</th>\n",
       "      <td>30</td>\n",
       "      <td>22</td>\n",
       "      <td>34</td>\n",
       "      <td>28</td>\n",
       "      <td>40</td>\n",
       "      <td>30</td>\n",
       "      <td>29</td>\n",
       "      <td>18</td>\n",
       "      <td>23</td>\n",
       "      <td>34</td>\n",
       "    </tr>\n",
       "  </tbody>\n",
       "</table>\n",
       "</div>"
      ],
      "text/plain": [
       "        AQ01  AQ02  AQ03  AQ04  AQ05  AQ06  AQ07  AQ08  AQ09  AQ10\n",
       "austim                                                            \n",
       "no         0     0     0     0     0     0     0     0     0     0\n",
       "yes       30    22    34    28    40    30    29    18    23    34"
      ]
     },
     "execution_count": 134,
     "metadata": {},
     "output_type": "execute_result"
    }
   ],
   "source": [
    "agrup_autism[['AQ01','AQ02','AQ03','AQ04','AQ05', 'AQ06', 'AQ07', 'AQ08', 'AQ09', 'AQ10']].sum().head()"
   ]
  },
  {
   "cell_type": "markdown",
   "metadata": {},
   "source": [
    "Observa-se que a maioria das crianças indicadas por seus pais já possuir o diagnóstico do TEA apresentavam dificuldade de manter uma conversa com seus colegas (AQ05), seguida do comportamento de facilidade de comunicação com várias pessoas diferentes ao mesmo tempo (AQ03). "
   ]
  },
  {
   "cell_type": "markdown",
   "metadata": {},
   "source": [
    "Essa análise nos permitiu perceber que realmente o Transtorno do Espectro Autista (TEA) não possui características que se repetem em todas as crianças e que basta que a criança possua uma única característica sugerida pelo questionário AQ10_Child é possível levantar um alerta quanto ao diagnóstico e procurar uma investigação com os profissionais da saúde."
   ]
  },
  {
   "cell_type": "markdown",
   "metadata": {},
   "source": [
    "## Modelagem dos Dados para implementação dos modelos de Aprendizagem de Máquina"
   ]
  },
  {
   "cell_type": "markdown",
   "metadata": {
    "id": "qLGUEK3KUhKF"
   },
   "source": [
    "### Eliminando os atributos que não serão utilizados nos modelos"
   ]
  },
  {
   "cell_type": "code",
   "execution_count": 135,
   "metadata": {},
   "outputs": [],
   "source": [
    "# Remoção dos atributos que não serão utilizados nos modelos.\n",
    "autismo_criancas.drop(columns=['age','gender', 'icterícia', 'contry_of_res', 'result numeric', 'Class/ASD'], inplace = True, axis = 1)"
   ]
  },
  {
   "cell_type": "code",
   "execution_count": 136,
   "metadata": {},
   "outputs": [
    {
     "name": "stdout",
     "output_type": "stream",
     "text": [
      "<class 'pandas.core.frame.DataFrame'>\n",
      "Int64Index: 287 entries, 0 to 290\n",
      "Data columns (total 11 columns):\n",
      " #   Column  Non-Null Count  Dtype   \n",
      "---  ------  --------------  -----   \n",
      " 0   AQ01    287 non-null    int64   \n",
      " 1   AQ02    287 non-null    int64   \n",
      " 2   AQ03    287 non-null    int64   \n",
      " 3   AQ04    287 non-null    int64   \n",
      " 4   AQ05    287 non-null    int64   \n",
      " 5   AQ06    287 non-null    int64   \n",
      " 6   AQ07    287 non-null    int64   \n",
      " 7   AQ08    287 non-null    int64   \n",
      " 8   AQ09    287 non-null    int64   \n",
      " 9   AQ10    287 non-null    int64   \n",
      " 10  austim  287 non-null    category\n",
      "dtypes: category(1), int64(10)\n",
      "memory usage: 25.1 KB\n"
     ]
    }
   ],
   "source": [
    "autismo_criancas.info()"
   ]
  },
  {
   "cell_type": "markdown",
   "metadata": {},
   "source": [
    "**Separando os atributos (features) e a classe**"
   ]
  },
  {
   "cell_type": "code",
   "execution_count": 137,
   "metadata": {},
   "outputs": [],
   "source": [
    "colunas_drop = [\"austim\"]\n",
    "\n",
    "X = autismo_criancas.drop(colunas_drop, axis = 1).to_numpy()\n",
    "y = autismo_criancas[\"austim\"].values"
   ]
  },
  {
   "cell_type": "markdown",
   "metadata": {},
   "source": [
    "## Codificando os rótulos"
   ]
  },
  {
   "cell_type": "code",
   "execution_count": 138,
   "metadata": {},
   "outputs": [],
   "source": [
    "label_encoder = preprocessing.LabelEncoder()\n",
    "y = label_encoder.fit_transform(y)"
   ]
  },
  {
   "cell_type": "markdown",
   "metadata": {},
   "source": [
    "### Utilizando técnicas para o Balanceamento dos dados"
   ]
  },
  {
   "cell_type": "markdown",
   "metadata": {},
   "source": [
    "### Aplicando o  SMOTE"
   ]
  },
  {
   "cell_type": "code",
   "execution_count": 139,
   "metadata": {},
   "outputs": [],
   "source": [
    "from imblearn.combine import SMOTETomek\n",
    "smote_tomek = SMOTETomek(random_state=0)\n",
    "X, y = smote_tomek.fit_resample(X, y)"
   ]
  },
  {
   "cell_type": "code",
   "execution_count": 140,
   "metadata": {},
   "outputs": [
    {
     "data": {
      "image/png": "[encoded data removed]",
      "text/plain": [
       "<Figure size 500x400 with 1 Axes>"
      ]
     },
     "metadata": {},
     "output_type": "display_data"
    }
   ],
   "source": [
    "ax = sns.countplot(x=y);"
   ]
  },
  {
   "cell_type": "code",
   "execution_count": 142,
   "metadata": {},
   "outputs": [],
   "source": [
    "X_train, X_test, y_train, y_test = train_test_split(X, y, test_size = 0.20, stratify=y)\n",
    "X_train, X_valid, y_train, y_valid = train_test_split(X_train, y_train, test_size = 0.20, stratify=y_train)"
   ]
  },
  {
   "cell_type": "markdown",
   "metadata": {},
   "source": [
    "**Padronizando separadamente as bases**"
   ]
  },
  {
   "cell_type": "code",
   "execution_count": 143,
   "metadata": {},
   "outputs": [],
   "source": [
    "X_train = preprocessing.minmax_scale(X_train)\n",
    "X_test = preprocessing.minmax_scale(X_test)\n",
    "X_valid = preprocessing.minmax_scale(X_valid)"
   ]
  },
  {
   "cell_type": "code",
   "execution_count": 144,
   "metadata": {},
   "outputs": [],
   "source": [
    "clf = DecisionTreeClassifier(criterion='entropy')\n",
    "model = clf.fit(X_train, y_train)"
   ]
  },
  {
   "cell_type": "markdown",
   "metadata": {},
   "source": [
    "## PCA"
   ]
  },
  {
   "cell_type": "markdown",
   "metadata": {},
   "source": [
    "### Plotando o dataset\n",
    "* As classes são destacadas por cores\n",
    "* Técnica de Análise de Componentes Principais para reduzir as dimensões"
   ]
  },
  {
   "cell_type": "code",
   "execution_count": 145,
   "metadata": {},
   "outputs": [
    {
     "data": {
      "image/png": "[encoded data removed]",
      "text/plain": [
       "<Figure size 1500x1000 with 1 Axes>"
      ]
     },
     "metadata": {},
     "output_type": "display_data"
    }
   ],
   "source": [
    "pca = PCA(2)\n",
    "X_pca = pca.fit_transform(preprocessing.minmax_scale(X_train))\n",
    "\n",
    "fig, ax = plt.subplots(figsize=(15,10))\n",
    "scatter = ax.scatter(X_pca[:, 0], X_pca[:, 1], c=y_train)\n",
    "\n",
    "legend1 = ax.legend(*scatter.legend_elements(),\n",
    "                    loc=\"lower left\", title=\"Classes\")\n",
    "ax.add_artist(legend1)\n",
    "plt.show()"
   ]
  },
  {
   "cell_type": "markdown",
   "metadata": {},
   "source": [
    "# Naive Bayse"
   ]
  },
  {
   "cell_type": "markdown",
   "metadata": {},
   "source": [
    "**Instanciando o modelo**"
   ]
  },
  {
   "cell_type": "code",
   "execution_count": 146,
   "metadata": {},
   "outputs": [
    {
     "data": {
      "text/plain": [
       "GaussianNB()"
      ]
     },
     "execution_count": 146,
     "metadata": {},
     "output_type": "execute_result"
    }
   ],
   "source": [
    "from sklearn.naive_bayes import GaussianNB\n",
    "\n",
    "nb = GaussianNB()\n",
    "\n",
    "nb.fit(X_train, y_train)"
   ]
  },
  {
   "cell_type": "markdown",
   "metadata": {},
   "source": [
    "**Imprimindo o Relatório de Teste**"
   ]
  },
  {
   "cell_type": "code",
   "execution_count": 147,
   "metadata": {},
   "outputs": [
    {
     "name": "stdout",
     "output_type": "stream",
     "text": [
      "Score de teste: 0.6736842105263158\n",
      "              precision    recall  f1-score   support\n",
      "\n",
      "           0       0.65      0.75      0.70        48\n",
      "           1       0.70      0.60      0.64        47\n",
      "\n",
      "    accuracy                           0.67        95\n",
      "   macro avg       0.68      0.67      0.67        95\n",
      "weighted avg       0.68      0.67      0.67        95\n",
      "\n"
     ]
    }
   ],
   "source": [
    "from sklearn.metrics import precision_score\n",
    "from sklearn.metrics import classification_report\n",
    "\n",
    "print(\"Score de teste:\", precision_score(y_test, nb.predict(X_test), average=\"micro\"))\n",
    "\n",
    "print(classification_report(y_test, nb.predict(X_test)))"
   ]
  },
  {
   "cell_type": "markdown",
   "metadata": {},
   "source": [
    "**Validando o modelo**\n",
    "* Usando a métrica de precisão para avaliar o modelo."
   ]
  },
  {
   "cell_type": "code",
   "execution_count": 148,
   "metadata": {},
   "outputs": [
    {
     "name": "stderr",
     "output_type": "stream",
     "text": [
      "Treinamento: 100%|████████████████████████████████████████████████████████████████████| 10/10 [00:00<00:00, 416.60it/s]\n"
     ]
    }
   ],
   "source": [
    "from tqdm import tqdm \n",
    "import numpy as np\n",
    "\n",
    "scores_train, scores_valid, params = [], [], []\n",
    "\n",
    "search_space = np.linspace(1e-12,1, 10)\n",
    "\n",
    "# Definindo uma barra de progresso:\n",
    "\n",
    "for var in tqdm(search_space, desc=\"Treinamento: \"):\n",
    "  nb = GaussianNB(var_smoothing=var)\n",
    "  \n",
    "  nb.fit(X_train, y_train)\n",
    "  \n",
    "  score_train = precision_score(y_train, nb.predict(X_train), average=\"micro\")\n",
    "  \n",
    "  score_valid = precision_score(y_valid, nb.predict(X_valid), average=\"micro\")\n",
    "\n",
    "  scores_train.append(score_train)\n",
    "  scores_valid.append(score_valid)\n",
    "  params.append(dict(var_smoothing=var))"
   ]
  },
  {
   "cell_type": "code",
   "execution_count": 149,
   "metadata": {},
   "outputs": [
    {
     "name": "stdout",
     "output_type": "stream",
     "text": [
      "Melhores parâmetros:  {'var_smoothing': 1e-12}\n",
      "Melhor score de treino:  0.5946843853820598\n",
      "Melhor score de validação:  0.6578947368421053\n"
     ]
    }
   ],
   "source": [
    "zipped_results = zip(scores_train, scores_valid, params)\n",
    "\n",
    "best_result =  max(zipped_results, key = lambda res: res[1])\n",
    "\n",
    "best_score_train, best_score_valid, best_params = best_result\n",
    "\n",
    "print(\"Melhores parâmetros: \", best_params)\n",
    "print(\"Melhor score de treino: \", best_score_train)\n",
    "print(\"Melhor score de validação: \", best_score_valid)"
   ]
  },
  {
   "cell_type": "markdown",
   "metadata": {},
   "source": [
    "**Testando o modelo com os parâmetros otimizados**"
   ]
  },
  {
   "cell_type": "code",
   "execution_count": 152,
   "metadata": {},
   "outputs": [
    {
     "name": "stdout",
     "output_type": "stream",
     "text": [
      "Score de teste: 0.6736842105263158\n",
      "              precision    recall  f1-score   support\n",
      "\n",
      "           0       0.65      0.75      0.70        48\n",
      "           1       0.70      0.60      0.64        47\n",
      "\n",
      "    accuracy                           0.67        95\n",
      "   macro avg       0.68      0.67      0.67        95\n",
      "weighted avg       0.68      0.67      0.67        95\n",
      "\n"
     ]
    }
   ],
   "source": [
    "svm = GaussianNB()\n",
    "\n",
    "svm.fit(X_train, y_train)\n",
    "\n",
    "print(\"Score de teste:\", precision_score(y_test, svm.predict(X_test), average=\"micro\"))\n",
    "print(classification_report(y_test, svm.predict(X_test)))"
   ]
  },
  {
   "cell_type": "code",
   "execution_count": 166,
   "metadata": {},
   "outputs": [],
   "source": [
    "#Testando o modelo\n",
    "naive_bayse_prev = svm.predict(X_test)"
   ]
  },
  {
   "cell_type": "code",
   "execution_count": 167,
   "metadata": {},
   "outputs": [
    {
     "name": "stdout",
     "output_type": "stream",
     "text": [
      "Total de casos de testes 95, com 64 acertos e com desempenho 67.37%\n"
     ]
    }
   ],
   "source": [
    "#Calculando o desempenho\n",
    "total_teste = X_test.shape[0]\n",
    "total_acertos = (y_test == naive_bayse_prev).sum()\n",
    "desempenho = (total_acertos / total_teste ) * 100\n",
    "print('Total de casos de testes {}, com {} acertos e com desempenho {:05.2f}%'.format(total_teste, total_acertos, desempenho))"
   ]
  },
  {
   "cell_type": "code",
   "execution_count": 196,
   "metadata": {},
   "outputs": [
    {
     "name": "stdout",
     "output_type": "stream",
     "text": [
      "Acurácia: 0.6737\n"
     ]
    }
   ],
   "source": [
    "print('Acurácia: {0:0.4f}'. format(accuracy_score(y_test, naive_bayse_prev)))"
   ]
  },
  {
   "cell_type": "code",
   "execution_count": 197,
   "metadata": {},
   "outputs": [
    {
     "name": "stdout",
     "output_type": "stream",
     "text": [
      "#### Matrix de Confusão ####\n",
      "\n",
      "Verdadeiro Positivo(TP) =  36\n",
      "\n",
      "Verdadeiro Negatives(TN) =  28\n",
      "\n",
      "Falso Positivo(FP) =  12\n",
      "\n",
      "Falso Negativo(FN) =  19\n"
     ]
    }
   ],
   "source": [
    "from sklearn.metrics import confusion_matrix\n",
    "\n",
    "cm_nb = confusion_matrix(y_test , naive_bayse_prev)\n",
    "\n",
    "print('#### Matrix de Confusão ####')\n",
    "print('\\nVerdadeiro Positivo(TP) = ', cm_nb[0,0])\n",
    "print('\\nVerdadeiro Negatives(TN) = ', cm_nb[1,1])\n",
    "print('\\nFalso Positivo(FP) = ', cm_nb[0,1])\n",
    "print('\\nFalso Negativo(FN) = ', cm_nb[1,0])"
   ]
  },
  {
   "cell_type": "code",
   "execution_count": 198,
   "metadata": {},
   "outputs": [
    {
     "data": {
      "text/plain": [
       "<AxesSubplot:>"
      ]
     },
     "execution_count": 198,
     "metadata": {},
     "output_type": "execute_result"
    },
    {
     "data": {
      "image/png": "[encoded data removed]",
      "text/plain": [
       "<Figure size 500x400 with 2 Axes>"
      ]
     },
     "metadata": {},
     "output_type": "display_data"
    }
   ],
   "source": [
    "# visualize confusion matrix with seaborn heatmap\n",
    "\n",
    "cm_matrix = pd.DataFrame(data=cm_nb, columns=['Atual Positivo:1', 'Atual Negativo:0'], \n",
    "                                 index=['Previsto Positivo:1', 'Previsto Negative:0'])\n",
    "\n",
    "sns.heatmap(cm_matrix, annot=True, fmt='d', cmap='YlGnBu')"
   ]
  },
  {
   "cell_type": "markdown",
   "metadata": {},
   "source": [
    "# Random Forest"
   ]
  },
  {
   "cell_type": "markdown",
   "metadata": {},
   "source": [
    "## Instanciando as bibliotecas"
   ]
  },
  {
   "cell_type": "code",
   "execution_count": 168,
   "metadata": {},
   "outputs": [],
   "source": [
    "from sklearn.datasets import make_classification\n",
    "from sklearn.model_selection import cross_val_score\n",
    "from sklearn.model_selection import RepeatedStratifiedKFold\n",
    "from sklearn.ensemble import RandomForestClassifier\n"
   ]
  },
  {
   "cell_type": "markdown",
   "metadata": {},
   "source": [
    "## Avaliando o modelo com os parâmetros padrões"
   ]
  },
  {
   "cell_type": "code",
   "execution_count": 169,
   "metadata": {},
   "outputs": [
    {
     "name": "stdout",
     "output_type": "stream",
     "text": [
      "Train >> F1_Weighted: 0.774 (0.075)\n",
      "Test score:  0.85\n"
     ]
    }
   ],
   "source": [
    "from sklearn.metrics import accuracy_score, precision_score, f1_score\n",
    "\n",
    "def f1_weighted(y_true, y_pred):\n",
    "  \"\"\" Função auxiliar para o cálculo da medida-f ponderada \"\"\"\n",
    "  return f1_score(y_true, y_pred, average=\"weighted\").round(3)\n",
    "\n",
    "def score_model(model, X, y, n_splits=10, n_repeats=3, scoring='f1_weighted'):\n",
    "\n",
    "  cv = RepeatedStratifiedKFold(n_splits=n_splits, \n",
    "                               n_repeats=n_repeats) \n",
    "  n_scores = cross_val_score(model, X, y, \n",
    "                             scoring=scoring, \n",
    "                             cv=cv, \n",
    "                             n_jobs=-1, \n",
    "                             error_score='raise')\n",
    "  \n",
    "  return f'{scoring.title()}: %.3f (%.3f)' % (n_scores.mean(), n_scores.std())\n",
    "\n",
    "\n",
    "model = RandomForestClassifier()\n",
    "print(\"Train >>\", score_model(model, X_train, y_train))\n",
    "model.fit(X_train, y_train)\n",
    "print(\"Test score: \", f1_weighted(y_test, model.predict(X_test)))"
   ]
  },
  {
   "cell_type": "markdown",
   "metadata": {},
   "source": [
    "**Validando o modelo**"
   ]
  },
  {
   "cell_type": "code",
   "execution_count": 170,
   "metadata": {},
   "outputs": [
    {
     "name": "stdout",
     "output_type": "stream",
     "text": [
      "Fitting 10 folds for each of 60 candidates, totalling 600 fits\n"
     ]
    },
    {
     "data": {
      "text/plain": [
       "GridSearchCV(cv=10, estimator=RandomForestClassifier(), n_jobs=-1,\n",
       "             param_grid={'criterion': ['gini', 'entropy'],\n",
       "                         'max_features': ['auto', 'sqrt', 'log2'],\n",
       "                         'n_estimators': range(10, 101, 10)},\n",
       "             scoring='f1_weighted', verbose=4)"
      ]
     },
     "execution_count": 170,
     "metadata": {},
     "output_type": "execute_result"
    }
   ],
   "source": [
    "from sklearn.model_selection import GridSearchCV\n",
    "\n",
    "# Definindo a lista de parâmetros e seus possíveis valores.\n",
    "\n",
    "parameters = {\n",
    "    \"n_estimators\": range(10, 101, 10),\n",
    "    \"criterion\": [\"gini\", \"entropy\"],\n",
    "    \"max_features\": [\"auto\", \"sqrt\", \"log2\"],\n",
    "}\n",
    "\n",
    "\n",
    "# Notem que a validação agora demora mais que com os modelos que usamos até então.\n",
    "grid_search = GridSearchCV(RandomForestClassifier(), \n",
    "                    parameters,\n",
    "                    scoring  = \"f1_weighted\",\n",
    "                    n_jobs= -1, \n",
    "                    verbose=4,\n",
    "                    cv = 10)# Quando atribuímos um número inteiro (quantidade de folds) ao parâmetro cv, a validação cruzada é estratificada\n",
    "\n",
    "grid_search.fit(X_train, y_train)\n"
   ]
  },
  {
   "cell_type": "markdown",
   "metadata": {},
   "source": [
    "## Melhores parâmetros"
   ]
  },
  {
   "cell_type": "code",
   "execution_count": 171,
   "metadata": {},
   "outputs": [
    {
     "name": "stdout",
     "output_type": "stream",
     "text": [
      "{'criterion': 'entropy', 'max_features': 'sqrt', 'n_estimators': 80}\n"
     ]
    }
   ],
   "source": [
    "best_params = grid_search.best_params_\n",
    "print(best_params)"
   ]
  },
  {
   "cell_type": "markdown",
   "metadata": {},
   "source": [
    "## Score de teste pós validação"
   ]
  },
  {
   "cell_type": "code",
   "execution_count": 172,
   "metadata": {},
   "outputs": [
    {
     "name": "stdout",
     "output_type": "stream",
     "text": [
      "Train >>  F1_Weighted: 0.782 (0.069)\n",
      "Test score pós-validação:  0.861\n",
      "Test score PRÉ-validação:  0.873\n"
     ]
    }
   ],
   "source": [
    "model = RandomForestClassifier(**best_params)\n",
    "\n",
    "print(\"Train >> \", score_model(model, X_train, y_train))\n",
    "model.fit(X_train, y_train)\n",
    "print(\"Test score pós-validação: \", f1_weighted(y_test, model.predict(X_test)))\n",
    "\n",
    "model = RandomForestClassifier()\n",
    "model.fit(X_train, y_train)\n",
    "print(\"Test score PRÉ-validação: \", f1_weighted(y_test, model.predict(X_test)))"
   ]
  },
  {
   "cell_type": "code",
   "execution_count": 173,
   "metadata": {},
   "outputs": [
    {
     "name": "stdout",
     "output_type": "stream",
     "text": [
      "Score de teste: 0.8736842105263158\n",
      "              precision    recall  f1-score   support\n",
      "\n",
      "           0       0.95      0.79      0.86        48\n",
      "           1       0.82      0.96      0.88        47\n",
      "\n",
      "    accuracy                           0.87        95\n",
      "   macro avg       0.88      0.87      0.87        95\n",
      "weighted avg       0.88      0.87      0.87        95\n",
      "\n"
     ]
    }
   ],
   "source": [
    "print(\"Score de teste:\", precision_score(y_test, model.predict(X_test), average=\"micro\"))\n",
    "print(classification_report(y_test, model.predict(X_test)))"
   ]
  },
  {
   "cell_type": "code",
   "execution_count": 174,
   "metadata": {},
   "outputs": [
    {
     "name": "stdout",
     "output_type": "stream",
     "text": [
      "Total de casos de testes 95, com 83 acertos e com desempenho 87.37%\n"
     ]
    }
   ],
   "source": [
    "#Testando o modelo\n",
    "rf_prev = model.predict(X_test)\n",
    "\n",
    "#Calculando o desempenho\n",
    "total_teste = X_test.shape[0]\n",
    "total_acertos = (y_test == rf_prev).sum()\n",
    "desempenho = (total_acertos / total_teste ) * 100\n",
    "print('Total de casos de testes {}, com {} acertos e com desempenho {:05.2f}%'.format(total_teste, total_acertos, desempenho))"
   ]
  },
  {
   "cell_type": "code",
   "execution_count": 205,
   "metadata": {},
   "outputs": [
    {
     "name": "stdout",
     "output_type": "stream",
     "text": [
      "Acurácia: 0.8737\n"
     ]
    }
   ],
   "source": [
    "print('Acurácia: {0:0.4f}'. format(accuracy_score(y_test, rf_prev)))"
   ]
  },
  {
   "cell_type": "code",
   "execution_count": 206,
   "metadata": {},
   "outputs": [
    {
     "name": "stdout",
     "output_type": "stream",
     "text": [
      "#### Matrix de Confusão ####\n",
      "\n",
      "Verdadeiro Positivo(TP) =  38\n",
      "\n",
      "Verdadeiro Negatives(TN) =  45\n",
      "\n",
      "Falso Positivo(FP) =  10\n",
      "\n",
      "Falso Negativo(FN) =  2\n"
     ]
    }
   ],
   "source": [
    "from sklearn.metrics import confusion_matrix\n",
    "\n",
    "cm_rf = confusion_matrix(y_test , rf_prev)\n",
    "\n",
    "print('#### Matrix de Confusão ####')\n",
    "print('\\nVerdadeiro Positivo(TP) = ', cm_rf[0,0])\n",
    "print('\\nVerdadeiro Negatives(TN) = ', cm_rf[1,1])\n",
    "print('\\nFalso Positivo(FP) = ', cm_rf[0,1])\n",
    "print('\\nFalso Negativo(FN) = ', cm_rf[1,0])"
   ]
  },
  {
   "cell_type": "code",
   "execution_count": 207,
   "metadata": {},
   "outputs": [
    {
     "data": {
      "text/plain": [
       "<AxesSubplot:>"
      ]
     },
     "execution_count": 207,
     "metadata": {},
     "output_type": "execute_result"
    },
    {
     "data": {
      "image/png": "[encoded data removed]",
      "text/plain": [
       "<Figure size 500x400 with 2 Axes>"
      ]
     },
     "metadata": {},
     "output_type": "display_data"
    }
   ],
   "source": [
    "# visualize confusion matrix with seaborn heatmap\n",
    "\n",
    "cm_matrix = pd.DataFrame(data=cm_rf, columns=['Atual Positivo:1', 'Atual Negativo:0'], \n",
    "                                 index=['Previsto Positivo:1', 'Previsto Negative:0'])\n",
    "\n",
    "sns.heatmap(cm_matrix, annot=True, fmt='d', cmap='YlGnBu')"
   ]
  },
  {
   "cell_type": "markdown",
   "metadata": {},
   "source": [
    "## Importância de cada feature"
   ]
  },
  {
   "cell_type": "code",
   "execution_count": 175,
   "metadata": {},
   "outputs": [],
   "source": [
    "features_name = autismo_criancas.columns"
   ]
  },
  {
   "cell_type": "code",
   "execution_count": 176,
   "metadata": {},
   "outputs": [
    {
     "data": {
      "image/png": "[encoded data removed]",
      "text/plain": [
       "<Figure size 500x400 with 1 Axes>"
      ]
     },
     "metadata": {},
     "output_type": "display_data"
    }
   ],
   "source": [
    "sort = model.feature_importances_.argsort()\n",
    "\n",
    "qtd = len(sort) - 10\n",
    "\n",
    "plt.barh(features_name[sort][qtd:], model.feature_importances_[sort][qtd:])\n",
    "plt.xlabel(\"Feature Importance\")\n",
    "for pos in ['right', 'top']: \n",
    "    plt.gca().spines[pos].set_visible(False)\n",
    "plt.show()"
   ]
  },
  {
   "cell_type": "markdown",
   "metadata": {},
   "source": [
    "# KNN"
   ]
  },
  {
   "cell_type": "markdown",
   "metadata": {},
   "source": [
    "## Instanciando modelo \n",
    "\n",
    "TODO: Listar aqui alguns parâmetros importantes"
   ]
  },
  {
   "cell_type": "code",
   "execution_count": 181,
   "metadata": {},
   "outputs": [
    {
     "name": "stdout",
     "output_type": "stream",
     "text": [
      "Melhor k:  4\n",
      "Melhor acurárica de treino:  0.840531561461794\n",
      "Melhor acurárica de validação:  0.7894736842105263\n"
     ]
    }
   ],
   "source": [
    "from sklearn.neighbors import KNeighborsClassifier\n",
    "\n",
    "k_range = range(1, 100)\n",
    "k_scores_train = []\n",
    "k_scores_valid = []\n",
    "\n",
    "for k in k_range:\n",
    "    knn = KNeighborsClassifier(n_neighbors=k)\n",
    "    \n",
    "    knn.fit(X_train, y_train)\n",
    "\n",
    "    k_scores_train.append(knn.score(X_train, y_train))   \n",
    "    k_scores_valid.append(knn.score(X_valid, y_valid))\n",
    "\n",
    "best_values = max(zip(k_range, k_scores_train, k_scores_valid), key=lambda v:v[-1])\n",
    "\n",
    "best_k, best_acc_train, best_acc_valid = best_values\n",
    "\n",
    "print(\"Melhor k: \", best_k)\n",
    "print(\"Melhor acurárica de treino: \", best_acc_train)\n",
    "print(\"Melhor acurárica de validação: \", best_acc_valid)"
   ]
  },
  {
   "cell_type": "markdown",
   "metadata": {},
   "source": [
    "## Avaliando modelo treinado"
   ]
  },
  {
   "cell_type": "code",
   "execution_count": 183,
   "metadata": {},
   "outputs": [
    {
     "data": {
      "text/plain": [
       "KNeighborsClassifier(n_neighbors=4)"
      ]
     },
     "execution_count": 183,
     "metadata": {},
     "output_type": "execute_result"
    }
   ],
   "source": [
    "k_vizinhos = KNeighborsClassifier(n_neighbors=best_k)\n",
    "k_vizinhos.fit(X_train, y_train)"
   ]
  },
  {
   "cell_type": "code",
   "execution_count": 185,
   "metadata": {},
   "outputs": [
    {
     "name": "stdout",
     "output_type": "stream",
     "text": [
      "Acurácia de treino:  0.840531561461794\n",
      "Acurácia de validação:  0.7894736842105263\n",
      "Acurácia de teste:  0.7789473684210526\n"
     ]
    }
   ],
   "source": [
    "print(\"Acurácia de treino: \", k_vizinhos.score(X_train, y_train))\n",
    "print(\"Acurácia de validação: \", k_vizinhos.score(X_valid, y_valid))\n",
    "print(\"Acurácia de teste: \", k_vizinhos.score(X_test, y_test))"
   ]
  },
  {
   "cell_type": "code",
   "execution_count": 186,
   "metadata": {},
   "outputs": [
    {
     "name": "stdout",
     "output_type": "stream",
     "text": [
      "Score de teste: 0.7789473684210526\n",
      "              precision    recall  f1-score   support\n",
      "\n",
      "           0       0.75      0.83      0.79        48\n",
      "           1       0.81      0.72      0.76        47\n",
      "\n",
      "    accuracy                           0.78        95\n",
      "   macro avg       0.78      0.78      0.78        95\n",
      "weighted avg       0.78      0.78      0.78        95\n",
      "\n"
     ]
    }
   ],
   "source": [
    "print(\"Score de teste:\", precision_score(y_test, k_vizinhos.predict(X_test), average=\"micro\"))\n",
    "print(classification_report(y_test, k_vizinhos.predict(X_test)))"
   ]
  },
  {
   "cell_type": "code",
   "execution_count": 187,
   "metadata": {},
   "outputs": [
    {
     "name": "stdout",
     "output_type": "stream",
     "text": [
      "Total de casos de testes 95, com 74 acertos e com desempenho 77.89%\n"
     ]
    }
   ],
   "source": [
    "#Testando o modelo\n",
    "knn_prev =  k_vizinhos.predict(X_test)\n",
    "\n",
    "#Calculando o desempenho\n",
    "total_teste = X_test.shape[0]\n",
    "total_acertos = (y_test == knn_prev).sum()\n",
    "desempenho = (total_acertos / total_teste ) * 100\n",
    "print('Total de casos de testes {}, com {} acertos e com desempenho {:05.2f}%'.format(total_teste, total_acertos, desempenho))"
   ]
  },
  {
   "cell_type": "code",
   "execution_count": 208,
   "metadata": {},
   "outputs": [
    {
     "name": "stdout",
     "output_type": "stream",
     "text": [
      "Acurácia: 0.7789\n"
     ]
    }
   ],
   "source": [
    "print('Acurácia: {0:0.4f}'. format(accuracy_score(y_test, knn_prev)))"
   ]
  },
  {
   "cell_type": "code",
   "execution_count": 209,
   "metadata": {},
   "outputs": [
    {
     "name": "stdout",
     "output_type": "stream",
     "text": [
      "#### Matrix de Confusão ####\n",
      "\n",
      "Verdadeiro Positivo(TP) =  40\n",
      "\n",
      "Verdadeiro Negatives(TN) =  34\n",
      "\n",
      "Falso Positivo(FP) =  8\n",
      "\n",
      "Falso Negativo(FN) =  13\n"
     ]
    }
   ],
   "source": [
    "from sklearn.metrics import confusion_matrix\n",
    "\n",
    "cm_knn = confusion_matrix(y_test , knn_prev)\n",
    "\n",
    "print('#### Matrix de Confusão ####')\n",
    "print('\\nVerdadeiro Positivo(TP) = ', cm_knn[0,0])\n",
    "print('\\nVerdadeiro Negatives(TN) = ', cm_knn[1,1])\n",
    "print('\\nFalso Positivo(FP) = ', cm_knn[0,1])\n",
    "print('\\nFalso Negativo(FN) = ', cm_knn[1,0])"
   ]
  },
  {
   "cell_type": "code",
   "execution_count": 210,
   "metadata": {},
   "outputs": [
    {
     "data": {
      "text/plain": [
       "<AxesSubplot:>"
      ]
     },
     "execution_count": 210,
     "metadata": {},
     "output_type": "execute_result"
    },
    {
     "data": {
      "image/png": "[encoded data removed]",
      "text/plain": [
       "<Figure size 500x400 with 2 Axes>"
      ]
     },
     "metadata": {},
     "output_type": "display_data"
    }
   ],
   "source": [
    "# visualize confusion matrix with seaborn heatmap\n",
    "\n",
    "cm_matrix = pd.DataFrame(data=cm_knn, columns=['Atual Positivo:1', 'Atual Negativo:0'], \n",
    "                                 index=['Previsto Positivo:1', 'Previsto Negative:0'])\n",
    "\n",
    "sns.heatmap(cm_matrix, annot=True, fmt='d', cmap='YlGnBu')"
   ]
  },
  {
   "cell_type": "markdown",
   "metadata": {},
   "source": [
    "# SVM"
   ]
  },
  {
   "cell_type": "markdown",
   "metadata": {},
   "source": [
    "## Instanciando o modelo"
   ]
  },
  {
   "cell_type": "code",
   "execution_count": 190,
   "metadata": {},
   "outputs": [
    {
     "data": {
      "text/plain": [
       "SVC(kernel='linear')"
      ]
     },
     "execution_count": 190,
     "metadata": {},
     "output_type": "execute_result"
    }
   ],
   "source": [
    "from sklearn.svm import SVC\n",
    "\n",
    "svm = SVC(kernel=\"linear\")\n",
    "\n",
    "svm.fit(X_train, y_train)"
   ]
  },
  {
   "cell_type": "markdown",
   "metadata": {},
   "source": [
    "## Testanto o modelo"
   ]
  },
  {
   "cell_type": "code",
   "execution_count": 191,
   "metadata": {},
   "outputs": [
    {
     "name": "stdout",
     "output_type": "stream",
     "text": [
      "Score de teste: 0.6631578947368421\n",
      "              precision    recall  f1-score   support\n",
      "\n",
      "           0       0.67      0.67      0.67        48\n",
      "           1       0.66      0.66      0.66        47\n",
      "\n",
      "    accuracy                           0.66        95\n",
      "   macro avg       0.66      0.66      0.66        95\n",
      "weighted avg       0.66      0.66      0.66        95\n",
      "\n"
     ]
    }
   ],
   "source": [
    "from sklearn.metrics import classification_report\n",
    "from sklearn.metrics import precision_score\n",
    "\n",
    "print(\"Score de teste:\", precision_score(y_test, svm.predict(X_test), average=\"micro\"))\n",
    "\n",
    "print(classification_report(y_test, svm.predict(X_test)))"
   ]
  },
  {
   "cell_type": "markdown",
   "metadata": {},
   "source": [
    "## Otimização dos parâmetros\n",
    "* Vamos treinar o modelo com os Kernel: Linear, Poly, rbf, sigmoid\n",
    "* Vamos experimentar tunar os seguintes parâmetros do SVM:\n",
    "* C - Parâmetro de regularização\n",
    "* degree - Grau do polinômio\n",
    "* coef0 - Valor do termo indepedente do polinômio"
   ]
  },
  {
   "cell_type": "code",
   "execution_count": 193,
   "metadata": {},
   "outputs": [
    {
     "name": "stdout",
     "output_type": "stream",
     "text": [
      "***********************************************************************\n",
      "Iniciando o processo de teste para o Kernel: linear\n",
      "****************************   Teste 1/3   *************************\n",
      "Quantidade de treinamentos que serão efetuados na validação:  5000\n"
     ]
    },
    {
     "name": "stderr",
     "output_type": "stream",
     "text": [
      "Treinamento: 100%|█████████████████████████████████████████████████████████████████| 5000/5000 [00:52<00:00, 94.70it/s]\n"
     ]
    },
    {
     "name": "stdout",
     "output_type": "stream",
     "text": [
      "#####################################################################\n",
      "*****************    Exibindo o melhor resultado    ****************\n",
      "Melhores parâmetros:  {'C': 0.1, 'degree': 2.0, 'coef0': 0.5}\n",
      "Melhor score de treino:  0.6511627906976745\n",
      "Melhor score de validação:  0.631578947368421\n",
      "\n",
      "\n",
      "****************************   Teste 2/3   *************************\n",
      "Quantidade de treinamentos que serão efetuados na validação:  5000\n"
     ]
    },
    {
     "name": "stderr",
     "output_type": "stream",
     "text": [
      "Treinamento: 100%|█████████████████████████████████████████████████████████████████| 5000/5000 [00:55<00:00, 89.77it/s]\n"
     ]
    },
    {
     "name": "stdout",
     "output_type": "stream",
     "text": [
      "#####################################################################\n",
      "*****************    Exibindo o melhor resultado    ****************\n",
      "Melhores parâmetros:  {'C': 0.5, 'degree': 2.0, 'coef0': 0.5}\n",
      "Melhor score de treino:  0.6677740863787376\n",
      "Melhor score de validação:  0.618421052631579\n",
      "\n",
      "\n",
      "****************************   Teste 3/3   *************************\n",
      "Quantidade de treinamentos que serão efetuados na validação:  5000\n"
     ]
    },
    {
     "name": "stderr",
     "output_type": "stream",
     "text": [
      "Treinamento: 100%|█████████████████████████████████████████████████████████████████| 5000/5000 [00:58<00:00, 86.18it/s]\n"
     ]
    },
    {
     "name": "stdout",
     "output_type": "stream",
     "text": [
      "#####################################################################\n",
      "*****************    Exibindo o melhor resultado    ****************\n",
      "Melhores parâmetros:  {'C': 1.0, 'degree': 2.0, 'coef0': 0.5}\n",
      "Melhor score de treino:  0.6677740863787376\n",
      "Melhor score de validação:  0.618421052631579\n",
      "\n",
      "\n",
      "***********************************************************************\n",
      "Iniciando o processo de teste para o Kernel: poly\n",
      "****************************   Teste 1/3   *************************\n",
      "Quantidade de treinamentos que serão efetuados na validação:  5000\n"
     ]
    },
    {
     "name": "stderr",
     "output_type": "stream",
     "text": [
      "Treinamento: 100%|█████████████████████████████████████████████████████████████████| 5000/5000 [03:44<00:00, 22.31it/s]\n"
     ]
    },
    {
     "name": "stdout",
     "output_type": "stream",
     "text": [
      "#####################################################################\n",
      "*****************    Exibindo o melhor resultado    ****************\n",
      "Melhores parâmetros:  {'C': 0.1, 'degree': 5.020408163265306, 'coef0': 3.67}\n",
      "Melhor score de treino:  0.9136212624584718\n",
      "Melhor score de validação:  0.8157894736842105\n",
      "\n",
      "\n",
      "****************************   Teste 2/3   *************************\n",
      "Quantidade de treinamentos que serão efetuados na validação:  5000\n"
     ]
    },
    {
     "name": "stderr",
     "output_type": "stream",
     "text": [
      "Treinamento: 100%|█████████████████████████████████████████████████████████████████| 5000/5000 [06:04<00:00, 13.72it/s]\n"
     ]
    },
    {
     "name": "stdout",
     "output_type": "stream",
     "text": [
      "#####################################################################\n",
      "*****************    Exibindo o melhor resultado    ****************\n",
      "Melhores parâmetros:  {'C': 0.5, 'degree': 4.040816326530612, 'coef0': 6.83}\n",
      "Melhor score de treino:  0.9136212624584718\n",
      "Melhor score de validação:  0.8157894736842105\n",
      "\n",
      "\n",
      "****************************   Teste 3/3   *************************\n",
      "Quantidade de treinamentos que serão efetuados na validação:  5000\n"
     ]
    },
    {
     "name": "stderr",
     "output_type": "stream",
     "text": [
      "Treinamento: 100%|█████████████████████████████████████████████████████████████████| 5000/5000 [06:16<00:00, 13.29it/s]"
     ]
    },
    {
     "name": "stdout",
     "output_type": "stream",
     "text": [
      "#####################################################################\n",
      "*****************    Exibindo o melhor resultado    ****************\n",
      "Melhores parâmetros:  {'C': 1.0, 'degree': 4.040816326530612, 'coef0': 3.67}\n",
      "Melhor score de treino:  0.9136212624584718\n",
      "Melhor score de validação:  0.8157894736842105\n",
      "\n",
      "\n"
     ]
    },
    {
     "name": "stderr",
     "output_type": "stream",
     "text": [
      "\n"
     ]
    }
   ],
   "source": [
    "#Importando as bibliotecas\n",
    "from sklearn.metrics import precision_score\n",
    "from tqdm import tqdm \n",
    "from itertools import product\n",
    "import numpy as np\n",
    "\n",
    "# Adicionando um for para realizar o treinamento de uma lista de Kernel.\n",
    "for i in range(2):\n",
    "  lista_kernel = ['linear', 'poly']\n",
    "  print('***********************************************************************')\n",
    "  print(\"Iniciando o processo de teste para o Kernel: {}\".format(lista_kernel[i]))\n",
    "  \n",
    "  #Adicionando outro for para realizar 5 treinamento para cada Kernel e com parâmentos diferentes para cada treinamento.\n",
    "  for t in range(3):\n",
    "    print(\"****************************   Teste {}/3   *************************\".format(t+1))\n",
    " #Definindo os valores dos possíveis parâmetros para cada teste.   \n",
    "    C_start = [0.1, 0.5, 1]\n",
    "    C_stop = [2, 10, 10, 100,1000]\n",
    "    C_range = np.linspace(C_start[t],C_stop[t] , 10).round(2)\n",
    "    degree_range = np.linspace(2, 6)\n",
    "    coef0_range = np.linspace(.5, 10, 10).round(2)    \n",
    "    \n",
    "    search_space = tuple(product(C_range, degree_range, coef0_range))\n",
    "\n",
    "    print(\"Quantidade de treinamentos que serão efetuados na validação: \", len(search_space))\n",
    "\n",
    "# Validadação do treinamento, utilizando a métrica de precisão para avaliar o modelo\n",
    "\n",
    "    scores_train, scores_valid, params = [], [], []\n",
    "    \n",
    "    for C, degree, coef0 in tqdm(search_space, desc=\"Treinamento: \"):\n",
    "      \n",
    "      svm = SVC(C=C, \n",
    "              degree=degree, \n",
    "              coef0 = coef0, \n",
    "              kernel=lista_kernel[i])\n",
    "      \n",
    "      svm.fit(X_train, y_train)\n",
    "      \n",
    "      score_train = precision_score(y_train, svm.predict(X_train), average=\"micro\")\n",
    "      \n",
    "      score_valid = precision_score(y_valid, svm.predict(X_valid), average=\"micro\")\n",
    "\n",
    "      scores_train.append(score_train)\n",
    "      scores_valid.append(score_valid)\n",
    "      params.append(dict(C=C, degree=degree, coef0=coef0))\n",
    "\n",
    "      \n",
    "  \n",
    "# Exibindo os resultados para cada treinamento\n",
    "    print('#####################################################################')\n",
    "    print(\"*****************    Exibindo o melhor resultado    ****************\")\n",
    "    \n",
    "\n",
    "      \n",
    "    zipped_results = zip(scores_train, scores_valid, params)\n",
    "\n",
    "    best_result =  max(zipped_results, key = lambda res: res[1])\n",
    "\n",
    "    best_score_train, best_score_valid, best_params = best_result\n",
    "\n",
    "    print(\"Melhores parâmetros: \", best_params)\n",
    "    print(\"Melhor score de treino: \", best_score_train)\n",
    "    print(\"Melhor score de validação: \", best_score_valid)\n",
    "    print('\\n')"
   ]
  },
  {
   "cell_type": "markdown",
   "metadata": {},
   "source": [
    "## Testando o modelo com os parâmetros otimizados e utilizando os melhores resultados do melhor Kernel.¶"
   ]
  },
  {
   "cell_type": "code",
   "execution_count": 195,
   "metadata": {},
   "outputs": [
    {
     "name": "stdout",
     "output_type": "stream",
     "text": [
      "Score de teste: 0.8210526315789474\n",
      "              precision    recall  f1-score   support\n",
      "\n",
      "           0       0.97      0.67      0.79        48\n",
      "           1       0.74      0.98      0.84        47\n",
      "\n",
      "    accuracy                           0.82        95\n",
      "   macro avg       0.86      0.82      0.82        95\n",
      "weighted avg       0.86      0.82      0.82        95\n",
      "\n"
     ]
    }
   ],
   "source": [
    "#Testando o modelo com o melhor resultado para cada Kernel\n",
    "\n",
    "#Testando o modelo com o melhor resultado encontrado no treinamento para Kernel Linear\n",
    "svm = SVC(kernel=\"poly\",\n",
    "          C= 1, \n",
    "          degree= 4.0, \n",
    "          coef0 = 3.67,)\n",
    "\n",
    "svm.fit(X_train, y_train)\n",
    "\n",
    "print(\"Score de teste:\", precision_score(y_test, svm.predict(X_test), average=\"micro\"))\n",
    "print(classification_report(y_test, svm.predict(X_test)))"
   ]
  },
  {
   "cell_type": "code",
   "execution_count": 199,
   "metadata": {},
   "outputs": [],
   "source": [
    "#Testando o modelo\n",
    "svm_prev = svm.predict(X_test)"
   ]
  },
  {
   "cell_type": "code",
   "execution_count": 200,
   "metadata": {},
   "outputs": [
    {
     "name": "stdout",
     "output_type": "stream",
     "text": [
      "Total de casos de testes 95, com 78 acertos e com desempenho 82.11%\n"
     ]
    }
   ],
   "source": [
    "#Calculando o desempenho\n",
    "total_teste = X_test.shape[0]\n",
    "total_acertos = (y_test == svm_prev).sum()\n",
    "desempenho = (total_acertos / total_teste ) * 100\n",
    "print('Total de casos de testes {}, com {} acertos e com desempenho {:05.2f}%'.format(total_teste, total_acertos, desempenho))"
   ]
  },
  {
   "cell_type": "code",
   "execution_count": 201,
   "metadata": {},
   "outputs": [
    {
     "name": "stdout",
     "output_type": "stream",
     "text": [
      "Acurácia: 0.8211\n"
     ]
    }
   ],
   "source": [
    "print('Acurácia: {0:0.4f}'. format(accuracy_score(y_test, svm_prev )))"
   ]
  },
  {
   "cell_type": "code",
   "execution_count": 202,
   "metadata": {},
   "outputs": [
    {
     "name": "stdout",
     "output_type": "stream",
     "text": [
      "#### Matrix de Confusão ####\n",
      "\n",
      "Verdadeiro Positivo(TP) =  32\n",
      "\n",
      "Verdadeiro Negatives(TN) =  46\n",
      "\n",
      "Falso Positivo(FP) =  16\n",
      "\n",
      "Falso Negativo(FN) =  1\n"
     ]
    }
   ],
   "source": [
    "from sklearn.metrics import confusion_matrix\n",
    "\n",
    "cm_svm = confusion_matrix(y_test , svm_prev)\n",
    "\n",
    "print('#### Matrix de Confusão ####')\n",
    "print('\\nVerdadeiro Positivo(TP) = ', cm_svm[0,0])\n",
    "print('\\nVerdadeiro Negatives(TN) = ', cm_svm[1,1])\n",
    "print('\\nFalso Positivo(FP) = ', cm_svm[0,1])\n",
    "print('\\nFalso Negativo(FN) = ', cm_svm[1,0])"
   ]
  },
  {
   "cell_type": "code",
   "execution_count": 203,
   "metadata": {},
   "outputs": [
    {
     "data": {
      "text/plain": [
       "<AxesSubplot:>"
      ]
     },
     "execution_count": 203,
     "metadata": {},
     "output_type": "execute_result"
    },
    {
     "data": {
      "image/png": "[encoded data removed]",
      "text/plain": [
       "<Figure size 500x400 with 2 Axes>"
      ]
     },
     "metadata": {},
     "output_type": "display_data"
    }
   ],
   "source": [
    "# visualize confusion matrix with seaborn heatmap\n",
    "\n",
    "cm_matrix = pd.DataFrame(data=cm_svm, columns=['Atual Positivo:1', 'Atual Negativo:0'], \n",
    "                                 index=['Previsto Positivo:1', 'Previsto Negative:0'])\n",
    "\n",
    "sns.heatmap(cm_matrix, annot=True, fmt='d', cmap='YlGnBu')"
   ]
  },
  {
   "cell_type": "code",
   "execution_count": null,
   "metadata": {},
   "outputs": [],
   "source": []
  }
 ],
 "metadata": {
  "colab": {
   "authorship_tag": "ABX9TyOPri0+XBxvtM8B9Ddo5byM",
   "collapsed_sections": [],
   "name": "classificador_naive_bayes.ipynb",
   "provenance": []
  },
  "kernelspec": {
   "display_name": "Python 3 (ipykernel)",
   "language": "python",
   "name": "python3"
  },
  "language_info": {
   "codemirror_mode": {
    "name": "ipython",
    "version": 3
   },
   "file_extension": ".py",
   "mimetype": "text/x-python",
   "name": "python",
   "nbconvert_exporter": "python",
   "pygments_lexer": "ipython3",
   "version": "3.9.13"
  }
 },
 "nbformat": 4,
 "nbformat_minor": 1
}
