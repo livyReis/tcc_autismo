{
 "cells": [
  {
   "cell_type": "markdown",
   "id": "f5865f78",
   "metadata": {},
   "source": [
    "# Análise Exploratória dos Dados"
   ]
  },
  {
   "cell_type": "markdown",
   "id": "f85cb476",
   "metadata": {},
   "source": [
    "### Importando as bibliotecas"
   ]
  },
  {
   "cell_type": "code",
   "execution_count": 19,
   "id": "434f3e5d",
   "metadata": {},
   "outputs": [],
   "source": [
    "# Importando as bibliotecas\n",
    "import pandas as pd;\n",
    "import numpy as np;\n",
    "import seaborn as sns; sns.set();\n",
    "import matplotlib.pyplot as plt;\n",
    "import plotly.express as px;\n",
    "import warnings as ws\n",
    "ws.filterwarnings(\"ignore\")"
   ]
  },
  {
   "cell_type": "code",
   "execution_count": 20,
   "id": "e183f69f",
   "metadata": {},
   "outputs": [],
   "source": [
    "# Ajustando o tamanho e estilo dos gráficos\n",
    "plt.style.use('seaborn-white')\n",
    "plt.rcParams['figure.figsize'] = (8,6)"
   ]
  },
  {
   "cell_type": "markdown",
   "id": "800dc711",
   "metadata": {},
   "source": [
    "### Lendo a Base de Dados"
   ]
  },
  {
   "cell_type": "code",
   "execution_count": 21,
   "id": "4268b053",
   "metadata": {},
   "outputs": [],
   "source": [
    "# Lendo a Base de Dados Unificada\n",
    "df_autismo = pd.read_csv('df_austimo.csv')"
   ]
  },
  {
   "cell_type": "code",
   "execution_count": 22,
   "id": "7fb97da9",
   "metadata": {},
   "outputs": [
    {
     "data": {
      "text/html": [
       "<div>\n",
       "<style scoped>\n",
       "    .dataframe tbody tr th:only-of-type {\n",
       "        vertical-align: middle;\n",
       "    }\n",
       "\n",
       "    .dataframe tbody tr th {\n",
       "        vertical-align: top;\n",
       "    }\n",
       "\n",
       "    .dataframe thead th {\n",
       "        text-align: right;\n",
       "    }\n",
       "</style>\n",
       "<table border=\"1\" class=\"dataframe\">\n",
       "  <thead>\n",
       "    <tr style=\"text-align: right;\">\n",
       "      <th></th>\n",
       "      <th>AQ01</th>\n",
       "      <th>AQ02</th>\n",
       "      <th>AQ03</th>\n",
       "      <th>AQ04</th>\n",
       "      <th>AQ05</th>\n",
       "      <th>AQ06</th>\n",
       "      <th>AQ07</th>\n",
       "      <th>AQ08</th>\n",
       "      <th>AQ09</th>\n",
       "      <th>AQ10</th>\n",
       "      <th>age</th>\n",
       "      <th>gender</th>\n",
       "      <th>jundice</th>\n",
       "      <th>austim</th>\n",
       "      <th>contry_of_res</th>\n",
       "      <th>used_app_before</th>\n",
       "      <th>result numeric</th>\n",
       "      <th>age_desc</th>\n",
       "      <th>Class/ASD</th>\n",
       "      <th>Grup</th>\n",
       "    </tr>\n",
       "  </thead>\n",
       "  <tbody>\n",
       "    <tr>\n",
       "      <th>0</th>\n",
       "      <td>1</td>\n",
       "      <td>1</td>\n",
       "      <td>0</td>\n",
       "      <td>0</td>\n",
       "      <td>1</td>\n",
       "      <td>1</td>\n",
       "      <td>0</td>\n",
       "      <td>1</td>\n",
       "      <td>0</td>\n",
       "      <td>0</td>\n",
       "      <td>6</td>\n",
       "      <td>m</td>\n",
       "      <td>no</td>\n",
       "      <td>no</td>\n",
       "      <td>Jordan</td>\n",
       "      <td>no</td>\n",
       "      <td>5</td>\n",
       "      <td>'4-11 years'</td>\n",
       "      <td>NO</td>\n",
       "      <td>Crianca</td>\n",
       "    </tr>\n",
       "    <tr>\n",
       "      <th>1</th>\n",
       "      <td>1</td>\n",
       "      <td>1</td>\n",
       "      <td>0</td>\n",
       "      <td>0</td>\n",
       "      <td>0</td>\n",
       "      <td>1</td>\n",
       "      <td>1</td>\n",
       "      <td>1</td>\n",
       "      <td>0</td>\n",
       "      <td>0</td>\n",
       "      <td>6</td>\n",
       "      <td>m</td>\n",
       "      <td>no</td>\n",
       "      <td>no</td>\n",
       "      <td>Jordan</td>\n",
       "      <td>yes</td>\n",
       "      <td>5</td>\n",
       "      <td>'4-11 years'</td>\n",
       "      <td>NO</td>\n",
       "      <td>Crianca</td>\n",
       "    </tr>\n",
       "    <tr>\n",
       "      <th>2</th>\n",
       "      <td>0</td>\n",
       "      <td>1</td>\n",
       "      <td>0</td>\n",
       "      <td>0</td>\n",
       "      <td>1</td>\n",
       "      <td>1</td>\n",
       "      <td>0</td>\n",
       "      <td>0</td>\n",
       "      <td>0</td>\n",
       "      <td>1</td>\n",
       "      <td>5</td>\n",
       "      <td>f</td>\n",
       "      <td>yes</td>\n",
       "      <td>no</td>\n",
       "      <td>Jordan</td>\n",
       "      <td>no</td>\n",
       "      <td>4</td>\n",
       "      <td>'4-11 years'</td>\n",
       "      <td>NO</td>\n",
       "      <td>Crianca</td>\n",
       "    </tr>\n",
       "  </tbody>\n",
       "</table>\n",
       "</div>"
      ],
      "text/plain": [
       "   AQ01  AQ02  AQ03  AQ04  AQ05  AQ06  AQ07  AQ08  AQ09  AQ10  age gender  \\\n",
       "0     1     1     0     0     1     1     0     1     0     0    6      m   \n",
       "1     1     1     0     0     0     1     1     1     0     0    6      m   \n",
       "2     0     1     0     0     1     1     0     0     0     1    5      f   \n",
       "\n",
       "  jundice austim contry_of_res used_app_before  result numeric      age_desc  \\\n",
       "0      no     no        Jordan              no               5  '4-11 years'   \n",
       "1      no     no        Jordan             yes               5  '4-11 years'   \n",
       "2     yes     no        Jordan              no               4  '4-11 years'   \n",
       "\n",
       "  Class/ASD     Grup  \n",
       "0        NO  Crianca  \n",
       "1        NO  Crianca  \n",
       "2        NO  Crianca  "
      ]
     },
     "execution_count": 22,
     "metadata": {},
     "output_type": "execute_result"
    }
   ],
   "source": [
    "df_autismo.head(3)"
   ]
  },
  {
   "cell_type": "code",
   "execution_count": 23,
   "id": "26bf32cc",
   "metadata": {},
   "outputs": [
    {
     "data": {
      "text/plain": [
       "(1090, 20)"
      ]
     },
     "execution_count": 23,
     "metadata": {},
     "output_type": "execute_result"
    }
   ],
   "source": [
    "# Visualizando o número de instâncias \n",
    "df_autismo.shape"
   ]
  },
  {
   "cell_type": "markdown",
   "id": "c84c5392",
   "metadata": {},
   "source": [
    "### Iniciando a análise Eploratória"
   ]
  },
  {
   "cell_type": "markdown",
   "id": "89807b48",
   "metadata": {},
   "source": [
    "#### Quantidade de Crianças classificadas com autismo na Base de Dados"
   ]
  },
  {
   "cell_type": "code",
   "execution_count": 24,
   "id": "2fd1fdbb",
   "metadata": {},
   "outputs": [
    {
     "data": {
      "text/plain": [
       "no     937\n",
       "yes    153\n",
       "Name: austim, dtype: int64"
      ]
     },
     "execution_count": 24,
     "metadata": {},
     "output_type": "execute_result"
    }
   ],
   "source": [
    "# Visualizando as crianças classificadas com autismo sem o uso do classificador.\n",
    "df_autismo['austim'].value_counts()"
   ]
  },
  {
   "cell_type": "code",
   "execution_count": 25,
   "id": "2464607f",
   "metadata": {},
   "outputs": [
    {
     "data": {
      "text/plain": [
       "no     85.963303\n",
       "yes    14.036697\n",
       "Name: austim, dtype: float64"
      ]
     },
     "execution_count": 25,
     "metadata": {},
     "output_type": "execute_result"
    }
   ],
   "source": [
    "df_autismo['austim'].value_counts()/ df_autismo.shape[0]*100"
   ]
  },
  {
   "cell_type": "markdown",
   "id": "fd615eaf",
   "metadata": {},
   "source": [
    "Nota-se que a porcentagem de crianças diagnósticadas com TEA é relativamente pequena em relação ao número total de crianças da base de dados. Percebe-se que a Base de dados está muito desbalanceada."
   ]
  },
  {
   "cell_type": "code",
   "execution_count": 26,
   "id": "b738ffb0",
   "metadata": {},
   "outputs": [
    {
     "data": {
      "text/plain": [
       "NO     699\n",
       "YES    391\n",
       "Name: Class/ASD, dtype: int64"
      ]
     },
     "execution_count": 26,
     "metadata": {},
     "output_type": "execute_result"
    }
   ],
   "source": [
    "# Visualizando as crianças classificadas com autismo com uso do classificador.\n",
    "df_autismo['Class/ASD'].value_counts()"
   ]
  },
  {
   "cell_type": "code",
   "execution_count": 27,
   "id": "256f55f9",
   "metadata": {},
   "outputs": [
    {
     "data": {
      "text/plain": [
       "NO     64.12844\n",
       "YES    35.87156\n",
       "Name: Class/ASD, dtype: float64"
      ]
     },
     "execution_count": 27,
     "metadata": {},
     "output_type": "execute_result"
    }
   ],
   "source": [
    "df_autismo['Class/ASD'].value_counts()/df_autismo.shape[0]*100"
   ]
  },
  {
   "cell_type": "code",
   "execution_count": 65,
   "id": "946f4a7d",
   "metadata": {},
   "outputs": [],
   "source": [
    "df_autismo_ASD = df_autismo.loc[df_autismo['Class/ASD'] == 'YES']"
   ]
  },
  {
   "cell_type": "code",
   "execution_count": 66,
   "id": "19d4be5e",
   "metadata": {},
   "outputs": [
    {
     "data": {
      "text/plain": [
       "8     121\n",
       "7     116\n",
       "9      98\n",
       "10     56\n",
       "Name: result numeric, dtype: int64"
      ]
     },
     "execution_count": 66,
     "metadata": {},
     "output_type": "execute_result"
    }
   ],
   "source": [
    "df_autismo_ASD['result numeric'].value_counts()"
   ]
  },
  {
   "cell_type": "markdown",
   "id": "6ed65b8c",
   "metadata": {},
   "source": [
    "## Visualizando a frequência dos diagnósticos com TEA com uso da soma das respostas positivas utilizado pelos modelos de aprendizado de máquina.  "
   ]
  },
  {
   "cell_type": "code",
   "execution_count": 28,
   "id": "642225b5",
   "metadata": {},
   "outputs": [],
   "source": [
    "# Separando a base os grupo das crianças que foram apontados com autismo com base na soma das respostas positivas dos questionários\n",
    "df_autismo_somapositiva  = df_autismo.loc[df_autismo['result numeric'] >= 7]"
   ]
  },
  {
   "cell_type": "code",
   "execution_count": 29,
   "id": "39f45221",
   "metadata": {},
   "outputs": [
    {
     "data": {
      "text/plain": [
       "(391, 20)"
      ]
     },
     "execution_count": 29,
     "metadata": {},
     "output_type": "execute_result"
    }
   ],
   "source": [
    "df_autismo_somapositiva.shape"
   ]
  },
  {
   "cell_type": "code",
   "execution_count": 30,
   "id": "79fad803",
   "metadata": {},
   "outputs": [
    {
     "data": {
      "text/plain": [
       "8     11.100917\n",
       "7     10.642202\n",
       "9      8.990826\n",
       "10     5.137615\n",
       "Name: result numeric, dtype: float64"
      ]
     },
     "execution_count": 30,
     "metadata": {},
     "output_type": "execute_result"
    }
   ],
   "source": [
    "(df_autismo_somapositiva['result numeric'].value_counts()/df_autismo.shape[0])* 100"
   ]
  },
  {
   "cell_type": "markdown",
   "id": "7e43c75e",
   "metadata": {},
   "source": [
    "Nota-se, ainda, que se aplicarmos a soma para a classificação do diagnóstico ou não de TEA, estaremos cometendo um erro muito grande de classificação. Dessa forma devemos buscar um modelo que satisfaça e solucione esse erro de classificação."
   ]
  },
  {
   "cell_type": "code",
   "execution_count": 31,
   "id": "def48901",
   "metadata": {},
   "outputs": [],
   "source": [
    "# Separando a base os grupo das crianças que foram apontados com autismo com base na soma das respostas positivas dos questionários\n",
    "df_autismo_negativa  = df_autismo.loc[df_autismo['result numeric'] < 7]"
   ]
  },
  {
   "cell_type": "code",
   "execution_count": 32,
   "id": "6b8678ce",
   "metadata": {},
   "outputs": [
    {
     "data": {
      "text/plain": [
       "(699, 20)"
      ]
     },
     "execution_count": 32,
     "metadata": {},
     "output_type": "execute_result"
    }
   ],
   "source": [
    "df_autismo_negativa.shape"
   ]
  },
  {
   "cell_type": "code",
   "execution_count": 33,
   "id": "b2737103",
   "metadata": {},
   "outputs": [],
   "source": [
    "# Adicionando a contagem dos crimes em um Dataframe.\n",
    "df_autismo_contagem = df_autismo['austim'].value_counts().reset_index()"
   ]
  },
  {
   "cell_type": "code",
   "execution_count": 34,
   "id": "08fe2029",
   "metadata": {},
   "outputs": [],
   "source": [
    "# Renomeando os atributos.\n",
    "df_autismo_contagem.rename(columns={'index':'Autismo', 'austim':'Quantidade'}, inplace=True)"
   ]
  },
  {
   "cell_type": "code",
   "execution_count": 35,
   "id": "3d99e953",
   "metadata": {},
   "outputs": [
    {
     "data": {
      "text/html": [
       "<div>\n",
       "<style scoped>\n",
       "    .dataframe tbody tr th:only-of-type {\n",
       "        vertical-align: middle;\n",
       "    }\n",
       "\n",
       "    .dataframe tbody tr th {\n",
       "        vertical-align: top;\n",
       "    }\n",
       "\n",
       "    .dataframe thead th {\n",
       "        text-align: right;\n",
       "    }\n",
       "</style>\n",
       "<table border=\"1\" class=\"dataframe\">\n",
       "  <thead>\n",
       "    <tr style=\"text-align: right;\">\n",
       "      <th></th>\n",
       "      <th>Autismo</th>\n",
       "      <th>Quantidade</th>\n",
       "    </tr>\n",
       "  </thead>\n",
       "  <tbody>\n",
       "    <tr>\n",
       "      <th>0</th>\n",
       "      <td>no</td>\n",
       "      <td>937</td>\n",
       "    </tr>\n",
       "    <tr>\n",
       "      <th>1</th>\n",
       "      <td>yes</td>\n",
       "      <td>153</td>\n",
       "    </tr>\n",
       "  </tbody>\n",
       "</table>\n",
       "</div>"
      ],
      "text/plain": [
       "  Autismo  Quantidade\n",
       "0      no         937\n",
       "1     yes         153"
      ]
     },
     "execution_count": 35,
     "metadata": {},
     "output_type": "execute_result"
    }
   ],
   "source": [
    "df_autismo_contagem.head()"
   ]
  },
  {
   "cell_type": "code",
   "execution_count": 56,
   "id": "79c0ceeb",
   "metadata": {},
   "outputs": [],
   "source": [
    "#Função para adicionar os rótulos dos valores para cada categoria.\n",
    "def set_label_y_in_bar(bar):\n",
    "  for b in bar:\n",
    "    height_bar = b.get_height()\n",
    "    ax.annotate(\n",
    "      '{}'.format(height_bar),\n",
    "      xy=(b.get_x() + b.get_width()/2, height_bar),\n",
    "      xytext=(-16,-10),\n",
    "      textcoords = 'offset points',\n",
    "      ha = 'left',\n",
    "      va = 'center_baseline',\n",
    "      fontsize=12,\n",
    "      color='white'\n",
    "    )"
   ]
  },
  {
   "cell_type": "code",
   "execution_count": 57,
   "id": "a2840474",
   "metadata": {},
   "outputs": [],
   "source": [
    "#Atribuindo Cores para o gráfico dos tipos de crimes realizados em Vancouver. \n",
    "azul_claro = '#0000CD'\n",
    "azul_escuro = '#00008B'\n",
    "cinza_claro = '#CFCDCE'\n",
    "cinza_medio = '#A2A1A3'\n",
    "cinza_escuro = '#787878'"
   ]
  },
  {
   "cell_type": "code",
   "execution_count": 67,
   "id": "ae677d0d",
   "metadata": {},
   "outputs": [
    {
     "data": {
      "image/png": "[encoded data removed]",
      "text/plain": [
       "<Figure size 360x216 with 1 Axes>"
      ]
     },
     "metadata": {},
     "output_type": "display_data"
    }
   ],
   "source": [
    "cores_grafico01 = [azul_escuro,azul_claro]\n",
    "\n",
    "# Criando \n",
    "fig, ax = plt.subplots(figsize=(5,3))\n",
    "width = 0.9\n",
    "df_autismo_count = ax.bar(df_autismo_contagem.Autismo, df_autismo_contagem.Quantidade, width, color=cores_grafico01, align='center')\n",
    "          \n",
    "# Removendo os grids e eixos do gráfico\n",
    "ax.spines['bottom'].set_visible(False)\n",
    "ax.spines['left'].set_visible(False)\n",
    "ax.spines['right'].set_visible(False)\n",
    "ax.spines['top'].set_visible(False)\n",
    "\n",
    "# Removendo eixo y\n",
    "plt.gca().axes.get_yaxis().set_visible(False)\n",
    "\n",
    "# labels do eixo\n",
    "plt.xticks(rotation=80)\n",
    "\n",
    "# Variável utilizar para determinar a distância do texto do título do eixo y. \n",
    "x_text_antes = 0.7\n",
    "\n",
    "# Adicionando um Título ao gráfico\n",
    "plt.text(x= x_text_antes, y=1.1,\n",
    "         s='Crianças sem a presença do diagnóstico de $\\\\bf{TEA}$\\n'\n",
    "         'são os mais recorrentes',\n",
    "         horizontalalignment='center',\n",
    "         verticalalignment='center', fontsize=14, color=azul_escuro, transform=ax.transAxes)\n",
    "\n",
    "#Chamando a função que irá adicionar os rótulos dos valores para cada categoria dos tipos de crimes. \n",
    "set_label_y_in_bar(df_autismo_count)\n",
    "plt.show()"
   ]
  },
  {
   "cell_type": "code",
   "execution_count": 60,
   "id": "ba156954",
   "metadata": {},
   "outputs": [],
   "source": [
    "# Adicionando a contagem das crianças classificadas com TEA com uso do classificador.\n",
    "df_classeASD = df_autismo['Class/ASD'].value_counts().reset_index()"
   ]
  },
  {
   "cell_type": "code",
   "execution_count": 61,
   "id": "322de6f1",
   "metadata": {},
   "outputs": [],
   "source": [
    "# Renomeando os atributos.\n",
    "df_classeASD.rename(columns={'index':'ClasseASD', 'Class/ASD':'Quantidade'}, inplace=True)"
   ]
  },
  {
   "cell_type": "code",
   "execution_count": 62,
   "id": "7cac0cb2",
   "metadata": {},
   "outputs": [
    {
     "data": {
      "text/html": [
       "<div>\n",
       "<style scoped>\n",
       "    .dataframe tbody tr th:only-of-type {\n",
       "        vertical-align: middle;\n",
       "    }\n",
       "\n",
       "    .dataframe tbody tr th {\n",
       "        vertical-align: top;\n",
       "    }\n",
       "\n",
       "    .dataframe thead th {\n",
       "        text-align: right;\n",
       "    }\n",
       "</style>\n",
       "<table border=\"1\" class=\"dataframe\">\n",
       "  <thead>\n",
       "    <tr style=\"text-align: right;\">\n",
       "      <th></th>\n",
       "      <th>ClasseASD</th>\n",
       "      <th>Quantidade</th>\n",
       "    </tr>\n",
       "  </thead>\n",
       "  <tbody>\n",
       "    <tr>\n",
       "      <th>0</th>\n",
       "      <td>NO</td>\n",
       "      <td>699</td>\n",
       "    </tr>\n",
       "    <tr>\n",
       "      <th>1</th>\n",
       "      <td>YES</td>\n",
       "      <td>391</td>\n",
       "    </tr>\n",
       "  </tbody>\n",
       "</table>\n",
       "</div>"
      ],
      "text/plain": [
       "  ClasseASD  Quantidade\n",
       "0        NO         699\n",
       "1       YES         391"
      ]
     },
     "execution_count": 62,
     "metadata": {},
     "output_type": "execute_result"
    }
   ],
   "source": [
    "df_classeASD.head()"
   ]
  },
  {
   "cell_type": "code",
   "execution_count": 64,
   "id": "04cb0c2d",
   "metadata": {},
   "outputs": [
    {
     "data": {
      "image/png": "[encoded data removed]",
      "text/plain": [
       "<Figure size 432x288 with 1 Axes>"
      ]
     },
     "metadata": {},
     "output_type": "display_data"
    }
   ],
   "source": [
    "# Criando \n",
    "fig, ax = plt.subplots(figsize=(6,4))\n",
    "width = 0.9\n",
    "df_autismo_count_ASD = ax.bar(df_classeASD.ClasseASD, df_classeASD.Quantidade, width, color=cores_grafico01, align='center')\n",
    "          \n",
    "# Removendo os grids e eixos do gráfico\n",
    "ax.spines['bottom'].set_visible(False)\n",
    "ax.spines['left'].set_visible(False)\n",
    "ax.spines['right'].set_visible(False)\n",
    "ax.spines['top'].set_visible(False)\n",
    "\n",
    "# Removendo eixo y\n",
    "plt.gca().axes.get_yaxis().set_visible(False)\n",
    "\n",
    "# labels do eixo\n",
    "plt.xticks(rotation=80)\n",
    "\n",
    "# Variável utilizar para determinar a distância do texto do título do eixo y. \n",
    "x_text_antes = 0.7\n",
    "\n",
    "# Adicionando um Título ao gráfico\n",
    "plt.text(x= x_text_antes, y=1.1,\n",
    "         s='Crianças com diagnóstico de $\\\\bf{TEA}$\\n'\n",
    "         'são quase 40% do total',\n",
    "         horizontalalignment='center',\n",
    "         verticalalignment='center', fontsize=16, color=azul_escuro, transform=ax.transAxes)\n",
    "\n",
    "#Chamando a função que irá adicionar os rótulos dos valores para cada categoria dos tipos de crimes. \n",
    "set_label_y_in_bar(df_autismo_count_ASD)\n",
    "plt.show()"
   ]
  },
  {
   "cell_type": "code",
   "execution_count": 105,
   "id": "20956a22",
   "metadata": {
    "scrolled": false
   },
   "outputs": [
    {
     "data": {
      "image/png": "[encoded data removed]",
      "text/plain": [
       "<Figure size 576x432 with 1 Axes>"
      ]
     },
     "metadata": {},
     "output_type": "display_data"
    }
   ],
   "source": [
    "sns.countplot(data=df_autismo, x= 'austim', hue=\"Grup\");\n"
   ]
  },
  {
   "cell_type": "code",
   "execution_count": 114,
   "id": "58b0e32d",
   "metadata": {},
   "outputs": [
    {
     "data": {
      "image/png": "[encoded data removed]",
      "text/plain": [
       "<Figure size 576x432 with 1 Axes>"
      ]
     },
     "metadata": {},
     "output_type": "display_data"
    }
   ],
   "source": [
    "sns.countplot(data=df_autismo, y=\"result numeric\",  order = df_autismo[\"result numeric\"].value_counts().index);"
   ]
  },
  {
   "cell_type": "code",
   "execution_count": 93,
   "id": "7ed7edec",
   "metadata": {},
   "outputs": [
    {
     "data": {
      "image/png": "[encoded data removed]",
      "text/plain": [
       "<Figure size 576x432 with 1 Axes>"
      ]
     },
     "metadata": {},
     "output_type": "display_data"
    }
   ],
   "source": [
    "sns.countplot(df_autismo.Grup, hue=df_autismo.austim, color = azul_claro)\n",
    "plt.title('Histograma de Frequência das crianças com TEA')\n",
    "plt.xlabel('')\n",
    "#plt.spines['bottom'].set_visible(False)\n",
    "plt.show()"
   ]
  },
  {
   "cell_type": "code",
   "execution_count": 13,
   "id": "d8beaf50",
   "metadata": {},
   "outputs": [
    {
     "data": {
      "image/png": "[encoded data removed]",
      "text/plain": [
       "<Figure size 576x432 with 1 Axes>"
      ]
     },
     "metadata": {},
     "output_type": "display_data"
    }
   ],
   "source": [
    "sns.countplot(df_autismo.Grup, hue=df_autismo['Class/ASD'])\n",
    "plt.title('')\n",
    "plt.xlabel('')\n",
    "plt.show()"
   ]
  },
  {
   "cell_type": "code",
   "execution_count": 14,
   "id": "83f80406",
   "metadata": {},
   "outputs": [
    {
     "data": {
      "image/png": "[encoded data removed]",
      "text/plain": [
       "<Figure size 576x432 with 1 Axes>"
      ]
     },
     "metadata": {},
     "output_type": "display_data"
    }
   ],
   "source": [
    "sns.countplot(df_autismo.Grup, hue=df_autismo['result numeric'])\n",
    "plt.title('')\n",
    "plt.xlabel('')\n",
    "plt.show()"
   ]
  },
  {
   "cell_type": "code",
   "execution_count": null,
   "id": "1658be71",
   "metadata": {},
   "outputs": [],
   "source": []
  }
 ],
 "metadata": {
  "kernelspec": {
   "display_name": "Python 3",
   "language": "python",
   "name": "python3"
  },
  "language_info": {
   "codemirror_mode": {
    "name": "ipython",
    "version": 3
   },
   "file_extension": ".py",
   "mimetype": "text/x-python",
   "name": "python",
   "nbconvert_exporter": "python",
   "pygments_lexer": "ipython3",
   "version": "3.8.8"
  }
 },
 "nbformat": 4,
 "nbformat_minor": 5
}
