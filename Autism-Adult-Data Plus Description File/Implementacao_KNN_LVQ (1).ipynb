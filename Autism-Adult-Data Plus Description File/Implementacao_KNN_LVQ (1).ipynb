{
 "cells": [
  {
   "cell_type": "markdown",
   "metadata": {
    "id": "zAksba18R_i0"
   },
   "source": [
    "# Objetivo do Laboratório\n",
    "\n",
    "Permitir um primeiro contato do aluno com um modelo de Machine Learning e parte do seu pipeline básico de execução: \n",
    "\n",
    "* Carregamento dos dados\n",
    "* Pré-processamento dos dados\n",
    "* Instanciação do modelo  \n",
    "* Setup de parâmetros\n",
    "* Treinamento \n",
    "* Avaliação do modelo treinado"
   ]
  },
  {
   "cell_type": "code",
   "execution_count": 249,
   "metadata": {
    "colab": {
     "base_uri": "https://localhost:8080/"
    },
    "executionInfo": {
     "elapsed": 162,
     "status": "ok",
     "timestamp": 1642993738993,
     "user": {
      "displayName": "Liviany Reis Rodrigues",
      "photoUrl": "https://lh3.googleusercontent.com/a/default-user=s64",
      "userId": "13974134542734238498"
     },
     "user_tz": 180
    },
    "id": "ziiTbtFEQ9P-",
    "outputId": "37c96319-f460-4934-e0d9-522353b4c770"
   },
   "outputs": [
    {
     "name": "stdout",
     "output_type": "stream",
     "text": [
      "--2022-01-24 03:08:58--  https://archive.ics.uci.edu/ml/machine-learning-databases/glass/glass.data\n",
      "Resolving archive.ics.uci.edu (archive.ics.uci.edu)... 128.195.10.252\n",
      "Connecting to archive.ics.uci.edu (archive.ics.uci.edu)|128.195.10.252|:443... connected.\n",
      "HTTP request sent, awaiting response... 200 OK\n",
      "Length: 11903 (12K) [application/x-httpd-php]\n",
      "Saving to: ‘glass.data.3’\n",
      "\n",
      "glass.data.3        100%[===================>]  11.62K  --.-KB/s    in 0s      \n",
      "\n",
      "2022-01-24 03:08:58 (120 MB/s) - ‘glass.data.3’ saved [11903/11903]\n",
      "\n"
     ]
    }
   ],
   "source": [
    "!wget https://archive.ics.uci.edu/ml/machine-learning-databases/glass/glass.data\n"
   ]
  },
  {
   "cell_type": "markdown",
   "metadata": {
    "id": "RM2KkUsCR-gW"
   },
   "source": [
    "## Lendo e obtendo informações básicas"
   ]
  },
  {
   "cell_type": "code",
   "execution_count": 250,
   "metadata": {
    "executionInfo": {
     "elapsed": 115,
     "status": "ok",
     "timestamp": 1642993739006,
     "user": {
      "displayName": "Liviany Reis Rodrigues",
      "photoUrl": "https://lh3.googleusercontent.com/a/default-user=s64",
      "userId": "13974134542734238498"
     },
     "user_tz": 180
    },
    "id": "nNeWajLySL7o"
   },
   "outputs": [],
   "source": [
    "#Importando as bibliotecas\n",
    "import pandas as pd;\n",
    "import numpy as np;\n",
    "import seaborn as sns; sns.set();\n",
    "import matplotlib.pyplot as plt;\n",
    "import plotly.express as px;"
   ]
  },
  {
   "cell_type": "code",
   "execution_count": 251,
   "metadata": {
    "colab": {
     "base_uri": "https://localhost:8080/",
     "height": 205
    },
    "executionInfo": {
     "elapsed": 136,
     "status": "ok",
     "timestamp": 1642993739032,
     "user": {
      "displayName": "Liviany Reis Rodrigues",
      "photoUrl": "https://lh3.googleusercontent.com/a/default-user=s64",
      "userId": "13974134542734238498"
     },
     "user_tz": 180
    },
    "id": "vwPof5hwSX2o",
    "outputId": "060685bc-df90-4ae8-8787-2da6cdcbec22"
   },
   "outputs": [
    {
     "data": {
      "text/html": [
       "\n",
       "  <div id=\"df-a48c8e4b-4fed-459c-8f53-058bd569366b\">\n",
       "    <div class=\"colab-df-container\">\n",
       "      <div>\n",
       "<style scoped>\n",
       "    .dataframe tbody tr th:only-of-type {\n",
       "        vertical-align: middle;\n",
       "    }\n",
       "\n",
       "    .dataframe tbody tr th {\n",
       "        vertical-align: top;\n",
       "    }\n",
       "\n",
       "    .dataframe thead th {\n",
       "        text-align: right;\n",
       "    }\n",
       "</style>\n",
       "<table border=\"1\" class=\"dataframe\">\n",
       "  <thead>\n",
       "    <tr style=\"text-align: right;\">\n",
       "      <th></th>\n",
       "      <th>0</th>\n",
       "      <th>1</th>\n",
       "      <th>2</th>\n",
       "      <th>3</th>\n",
       "      <th>4</th>\n",
       "      <th>5</th>\n",
       "      <th>6</th>\n",
       "      <th>7</th>\n",
       "      <th>8</th>\n",
       "      <th>9</th>\n",
       "      <th>10</th>\n",
       "    </tr>\n",
       "  </thead>\n",
       "  <tbody>\n",
       "    <tr>\n",
       "      <th>0</th>\n",
       "      <td>1</td>\n",
       "      <td>1.52101</td>\n",
       "      <td>13.64</td>\n",
       "      <td>4.49</td>\n",
       "      <td>1.10</td>\n",
       "      <td>71.78</td>\n",
       "      <td>0.06</td>\n",
       "      <td>8.75</td>\n",
       "      <td>0.0</td>\n",
       "      <td>0.0</td>\n",
       "      <td>1</td>\n",
       "    </tr>\n",
       "    <tr>\n",
       "      <th>1</th>\n",
       "      <td>2</td>\n",
       "      <td>1.51761</td>\n",
       "      <td>13.89</td>\n",
       "      <td>3.60</td>\n",
       "      <td>1.36</td>\n",
       "      <td>72.73</td>\n",
       "      <td>0.48</td>\n",
       "      <td>7.83</td>\n",
       "      <td>0.0</td>\n",
       "      <td>0.0</td>\n",
       "      <td>1</td>\n",
       "    </tr>\n",
       "    <tr>\n",
       "      <th>2</th>\n",
       "      <td>3</td>\n",
       "      <td>1.51618</td>\n",
       "      <td>13.53</td>\n",
       "      <td>3.55</td>\n",
       "      <td>1.54</td>\n",
       "      <td>72.99</td>\n",
       "      <td>0.39</td>\n",
       "      <td>7.78</td>\n",
       "      <td>0.0</td>\n",
       "      <td>0.0</td>\n",
       "      <td>1</td>\n",
       "    </tr>\n",
       "    <tr>\n",
       "      <th>3</th>\n",
       "      <td>4</td>\n",
       "      <td>1.51766</td>\n",
       "      <td>13.21</td>\n",
       "      <td>3.69</td>\n",
       "      <td>1.29</td>\n",
       "      <td>72.61</td>\n",
       "      <td>0.57</td>\n",
       "      <td>8.22</td>\n",
       "      <td>0.0</td>\n",
       "      <td>0.0</td>\n",
       "      <td>1</td>\n",
       "    </tr>\n",
       "    <tr>\n",
       "      <th>4</th>\n",
       "      <td>5</td>\n",
       "      <td>1.51742</td>\n",
       "      <td>13.27</td>\n",
       "      <td>3.62</td>\n",
       "      <td>1.24</td>\n",
       "      <td>73.08</td>\n",
       "      <td>0.55</td>\n",
       "      <td>8.07</td>\n",
       "      <td>0.0</td>\n",
       "      <td>0.0</td>\n",
       "      <td>1</td>\n",
       "    </tr>\n",
       "  </tbody>\n",
       "</table>\n",
       "</div>\n",
       "      <button class=\"colab-df-convert\" onclick=\"convertToInteractive('df-a48c8e4b-4fed-459c-8f53-058bd569366b')\"\n",
       "              title=\"Convert this dataframe to an interactive table.\"\n",
       "              style=\"display:none;\">\n",
       "        \n",
       "  <svg xmlns=\"http://www.w3.org/2000/svg\" height=\"24px\"viewBox=\"0 0 24 24\"\n",
       "       width=\"24px\">\n",
       "    <path d=\"M0 0h24v24H0V0z\" fill=\"none\"/>\n",
       "    <path d=\"M18.56 5.44l.94 2.06.94-2.06 2.06-.94-2.06-.94-.94-2.06-.94 2.06-2.06.94zm-11 1L8.5 8.5l.94-2.06 2.06-.94-2.06-.94L8.5 2.5l-.94 2.06-2.06.94zm10 10l.94 2.06.94-2.06 2.06-.94-2.06-.94-.94-2.06-.94 2.06-2.06.94z\"/><path d=\"M17.41 7.96l-1.37-1.37c-.4-.4-.92-.59-1.43-.59-.52 0-1.04.2-1.43.59L10.3 9.45l-7.72 7.72c-.78.78-.78 2.05 0 2.83L4 21.41c.39.39.9.59 1.41.59.51 0 1.02-.2 1.41-.59l7.78-7.78 2.81-2.81c.8-.78.8-2.07 0-2.86zM5.41 20L4 18.59l7.72-7.72 1.47 1.35L5.41 20z\"/>\n",
       "  </svg>\n",
       "      </button>\n",
       "      \n",
       "  <style>\n",
       "    .colab-df-container {\n",
       "      display:flex;\n",
       "      flex-wrap:wrap;\n",
       "      gap: 12px;\n",
       "    }\n",
       "\n",
       "    .colab-df-convert {\n",
       "      background-color: #E8F0FE;\n",
       "      border: none;\n",
       "      border-radius: 50%;\n",
       "      cursor: pointer;\n",
       "      display: none;\n",
       "      fill: #1967D2;\n",
       "      height: 32px;\n",
       "      padding: 0 0 0 0;\n",
       "      width: 32px;\n",
       "    }\n",
       "\n",
       "    .colab-df-convert:hover {\n",
       "      background-color: #E2EBFA;\n",
       "      box-shadow: 0px 1px 2px rgba(60, 64, 67, 0.3), 0px 1px 3px 1px rgba(60, 64, 67, 0.15);\n",
       "      fill: #174EA6;\n",
       "    }\n",
       "\n",
       "    [theme=dark] .colab-df-convert {\n",
       "      background-color: #3B4455;\n",
       "      fill: #D2E3FC;\n",
       "    }\n",
       "\n",
       "    [theme=dark] .colab-df-convert:hover {\n",
       "      background-color: #434B5C;\n",
       "      box-shadow: 0px 1px 3px 1px rgba(0, 0, 0, 0.15);\n",
       "      filter: drop-shadow(0px 1px 2px rgba(0, 0, 0, 0.3));\n",
       "      fill: #FFFFFF;\n",
       "    }\n",
       "  </style>\n",
       "\n",
       "      <script>\n",
       "        const buttonEl =\n",
       "          document.querySelector('#df-a48c8e4b-4fed-459c-8f53-058bd569366b button.colab-df-convert');\n",
       "        buttonEl.style.display =\n",
       "          google.colab.kernel.accessAllowed ? 'block' : 'none';\n",
       "\n",
       "        async function convertToInteractive(key) {\n",
       "          const element = document.querySelector('#df-a48c8e4b-4fed-459c-8f53-058bd569366b');\n",
       "          const dataTable =\n",
       "            await google.colab.kernel.invokeFunction('convertToInteractive',\n",
       "                                                     [key], {});\n",
       "          if (!dataTable) return;\n",
       "\n",
       "          const docLinkHtml = 'Like what you see? Visit the ' +\n",
       "            '<a target=\"_blank\" href=https://colab.research.google.com/notebooks/data_table.ipynb>data table notebook</a>'\n",
       "            + ' to learn more about interactive tables.';\n",
       "          element.innerHTML = '';\n",
       "          dataTable['output_type'] = 'display_data';\n",
       "          await google.colab.output.renderOutput(dataTable, element);\n",
       "          const docLink = document.createElement('div');\n",
       "          docLink.innerHTML = docLinkHtml;\n",
       "          element.appendChild(docLink);\n",
       "        }\n",
       "      </script>\n",
       "    </div>\n",
       "  </div>\n",
       "  "
      ],
      "text/plain": [
       "   0        1      2     3     4      5     6     7    8    9   10\n",
       "0   1  1.52101  13.64  4.49  1.10  71.78  0.06  8.75  0.0  0.0   1\n",
       "1   2  1.51761  13.89  3.60  1.36  72.73  0.48  7.83  0.0  0.0   1\n",
       "2   3  1.51618  13.53  3.55  1.54  72.99  0.39  7.78  0.0  0.0   1\n",
       "3   4  1.51766  13.21  3.69  1.29  72.61  0.57  8.22  0.0  0.0   1\n",
       "4   5  1.51742  13.27  3.62  1.24  73.08  0.55  8.07  0.0  0.0   1"
      ]
     },
     "execution_count": 251,
     "metadata": {},
     "output_type": "execute_result"
    }
   ],
   "source": [
    "df_class = pd.read_csv(\"glass.data\", header = None)\n",
    "df_class.head()"
   ]
  },
  {
   "cell_type": "code",
   "execution_count": 252,
   "metadata": {
    "executionInfo": {
     "elapsed": 1320,
     "status": "ok",
     "timestamp": 1642993740227,
     "user": {
      "displayName": "Liviany Reis Rodrigues",
      "photoUrl": "https://lh3.googleusercontent.com/a/default-user=s64",
      "userId": "13974134542734238498"
     },
     "user_tz": 180
    },
    "id": "oIAcFT4eSnhr"
   },
   "outputs": [],
   "source": [
    "#Removendo a coluna de id que não será utilizada pelo modelo\n",
    "df_class.drop(columns=0, inplace=True)"
   ]
  },
  {
   "cell_type": "code",
   "execution_count": 253,
   "metadata": {
    "colab": {
     "base_uri": "https://localhost:8080/",
     "height": 205
    },
    "executionInfo": {
     "elapsed": 610,
     "status": "ok",
     "timestamp": 1642993740341,
     "user": {
      "displayName": "Liviany Reis Rodrigues",
      "photoUrl": "https://lh3.googleusercontent.com/a/default-user=s64",
      "userId": "13974134542734238498"
     },
     "user_tz": 180
    },
    "id": "np9XRECVS6Cv",
    "outputId": "f9ce3af0-373f-4b85-da3d-b2b1a13a1bbb"
   },
   "outputs": [
    {
     "data": {
      "text/html": [
       "\n",
       "  <div id=\"df-3351a4be-cfcd-4c37-b53c-690a82a8e8a4\">\n",
       "    <div class=\"colab-df-container\">\n",
       "      <div>\n",
       "<style scoped>\n",
       "    .dataframe tbody tr th:only-of-type {\n",
       "        vertical-align: middle;\n",
       "    }\n",
       "\n",
       "    .dataframe tbody tr th {\n",
       "        vertical-align: top;\n",
       "    }\n",
       "\n",
       "    .dataframe thead th {\n",
       "        text-align: right;\n",
       "    }\n",
       "</style>\n",
       "<table border=\"1\" class=\"dataframe\">\n",
       "  <thead>\n",
       "    <tr style=\"text-align: right;\">\n",
       "      <th></th>\n",
       "      <th>1</th>\n",
       "      <th>2</th>\n",
       "      <th>3</th>\n",
       "      <th>4</th>\n",
       "      <th>5</th>\n",
       "      <th>6</th>\n",
       "      <th>7</th>\n",
       "      <th>8</th>\n",
       "      <th>9</th>\n",
       "      <th>10</th>\n",
       "    </tr>\n",
       "  </thead>\n",
       "  <tbody>\n",
       "    <tr>\n",
       "      <th>0</th>\n",
       "      <td>1.52101</td>\n",
       "      <td>13.64</td>\n",
       "      <td>4.49</td>\n",
       "      <td>1.10</td>\n",
       "      <td>71.78</td>\n",
       "      <td>0.06</td>\n",
       "      <td>8.75</td>\n",
       "      <td>0.0</td>\n",
       "      <td>0.0</td>\n",
       "      <td>1</td>\n",
       "    </tr>\n",
       "    <tr>\n",
       "      <th>1</th>\n",
       "      <td>1.51761</td>\n",
       "      <td>13.89</td>\n",
       "      <td>3.60</td>\n",
       "      <td>1.36</td>\n",
       "      <td>72.73</td>\n",
       "      <td>0.48</td>\n",
       "      <td>7.83</td>\n",
       "      <td>0.0</td>\n",
       "      <td>0.0</td>\n",
       "      <td>1</td>\n",
       "    </tr>\n",
       "    <tr>\n",
       "      <th>2</th>\n",
       "      <td>1.51618</td>\n",
       "      <td>13.53</td>\n",
       "      <td>3.55</td>\n",
       "      <td>1.54</td>\n",
       "      <td>72.99</td>\n",
       "      <td>0.39</td>\n",
       "      <td>7.78</td>\n",
       "      <td>0.0</td>\n",
       "      <td>0.0</td>\n",
       "      <td>1</td>\n",
       "    </tr>\n",
       "    <tr>\n",
       "      <th>3</th>\n",
       "      <td>1.51766</td>\n",
       "      <td>13.21</td>\n",
       "      <td>3.69</td>\n",
       "      <td>1.29</td>\n",
       "      <td>72.61</td>\n",
       "      <td>0.57</td>\n",
       "      <td>8.22</td>\n",
       "      <td>0.0</td>\n",
       "      <td>0.0</td>\n",
       "      <td>1</td>\n",
       "    </tr>\n",
       "    <tr>\n",
       "      <th>4</th>\n",
       "      <td>1.51742</td>\n",
       "      <td>13.27</td>\n",
       "      <td>3.62</td>\n",
       "      <td>1.24</td>\n",
       "      <td>73.08</td>\n",
       "      <td>0.55</td>\n",
       "      <td>8.07</td>\n",
       "      <td>0.0</td>\n",
       "      <td>0.0</td>\n",
       "      <td>1</td>\n",
       "    </tr>\n",
       "  </tbody>\n",
       "</table>\n",
       "</div>\n",
       "      <button class=\"colab-df-convert\" onclick=\"convertToInteractive('df-3351a4be-cfcd-4c37-b53c-690a82a8e8a4')\"\n",
       "              title=\"Convert this dataframe to an interactive table.\"\n",
       "              style=\"display:none;\">\n",
       "        \n",
       "  <svg xmlns=\"http://www.w3.org/2000/svg\" height=\"24px\"viewBox=\"0 0 24 24\"\n",
       "       width=\"24px\">\n",
       "    <path d=\"M0 0h24v24H0V0z\" fill=\"none\"/>\n",
       "    <path d=\"M18.56 5.44l.94 2.06.94-2.06 2.06-.94-2.06-.94-.94-2.06-.94 2.06-2.06.94zm-11 1L8.5 8.5l.94-2.06 2.06-.94-2.06-.94L8.5 2.5l-.94 2.06-2.06.94zm10 10l.94 2.06.94-2.06 2.06-.94-2.06-.94-.94-2.06-.94 2.06-2.06.94z\"/><path d=\"M17.41 7.96l-1.37-1.37c-.4-.4-.92-.59-1.43-.59-.52 0-1.04.2-1.43.59L10.3 9.45l-7.72 7.72c-.78.78-.78 2.05 0 2.83L4 21.41c.39.39.9.59 1.41.59.51 0 1.02-.2 1.41-.59l7.78-7.78 2.81-2.81c.8-.78.8-2.07 0-2.86zM5.41 20L4 18.59l7.72-7.72 1.47 1.35L5.41 20z\"/>\n",
       "  </svg>\n",
       "      </button>\n",
       "      \n",
       "  <style>\n",
       "    .colab-df-container {\n",
       "      display:flex;\n",
       "      flex-wrap:wrap;\n",
       "      gap: 12px;\n",
       "    }\n",
       "\n",
       "    .colab-df-convert {\n",
       "      background-color: #E8F0FE;\n",
       "      border: none;\n",
       "      border-radius: 50%;\n",
       "      cursor: pointer;\n",
       "      display: none;\n",
       "      fill: #1967D2;\n",
       "      height: 32px;\n",
       "      padding: 0 0 0 0;\n",
       "      width: 32px;\n",
       "    }\n",
       "\n",
       "    .colab-df-convert:hover {\n",
       "      background-color: #E2EBFA;\n",
       "      box-shadow: 0px 1px 2px rgba(60, 64, 67, 0.3), 0px 1px 3px 1px rgba(60, 64, 67, 0.15);\n",
       "      fill: #174EA6;\n",
       "    }\n",
       "\n",
       "    [theme=dark] .colab-df-convert {\n",
       "      background-color: #3B4455;\n",
       "      fill: #D2E3FC;\n",
       "    }\n",
       "\n",
       "    [theme=dark] .colab-df-convert:hover {\n",
       "      background-color: #434B5C;\n",
       "      box-shadow: 0px 1px 3px 1px rgba(0, 0, 0, 0.15);\n",
       "      filter: drop-shadow(0px 1px 2px rgba(0, 0, 0, 0.3));\n",
       "      fill: #FFFFFF;\n",
       "    }\n",
       "  </style>\n",
       "\n",
       "      <script>\n",
       "        const buttonEl =\n",
       "          document.querySelector('#df-3351a4be-cfcd-4c37-b53c-690a82a8e8a4 button.colab-df-convert');\n",
       "        buttonEl.style.display =\n",
       "          google.colab.kernel.accessAllowed ? 'block' : 'none';\n",
       "\n",
       "        async function convertToInteractive(key) {\n",
       "          const element = document.querySelector('#df-3351a4be-cfcd-4c37-b53c-690a82a8e8a4');\n",
       "          const dataTable =\n",
       "            await google.colab.kernel.invokeFunction('convertToInteractive',\n",
       "                                                     [key], {});\n",
       "          if (!dataTable) return;\n",
       "\n",
       "          const docLinkHtml = 'Like what you see? Visit the ' +\n",
       "            '<a target=\"_blank\" href=https://colab.research.google.com/notebooks/data_table.ipynb>data table notebook</a>'\n",
       "            + ' to learn more about interactive tables.';\n",
       "          element.innerHTML = '';\n",
       "          dataTable['output_type'] = 'display_data';\n",
       "          await google.colab.output.renderOutput(dataTable, element);\n",
       "          const docLink = document.createElement('div');\n",
       "          docLink.innerHTML = docLinkHtml;\n",
       "          element.appendChild(docLink);\n",
       "        }\n",
       "      </script>\n",
       "    </div>\n",
       "  </div>\n",
       "  "
      ],
      "text/plain": [
       "        1      2     3     4      5     6     7    8    9   10\n",
       "0  1.52101  13.64  4.49  1.10  71.78  0.06  8.75  0.0  0.0   1\n",
       "1  1.51761  13.89  3.60  1.36  72.73  0.48  7.83  0.0  0.0   1\n",
       "2  1.51618  13.53  3.55  1.54  72.99  0.39  7.78  0.0  0.0   1\n",
       "3  1.51766  13.21  3.69  1.29  72.61  0.57  8.22  0.0  0.0   1\n",
       "4  1.51742  13.27  3.62  1.24  73.08  0.55  8.07  0.0  0.0   1"
      ]
     },
     "execution_count": 253,
     "metadata": {},
     "output_type": "execute_result"
    }
   ],
   "source": [
    "df_class.head()"
   ]
  },
  {
   "cell_type": "code",
   "execution_count": 254,
   "metadata": {
    "executionInfo": {
     "elapsed": 602,
     "status": "ok",
     "timestamp": 1642993740347,
     "user": {
      "displayName": "Liviany Reis Rodrigues",
      "photoUrl": "https://lh3.googleusercontent.com/a/default-user=s64",
      "userId": "13974134542734238498"
     },
     "user_tz": 180
    },
    "id": "q8jrjuP-VOxE"
   },
   "outputs": [],
   "source": [
    "#Renomeando as colunas\n",
    "df_class.columns = [\"RI\", \"Na\", \"Mg\", \"Al\", \"Si\",\"K\",\"Ca\",\"Ba\",\"Fe\",\"Type\"]"
   ]
  },
  {
   "cell_type": "code",
   "execution_count": 255,
   "metadata": {
    "colab": {
     "base_uri": "https://localhost:8080/",
     "height": 205
    },
    "executionInfo": {
     "elapsed": 598,
     "status": "ok",
     "timestamp": 1642993740355,
     "user": {
      "displayName": "Liviany Reis Rodrigues",
      "photoUrl": "https://lh3.googleusercontent.com/a/default-user=s64",
      "userId": "13974134542734238498"
     },
     "user_tz": 180
    },
    "id": "iw14QoY7WBv8",
    "outputId": "1b2b4296-2f50-40a8-c8ef-bc0570beeab5"
   },
   "outputs": [
    {
     "data": {
      "text/html": [
       "\n",
       "  <div id=\"df-54a19725-bb39-46c0-8a09-be3e8b1c9f7d\">\n",
       "    <div class=\"colab-df-container\">\n",
       "      <div>\n",
       "<style scoped>\n",
       "    .dataframe tbody tr th:only-of-type {\n",
       "        vertical-align: middle;\n",
       "    }\n",
       "\n",
       "    .dataframe tbody tr th {\n",
       "        vertical-align: top;\n",
       "    }\n",
       "\n",
       "    .dataframe thead th {\n",
       "        text-align: right;\n",
       "    }\n",
       "</style>\n",
       "<table border=\"1\" class=\"dataframe\">\n",
       "  <thead>\n",
       "    <tr style=\"text-align: right;\">\n",
       "      <th></th>\n",
       "      <th>RI</th>\n",
       "      <th>Na</th>\n",
       "      <th>Mg</th>\n",
       "      <th>Al</th>\n",
       "      <th>Si</th>\n",
       "      <th>K</th>\n",
       "      <th>Ca</th>\n",
       "      <th>Ba</th>\n",
       "      <th>Fe</th>\n",
       "      <th>Type</th>\n",
       "    </tr>\n",
       "  </thead>\n",
       "  <tbody>\n",
       "    <tr>\n",
       "      <th>0</th>\n",
       "      <td>1.52101</td>\n",
       "      <td>13.64</td>\n",
       "      <td>4.49</td>\n",
       "      <td>1.10</td>\n",
       "      <td>71.78</td>\n",
       "      <td>0.06</td>\n",
       "      <td>8.75</td>\n",
       "      <td>0.0</td>\n",
       "      <td>0.0</td>\n",
       "      <td>1</td>\n",
       "    </tr>\n",
       "    <tr>\n",
       "      <th>1</th>\n",
       "      <td>1.51761</td>\n",
       "      <td>13.89</td>\n",
       "      <td>3.60</td>\n",
       "      <td>1.36</td>\n",
       "      <td>72.73</td>\n",
       "      <td>0.48</td>\n",
       "      <td>7.83</td>\n",
       "      <td>0.0</td>\n",
       "      <td>0.0</td>\n",
       "      <td>1</td>\n",
       "    </tr>\n",
       "    <tr>\n",
       "      <th>2</th>\n",
       "      <td>1.51618</td>\n",
       "      <td>13.53</td>\n",
       "      <td>3.55</td>\n",
       "      <td>1.54</td>\n",
       "      <td>72.99</td>\n",
       "      <td>0.39</td>\n",
       "      <td>7.78</td>\n",
       "      <td>0.0</td>\n",
       "      <td>0.0</td>\n",
       "      <td>1</td>\n",
       "    </tr>\n",
       "    <tr>\n",
       "      <th>3</th>\n",
       "      <td>1.51766</td>\n",
       "      <td>13.21</td>\n",
       "      <td>3.69</td>\n",
       "      <td>1.29</td>\n",
       "      <td>72.61</td>\n",
       "      <td>0.57</td>\n",
       "      <td>8.22</td>\n",
       "      <td>0.0</td>\n",
       "      <td>0.0</td>\n",
       "      <td>1</td>\n",
       "    </tr>\n",
       "    <tr>\n",
       "      <th>4</th>\n",
       "      <td>1.51742</td>\n",
       "      <td>13.27</td>\n",
       "      <td>3.62</td>\n",
       "      <td>1.24</td>\n",
       "      <td>73.08</td>\n",
       "      <td>0.55</td>\n",
       "      <td>8.07</td>\n",
       "      <td>0.0</td>\n",
       "      <td>0.0</td>\n",
       "      <td>1</td>\n",
       "    </tr>\n",
       "  </tbody>\n",
       "</table>\n",
       "</div>\n",
       "      <button class=\"colab-df-convert\" onclick=\"convertToInteractive('df-54a19725-bb39-46c0-8a09-be3e8b1c9f7d')\"\n",
       "              title=\"Convert this dataframe to an interactive table.\"\n",
       "              style=\"display:none;\">\n",
       "        \n",
       "  <svg xmlns=\"http://www.w3.org/2000/svg\" height=\"24px\"viewBox=\"0 0 24 24\"\n",
       "       width=\"24px\">\n",
       "    <path d=\"M0 0h24v24H0V0z\" fill=\"none\"/>\n",
       "    <path d=\"M18.56 5.44l.94 2.06.94-2.06 2.06-.94-2.06-.94-.94-2.06-.94 2.06-2.06.94zm-11 1L8.5 8.5l.94-2.06 2.06-.94-2.06-.94L8.5 2.5l-.94 2.06-2.06.94zm10 10l.94 2.06.94-2.06 2.06-.94-2.06-.94-.94-2.06-.94 2.06-2.06.94z\"/><path d=\"M17.41 7.96l-1.37-1.37c-.4-.4-.92-.59-1.43-.59-.52 0-1.04.2-1.43.59L10.3 9.45l-7.72 7.72c-.78.78-.78 2.05 0 2.83L4 21.41c.39.39.9.59 1.41.59.51 0 1.02-.2 1.41-.59l7.78-7.78 2.81-2.81c.8-.78.8-2.07 0-2.86zM5.41 20L4 18.59l7.72-7.72 1.47 1.35L5.41 20z\"/>\n",
       "  </svg>\n",
       "      </button>\n",
       "      \n",
       "  <style>\n",
       "    .colab-df-container {\n",
       "      display:flex;\n",
       "      flex-wrap:wrap;\n",
       "      gap: 12px;\n",
       "    }\n",
       "\n",
       "    .colab-df-convert {\n",
       "      background-color: #E8F0FE;\n",
       "      border: none;\n",
       "      border-radius: 50%;\n",
       "      cursor: pointer;\n",
       "      display: none;\n",
       "      fill: #1967D2;\n",
       "      height: 32px;\n",
       "      padding: 0 0 0 0;\n",
       "      width: 32px;\n",
       "    }\n",
       "\n",
       "    .colab-df-convert:hover {\n",
       "      background-color: #E2EBFA;\n",
       "      box-shadow: 0px 1px 2px rgba(60, 64, 67, 0.3), 0px 1px 3px 1px rgba(60, 64, 67, 0.15);\n",
       "      fill: #174EA6;\n",
       "    }\n",
       "\n",
       "    [theme=dark] .colab-df-convert {\n",
       "      background-color: #3B4455;\n",
       "      fill: #D2E3FC;\n",
       "    }\n",
       "\n",
       "    [theme=dark] .colab-df-convert:hover {\n",
       "      background-color: #434B5C;\n",
       "      box-shadow: 0px 1px 3px 1px rgba(0, 0, 0, 0.15);\n",
       "      filter: drop-shadow(0px 1px 2px rgba(0, 0, 0, 0.3));\n",
       "      fill: #FFFFFF;\n",
       "    }\n",
       "  </style>\n",
       "\n",
       "      <script>\n",
       "        const buttonEl =\n",
       "          document.querySelector('#df-54a19725-bb39-46c0-8a09-be3e8b1c9f7d button.colab-df-convert');\n",
       "        buttonEl.style.display =\n",
       "          google.colab.kernel.accessAllowed ? 'block' : 'none';\n",
       "\n",
       "        async function convertToInteractive(key) {\n",
       "          const element = document.querySelector('#df-54a19725-bb39-46c0-8a09-be3e8b1c9f7d');\n",
       "          const dataTable =\n",
       "            await google.colab.kernel.invokeFunction('convertToInteractive',\n",
       "                                                     [key], {});\n",
       "          if (!dataTable) return;\n",
       "\n",
       "          const docLinkHtml = 'Like what you see? Visit the ' +\n",
       "            '<a target=\"_blank\" href=https://colab.research.google.com/notebooks/data_table.ipynb>data table notebook</a>'\n",
       "            + ' to learn more about interactive tables.';\n",
       "          element.innerHTML = '';\n",
       "          dataTable['output_type'] = 'display_data';\n",
       "          await google.colab.output.renderOutput(dataTable, element);\n",
       "          const docLink = document.createElement('div');\n",
       "          docLink.innerHTML = docLinkHtml;\n",
       "          element.appendChild(docLink);\n",
       "        }\n",
       "      </script>\n",
       "    </div>\n",
       "  </div>\n",
       "  "
      ],
      "text/plain": [
       "        RI     Na    Mg    Al     Si     K    Ca   Ba   Fe  Type\n",
       "0  1.52101  13.64  4.49  1.10  71.78  0.06  8.75  0.0  0.0     1\n",
       "1  1.51761  13.89  3.60  1.36  72.73  0.48  7.83  0.0  0.0     1\n",
       "2  1.51618  13.53  3.55  1.54  72.99  0.39  7.78  0.0  0.0     1\n",
       "3  1.51766  13.21  3.69  1.29  72.61  0.57  8.22  0.0  0.0     1\n",
       "4  1.51742  13.27  3.62  1.24  73.08  0.55  8.07  0.0  0.0     1"
      ]
     },
     "execution_count": 255,
     "metadata": {},
     "output_type": "execute_result"
    }
   ],
   "source": [
    "df_class.head()"
   ]
  },
  {
   "cell_type": "code",
   "execution_count": 256,
   "metadata": {
    "colab": {
     "base_uri": "https://localhost:8080/",
     "height": 362
    },
    "executionInfo": {
     "elapsed": 589,
     "status": "ok",
     "timestamp": 1642993740361,
     "user": {
      "displayName": "Liviany Reis Rodrigues",
      "photoUrl": "https://lh3.googleusercontent.com/a/default-user=s64",
      "userId": "13974134542734238498"
     },
     "user_tz": 180
    },
    "id": "aL9foIB8dmEw",
    "outputId": "6d02ae0a-1717-45c1-9f6e-ca82296389ad"
   },
   "outputs": [
    {
     "data": {
      "text/html": [
       "\n",
       "  <div id=\"df-95b1e6e2-2e41-4da7-bc12-79c14c6b3b0d\">\n",
       "    <div class=\"colab-df-container\">\n",
       "      <div>\n",
       "<style scoped>\n",
       "    .dataframe tbody tr th:only-of-type {\n",
       "        vertical-align: middle;\n",
       "    }\n",
       "\n",
       "    .dataframe tbody tr th {\n",
       "        vertical-align: top;\n",
       "    }\n",
       "\n",
       "    .dataframe thead th {\n",
       "        text-align: right;\n",
       "    }\n",
       "</style>\n",
       "<table border=\"1\" class=\"dataframe\">\n",
       "  <thead>\n",
       "    <tr style=\"text-align: right;\">\n",
       "      <th></th>\n",
       "      <th>count</th>\n",
       "      <th>mean</th>\n",
       "      <th>std</th>\n",
       "      <th>min</th>\n",
       "      <th>25%</th>\n",
       "      <th>50%</th>\n",
       "      <th>75%</th>\n",
       "      <th>max</th>\n",
       "    </tr>\n",
       "  </thead>\n",
       "  <tbody>\n",
       "    <tr>\n",
       "      <th>RI</th>\n",
       "      <td>214.0</td>\n",
       "      <td>1.518365</td>\n",
       "      <td>0.003037</td>\n",
       "      <td>1.51115</td>\n",
       "      <td>1.516523</td>\n",
       "      <td>1.51768</td>\n",
       "      <td>1.519157</td>\n",
       "      <td>1.53393</td>\n",
       "    </tr>\n",
       "    <tr>\n",
       "      <th>Na</th>\n",
       "      <td>214.0</td>\n",
       "      <td>13.407850</td>\n",
       "      <td>0.816604</td>\n",
       "      <td>10.73000</td>\n",
       "      <td>12.907500</td>\n",
       "      <td>13.30000</td>\n",
       "      <td>13.825000</td>\n",
       "      <td>17.38000</td>\n",
       "    </tr>\n",
       "    <tr>\n",
       "      <th>Mg</th>\n",
       "      <td>214.0</td>\n",
       "      <td>2.684533</td>\n",
       "      <td>1.442408</td>\n",
       "      <td>0.00000</td>\n",
       "      <td>2.115000</td>\n",
       "      <td>3.48000</td>\n",
       "      <td>3.600000</td>\n",
       "      <td>4.49000</td>\n",
       "    </tr>\n",
       "    <tr>\n",
       "      <th>Al</th>\n",
       "      <td>214.0</td>\n",
       "      <td>1.444907</td>\n",
       "      <td>0.499270</td>\n",
       "      <td>0.29000</td>\n",
       "      <td>1.190000</td>\n",
       "      <td>1.36000</td>\n",
       "      <td>1.630000</td>\n",
       "      <td>3.50000</td>\n",
       "    </tr>\n",
       "    <tr>\n",
       "      <th>Si</th>\n",
       "      <td>214.0</td>\n",
       "      <td>72.650935</td>\n",
       "      <td>0.774546</td>\n",
       "      <td>69.81000</td>\n",
       "      <td>72.280000</td>\n",
       "      <td>72.79000</td>\n",
       "      <td>73.087500</td>\n",
       "      <td>75.41000</td>\n",
       "    </tr>\n",
       "    <tr>\n",
       "      <th>K</th>\n",
       "      <td>214.0</td>\n",
       "      <td>0.497056</td>\n",
       "      <td>0.652192</td>\n",
       "      <td>0.00000</td>\n",
       "      <td>0.122500</td>\n",
       "      <td>0.55500</td>\n",
       "      <td>0.610000</td>\n",
       "      <td>6.21000</td>\n",
       "    </tr>\n",
       "    <tr>\n",
       "      <th>Ca</th>\n",
       "      <td>214.0</td>\n",
       "      <td>8.956963</td>\n",
       "      <td>1.423153</td>\n",
       "      <td>5.43000</td>\n",
       "      <td>8.240000</td>\n",
       "      <td>8.60000</td>\n",
       "      <td>9.172500</td>\n",
       "      <td>16.19000</td>\n",
       "    </tr>\n",
       "    <tr>\n",
       "      <th>Ba</th>\n",
       "      <td>214.0</td>\n",
       "      <td>0.175047</td>\n",
       "      <td>0.497219</td>\n",
       "      <td>0.00000</td>\n",
       "      <td>0.000000</td>\n",
       "      <td>0.00000</td>\n",
       "      <td>0.000000</td>\n",
       "      <td>3.15000</td>\n",
       "    </tr>\n",
       "    <tr>\n",
       "      <th>Fe</th>\n",
       "      <td>214.0</td>\n",
       "      <td>0.057009</td>\n",
       "      <td>0.097439</td>\n",
       "      <td>0.00000</td>\n",
       "      <td>0.000000</td>\n",
       "      <td>0.00000</td>\n",
       "      <td>0.100000</td>\n",
       "      <td>0.51000</td>\n",
       "    </tr>\n",
       "    <tr>\n",
       "      <th>Type</th>\n",
       "      <td>214.0</td>\n",
       "      <td>2.780374</td>\n",
       "      <td>2.103739</td>\n",
       "      <td>1.00000</td>\n",
       "      <td>1.000000</td>\n",
       "      <td>2.00000</td>\n",
       "      <td>3.000000</td>\n",
       "      <td>7.00000</td>\n",
       "    </tr>\n",
       "  </tbody>\n",
       "</table>\n",
       "</div>\n",
       "      <button class=\"colab-df-convert\" onclick=\"convertToInteractive('df-95b1e6e2-2e41-4da7-bc12-79c14c6b3b0d')\"\n",
       "              title=\"Convert this dataframe to an interactive table.\"\n",
       "              style=\"display:none;\">\n",
       "        \n",
       "  <svg xmlns=\"http://www.w3.org/2000/svg\" height=\"24px\"viewBox=\"0 0 24 24\"\n",
       "       width=\"24px\">\n",
       "    <path d=\"M0 0h24v24H0V0z\" fill=\"none\"/>\n",
       "    <path d=\"M18.56 5.44l.94 2.06.94-2.06 2.06-.94-2.06-.94-.94-2.06-.94 2.06-2.06.94zm-11 1L8.5 8.5l.94-2.06 2.06-.94-2.06-.94L8.5 2.5l-.94 2.06-2.06.94zm10 10l.94 2.06.94-2.06 2.06-.94-2.06-.94-.94-2.06-.94 2.06-2.06.94z\"/><path d=\"M17.41 7.96l-1.37-1.37c-.4-.4-.92-.59-1.43-.59-.52 0-1.04.2-1.43.59L10.3 9.45l-7.72 7.72c-.78.78-.78 2.05 0 2.83L4 21.41c.39.39.9.59 1.41.59.51 0 1.02-.2 1.41-.59l7.78-7.78 2.81-2.81c.8-.78.8-2.07 0-2.86zM5.41 20L4 18.59l7.72-7.72 1.47 1.35L5.41 20z\"/>\n",
       "  </svg>\n",
       "      </button>\n",
       "      \n",
       "  <style>\n",
       "    .colab-df-container {\n",
       "      display:flex;\n",
       "      flex-wrap:wrap;\n",
       "      gap: 12px;\n",
       "    }\n",
       "\n",
       "    .colab-df-convert {\n",
       "      background-color: #E8F0FE;\n",
       "      border: none;\n",
       "      border-radius: 50%;\n",
       "      cursor: pointer;\n",
       "      display: none;\n",
       "      fill: #1967D2;\n",
       "      height: 32px;\n",
       "      padding: 0 0 0 0;\n",
       "      width: 32px;\n",
       "    }\n",
       "\n",
       "    .colab-df-convert:hover {\n",
       "      background-color: #E2EBFA;\n",
       "      box-shadow: 0px 1px 2px rgba(60, 64, 67, 0.3), 0px 1px 3px 1px rgba(60, 64, 67, 0.15);\n",
       "      fill: #174EA6;\n",
       "    }\n",
       "\n",
       "    [theme=dark] .colab-df-convert {\n",
       "      background-color: #3B4455;\n",
       "      fill: #D2E3FC;\n",
       "    }\n",
       "\n",
       "    [theme=dark] .colab-df-convert:hover {\n",
       "      background-color: #434B5C;\n",
       "      box-shadow: 0px 1px 3px 1px rgba(0, 0, 0, 0.15);\n",
       "      filter: drop-shadow(0px 1px 2px rgba(0, 0, 0, 0.3));\n",
       "      fill: #FFFFFF;\n",
       "    }\n",
       "  </style>\n",
       "\n",
       "      <script>\n",
       "        const buttonEl =\n",
       "          document.querySelector('#df-95b1e6e2-2e41-4da7-bc12-79c14c6b3b0d button.colab-df-convert');\n",
       "        buttonEl.style.display =\n",
       "          google.colab.kernel.accessAllowed ? 'block' : 'none';\n",
       "\n",
       "        async function convertToInteractive(key) {\n",
       "          const element = document.querySelector('#df-95b1e6e2-2e41-4da7-bc12-79c14c6b3b0d');\n",
       "          const dataTable =\n",
       "            await google.colab.kernel.invokeFunction('convertToInteractive',\n",
       "                                                     [key], {});\n",
       "          if (!dataTable) return;\n",
       "\n",
       "          const docLinkHtml = 'Like what you see? Visit the ' +\n",
       "            '<a target=\"_blank\" href=https://colab.research.google.com/notebooks/data_table.ipynb>data table notebook</a>'\n",
       "            + ' to learn more about interactive tables.';\n",
       "          element.innerHTML = '';\n",
       "          dataTable['output_type'] = 'display_data';\n",
       "          await google.colab.output.renderOutput(dataTable, element);\n",
       "          const docLink = document.createElement('div');\n",
       "          docLink.innerHTML = docLinkHtml;\n",
       "          element.appendChild(docLink);\n",
       "        }\n",
       "      </script>\n",
       "    </div>\n",
       "  </div>\n",
       "  "
      ],
      "text/plain": [
       "      count       mean       std  ...       50%        75%       max\n",
       "RI    214.0   1.518365  0.003037  ...   1.51768   1.519157   1.53393\n",
       "Na    214.0  13.407850  0.816604  ...  13.30000  13.825000  17.38000\n",
       "Mg    214.0   2.684533  1.442408  ...   3.48000   3.600000   4.49000\n",
       "Al    214.0   1.444907  0.499270  ...   1.36000   1.630000   3.50000\n",
       "Si    214.0  72.650935  0.774546  ...  72.79000  73.087500  75.41000\n",
       "K     214.0   0.497056  0.652192  ...   0.55500   0.610000   6.21000\n",
       "Ca    214.0   8.956963  1.423153  ...   8.60000   9.172500  16.19000\n",
       "Ba    214.0   0.175047  0.497219  ...   0.00000   0.000000   3.15000\n",
       "Fe    214.0   0.057009  0.097439  ...   0.00000   0.100000   0.51000\n",
       "Type  214.0   2.780374  2.103739  ...   2.00000   3.000000   7.00000\n",
       "\n",
       "[10 rows x 8 columns]"
      ]
     },
     "execution_count": 256,
     "metadata": {},
     "output_type": "execute_result"
    }
   ],
   "source": [
    "#Análise Estatísticas dos dados\n",
    "df_class.describe().T"
   ]
  },
  {
   "cell_type": "code",
   "execution_count": 257,
   "metadata": {
    "colab": {
     "base_uri": "https://localhost:8080/"
    },
    "executionInfo": {
     "elapsed": 584,
     "status": "ok",
     "timestamp": 1642993740368,
     "user": {
      "displayName": "Liviany Reis Rodrigues",
      "photoUrl": "https://lh3.googleusercontent.com/a/default-user=s64",
      "userId": "13974134542734238498"
     },
     "user_tz": 180
    },
    "id": "OPAcB2Q4SvQv",
    "outputId": "a9510346-6c89-4709-88ed-0256ae8b7770"
   },
   "outputs": [
    {
     "name": "stdout",
     "output_type": "stream",
     "text": [
      "<class 'pandas.core.frame.DataFrame'>\n",
      "RangeIndex: 214 entries, 0 to 213\n",
      "Data columns (total 10 columns):\n",
      " #   Column  Non-Null Count  Dtype  \n",
      "---  ------  --------------  -----  \n",
      " 0   RI      214 non-null    float64\n",
      " 1   Na      214 non-null    float64\n",
      " 2   Mg      214 non-null    float64\n",
      " 3   Al      214 non-null    float64\n",
      " 4   Si      214 non-null    float64\n",
      " 5   K       214 non-null    float64\n",
      " 6   Ca      214 non-null    float64\n",
      " 7   Ba      214 non-null    float64\n",
      " 8   Fe      214 non-null    float64\n",
      " 9   Type    214 non-null    int64  \n",
      "dtypes: float64(9), int64(1)\n",
      "memory usage: 16.8 KB\n"
     ]
    }
   ],
   "source": [
    "df_class.info()"
   ]
  },
  {
   "cell_type": "code",
   "execution_count": 258,
   "metadata": {
    "colab": {
     "base_uri": "https://localhost:8080/"
    },
    "executionInfo": {
     "elapsed": 564,
     "status": "ok",
     "timestamp": 1642993740374,
     "user": {
      "displayName": "Liviany Reis Rodrigues",
      "photoUrl": "https://lh3.googleusercontent.com/a/default-user=s64",
      "userId": "13974134542734238498"
     },
     "user_tz": 180
    },
    "id": "csNzkxLllA7b",
    "outputId": "66311a01-91d7-43dc-8c57-a28d6261cf75"
   },
   "outputs": [
    {
     "data": {
      "text/plain": [
       "(214, 10)"
      ]
     },
     "execution_count": 258,
     "metadata": {},
     "output_type": "execute_result"
    }
   ],
   "source": [
    "#Visualizando o total de linhas e colunas no dataset.\n",
    "df_class.shape"
   ]
  },
  {
   "cell_type": "markdown",
   "metadata": {
    "id": "HfJPosZpd6ep"
   },
   "source": [
    "# Dividindo em Treino e Teste"
   ]
  },
  {
   "cell_type": "code",
   "execution_count": 259,
   "metadata": {
    "executionInfo": {
     "elapsed": 580,
     "status": "ok",
     "timestamp": 1642993740403,
     "user": {
      "displayName": "Liviany Reis Rodrigues",
      "photoUrl": "https://lh3.googleusercontent.com/a/default-user=s64",
      "userId": "13974134542734238498"
     },
     "user_tz": 180
    },
    "id": "ZYMoCkqSeaer"
   },
   "outputs": [],
   "source": [
    "# Importando a biblioteca necessária para realizar a divisão\n",
    "from sklearn.model_selection import train_test_split"
   ]
  },
  {
   "cell_type": "code",
   "execution_count": 260,
   "metadata": {
    "executionInfo": {
     "elapsed": 622,
     "status": "ok",
     "timestamp": 1642993740455,
     "user": {
      "displayName": "Liviany Reis Rodrigues",
      "photoUrl": "https://lh3.googleusercontent.com/a/default-user=s64",
      "userId": "13974134542734238498"
     },
     "user_tz": 180
    },
    "id": "BAFVUyVtu2Q-"
   },
   "outputs": [],
   "source": [
    "y = df_class['Type']\n",
    "\n",
    "X = df_class.drop('Type',axis=1)"
   ]
  },
  {
   "cell_type": "code",
   "execution_count": 261,
   "metadata": {
    "executionInfo": {
     "elapsed": 623,
     "status": "ok",
     "timestamp": 1642993740461,
     "user": {
      "displayName": "Liviany Reis Rodrigues",
      "photoUrl": "https://lh3.googleusercontent.com/a/default-user=s64",
      "userId": "13974134542734238498"
     },
     "user_tz": 180
    },
    "id": "h4FGs5eMfKu6"
   },
   "outputs": [],
   "source": [
    "X_train, X_test, y_train, y_test = train_test_split(X, y, test_size=0.2, random_state=42, stratify=y)\n",
    "\n",
    "X_train, X_valid, y_train, y_valid = train_test_split(X_train, y_train, test_size=0.2, random_state=42, stratify=y_train)"
   ]
  },
  {
   "cell_type": "code",
   "execution_count": 262,
   "metadata": {
    "colab": {
     "base_uri": "https://localhost:8080/"
    },
    "executionInfo": {
     "elapsed": 627,
     "status": "ok",
     "timestamp": 1642993740468,
     "user": {
      "displayName": "Liviany Reis Rodrigues",
      "photoUrl": "https://lh3.googleusercontent.com/a/default-user=s64",
      "userId": "13974134542734238498"
     },
     "user_tz": 180
    },
    "id": "tFciT6WKlMX6",
    "outputId": "b6860ff4-19f2-49ec-93e0-f0cca38ef6cd"
   },
   "outputs": [
    {
     "data": {
      "text/plain": [
       "(136, 9)"
      ]
     },
     "execution_count": 262,
     "metadata": {},
     "output_type": "execute_result"
    }
   ],
   "source": [
    "#Visualizando o Total de instancias na base de treinamento\n",
    "X_train.shape"
   ]
  },
  {
   "cell_type": "code",
   "execution_count": 263,
   "metadata": {
    "colab": {
     "base_uri": "https://localhost:8080/"
    },
    "executionInfo": {
     "elapsed": 617,
     "status": "ok",
     "timestamp": 1642993740472,
     "user": {
      "displayName": "Liviany Reis Rodrigues",
      "photoUrl": "https://lh3.googleusercontent.com/a/default-user=s64",
      "userId": "13974134542734238498"
     },
     "user_tz": 180
    },
    "id": "hrcSoGQELNsc",
    "outputId": "a3b3cf5b-9a75-48e0-e621-6f5f40d021c8"
   },
   "outputs": [
    {
     "data": {
      "text/plain": [
       "(43, 9)"
      ]
     },
     "execution_count": 263,
     "metadata": {},
     "output_type": "execute_result"
    }
   ],
   "source": [
    "#Visualizando o Total de instancias na base de teste\n",
    "X_test.shape"
   ]
  },
  {
   "cell_type": "code",
   "execution_count": 264,
   "metadata": {
    "colab": {
     "base_uri": "https://localhost:8080/"
    },
    "executionInfo": {
     "elapsed": 608,
     "status": "ok",
     "timestamp": 1642993740478,
     "user": {
      "displayName": "Liviany Reis Rodrigues",
      "photoUrl": "https://lh3.googleusercontent.com/a/default-user=s64",
      "userId": "13974134542734238498"
     },
     "user_tz": 180
    },
    "id": "Th32_3OjlToc",
    "outputId": "09258f75-bba8-4586-8ca8-3560a937d8ce"
   },
   "outputs": [
    {
     "data": {
      "text/plain": [
       "(35, 9)"
      ]
     },
     "execution_count": 264,
     "metadata": {},
     "output_type": "execute_result"
    }
   ],
   "source": [
    "#Visualizando o Total de instancias na base de Validação\n",
    "X_valid.shape"
   ]
  },
  {
   "cell_type": "markdown",
   "metadata": {
    "id": "dYjrL2kxtY1B"
   },
   "source": [
    "# Instanciando o modelo \n",
    "\n",
    "TODO: Listar aqui alguns parâmetros importantes"
   ]
  },
  {
   "cell_type": "code",
   "execution_count": 265,
   "metadata": {
    "executionInfo": {
     "elapsed": 605,
     "status": "ok",
     "timestamp": 1642993740488,
     "user": {
      "displayName": "Liviany Reis Rodrigues",
      "photoUrl": "https://lh3.googleusercontent.com/a/default-user=s64",
      "userId": "13974134542734238498"
     },
     "user_tz": 180
    },
    "id": "sIeenKbVtWIW"
   },
   "outputs": [],
   "source": [
    "from sklearn.neighbors import KNeighborsClassifier\n",
    "\n",
    "knn = KNeighborsClassifier()"
   ]
  },
  {
   "cell_type": "markdown",
   "metadata": {
    "id": "sVf7qRVftjSa"
   },
   "source": [
    "# Treinando o Modelo"
   ]
  },
  {
   "cell_type": "code",
   "execution_count": 266,
   "metadata": {
    "colab": {
     "base_uri": "https://localhost:8080/"
    },
    "executionInfo": {
     "elapsed": 604,
     "status": "ok",
     "timestamp": 1642993740491,
     "user": {
      "displayName": "Liviany Reis Rodrigues",
      "photoUrl": "https://lh3.googleusercontent.com/a/default-user=s64",
      "userId": "13974134542734238498"
     },
     "user_tz": 180
    },
    "id": "oYUsIijBtgpW",
    "outputId": "0b43095e-eb99-45a3-c792-570b0ef544c5"
   },
   "outputs": [
    {
     "data": {
      "text/plain": [
       "KNeighborsClassifier()"
      ]
     },
     "execution_count": 266,
     "metadata": {},
     "output_type": "execute_result"
    }
   ],
   "source": [
    "knn.fit(X_train,y_train)"
   ]
  },
  {
   "cell_type": "markdown",
   "metadata": {
    "id": "xqZ-du-ktsMH"
   },
   "source": [
    "# Avaliando o Modelo"
   ]
  },
  {
   "cell_type": "code",
   "execution_count": 267,
   "metadata": {
    "colab": {
     "base_uri": "https://localhost:8080/"
    },
    "executionInfo": {
     "elapsed": 595,
     "status": "ok",
     "timestamp": 1642993740494,
     "user": {
      "displayName": "Liviany Reis Rodrigues",
      "photoUrl": "https://lh3.googleusercontent.com/a/default-user=s64",
      "userId": "13974134542734238498"
     },
     "user_tz": 180
    },
    "id": "mVlo6toWtwp5",
    "outputId": "e1368bd0-3311-426a-cca5-a3bd495c5907"
   },
   "outputs": [
    {
     "name": "stdout",
     "output_type": "stream",
     "text": [
      "Acurácia de treino:  0.7279411764705882\n",
      "Acurácia de teste:  0.627906976744186\n",
      "Acurácia de Validação:  0.6857142857142857\n"
     ]
    }
   ],
   "source": [
    "print(\"Acurácia de treino: \", knn.score(X_train, y_train))\n",
    "print(\"Acurácia de teste: \", knn.score(X_test, y_test))\n",
    "print(\"Acurácia de Validação: \", knn.score(X_valid, y_valid))"
   ]
  },
  {
   "cell_type": "markdown",
   "metadata": {
    "id": "UgrzHU4bLpGk"
   },
   "source": [
    "Podemos observar que a acurácia de Teste e Treino possui valores aproximados da acurária de Treino, dessa forma, nosso modelo está apresentando um resultado satisfatório, pois não há sobreajuste na base de treino."
   ]
  },
  {
   "cell_type": "code",
   "execution_count": 268,
   "metadata": {
    "executionInfo": {
     "elapsed": 589,
     "status": "ok",
     "timestamp": 1642993740502,
     "user": {
      "displayName": "Liviany Reis Rodrigues",
      "photoUrl": "https://lh3.googleusercontent.com/a/default-user=s64",
      "userId": "13974134542734238498"
     },
     "user_tz": 180
    },
    "id": "LTsha6egRFlG"
   },
   "outputs": [],
   "source": [
    "#Salvando a base de dados"
   ]
  },
  {
   "cell_type": "code",
   "execution_count": 269,
   "metadata": {
    "executionInfo": {
     "elapsed": 600,
     "status": "ok",
     "timestamp": 1642993740517,
     "user": {
      "displayName": "Liviany Reis Rodrigues",
      "photoUrl": "https://lh3.googleusercontent.com/a/default-user=s64",
      "userId": "13974134542734238498"
     },
     "user_tz": 180
    },
    "id": "fFqCLPiFRKN8"
   },
   "outputs": [],
   "source": [
    "df_class.to_csv('Glass_KNN', encoding='utf-8', index=False)"
   ]
  },
  {
   "cell_type": "markdown",
   "metadata": {
    "id": "4ZOaQiiUIsXP"
   },
   "source": [
    "#Implementando LVQ"
   ]
  },
  {
   "cell_type": "code",
   "execution_count": 337,
   "metadata": {
    "executionInfo": {
     "elapsed": 417,
     "status": "ok",
     "timestamp": 1642996768321,
     "user": {
      "displayName": "Liviany Reis Rodrigues",
      "photoUrl": "https://lh3.googleusercontent.com/a/default-user=s64",
      "userId": "13974134542734238498"
     },
     "user_tz": 180
    },
    "id": "9z2feiMbPKzW"
   },
   "outputs": [],
   "source": [
    "glass = pd.read_csv('glass.data')"
   ]
  },
  {
   "cell_type": "code",
   "execution_count": 338,
   "metadata": {
    "colab": {
     "base_uri": "https://localhost:8080/",
     "height": 205
    },
    "executionInfo": {
     "elapsed": 448,
     "status": "ok",
     "timestamp": 1642996780002,
     "user": {
      "displayName": "Liviany Reis Rodrigues",
      "photoUrl": "https://lh3.googleusercontent.com/a/default-user=s64",
      "userId": "13974134542734238498"
     },
     "user_tz": 180
    },
    "id": "EYejJAeXPSgy",
    "outputId": "d869446e-eaea-487f-fa57-5ad98219e118"
   },
   "outputs": [
    {
     "data": {
      "text/html": [
       "\n",
       "  <div id=\"df-bcdc76ff-3dc1-4b0a-89bd-4c2d4d49186f\">\n",
       "    <div class=\"colab-df-container\">\n",
       "      <div>\n",
       "<style scoped>\n",
       "    .dataframe tbody tr th:only-of-type {\n",
       "        vertical-align: middle;\n",
       "    }\n",
       "\n",
       "    .dataframe tbody tr th {\n",
       "        vertical-align: top;\n",
       "    }\n",
       "\n",
       "    .dataframe thead th {\n",
       "        text-align: right;\n",
       "    }\n",
       "</style>\n",
       "<table border=\"1\" class=\"dataframe\">\n",
       "  <thead>\n",
       "    <tr style=\"text-align: right;\">\n",
       "      <th></th>\n",
       "      <th>1</th>\n",
       "      <th>1.52101</th>\n",
       "      <th>13.64</th>\n",
       "      <th>4.49</th>\n",
       "      <th>1.10</th>\n",
       "      <th>71.78</th>\n",
       "      <th>0.06</th>\n",
       "      <th>8.75</th>\n",
       "      <th>0.00</th>\n",
       "      <th>0.00.1</th>\n",
       "      <th>1.1</th>\n",
       "    </tr>\n",
       "  </thead>\n",
       "  <tbody>\n",
       "    <tr>\n",
       "      <th>0</th>\n",
       "      <td>2</td>\n",
       "      <td>1.51761</td>\n",
       "      <td>13.89</td>\n",
       "      <td>3.60</td>\n",
       "      <td>1.36</td>\n",
       "      <td>72.73</td>\n",
       "      <td>0.48</td>\n",
       "      <td>7.83</td>\n",
       "      <td>0.0</td>\n",
       "      <td>0.00</td>\n",
       "      <td>1</td>\n",
       "    </tr>\n",
       "    <tr>\n",
       "      <th>1</th>\n",
       "      <td>3</td>\n",
       "      <td>1.51618</td>\n",
       "      <td>13.53</td>\n",
       "      <td>3.55</td>\n",
       "      <td>1.54</td>\n",
       "      <td>72.99</td>\n",
       "      <td>0.39</td>\n",
       "      <td>7.78</td>\n",
       "      <td>0.0</td>\n",
       "      <td>0.00</td>\n",
       "      <td>1</td>\n",
       "    </tr>\n",
       "    <tr>\n",
       "      <th>2</th>\n",
       "      <td>4</td>\n",
       "      <td>1.51766</td>\n",
       "      <td>13.21</td>\n",
       "      <td>3.69</td>\n",
       "      <td>1.29</td>\n",
       "      <td>72.61</td>\n",
       "      <td>0.57</td>\n",
       "      <td>8.22</td>\n",
       "      <td>0.0</td>\n",
       "      <td>0.00</td>\n",
       "      <td>1</td>\n",
       "    </tr>\n",
       "    <tr>\n",
       "      <th>3</th>\n",
       "      <td>5</td>\n",
       "      <td>1.51742</td>\n",
       "      <td>13.27</td>\n",
       "      <td>3.62</td>\n",
       "      <td>1.24</td>\n",
       "      <td>73.08</td>\n",
       "      <td>0.55</td>\n",
       "      <td>8.07</td>\n",
       "      <td>0.0</td>\n",
       "      <td>0.00</td>\n",
       "      <td>1</td>\n",
       "    </tr>\n",
       "    <tr>\n",
       "      <th>4</th>\n",
       "      <td>6</td>\n",
       "      <td>1.51596</td>\n",
       "      <td>12.79</td>\n",
       "      <td>3.61</td>\n",
       "      <td>1.62</td>\n",
       "      <td>72.97</td>\n",
       "      <td>0.64</td>\n",
       "      <td>8.07</td>\n",
       "      <td>0.0</td>\n",
       "      <td>0.26</td>\n",
       "      <td>1</td>\n",
       "    </tr>\n",
       "  </tbody>\n",
       "</table>\n",
       "</div>\n",
       "      <button class=\"colab-df-convert\" onclick=\"convertToInteractive('df-bcdc76ff-3dc1-4b0a-89bd-4c2d4d49186f')\"\n",
       "              title=\"Convert this dataframe to an interactive table.\"\n",
       "              style=\"display:none;\">\n",
       "        \n",
       "  <svg xmlns=\"http://www.w3.org/2000/svg\" height=\"24px\"viewBox=\"0 0 24 24\"\n",
       "       width=\"24px\">\n",
       "    <path d=\"M0 0h24v24H0V0z\" fill=\"none\"/>\n",
       "    <path d=\"M18.56 5.44l.94 2.06.94-2.06 2.06-.94-2.06-.94-.94-2.06-.94 2.06-2.06.94zm-11 1L8.5 8.5l.94-2.06 2.06-.94-2.06-.94L8.5 2.5l-.94 2.06-2.06.94zm10 10l.94 2.06.94-2.06 2.06-.94-2.06-.94-.94-2.06-.94 2.06-2.06.94z\"/><path d=\"M17.41 7.96l-1.37-1.37c-.4-.4-.92-.59-1.43-.59-.52 0-1.04.2-1.43.59L10.3 9.45l-7.72 7.72c-.78.78-.78 2.05 0 2.83L4 21.41c.39.39.9.59 1.41.59.51 0 1.02-.2 1.41-.59l7.78-7.78 2.81-2.81c.8-.78.8-2.07 0-2.86zM5.41 20L4 18.59l7.72-7.72 1.47 1.35L5.41 20z\"/>\n",
       "  </svg>\n",
       "      </button>\n",
       "      \n",
       "  <style>\n",
       "    .colab-df-container {\n",
       "      display:flex;\n",
       "      flex-wrap:wrap;\n",
       "      gap: 12px;\n",
       "    }\n",
       "\n",
       "    .colab-df-convert {\n",
       "      background-color: #E8F0FE;\n",
       "      border: none;\n",
       "      border-radius: 50%;\n",
       "      cursor: pointer;\n",
       "      display: none;\n",
       "      fill: #1967D2;\n",
       "      height: 32px;\n",
       "      padding: 0 0 0 0;\n",
       "      width: 32px;\n",
       "    }\n",
       "\n",
       "    .colab-df-convert:hover {\n",
       "      background-color: #E2EBFA;\n",
       "      box-shadow: 0px 1px 2px rgba(60, 64, 67, 0.3), 0px 1px 3px 1px rgba(60, 64, 67, 0.15);\n",
       "      fill: #174EA6;\n",
       "    }\n",
       "\n",
       "    [theme=dark] .colab-df-convert {\n",
       "      background-color: #3B4455;\n",
       "      fill: #D2E3FC;\n",
       "    }\n",
       "\n",
       "    [theme=dark] .colab-df-convert:hover {\n",
       "      background-color: #434B5C;\n",
       "      box-shadow: 0px 1px 3px 1px rgba(0, 0, 0, 0.15);\n",
       "      filter: drop-shadow(0px 1px 2px rgba(0, 0, 0, 0.3));\n",
       "      fill: #FFFFFF;\n",
       "    }\n",
       "  </style>\n",
       "\n",
       "      <script>\n",
       "        const buttonEl =\n",
       "          document.querySelector('#df-bcdc76ff-3dc1-4b0a-89bd-4c2d4d49186f button.colab-df-convert');\n",
       "        buttonEl.style.display =\n",
       "          google.colab.kernel.accessAllowed ? 'block' : 'none';\n",
       "\n",
       "        async function convertToInteractive(key) {\n",
       "          const element = document.querySelector('#df-bcdc76ff-3dc1-4b0a-89bd-4c2d4d49186f');\n",
       "          const dataTable =\n",
       "            await google.colab.kernel.invokeFunction('convertToInteractive',\n",
       "                                                     [key], {});\n",
       "          if (!dataTable) return;\n",
       "\n",
       "          const docLinkHtml = 'Like what you see? Visit the ' +\n",
       "            '<a target=\"_blank\" href=https://colab.research.google.com/notebooks/data_table.ipynb>data table notebook</a>'\n",
       "            + ' to learn more about interactive tables.';\n",
       "          element.innerHTML = '';\n",
       "          dataTable['output_type'] = 'display_data';\n",
       "          await google.colab.output.renderOutput(dataTable, element);\n",
       "          const docLink = document.createElement('div');\n",
       "          docLink.innerHTML = docLinkHtml;\n",
       "          element.appendChild(docLink);\n",
       "        }\n",
       "      </script>\n",
       "    </div>\n",
       "  </div>\n",
       "  "
      ],
      "text/plain": [
       "   1  1.52101  13.64  4.49  1.10  71.78  0.06  8.75  0.00  0.00.1  1.1\n",
       "0  2  1.51761  13.89  3.60  1.36  72.73  0.48  7.83   0.0    0.00    1\n",
       "1  3  1.51618  13.53  3.55  1.54  72.99  0.39  7.78   0.0    0.00    1\n",
       "2  4  1.51766  13.21  3.69  1.29  72.61  0.57  8.22   0.0    0.00    1\n",
       "3  5  1.51742  13.27  3.62  1.24  73.08  0.55  8.07   0.0    0.00    1\n",
       "4  6  1.51596  12.79  3.61  1.62  72.97  0.64  8.07   0.0    0.26    1"
      ]
     },
     "execution_count": 338,
     "metadata": {},
     "output_type": "execute_result"
    }
   ],
   "source": [
    "glass.head()"
   ]
  },
  {
   "cell_type": "code",
   "execution_count": 339,
   "metadata": {
    "colab": {
     "base_uri": "https://localhost:8080/"
    },
    "executionInfo": {
     "elapsed": 509,
     "status": "ok",
     "timestamp": 1642996814515,
     "user": {
      "displayName": "Liviany Reis Rodrigues",
      "photoUrl": "https://lh3.googleusercontent.com/a/default-user=s64",
      "userId": "13974134542734238498"
     },
     "user_tz": 180
    },
    "id": "231_yyYtPaVk",
    "outputId": "477e6984-3173-4df6-b7a1-365e2f04fb5e"
   },
   "outputs": [
    {
     "name": "stdout",
     "output_type": "stream",
     "text": [
      "<class 'pandas.core.frame.DataFrame'>\n",
      "RangeIndex: 213 entries, 0 to 212\n",
      "Data columns (total 11 columns):\n",
      " #   Column   Non-Null Count  Dtype  \n",
      "---  ------   --------------  -----  \n",
      " 0   1        213 non-null    int64  \n",
      " 1   1.52101  213 non-null    float64\n",
      " 2   13.64    213 non-null    float64\n",
      " 3   4.49     213 non-null    float64\n",
      " 4   1.10     213 non-null    float64\n",
      " 5   71.78    213 non-null    float64\n",
      " 6   0.06     213 non-null    float64\n",
      " 7   8.75     213 non-null    float64\n",
      " 8   0.00     213 non-null    float64\n",
      " 9   0.00.1   213 non-null    float64\n",
      " 10  1.1      213 non-null    int64  \n",
      "dtypes: float64(9), int64(2)\n",
      "memory usage: 18.4 KB\n"
     ]
    }
   ],
   "source": [
    "glass.info()"
   ]
  },
  {
   "cell_type": "code",
   "execution_count": 340,
   "metadata": {
    "executionInfo": {
     "elapsed": 357,
     "status": "ok",
     "timestamp": 1642996825445,
     "user": {
      "displayName": "Liviany Reis Rodrigues",
      "photoUrl": "https://lh3.googleusercontent.com/a/default-user=s64",
      "userId": "13974134542734238498"
     },
     "user_tz": 180
    },
    "id": "mZKO-q5BIrdy"
   },
   "outputs": [],
   "source": [
    "import csv\n",
    "import random\n",
    "import numpy as np\n",
    "from  scipy import spatial \n",
    "\n",
    "random.seed(50)\n",
    "\n",
    "class LVQ(): \n",
    "    def __init__(self, dataset):\n",
    "        \"\"\"\n",
    "        Construtor da classe\n",
    "        :param nome_arquivo: nome do arquivo csv que contem os dados\n",
    "        \"\"\"\n",
    "        self.dados = dataset\n",
    "        self.dataset = dataset\n",
    "        self.qtd_caracteristicas = 0\n",
    "        self.amplitudes = []\n",
    "        self.qtd_caracteristicas = len(self.dados[0])-1\n",
    "        \n",
    "    def normalizar(self):\n",
    "        \"\"\"\n",
    "        Normalizada todas as caracteristicas para um intervalo de 0 - 1, para todas tenham o mesmo peso na \n",
    "        classificacao\n",
    "        \"\"\"\n",
    "        lista = []*(len(self.dados[0])-1)\n",
    "        self.amplitudes = []\n",
    "        for caracteristica in range(len(self.dados[0])-1):\n",
    "            lista = [elemento[caracteristica] for elemento in self.dados]\n",
    "            self.amplitudes += [[max(lista), min(lista)]]\n",
    "            for elemento in self.dados:\n",
    "                elemento[caracteristica] = (elemento[caracteristica] - min(lista))/(max(lista)+min(lista))\n",
    "        \n",
    "    def triagem(self, split: float=0.65):\n",
    "        \"\"\"\n",
    "        Divide aleatoriament os elementos do conjunto de dados em dois subconjuntos: teste e treino\n",
    "        :param split: de 0 a 1 -> 'porcentagem' dos elementos que serao do conjunto de treino\n",
    "        \"\"\"        \n",
    "        self.treino, self.teste = [], []\n",
    "        for i, elemento in enumerate(self.dados):\n",
    "            if random.random() < split:\n",
    "                self.treino += [elemento]\n",
    "            else:\n",
    "                self.teste += [elemento]\n",
    "    \n",
    "    def resumir(self, n: float=10,  e: float=10, t: float=0.4):\n",
    "        \"\"\"\n",
    "         Retorna o codebook dos dados, ou seja, os elementos que melhor representam o todo\n",
    "        :param t: taxa de aprendizado inicial\n",
    "        :param e: numero de epocas\n",
    "        :param n: numero de elementos do coodbook \n",
    "        \"\"\"\n",
    "        #Geracao aleatorio dos elementos iniciais do codebook         \n",
    "        self.codebook = [[]]*n\n",
    "        for i in range(n):\n",
    "            self.codebook[i] = [0] * (self.qtd_caracteristicas + 1)\n",
    "            for caracteristica in range(self.qtd_caracteristicas + 1):\n",
    "                self.codebook[i][caracteristica] = random.choice(self.dados)[caracteristica]\n",
    "\n",
    "        for epoca in range(e):\n",
    "            taxa = t * (1.0-(epoca/float(e)))\n",
    "            for elemento in self.treino:\n",
    "                representante = self.encontrar_mais_proximo(elemento, self.codebook)\n",
    "                o = -1\n",
    "                if representante[-1] == elemento[-1]:\n",
    "                    o = 1\n",
    "                for caracteristica in range(self.qtd_caracteristicas):\n",
    "                    # print(elemento[caracteristica])\n",
    "                    # print(representante[caracteristica])\n",
    "                    erro = (elemento[caracteristica]-representante[caracteristica]) \n",
    "\n",
    "                    representante[caracteristica] += (erro * taxa * o)\n",
    "      \n",
    "    def testar(self, base=None):\n",
    "        \"\"\"\n",
    "        Executa a classificacao para cada elemento do conjunto teste e retorna a precisao do algoritmo\n",
    "        \"\"\"\n",
    "        base = base or self.teste\n",
    "        qtd_teste = len(base)\n",
    "        precisao = 100.0\n",
    "        for elemento in base: \n",
    "            bmu = self.encontrar_mais_proximo(elemento, self.codebook)\n",
    "            if bmu[-1] != elemento[-1]:\n",
    "                precisao -= (1/qtd_teste)*100\n",
    " \n",
    "        return precisao\n",
    "    \n",
    "    def encontrar_mais_proximo(self, elemento, lista):\n",
    "        \"\"\"\n",
    "        Executa a classificacao para cada elemento do conjunto teste e retorna a precisao do algoritmo\n",
    "        :param elemento: vetor para o qual deve-se vetor mais proximo de uma dada lista\n",
    "        :param lista: lista de vetores\n",
    "        \"\"\"\n",
    "        resposta = [lista[0], spatial.distance.euclidean(elemento[0:-1], lista[0][0:-1])]\n",
    "        for i in lista:\n",
    "            distancia = spatial.distance.euclidean(elemento[0:-1], i[0:-1])\n",
    "            if distancia < resposta[1]: \n",
    "                resposta = [i, distancia]\n",
    "        return resposta[0]\n",
    "    \n",
    "    @property\n",
    "    def representantes(self):\n",
    "        \"\"\"\n",
    "        Retorna o codebook \"original\", com as caracteristicas em seus intervalos originais. Ou seja, \n",
    "        retorna o codebook desnormalizado, caso ele tenha sido normalizado\n",
    "        \"\"\"\n",
    "        representantes_desnormalizados = [[]]*len(self.codebook)\n",
    "        if self.amplitudes:\n",
    "            for index, representante in enumerate(self.codebook): \n",
    "                representante_desnormalizado = []\n",
    "                for caracteristica in range(self.qtd_caracteristicas):\n",
    "                    aux = ((self.amplitudes[caracteristica][0] + self.amplitudes[caracteristica][1])\\\n",
    "                          * representante[caracteristica]) + self.amplitudes[caracteristica][1]\n",
    "                    representante_desnormalizado += [aux]\n",
    "                representante_desnormalizado += [representante[-1]]    \n",
    "                representantes_desnormalizados[index] = representante_desnormalizado\n",
    "        else: \n",
    "            return self.codebook\n",
    "        \n",
    "        return representantes_desnormalizados\n",
    "    \n",
    "    @property\n",
    "    def classes(self): \n",
    "        \"\"\"\n",
    "        Retorna as classes do dataset\n",
    "        \"\"\"\n",
    "        classes = []\n",
    "        for elemento in self.dados:\n",
    "            if elemento[-1] not in classes:\n",
    "                classes.append(elemento[-1])\n",
    "        \n",
    "        return classes"
   ]
  },
  {
   "cell_type": "markdown",
   "metadata": {
    "id": "wyHo96s5Qt-S"
   },
   "source": [
    "#Adicionando outras funções"
   ]
  },
  {
   "cell_type": "code",
   "execution_count": 341,
   "metadata": {
    "executionInfo": {
     "elapsed": 418,
     "status": "ok",
     "timestamp": 1642996836590,
     "user": {
      "displayName": "Liviany Reis Rodrigues",
      "photoUrl": "https://lh3.googleusercontent.com/a/default-user=s64",
      "userId": "13974134542734238498"
     },
     "user_tz": 180
    },
    "id": "rzuZnKxSQrRD"
   },
   "outputs": [],
   "source": [
    "import random \n",
    "\n",
    "\n",
    "def importar_dataset(arquivo_csv: str=None):\n",
    "        \"\"\"\n",
    "        Carrega os dados iniciais da classe através de um arquivo csv. Esperar-se um arquivo possua linhas\n",
    "        com n colunas, de modo que a n-ézima represente a classe do elemento e as anteriores representem, \n",
    "        cada uma, uma caracteristica diferente.\n",
    "        :param arquivo_csv: nome do arquivo csv\n",
    "        \"\"\"\n",
    "\n",
    "        dados = []\n",
    "        with open(arquivo_csv, 'r') as arquivo_csv:\n",
    "            arquivo = csv.reader(arquivo_csv)\n",
    "            for index, linha in enumerate(arquivo):\n",
    "                if linha:\n",
    "                    dados += [list(map(float, linha[0:-1]))]\n",
    "                    dados[index] += [linha[-1]]\n",
    "        return dados\n",
    "\n",
    "\n",
    "def random_cores(qtd: int=3): \n",
    "    \"\"\"\n",
    "    Retorna aleatoriamente cores no formato hexadecimal de acordo com a quantidade pedida\n",
    "    \"\"\"\n",
    "    lista = [(210,180,140), (139,69,19), (244,164,96), (85,107,47), (0,255,0), (102,205,170), (127,255,212),\n",
    "            (72,209,204), (0,255,255), (176,196,222), (30,144,255), (0,0,255), (220,20,60), (255,105,180), \n",
    "             (255,0,255), (139,0,139), (255,192,203), (255,0,0), (250,128,114), (255,165,0), (255,255,0)]\n",
    "    \n",
    "    random.shuffle(lista)\n",
    "    cores = lista[0:qtd]\n",
    "    resposta = []\n",
    "    for cor in cores:\n",
    "        resposta += ['#%02x%02x%02x' % cor]\n",
    "    return resposta"
   ]
  },
  {
   "cell_type": "markdown",
   "metadata": {
    "id": "bbhCgCHsK9SD"
   },
   "source": [
    "#Aplicação da classe LVQ na classificação do conjunto de dados da Glass"
   ]
  },
  {
   "cell_type": "code",
   "execution_count": 342,
   "metadata": {
    "colab": {
     "base_uri": "https://localhost:8080/"
    },
    "executionInfo": {
     "elapsed": 385,
     "status": "ok",
     "timestamp": 1642996847377,
     "user": {
      "displayName": "Liviany Reis Rodrigues",
      "photoUrl": "https://lh3.googleusercontent.com/a/default-user=s64",
      "userId": "13974134542734238498"
     },
     "user_tz": 180
    },
    "id": "ByNxqd84TTO4",
    "outputId": "930dc8fe-091a-4a12-f1b7-7a8383475a5c"
   },
   "outputs": [
    {
     "name": "stdout",
     "output_type": "stream",
     "text": [
      "[[1.0, 1.52101, 13.64, 4.49, 1.1, 71.78, 0.06, 8.75, 0.0, 0.0, '1'], [2.0, 1.51761, 13.89, 3.6, 1.36, 72.73, 0.48, 7.83, 0.0, 0.0, '1'], [3.0, 1.51618, 13.53, 3.55, 1.54, 72.99, 0.39, 7.78, 0.0, 0.0, '1'], [4.0, 1.51766, 13.21, 3.69, 1.29, 72.61, 0.57, 8.22, 0.0, 0.0, '1'], [5.0, 1.51742, 13.27, 3.62, 1.24, 73.08, 0.55, 8.07, 0.0, 0.0, '1'], [6.0, 1.51596, 12.79, 3.61, 1.62, 72.97, 0.64, 8.07, 0.0, 0.26, '1'], [7.0, 1.51743, 13.3, 3.6, 1.14, 73.09, 0.58, 8.17, 0.0, 0.0, '1'], [8.0, 1.51756, 13.15, 3.61, 1.05, 73.24, 0.57, 8.24, 0.0, 0.0, '1'], [9.0, 1.51918, 14.04, 3.58, 1.37, 72.08, 0.56, 8.3, 0.0, 0.0, '1'], [10.0, 1.51755, 13.0, 3.6, 1.36, 72.99, 0.57, 8.4, 0.0, 0.11, '1'], [11.0, 1.51571, 12.72, 3.46, 1.56, 73.2, 0.67, 8.09, 0.0, 0.24, '1'], [12.0, 1.51763, 12.8, 3.66, 1.27, 73.01, 0.6, 8.56, 0.0, 0.0, '1'], [13.0, 1.51589, 12.88, 3.43, 1.4, 73.28, 0.69, 8.05, 0.0, 0.24, '1'], [14.0, 1.51748, 12.86, 3.56, 1.27, 73.21, 0.54, 8.38, 0.0, 0.17, '1'], [15.0, 1.51763, 12.61, 3.59, 1.31, 73.29, 0.58, 8.5, 0.0, 0.0, '1'], [16.0, 1.51761, 12.81, 3.54, 1.23, 73.24, 0.58, 8.39, 0.0, 0.0, '1'], [17.0, 1.51784, 12.68, 3.67, 1.16, 73.11, 0.61, 8.7, 0.0, 0.0, '1'], [18.0, 1.52196, 14.36, 3.85, 0.89, 71.36, 0.15, 9.15, 0.0, 0.0, '1'], [19.0, 1.51911, 13.9, 3.73, 1.18, 72.12, 0.06, 8.89, 0.0, 0.0, '1'], [20.0, 1.51735, 13.02, 3.54, 1.69, 72.73, 0.54, 8.44, 0.0, 0.07, '1'], [21.0, 1.5175, 12.82, 3.55, 1.49, 72.75, 0.54, 8.52, 0.0, 0.19, '1'], [22.0, 1.51966, 14.77, 3.75, 0.29, 72.02, 0.03, 9.0, 0.0, 0.0, '1'], [23.0, 1.51736, 12.78, 3.62, 1.29, 72.79, 0.59, 8.7, 0.0, 0.0, '1'], [24.0, 1.51751, 12.81, 3.57, 1.35, 73.02, 0.62, 8.59, 0.0, 0.0, '1'], [25.0, 1.5172, 13.38, 3.5, 1.15, 72.85, 0.5, 8.43, 0.0, 0.0, '1'], [26.0, 1.51764, 12.98, 3.54, 1.21, 73.0, 0.65, 8.53, 0.0, 0.0, '1'], [27.0, 1.51793, 13.21, 3.48, 1.41, 72.64, 0.59, 8.43, 0.0, 0.0, '1'], [28.0, 1.51721, 12.87, 3.48, 1.33, 73.04, 0.56, 8.43, 0.0, 0.0, '1'], [29.0, 1.51768, 12.56, 3.52, 1.43, 73.15, 0.57, 8.54, 0.0, 0.0, '1'], [30.0, 1.51784, 13.08, 3.49, 1.28, 72.86, 0.6, 8.49, 0.0, 0.0, '1'], [31.0, 1.51768, 12.65, 3.56, 1.3, 73.08, 0.61, 8.69, 0.0, 0.14, '1'], [32.0, 1.51747, 12.84, 3.5, 1.14, 73.27, 0.56, 8.55, 0.0, 0.0, '1'], [33.0, 1.51775, 12.85, 3.48, 1.23, 72.97, 0.61, 8.56, 0.09, 0.22, '1'], [34.0, 1.51753, 12.57, 3.47, 1.38, 73.39, 0.6, 8.55, 0.0, 0.06, '1'], [35.0, 1.51783, 12.69, 3.54, 1.34, 72.95, 0.57, 8.75, 0.0, 0.0, '1'], [36.0, 1.51567, 13.29, 3.45, 1.21, 72.74, 0.56, 8.57, 0.0, 0.0, '1'], [37.0, 1.51909, 13.89, 3.53, 1.32, 71.81, 0.51, 8.78, 0.11, 0.0, '1'], [38.0, 1.51797, 12.74, 3.48, 1.35, 72.96, 0.64, 8.68, 0.0, 0.0, '1'], [39.0, 1.52213, 14.21, 3.82, 0.47, 71.77, 0.11, 9.57, 0.0, 0.0, '1'], [40.0, 1.52213, 14.21, 3.82, 0.47, 71.77, 0.11, 9.57, 0.0, 0.0, '1'], [41.0, 1.51793, 12.79, 3.5, 1.12, 73.03, 0.64, 8.77, 0.0, 0.0, '1'], [42.0, 1.51755, 12.71, 3.42, 1.2, 73.2, 0.59, 8.64, 0.0, 0.0, '1'], [43.0, 1.51779, 13.21, 3.39, 1.33, 72.76, 0.59, 8.59, 0.0, 0.0, '1'], [44.0, 1.5221, 13.73, 3.84, 0.72, 71.76, 0.17, 9.74, 0.0, 0.0, '1'], [45.0, 1.51786, 12.73, 3.43, 1.19, 72.95, 0.62, 8.76, 0.0, 0.3, '1'], [46.0, 1.519, 13.49, 3.48, 1.35, 71.95, 0.55, 9.0, 0.0, 0.0, '1'], [47.0, 1.51869, 13.19, 3.37, 1.18, 72.72, 0.57, 8.83, 0.0, 0.16, '1'], [48.0, 1.52667, 13.99, 3.7, 0.71, 71.57, 0.02, 9.82, 0.0, 0.1, '1'], [49.0, 1.52223, 13.21, 3.77, 0.79, 71.99, 0.13, 10.02, 0.0, 0.0, '1'], [50.0, 1.51898, 13.58, 3.35, 1.23, 72.08, 0.59, 8.91, 0.0, 0.0, '1'], [51.0, 1.5232, 13.72, 3.72, 0.51, 71.75, 0.09, 10.06, 0.0, 0.16, '1'], [52.0, 1.51926, 13.2, 3.33, 1.28, 72.36, 0.6, 9.14, 0.0, 0.11, '1'], [53.0, 1.51808, 13.43, 2.87, 1.19, 72.84, 0.55, 9.03, 0.0, 0.0, '1'], [54.0, 1.51837, 13.14, 2.84, 1.28, 72.85, 0.55, 9.07, 0.0, 0.0, '1'], [55.0, 1.51778, 13.21, 2.81, 1.29, 72.98, 0.51, 9.02, 0.0, 0.09, '1'], [56.0, 1.51769, 12.45, 2.71, 1.29, 73.7, 0.56, 9.06, 0.0, 0.24, '1'], [57.0, 1.51215, 12.99, 3.47, 1.12, 72.98, 0.62, 8.35, 0.0, 0.31, '1'], [58.0, 1.51824, 12.87, 3.48, 1.29, 72.95, 0.6, 8.43, 0.0, 0.0, '1'], [59.0, 1.51754, 13.48, 3.74, 1.17, 72.99, 0.59, 8.03, 0.0, 0.0, '1'], [60.0, 1.51754, 13.39, 3.66, 1.19, 72.79, 0.57, 8.27, 0.0, 0.11, '1'], [61.0, 1.51905, 13.6, 3.62, 1.11, 72.64, 0.14, 8.76, 0.0, 0.0, '1'], [62.0, 1.51977, 13.81, 3.58, 1.32, 71.72, 0.12, 8.67, 0.69, 0.0, '1'], [63.0, 1.52172, 13.51, 3.86, 0.88, 71.79, 0.23, 9.54, 0.0, 0.11, '1'], [64.0, 1.52227, 14.17, 3.81, 0.78, 71.35, 0.0, 9.69, 0.0, 0.0, '1'], [65.0, 1.52172, 13.48, 3.74, 0.9, 72.01, 0.18, 9.61, 0.0, 0.07, '1'], [66.0, 1.52099, 13.69, 3.59, 1.12, 71.96, 0.09, 9.4, 0.0, 0.0, '1'], [67.0, 1.52152, 13.05, 3.65, 0.87, 72.22, 0.19, 9.85, 0.0, 0.17, '1'], [68.0, 1.52152, 13.05, 3.65, 0.87, 72.32, 0.19, 9.85, 0.0, 0.17, '1'], [69.0, 1.52152, 13.12, 3.58, 0.9, 72.2, 0.23, 9.82, 0.0, 0.16, '1'], [70.0, 1.523, 13.31, 3.58, 0.82, 71.99, 0.12, 10.17, 0.0, 0.03, '1'], [71.0, 1.51574, 14.86, 3.67, 1.74, 71.87, 0.16, 7.36, 0.0, 0.12, '2'], [72.0, 1.51848, 13.64, 3.87, 1.27, 71.96, 0.54, 8.32, 0.0, 0.32, '2'], [73.0, 1.51593, 13.09, 3.59, 1.52, 73.1, 0.67, 7.83, 0.0, 0.0, '2'], [74.0, 1.51631, 13.34, 3.57, 1.57, 72.87, 0.61, 7.89, 0.0, 0.0, '2'], [75.0, 1.51596, 13.02, 3.56, 1.54, 73.11, 0.72, 7.9, 0.0, 0.0, '2'], [76.0, 1.5159, 13.02, 3.58, 1.51, 73.12, 0.69, 7.96, 0.0, 0.0, '2'], [77.0, 1.51645, 13.44, 3.61, 1.54, 72.39, 0.66, 8.03, 0.0, 0.0, '2'], [78.0, 1.51627, 13.0, 3.58, 1.54, 72.83, 0.61, 8.04, 0.0, 0.0, '2'], [79.0, 1.51613, 13.92, 3.52, 1.25, 72.88, 0.37, 7.94, 0.0, 0.14, '2'], [80.0, 1.5159, 12.82, 3.52, 1.9, 72.86, 0.69, 7.97, 0.0, 0.0, '2'], [81.0, 1.51592, 12.86, 3.52, 2.12, 72.66, 0.69, 7.97, 0.0, 0.0, '2'], [82.0, 1.51593, 13.25, 3.45, 1.43, 73.17, 0.61, 7.86, 0.0, 0.0, '2'], [83.0, 1.51646, 13.41, 3.55, 1.25, 72.81, 0.68, 8.1, 0.0, 0.0, '2'], [84.0, 1.51594, 13.09, 3.52, 1.55, 72.87, 0.68, 8.05, 0.0, 0.09, '2'], [85.0, 1.51409, 14.25, 3.09, 2.08, 72.28, 1.1, 7.08, 0.0, 0.0, '2'], [86.0, 1.51625, 13.36, 3.58, 1.49, 72.72, 0.45, 8.21, 0.0, 0.0, '2'], [87.0, 1.51569, 13.24, 3.49, 1.47, 73.25, 0.38, 8.03, 0.0, 0.0, '2'], [88.0, 1.51645, 13.4, 3.49, 1.52, 72.65, 0.67, 8.08, 0.0, 0.1, '2'], [89.0, 1.51618, 13.01, 3.5, 1.48, 72.89, 0.6, 8.12, 0.0, 0.0, '2'], [90.0, 1.5164, 12.55, 3.48, 1.87, 73.23, 0.63, 8.08, 0.0, 0.09, '2'], [91.0, 1.51841, 12.93, 3.74, 1.11, 72.28, 0.64, 8.96, 0.0, 0.22, '2'], [92.0, 1.51605, 12.9, 3.44, 1.45, 73.06, 0.44, 8.27, 0.0, 0.0, '2'], [93.0, 1.51588, 13.12, 3.41, 1.58, 73.26, 0.07, 8.39, 0.0, 0.19, '2'], [94.0, 1.5159, 13.24, 3.34, 1.47, 73.1, 0.39, 8.22, 0.0, 0.0, '2'], [95.0, 1.51629, 12.71, 3.33, 1.49, 73.28, 0.67, 8.24, 0.0, 0.0, '2'], [96.0, 1.5186, 13.36, 3.43, 1.43, 72.26, 0.51, 8.6, 0.0, 0.0, '2'], [97.0, 1.51841, 13.02, 3.62, 1.06, 72.34, 0.64, 9.13, 0.0, 0.15, '2'], [98.0, 1.51743, 12.2, 3.25, 1.16, 73.55, 0.62, 8.9, 0.0, 0.24, '2'], [99.0, 1.51689, 12.67, 2.88, 1.71, 73.21, 0.73, 8.54, 0.0, 0.0, '2'], [100.0, 1.51811, 12.96, 2.96, 1.43, 72.92, 0.6, 8.79, 0.14, 0.0, '2'], [101.0, 1.51655, 12.75, 2.85, 1.44, 73.27, 0.57, 8.79, 0.11, 0.22, '2'], [102.0, 1.5173, 12.35, 2.72, 1.63, 72.87, 0.7, 9.23, 0.0, 0.0, '2'], [103.0, 1.5182, 12.62, 2.76, 0.83, 73.81, 0.35, 9.42, 0.0, 0.2, '2'], [104.0, 1.52725, 13.8, 3.15, 0.66, 70.57, 0.08, 11.64, 0.0, 0.0, '2'], [105.0, 1.5241, 13.83, 2.9, 1.17, 71.15, 0.08, 10.79, 0.0, 0.0, '2'], [106.0, 1.52475, 11.45, 0.0, 1.88, 72.19, 0.81, 13.24, 0.0, 0.34, '2'], [107.0, 1.53125, 10.73, 0.0, 2.1, 69.81, 0.58, 13.3, 3.15, 0.28, '2'], [108.0, 1.53393, 12.3, 0.0, 1.0, 70.16, 0.12, 16.19, 0.0, 0.24, '2'], [109.0, 1.52222, 14.43, 0.0, 1.0, 72.67, 0.1, 11.52, 0.0, 0.08, '2'], [110.0, 1.51818, 13.72, 0.0, 0.56, 74.45, 0.0, 10.99, 0.0, 0.0, '2'], [111.0, 1.52664, 11.23, 0.0, 0.77, 73.21, 0.0, 14.68, 0.0, 0.0, '2'], [112.0, 1.52739, 11.02, 0.0, 0.75, 73.08, 0.0, 14.96, 0.0, 0.0, '2'], [113.0, 1.52777, 12.64, 0.0, 0.67, 72.02, 0.06, 14.4, 0.0, 0.0, '2'], [114.0, 1.51892, 13.46, 3.83, 1.26, 72.55, 0.57, 8.21, 0.0, 0.14, '2'], [115.0, 1.51847, 13.1, 3.97, 1.19, 72.44, 0.6, 8.43, 0.0, 0.0, '2'], [116.0, 1.51846, 13.41, 3.89, 1.33, 72.38, 0.51, 8.28, 0.0, 0.0, '2'], [117.0, 1.51829, 13.24, 3.9, 1.41, 72.33, 0.55, 8.31, 0.0, 0.1, '2'], [118.0, 1.51708, 13.72, 3.68, 1.81, 72.06, 0.64, 7.88, 0.0, 0.0, '2'], [119.0, 1.51673, 13.3, 3.64, 1.53, 72.53, 0.65, 8.03, 0.0, 0.29, '2'], [120.0, 1.51652, 13.56, 3.57, 1.47, 72.45, 0.64, 7.96, 0.0, 0.0, '2'], [121.0, 1.51844, 13.25, 3.76, 1.32, 72.4, 0.58, 8.42, 0.0, 0.0, '2'], [122.0, 1.51663, 12.93, 3.54, 1.62, 72.96, 0.64, 8.03, 0.0, 0.21, '2'], [123.0, 1.51687, 13.23, 3.54, 1.48, 72.84, 0.56, 8.1, 0.0, 0.0, '2'], [124.0, 1.51707, 13.48, 3.48, 1.71, 72.52, 0.62, 7.99, 0.0, 0.0, '2'], [125.0, 1.52177, 13.2, 3.68, 1.15, 72.75, 0.54, 8.52, 0.0, 0.0, '2'], [126.0, 1.51872, 12.93, 3.66, 1.56, 72.51, 0.58, 8.55, 0.0, 0.12, '2'], [127.0, 1.51667, 12.94, 3.61, 1.26, 72.75, 0.56, 8.6, 0.0, 0.0, '2'], [128.0, 1.52081, 13.78, 2.28, 1.43, 71.99, 0.49, 9.85, 0.0, 0.17, '2'], [129.0, 1.52068, 13.55, 2.09, 1.67, 72.18, 0.53, 9.57, 0.27, 0.17, '2'], [130.0, 1.5202, 13.98, 1.35, 1.63, 71.76, 0.39, 10.56, 0.0, 0.18, '2'], [131.0, 1.52177, 13.75, 1.01, 1.36, 72.19, 0.33, 11.14, 0.0, 0.0, '2'], [132.0, 1.52614, 13.7, 0.0, 1.36, 71.24, 0.19, 13.44, 0.0, 0.1, '2'], [133.0, 1.51813, 13.43, 3.98, 1.18, 72.49, 0.58, 8.15, 0.0, 0.0, '2'], [134.0, 1.518, 13.71, 3.93, 1.54, 71.81, 0.54, 8.21, 0.0, 0.15, '2'], [135.0, 1.51811, 13.33, 3.85, 1.25, 72.78, 0.52, 8.12, 0.0, 0.0, '2'], [136.0, 1.51789, 13.19, 3.9, 1.3, 72.33, 0.55, 8.44, 0.0, 0.28, '2'], [137.0, 1.51806, 13.0, 3.8, 1.08, 73.07, 0.56, 8.38, 0.0, 0.12, '2'], [138.0, 1.51711, 12.89, 3.62, 1.57, 72.96, 0.61, 8.11, 0.0, 0.0, '2'], [139.0, 1.51674, 12.79, 3.52, 1.54, 73.36, 0.66, 7.9, 0.0, 0.0, '2'], [140.0, 1.51674, 12.87, 3.56, 1.64, 73.14, 0.65, 7.99, 0.0, 0.0, '2'], [141.0, 1.5169, 13.33, 3.54, 1.61, 72.54, 0.68, 8.11, 0.0, 0.0, '2'], [142.0, 1.51851, 13.2, 3.63, 1.07, 72.83, 0.57, 8.41, 0.09, 0.17, '2'], [143.0, 1.51662, 12.85, 3.51, 1.44, 73.01, 0.68, 8.23, 0.06, 0.25, '2'], [144.0, 1.51709, 13.0, 3.47, 1.79, 72.72, 0.66, 8.18, 0.0, 0.0, '2'], [145.0, 1.5166, 12.99, 3.18, 1.23, 72.97, 0.58, 8.81, 0.0, 0.24, '2'], [146.0, 1.51839, 12.85, 3.67, 1.24, 72.57, 0.62, 8.68, 0.0, 0.35, '2'], [147.0, 1.51769, 13.65, 3.66, 1.11, 72.77, 0.11, 8.6, 0.0, 0.0, '3'], [148.0, 1.5161, 13.33, 3.53, 1.34, 72.67, 0.56, 8.33, 0.0, 0.0, '3'], [149.0, 1.5167, 13.24, 3.57, 1.38, 72.7, 0.56, 8.44, 0.0, 0.1, '3'], [150.0, 1.51643, 12.16, 3.52, 1.35, 72.89, 0.57, 8.53, 0.0, 0.0, '3'], [151.0, 1.51665, 13.14, 3.45, 1.76, 72.48, 0.6, 8.38, 0.0, 0.17, '3'], [152.0, 1.52127, 14.32, 3.9, 0.83, 71.5, 0.0, 9.49, 0.0, 0.0, '3'], [153.0, 1.51779, 13.64, 3.65, 0.65, 73.0, 0.06, 8.93, 0.0, 0.0, '3'], [154.0, 1.5161, 13.42, 3.4, 1.22, 72.69, 0.59, 8.32, 0.0, 0.0, '3'], [155.0, 1.51694, 12.86, 3.58, 1.31, 72.61, 0.61, 8.79, 0.0, 0.0, '3'], [156.0, 1.51646, 13.04, 3.4, 1.26, 73.01, 0.52, 8.58, 0.0, 0.0, '3'], [157.0, 1.51655, 13.41, 3.39, 1.28, 72.64, 0.52, 8.65, 0.0, 0.0, '3'], [158.0, 1.52121, 14.03, 3.76, 0.58, 71.79, 0.11, 9.65, 0.0, 0.0, '3'], [159.0, 1.51776, 13.53, 3.41, 1.52, 72.04, 0.58, 8.79, 0.0, 0.0, '3'], [160.0, 1.51796, 13.5, 3.36, 1.63, 71.94, 0.57, 8.81, 0.0, 0.09, '3'], [161.0, 1.51832, 13.33, 3.34, 1.54, 72.14, 0.56, 8.99, 0.0, 0.0, '3'], [162.0, 1.51934, 13.64, 3.54, 0.75, 72.65, 0.16, 8.89, 0.15, 0.24, '3'], [163.0, 1.52211, 14.19, 3.78, 0.91, 71.36, 0.23, 9.14, 0.0, 0.37, '3'], [164.0, 1.51514, 14.01, 2.68, 3.5, 69.89, 1.68, 5.87, 2.2, 0.0, '5'], [165.0, 1.51915, 12.73, 1.85, 1.86, 72.69, 0.6, 10.09, 0.0, 0.0, '5'], [166.0, 1.52171, 11.56, 1.88, 1.56, 72.86, 0.47, 11.41, 0.0, 0.0, '5'], [167.0, 1.52151, 11.03, 1.71, 1.56, 73.44, 0.58, 11.62, 0.0, 0.0, '5'], [168.0, 1.51969, 12.64, 0.0, 1.65, 73.75, 0.38, 11.53, 0.0, 0.0, '5'], [169.0, 1.51666, 12.86, 0.0, 1.83, 73.88, 0.97, 10.17, 0.0, 0.0, '5'], [170.0, 1.51994, 13.27, 0.0, 1.76, 73.03, 0.47, 11.32, 0.0, 0.0, '5'], [171.0, 1.52369, 13.44, 0.0, 1.58, 72.22, 0.32, 12.24, 0.0, 0.0, '5'], [172.0, 1.51316, 13.02, 0.0, 3.04, 70.48, 6.21, 6.96, 0.0, 0.0, '5'], [173.0, 1.51321, 13.0, 0.0, 3.02, 70.7, 6.21, 6.93, 0.0, 0.0, '5'], [174.0, 1.52043, 13.38, 0.0, 1.4, 72.25, 0.33, 12.5, 0.0, 0.0, '5'], [175.0, 1.52058, 12.85, 1.61, 2.17, 72.18, 0.76, 9.7, 0.24, 0.51, '5'], [176.0, 1.52119, 12.97, 0.33, 1.51, 73.39, 0.13, 11.27, 0.0, 0.28, '5'], [177.0, 1.51905, 14.0, 2.39, 1.56, 72.37, 0.0, 9.57, 0.0, 0.0, '6'], [178.0, 1.51937, 13.79, 2.41, 1.19, 72.76, 0.0, 9.77, 0.0, 0.0, '6'], [179.0, 1.51829, 14.46, 2.24, 1.62, 72.38, 0.0, 9.26, 0.0, 0.0, '6'], [180.0, 1.51852, 14.09, 2.19, 1.66, 72.67, 0.0, 9.32, 0.0, 0.0, '6'], [181.0, 1.51299, 14.4, 1.74, 1.54, 74.55, 0.0, 7.59, 0.0, 0.0, '6'], [182.0, 1.51888, 14.99, 0.78, 1.74, 72.5, 0.0, 9.95, 0.0, 0.0, '6'], [183.0, 1.51916, 14.15, 0.0, 2.09, 72.74, 0.0, 10.88, 0.0, 0.0, '6'], [184.0, 1.51969, 14.56, 0.0, 0.56, 73.48, 0.0, 11.22, 0.0, 0.0, '6'], [185.0, 1.51115, 17.38, 0.0, 0.34, 75.41, 0.0, 6.65, 0.0, 0.0, '6'], [186.0, 1.51131, 13.69, 3.2, 1.81, 72.81, 1.76, 5.43, 1.19, 0.0, '7'], [187.0, 1.51838, 14.32, 3.26, 2.22, 71.25, 1.46, 5.79, 1.63, 0.0, '7'], [188.0, 1.52315, 13.44, 3.34, 1.23, 72.38, 0.6, 8.83, 0.0, 0.0, '7'], [189.0, 1.52247, 14.86, 2.2, 2.06, 70.26, 0.76, 9.76, 0.0, 0.0, '7'], [190.0, 1.52365, 15.79, 1.83, 1.31, 70.43, 0.31, 8.61, 1.68, 0.0, '7'], [191.0, 1.51613, 13.88, 1.78, 1.79, 73.1, 0.0, 8.67, 0.76, 0.0, '7'], [192.0, 1.51602, 14.85, 0.0, 2.38, 73.28, 0.0, 8.76, 0.64, 0.09, '7'], [193.0, 1.51623, 14.2, 0.0, 2.79, 73.46, 0.04, 9.04, 0.4, 0.09, '7'], [194.0, 1.51719, 14.75, 0.0, 2.0, 73.02, 0.0, 8.53, 1.59, 0.08, '7'], [195.0, 1.51683, 14.56, 0.0, 1.98, 73.29, 0.0, 8.52, 1.57, 0.07, '7'], [196.0, 1.51545, 14.14, 0.0, 2.68, 73.39, 0.08, 9.07, 0.61, 0.05, '7'], [197.0, 1.51556, 13.87, 0.0, 2.54, 73.23, 0.14, 9.41, 0.81, 0.01, '7'], [198.0, 1.51727, 14.7, 0.0, 2.34, 73.28, 0.0, 8.95, 0.66, 0.0, '7'], [199.0, 1.51531, 14.38, 0.0, 2.66, 73.1, 0.04, 9.08, 0.64, 0.0, '7'], [200.0, 1.51609, 15.01, 0.0, 2.51, 73.05, 0.05, 8.83, 0.53, 0.0, '7'], [201.0, 1.51508, 15.15, 0.0, 2.25, 73.5, 0.0, 8.34, 0.63, 0.0, '7'], [202.0, 1.51653, 11.95, 0.0, 1.19, 75.18, 2.7, 8.93, 0.0, 0.0, '7'], [203.0, 1.51514, 14.85, 0.0, 2.42, 73.72, 0.0, 8.39, 0.56, 0.0, '7'], [204.0, 1.51658, 14.8, 0.0, 1.99, 73.11, 0.0, 8.28, 1.71, 0.0, '7'], [205.0, 1.51617, 14.95, 0.0, 2.27, 73.3, 0.0, 8.71, 0.67, 0.0, '7'], [206.0, 1.51732, 14.95, 0.0, 1.8, 72.99, 0.0, 8.61, 1.55, 0.0, '7'], [207.0, 1.51645, 14.94, 0.0, 1.87, 73.11, 0.0, 8.67, 1.38, 0.0, '7'], [208.0, 1.51831, 14.39, 0.0, 1.82, 72.86, 1.41, 6.47, 2.88, 0.0, '7'], [209.0, 1.5164, 14.37, 0.0, 2.74, 72.85, 0.0, 9.45, 0.54, 0.0, '7'], [210.0, 1.51623, 14.14, 0.0, 2.88, 72.61, 0.08, 9.18, 1.06, 0.0, '7'], [211.0, 1.51685, 14.92, 0.0, 1.99, 73.06, 0.0, 8.4, 1.59, 0.0, '7'], [212.0, 1.52065, 14.36, 0.0, 2.02, 73.42, 0.0, 8.44, 1.64, 0.0, '7'], [213.0, 1.51651, 14.38, 0.0, 1.94, 73.61, 0.0, 8.48, 1.57, 0.0, '7'], [214.0, 1.51711, 14.23, 0.0, 2.08, 73.36, 0.0, 8.62, 1.67, 0.0, '7']]\n"
     ]
    }
   ],
   "source": [
    "import matplotlib.pyplot as plt\n",
    "import numpy as np\n",
    "\n",
    "dataset = importar_dataset('glass.data')\n",
    "\n",
    "print(dataset)"
   ]
  },
  {
   "cell_type": "code",
   "execution_count": 346,
   "metadata": {
    "colab": {
     "base_uri": "https://localhost:8080/"
    },
    "executionInfo": {
     "elapsed": 3312,
     "status": "ok",
     "timestamp": 1642996881662,
     "user": {
      "displayName": "Liviany Reis Rodrigues",
      "photoUrl": "https://lh3.googleusercontent.com/a/default-user=s64",
      "userId": "13974134542734238498"
     },
     "user_tz": 180
    },
    "id": "Pq1LCAmbKKVU",
    "outputId": "d08109a0-fcf4-444a-dc7f-16cda6ca9747"
   },
   "outputs": [
    {
     "name": "stdout",
     "output_type": "stream",
     "text": [
      "Algoritmo com os dados normalizados entre 0 - 1\n",
      "Precisão:  89.39393939393939 % \n",
      "\n"
     ]
    }
   ],
   "source": [
    "# Dados normalizados\n",
    "print(\"Algoritmo com os dados normalizados entre 0 - 1\")\n",
    "\n",
    "glass_norm = LVQ(dataset)\n",
    "\n",
    "glass_norm.triagem(0.75)\n",
    "\n",
    "glass_norm.normalizar()\n",
    "\n",
    "glass_norm.resumir(n=80, e=13, t=0.5)\n",
    "\n",
    "print(\"Precisão: \", glass_norm.testar(), \"% \\n\")\n"
   ]
  },
  {
   "cell_type": "code",
   "execution_count": 347,
   "metadata": {
    "colab": {
     "base_uri": "https://localhost:8080/",
     "height": 320
    },
    "executionInfo": {
     "elapsed": 4363,
     "status": "ok",
     "timestamp": 1642996895907,
     "user": {
      "displayName": "Liviany Reis Rodrigues",
      "photoUrl": "https://lh3.googleusercontent.com/a/default-user=s64",
      "userId": "13974134542734238498"
     },
     "user_tz": 180
    },
    "id": "S5GrNDvVWH2C",
    "outputId": "c224f51c-7d55-4b68-d967-795ebb5492c5"
   },
   "outputs": [
    {
     "data": {
      "image/png": "[encoded data removed]",
      "text/plain": [
       "<Figure size 432x288 with 1 Axes>"
      ]
     },
     "metadata": {},
     "output_type": "display_data"
    },
    {
     "name": "stdout",
     "output_type": "stream",
     "text": [
      "Algoritmo com os dados não normalizados\n",
      "Precisão:  70.0 % \n",
      "\n"
     ]
    }
   ],
   "source": [
    "classes = glass_norm.classes\n",
    "\n",
    "classes_cor = {}\n",
    "cores = random_cores(len(classes))\n",
    "for index, classe in enumerate(classes):\n",
    "    classes_cor[classe] = cores[index]\n",
    "    \n",
    "for elemento in glass_norm.dataset:\n",
    "    plt.plot(elemento[0], elemento[1], 'o', color=classes_cor[elemento[-1]])\n",
    "\n",
    "for representante in glass_norm.codebook: \n",
    "    plt.plot(representante[0], representante[1], 'D' , ms=10, mfc='none', color=classes_cor[representante[-1]])\n",
    "\n",
    "plt.show()\n",
    "    \n",
    "# Sem normalização \n",
    "print(\"Algoritmo com os dados não normalizados\")\n",
    "\n",
    "glass = LVQ(dataset)\n",
    "glass.triagem(0.75)\n",
    "\n",
    "glass.resumir(n=80, e=13, t=0.5)\n",
    "\n",
    "print(\"Precisão: \", glass.testar(),\"% \\n\")"
   ]
  },
  {
   "cell_type": "markdown",
   "metadata": {
    "id": "6vUG-yMmvbds"
   },
   "source": [
    "Observa-se que alcançamos a melhor precisão quando a base de dados foi normalizada, chegando a uma precisão próxima de 90%."
   ]
  },
  {
   "cell_type": "markdown",
   "metadata": {
    "id": "ddxgwtH3eH5k"
   },
   "source": [
    "#Tuning da quantidade de protótipos"
   ]
  },
  {
   "cell_type": "code",
   "execution_count": 348,
   "metadata": {
    "colab": {
     "base_uri": "https://localhost:8080/"
    },
    "executionInfo": {
     "elapsed": 171935,
     "status": "ok",
     "timestamp": 1642997124138,
     "user": {
      "displayName": "Liviany Reis Rodrigues",
      "photoUrl": "https://lh3.googleusercontent.com/a/default-user=s64",
      "userId": "13974134542734238498"
     },
     "user_tz": 180
    },
    "id": "9-XVcNOaePTN",
    "outputId": "f4955c65-7ceb-4f97-9f92-ea266f1c1545"
   },
   "outputs": [
    {
     "name": "stdout",
     "output_type": "stream",
     "text": [
      "Melhor quantidade protótipos:  69\n",
      "Melhor acurárica de treino:  83.08823529411767\n",
      "Melhor acurárica de validação:  82.85714285714283\n"
     ]
    }
   ],
   "source": [
    "from sklearn.model_selection import train_test_split\n",
    "from sklearn.preprocessing import minmax_scale\n",
    "\n",
    "X = [x[:-1] for x in dataset]\n",
    "y = [x[-1] for x in dataset]\n",
    "\n",
    "X_train, X_test, y_train, y_test = train_test_split(X, y, test_size = 0.20, random_state=42, stratify=y)\n",
    "X_train, X_valid, y_train, y_valid = train_test_split(X_train, y_train, test_size = 0.20, random_state=42, stratify=y_train)\n",
    "\n",
    "# Normalizando os dados por fora\n",
    "X_train = minmax_scale(X_train).tolist()\n",
    "X_test = minmax_scale(X_test).tolist()\n",
    "X_valid = minmax_scale(X_valid).tolist()\n",
    "\n",
    "# Reconstituindo o dataset no formato compreendido pela classe\n",
    "dataset_train = [x+[y_] for x, y_ in zip(X_train, y_train)]\n",
    "dataset_test = [x+[y_] for x, y_ in zip(X_test, y_test)]\n",
    "dataset_valid = [x+[y_] for x, y_ in zip(X_valid, y_valid)]\n",
    "\n",
    "n_range = range(1, 100)\n",
    "\n",
    "n_scores_train = []\n",
    "n_scores_valid = []\n",
    "\n",
    "\n",
    "for n in n_range:\n",
    "    random.seed(100) # Resetando a seed para garantir uma comparação justa\n",
    "    lvq = LVQ(dataset_train)\n",
    "\n",
    "    lvq.triagem(1)#\n",
    "    \n",
    "    lvq.normalizar()\n",
    "    \n",
    "    lvq.resumir(n=n, e=13, t=0.7)\n",
    "\n",
    "    n_scores_train.append(lvq.testar(lvq.treino))   \n",
    "    n_scores_valid.append(lvq.testar(dataset_valid))\n",
    "   \n",
    "\n",
    "best_values = max(zip(n_range, n_scores_train, n_scores_valid), key=lambda v:v[-1])\n",
    "\n",
    "best_n, best_acc_train, best_acc_valid = best_values\n",
    "\n",
    "print(\"Melhor quantidade protótipos: \", best_n)\n",
    "print(\"Melhor acurárica de treino: \", best_acc_train)\n",
    "print(\"Melhor acurárica de validação: \", best_acc_valid)"
   ]
  },
  {
   "cell_type": "markdown",
   "metadata": {
    "id": "ZOk5Ox24ep29"
   },
   "source": [
    "#Treinamento com melhor quantidade de protótipos"
   ]
  },
  {
   "cell_type": "code",
   "execution_count": 349,
   "metadata": {
    "colab": {
     "base_uri": "https://localhost:8080/"
    },
    "executionInfo": {
     "elapsed": 2596,
     "status": "ok",
     "timestamp": 1642997188212,
     "user": {
      "displayName": "Liviany Reis Rodrigues",
      "photoUrl": "https://lh3.googleusercontent.com/a/default-user=s64",
      "userId": "13974134542734238498"
     },
     "user_tz": 180
    },
    "id": "ZUAaMlFMezXw",
    "outputId": "a9d19f26-cf63-4b10-d274-35793d661262"
   },
   "outputs": [
    {
     "name": "stdout",
     "output_type": "stream",
     "text": [
      "Acurárica de teste:  69.76744186046515\n"
     ]
    }
   ],
   "source": [
    "random.seed(100)\n",
    "lvq = LVQ(dataset_train)\n",
    "lvq.triagem(1)\n",
    "lvq.normalizar()\n",
    "lvq.resumir(n=best_n, e=13, t=0.5)\n",
    "\n",
    "print(\"Acurárica de teste: \", lvq.testar(dataset_test))"
   ]
  }
 ],
 "metadata": {
  "colab": {
   "authorship_tag": "ABX9TyOJB9SpWGfTogTPemN+koOi",
   "collapsed_sections": [],
   "name": "Implementacao_KNN_LVQ.ipynb",
   "provenance": []
  },
  "kernelspec": {
   "display_name": "Python 3",
   "language": "python",
   "name": "python3"
  },
  "language_info": {
   "codemirror_mode": {
    "name": "ipython",
    "version": 3
   },
   "file_extension": ".py",
   "mimetype": "text/x-python",
   "name": "python",
   "nbconvert_exporter": "python",
   "pygments_lexer": "ipython3",
   "version": "3.8.8"
  }
 },
 "nbformat": 4,
 "nbformat_minor": 1
}
