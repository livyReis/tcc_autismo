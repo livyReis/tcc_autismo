{
 "cells": [
  {
   "cell_type": "code",
   "execution_count": 29,
   "id": "5133ebdf",
   "metadata": {},
   "outputs": [],
   "source": [
    "#Importando as bibliotecas\n",
    "import pandas as pd;\n",
    "import numpy as np;\n",
    "import seaborn as sns; sns.set();\n",
    "import matplotlib.pyplot as plt;\n",
    "import plotly.express as px;"
   ]
  },
  {
   "cell_type": "code",
   "execution_count": 27,
   "id": "df09ec6a",
   "metadata": {},
   "outputs": [
    {
     "name": "stdout",
     "output_type": "stream",
     "text": [
      "Collecting plotly\n",
      "  Downloading plotly-5.11.0-py2.py3-none-any.whl (15.3 MB)\n",
      "Collecting tenacity>=6.2.0\n",
      "  Downloading tenacity-8.1.0-py3-none-any.whl (23 kB)\n",
      "Installing collected packages: tenacity, plotly\n",
      "Successfully installed plotly-5.11.0 tenacity-8.1.0\n"
     ]
    }
   ],
   "source": [
    "!pip install plotly"
   ]
  },
  {
   "cell_type": "code",
   "execution_count": 167,
   "id": "b436f3ec",
   "metadata": {},
   "outputs": [],
   "source": [
    "#Lendo o Dataset\n",
    "df_autismo_adulto = pd.read_csv('Autism-Adult-Data.csv')"
   ]
  },
  {
   "cell_type": "code",
   "execution_count": 168,
   "id": "f16be824",
   "metadata": {},
   "outputs": [],
   "source": [
    "#Renomeando as colunas\n",
    "df_autismo_adulto.columns = [\"AQ01\", \"AQ02\", \"AQ03\", \"AQ04\", \"AQ05\",\"AQ06\",\"AQ07\",\"AQ08\",\"AQ09\",\"AQ10\", \"age\",\"gender\", \"ethnicity\", \"jundice\", \"austim\", \"contry_of_res\", \"used_app_before\", \"result numeric\", \"age_desc\", \"relation\", \"Class/ASD\"]"
   ]
  },
  {
   "cell_type": "code",
   "execution_count": 169,
   "id": "ed6f9937",
   "metadata": {
    "scrolled": true
   },
   "outputs": [
    {
     "data": {
      "text/html": [
       "<div>\n",
       "<style scoped>\n",
       "    .dataframe tbody tr th:only-of-type {\n",
       "        vertical-align: middle;\n",
       "    }\n",
       "\n",
       "    .dataframe tbody tr th {\n",
       "        vertical-align: top;\n",
       "    }\n",
       "\n",
       "    .dataframe thead th {\n",
       "        text-align: right;\n",
       "    }\n",
       "</style>\n",
       "<table border=\"1\" class=\"dataframe\">\n",
       "  <thead>\n",
       "    <tr style=\"text-align: right;\">\n",
       "      <th></th>\n",
       "      <th>AQ01</th>\n",
       "      <th>AQ02</th>\n",
       "      <th>AQ03</th>\n",
       "      <th>AQ04</th>\n",
       "      <th>AQ05</th>\n",
       "      <th>AQ06</th>\n",
       "      <th>AQ07</th>\n",
       "      <th>AQ08</th>\n",
       "      <th>AQ09</th>\n",
       "      <th>AQ10</th>\n",
       "      <th>...</th>\n",
       "      <th>gender</th>\n",
       "      <th>ethnicity</th>\n",
       "      <th>jundice</th>\n",
       "      <th>austim</th>\n",
       "      <th>contry_of_res</th>\n",
       "      <th>used_app_before</th>\n",
       "      <th>result numeric</th>\n",
       "      <th>age_desc</th>\n",
       "      <th>relation</th>\n",
       "      <th>Class/ASD</th>\n",
       "    </tr>\n",
       "  </thead>\n",
       "  <tbody>\n",
       "    <tr>\n",
       "      <th>0</th>\n",
       "      <td>1</td>\n",
       "      <td>1</td>\n",
       "      <td>0</td>\n",
       "      <td>1</td>\n",
       "      <td>0</td>\n",
       "      <td>0</td>\n",
       "      <td>0</td>\n",
       "      <td>1</td>\n",
       "      <td>0</td>\n",
       "      <td>1</td>\n",
       "      <td>...</td>\n",
       "      <td>m</td>\n",
       "      <td>Latino</td>\n",
       "      <td>no</td>\n",
       "      <td>yes</td>\n",
       "      <td>Brazil</td>\n",
       "      <td>no</td>\n",
       "      <td>5</td>\n",
       "      <td>'18 and more'</td>\n",
       "      <td>Self</td>\n",
       "      <td>NO</td>\n",
       "    </tr>\n",
       "    <tr>\n",
       "      <th>1</th>\n",
       "      <td>1</td>\n",
       "      <td>1</td>\n",
       "      <td>0</td>\n",
       "      <td>1</td>\n",
       "      <td>1</td>\n",
       "      <td>0</td>\n",
       "      <td>1</td>\n",
       "      <td>1</td>\n",
       "      <td>1</td>\n",
       "      <td>1</td>\n",
       "      <td>...</td>\n",
       "      <td>m</td>\n",
       "      <td>Latino</td>\n",
       "      <td>yes</td>\n",
       "      <td>yes</td>\n",
       "      <td>Spain</td>\n",
       "      <td>no</td>\n",
       "      <td>8</td>\n",
       "      <td>'18 and more'</td>\n",
       "      <td>Parent</td>\n",
       "      <td>YES</td>\n",
       "    </tr>\n",
       "    <tr>\n",
       "      <th>2</th>\n",
       "      <td>1</td>\n",
       "      <td>1</td>\n",
       "      <td>0</td>\n",
       "      <td>1</td>\n",
       "      <td>0</td>\n",
       "      <td>0</td>\n",
       "      <td>1</td>\n",
       "      <td>1</td>\n",
       "      <td>0</td>\n",
       "      <td>1</td>\n",
       "      <td>...</td>\n",
       "      <td>f</td>\n",
       "      <td>White-European</td>\n",
       "      <td>no</td>\n",
       "      <td>yes</td>\n",
       "      <td>'United States'</td>\n",
       "      <td>no</td>\n",
       "      <td>6</td>\n",
       "      <td>'18 and more'</td>\n",
       "      <td>Self</td>\n",
       "      <td>NO</td>\n",
       "    </tr>\n",
       "    <tr>\n",
       "      <th>3</th>\n",
       "      <td>1</td>\n",
       "      <td>0</td>\n",
       "      <td>0</td>\n",
       "      <td>0</td>\n",
       "      <td>0</td>\n",
       "      <td>0</td>\n",
       "      <td>0</td>\n",
       "      <td>1</td>\n",
       "      <td>0</td>\n",
       "      <td>0</td>\n",
       "      <td>...</td>\n",
       "      <td>f</td>\n",
       "      <td>?</td>\n",
       "      <td>no</td>\n",
       "      <td>no</td>\n",
       "      <td>Egypt</td>\n",
       "      <td>no</td>\n",
       "      <td>2</td>\n",
       "      <td>'18 and more'</td>\n",
       "      <td>?</td>\n",
       "      <td>NO</td>\n",
       "    </tr>\n",
       "    <tr>\n",
       "      <th>4</th>\n",
       "      <td>1</td>\n",
       "      <td>1</td>\n",
       "      <td>1</td>\n",
       "      <td>1</td>\n",
       "      <td>1</td>\n",
       "      <td>0</td>\n",
       "      <td>1</td>\n",
       "      <td>1</td>\n",
       "      <td>1</td>\n",
       "      <td>1</td>\n",
       "      <td>...</td>\n",
       "      <td>m</td>\n",
       "      <td>Others</td>\n",
       "      <td>yes</td>\n",
       "      <td>no</td>\n",
       "      <td>'United States'</td>\n",
       "      <td>no</td>\n",
       "      <td>9</td>\n",
       "      <td>'18 and more'</td>\n",
       "      <td>Self</td>\n",
       "      <td>YES</td>\n",
       "    </tr>\n",
       "    <tr>\n",
       "      <th>5</th>\n",
       "      <td>0</td>\n",
       "      <td>1</td>\n",
       "      <td>0</td>\n",
       "      <td>0</td>\n",
       "      <td>0</td>\n",
       "      <td>0</td>\n",
       "      <td>0</td>\n",
       "      <td>1</td>\n",
       "      <td>0</td>\n",
       "      <td>0</td>\n",
       "      <td>...</td>\n",
       "      <td>f</td>\n",
       "      <td>Black</td>\n",
       "      <td>no</td>\n",
       "      <td>no</td>\n",
       "      <td>'United States'</td>\n",
       "      <td>no</td>\n",
       "      <td>2</td>\n",
       "      <td>'18 and more'</td>\n",
       "      <td>Self</td>\n",
       "      <td>NO</td>\n",
       "    </tr>\n",
       "    <tr>\n",
       "      <th>6</th>\n",
       "      <td>1</td>\n",
       "      <td>1</td>\n",
       "      <td>1</td>\n",
       "      <td>1</td>\n",
       "      <td>0</td>\n",
       "      <td>0</td>\n",
       "      <td>0</td>\n",
       "      <td>0</td>\n",
       "      <td>1</td>\n",
       "      <td>0</td>\n",
       "      <td>...</td>\n",
       "      <td>m</td>\n",
       "      <td>White-European</td>\n",
       "      <td>no</td>\n",
       "      <td>no</td>\n",
       "      <td>'New Zealand'</td>\n",
       "      <td>no</td>\n",
       "      <td>5</td>\n",
       "      <td>'18 and more'</td>\n",
       "      <td>Parent</td>\n",
       "      <td>NO</td>\n",
       "    </tr>\n",
       "    <tr>\n",
       "      <th>7</th>\n",
       "      <td>1</td>\n",
       "      <td>1</td>\n",
       "      <td>0</td>\n",
       "      <td>0</td>\n",
       "      <td>1</td>\n",
       "      <td>0</td>\n",
       "      <td>0</td>\n",
       "      <td>1</td>\n",
       "      <td>1</td>\n",
       "      <td>1</td>\n",
       "      <td>...</td>\n",
       "      <td>m</td>\n",
       "      <td>White-European</td>\n",
       "      <td>no</td>\n",
       "      <td>no</td>\n",
       "      <td>'United States'</td>\n",
       "      <td>no</td>\n",
       "      <td>6</td>\n",
       "      <td>'18 and more'</td>\n",
       "      <td>Self</td>\n",
       "      <td>NO</td>\n",
       "    </tr>\n",
       "    <tr>\n",
       "      <th>8</th>\n",
       "      <td>1</td>\n",
       "      <td>1</td>\n",
       "      <td>1</td>\n",
       "      <td>1</td>\n",
       "      <td>0</td>\n",
       "      <td>1</td>\n",
       "      <td>1</td>\n",
       "      <td>1</td>\n",
       "      <td>1</td>\n",
       "      <td>0</td>\n",
       "      <td>...</td>\n",
       "      <td>m</td>\n",
       "      <td>Asian</td>\n",
       "      <td>yes</td>\n",
       "      <td>yes</td>\n",
       "      <td>Bahamas</td>\n",
       "      <td>no</td>\n",
       "      <td>8</td>\n",
       "      <td>'18 and more'</td>\n",
       "      <td>'Health care professional'</td>\n",
       "      <td>YES</td>\n",
       "    </tr>\n",
       "    <tr>\n",
       "      <th>9</th>\n",
       "      <td>1</td>\n",
       "      <td>1</td>\n",
       "      <td>1</td>\n",
       "      <td>1</td>\n",
       "      <td>1</td>\n",
       "      <td>1</td>\n",
       "      <td>1</td>\n",
       "      <td>1</td>\n",
       "      <td>1</td>\n",
       "      <td>1</td>\n",
       "      <td>...</td>\n",
       "      <td>m</td>\n",
       "      <td>White-European</td>\n",
       "      <td>no</td>\n",
       "      <td>no</td>\n",
       "      <td>'United States'</td>\n",
       "      <td>no</td>\n",
       "      <td>10</td>\n",
       "      <td>'18 and more'</td>\n",
       "      <td>Relative</td>\n",
       "      <td>YES</td>\n",
       "    </tr>\n",
       "  </tbody>\n",
       "</table>\n",
       "<p>10 rows × 21 columns</p>\n",
       "</div>"
      ],
      "text/plain": [
       "   AQ01  AQ02  AQ03  AQ04  AQ05  AQ06  AQ07  AQ08  AQ09  AQ10  ... gender  \\\n",
       "0     1     1     0     1     0     0     0     1     0     1  ...      m   \n",
       "1     1     1     0     1     1     0     1     1     1     1  ...      m   \n",
       "2     1     1     0     1     0     0     1     1     0     1  ...      f   \n",
       "3     1     0     0     0     0     0     0     1     0     0  ...      f   \n",
       "4     1     1     1     1     1     0     1     1     1     1  ...      m   \n",
       "5     0     1     0     0     0     0     0     1     0     0  ...      f   \n",
       "6     1     1     1     1     0     0     0     0     1     0  ...      m   \n",
       "7     1     1     0     0     1     0     0     1     1     1  ...      m   \n",
       "8     1     1     1     1     0     1     1     1     1     0  ...      m   \n",
       "9     1     1     1     1     1     1     1     1     1     1  ...      m   \n",
       "\n",
       "        ethnicity jundice austim    contry_of_res used_app_before  \\\n",
       "0          Latino      no    yes           Brazil              no   \n",
       "1          Latino     yes    yes            Spain              no   \n",
       "2  White-European      no    yes  'United States'              no   \n",
       "3               ?      no     no            Egypt              no   \n",
       "4          Others     yes     no  'United States'              no   \n",
       "5           Black      no     no  'United States'              no   \n",
       "6  White-European      no     no    'New Zealand'              no   \n",
       "7  White-European      no     no  'United States'              no   \n",
       "8           Asian     yes    yes          Bahamas              no   \n",
       "9  White-European      no     no  'United States'              no   \n",
       "\n",
       "  result numeric       age_desc                    relation Class/ASD  \n",
       "0              5  '18 and more'                        Self        NO  \n",
       "1              8  '18 and more'                      Parent       YES  \n",
       "2              6  '18 and more'                        Self        NO  \n",
       "3              2  '18 and more'                           ?        NO  \n",
       "4              9  '18 and more'                        Self       YES  \n",
       "5              2  '18 and more'                        Self        NO  \n",
       "6              5  '18 and more'                      Parent        NO  \n",
       "7              6  '18 and more'                        Self        NO  \n",
       "8              8  '18 and more'  'Health care professional'       YES  \n",
       "9             10  '18 and more'                    Relative       YES  \n",
       "\n",
       "[10 rows x 21 columns]"
      ]
     },
     "execution_count": 169,
     "metadata": {},
     "output_type": "execute_result"
    }
   ],
   "source": [
    "# Visualizando as 10 primeiras linhas do dataset\n",
    "df_autismo_adulto.head(10)"
   ]
  },
  {
   "cell_type": "code",
   "execution_count": 170,
   "id": "3d46a0fc",
   "metadata": {},
   "outputs": [],
   "source": [
    "# Substituuindo valores com '?' e outro outlier ('383') por Nan para posteriormente eliminá-los.\n",
    "df_autismo_adulto = df_autismo_adulto.replace('?', np.nan).replace('383', np.nan)"
   ]
  },
  {
   "cell_type": "code",
   "execution_count": 172,
   "id": "c4365d8b",
   "metadata": {},
   "outputs": [
    {
     "data": {
      "text/plain": [
       "(703, 21)"
      ]
     },
     "execution_count": 172,
     "metadata": {},
     "output_type": "execute_result"
    }
   ],
   "source": [
    "#Visualizando a quantidade de instâncias e atributos contidas no Dataframe\n",
    "df_autismo_adulto.shape"
   ]
  },
  {
   "cell_type": "code",
   "execution_count": 173,
   "id": "e7a790f0",
   "metadata": {},
   "outputs": [
    {
     "name": "stdout",
     "output_type": "stream",
     "text": [
      "<class 'pandas.core.frame.DataFrame'>\n",
      "RangeIndex: 703 entries, 0 to 702\n",
      "Data columns (total 21 columns):\n",
      " #   Column           Non-Null Count  Dtype \n",
      "---  ------           --------------  ----- \n",
      " 0   AQ01             703 non-null    int64 \n",
      " 1   AQ02             703 non-null    int64 \n",
      " 2   AQ03             703 non-null    int64 \n",
      " 3   AQ04             703 non-null    int64 \n",
      " 4   AQ05             703 non-null    int64 \n",
      " 5   AQ06             703 non-null    int64 \n",
      " 6   AQ07             703 non-null    int64 \n",
      " 7   AQ08             703 non-null    int64 \n",
      " 8   AQ09             703 non-null    int64 \n",
      " 9   AQ10             703 non-null    int64 \n",
      " 10  age              700 non-null    object\n",
      " 11  gender           703 non-null    object\n",
      " 12  ethnicity        608 non-null    object\n",
      " 13  jundice          703 non-null    object\n",
      " 14  austim           703 non-null    object\n",
      " 15  contry_of_res    703 non-null    object\n",
      " 16  used_app_before  703 non-null    object\n",
      " 17  result numeric   703 non-null    int64 \n",
      " 18  age_desc         703 non-null    object\n",
      " 19  relation         608 non-null    object\n",
      " 20  Class/ASD        703 non-null    object\n",
      "dtypes: int64(11), object(10)\n",
      "memory usage: 115.5+ KB\n"
     ]
    }
   ],
   "source": [
    "# Visualizando as informações gerais do Dataframe\n",
    "df_autismo_adulto.info()"
   ]
  },
  {
   "cell_type": "code",
   "execution_count": 174,
   "id": "5abe29e6",
   "metadata": {},
   "outputs": [
    {
     "data": {
      "text/plain": [
       "AQ01                0\n",
       "AQ02                0\n",
       "AQ03                0\n",
       "AQ04                0\n",
       "AQ05                0\n",
       "AQ06                0\n",
       "AQ07                0\n",
       "AQ08                0\n",
       "AQ09                0\n",
       "AQ10                0\n",
       "age                 3\n",
       "gender              0\n",
       "ethnicity          95\n",
       "jundice             0\n",
       "austim              0\n",
       "contry_of_res       0\n",
       "used_app_before     0\n",
       "result numeric      0\n",
       "age_desc            0\n",
       "relation           95\n",
       "Class/ASD           0\n",
       "dtype: int64"
      ]
     },
     "execution_count": 174,
     "metadata": {},
     "output_type": "execute_result"
    }
   ],
   "source": [
    "# Visualizando a quantidade total de dados nulos no Dataset\n",
    "df_autismo_adulto.isnull().sum()"
   ]
  },
  {
   "cell_type": "code",
   "execution_count": 175,
   "id": "5ae0ff9a",
   "metadata": {},
   "outputs": [
    {
     "data": {
      "text/plain": [
       "AQ01                0.000000\n",
       "AQ02                0.000000\n",
       "AQ03                0.000000\n",
       "AQ04                0.000000\n",
       "AQ05                0.000000\n",
       "AQ06                0.000000\n",
       "AQ07                0.000000\n",
       "AQ08                0.000000\n",
       "AQ09                0.000000\n",
       "AQ10                0.000000\n",
       "age                 0.426743\n",
       "gender              0.000000\n",
       "ethnicity          13.513514\n",
       "jundice             0.000000\n",
       "austim              0.000000\n",
       "contry_of_res       0.000000\n",
       "used_app_before     0.000000\n",
       "result numeric      0.000000\n",
       "age_desc            0.000000\n",
       "relation           13.513514\n",
       "Class/ASD           0.000000\n",
       "dtype: float64"
      ]
     },
     "execution_count": 175,
     "metadata": {},
     "output_type": "execute_result"
    }
   ],
   "source": [
    "# Visualizando a quantidade total de dados nulos no Dataset\n",
    "df_autismo_adulto.isnull().sum()/df_autismo_adulto.shape[0]*100"
   ]
  },
  {
   "cell_type": "code",
   "execution_count": 176,
   "id": "edac2c8d",
   "metadata": {},
   "outputs": [],
   "source": [
    "# Elimando os dados nulos\n",
    "df_autismo_adulto = df_autismo_adulto.dropna(inplace = False, axis = 0)"
   ]
  },
  {
   "cell_type": "code",
   "execution_count": 177,
   "id": "6a7b93c8",
   "metadata": {},
   "outputs": [
    {
     "data": {
      "text/plain": [
       "AQ01               0\n",
       "AQ02               0\n",
       "AQ03               0\n",
       "AQ04               0\n",
       "AQ05               0\n",
       "AQ06               0\n",
       "AQ07               0\n",
       "AQ08               0\n",
       "AQ09               0\n",
       "AQ10               0\n",
       "age                0\n",
       "gender             0\n",
       "ethnicity          0\n",
       "jundice            0\n",
       "austim             0\n",
       "contry_of_res      0\n",
       "used_app_before    0\n",
       "result numeric     0\n",
       "age_desc           0\n",
       "relation           0\n",
       "Class/ASD          0\n",
       "dtype: int64"
      ]
     },
     "execution_count": 177,
     "metadata": {},
     "output_type": "execute_result"
    }
   ],
   "source": [
    "# Visualizando novamente se ainda existe dados nulos no Dataset. \n",
    "df_autismo_adulto.isnull().sum()"
   ]
  },
  {
   "cell_type": "code",
   "execution_count": 178,
   "id": "b13cf4f7",
   "metadata": {},
   "outputs": [
    {
     "data": {
      "text/plain": [
       "(607, 21)"
      ]
     },
     "execution_count": 178,
     "metadata": {},
     "output_type": "execute_result"
    }
   ],
   "source": [
    "df_autismo_adulto.shape"
   ]
  },
  {
   "cell_type": "code",
   "execution_count": 179,
   "id": "da1d2a0c",
   "metadata": {},
   "outputs": [
    {
     "data": {
      "text/plain": [
       "22    33\n",
       "23    33\n",
       "21    32\n",
       "24    31\n",
       "18    31\n",
       "20    31\n",
       "27    29\n",
       "30    27\n",
       "29    26\n",
       "25    26\n",
       "26    24\n",
       "19    24\n",
       "28    22\n",
       "31    19\n",
       "35    17\n",
       "40    15\n",
       "33    15\n",
       "37    15\n",
       "42    15\n",
       "17    14\n",
       "32    14\n",
       "36    13\n",
       "34    11\n",
       "38    11\n",
       "44     9\n",
       "43     9\n",
       "39     7\n",
       "53     6\n",
       "55     6\n",
       "47     6\n",
       "46     6\n",
       "50     4\n",
       "48     4\n",
       "52     3\n",
       "45     3\n",
       "49     3\n",
       "41     2\n",
       "54     2\n",
       "58     2\n",
       "61     2\n",
       "51     1\n",
       "64     1\n",
       "59     1\n",
       "60     1\n",
       "56     1\n",
       "Name: age, dtype: int64"
      ]
     },
     "execution_count": 179,
     "metadata": {},
     "output_type": "execute_result"
    }
   ],
   "source": [
    "# Visualizando um panorama das idades dos participantes da pesquisa\n",
    "df_autismo_adulto['age'].value_counts()"
   ]
  },
  {
   "cell_type": "code",
   "execution_count": 180,
   "id": "2ace9282",
   "metadata": {},
   "outputs": [
    {
     "data": {
      "text/plain": [
       "<AxesSubplot:>"
      ]
     },
     "execution_count": 180,
     "metadata": {},
     "output_type": "execute_result"
    },
    {
     "data": {
      "image/png": "[encoded data removed]",
      "text/plain": [
       "<Figure size 432x288 with 1 Axes>"
      ]
     },
     "metadata": {},
     "output_type": "display_data"
    }
   ],
   "source": [
    "# Visualizando \n",
    "df_autismo_adulto['age'].value_counts().plot()"
   ]
  },
  {
   "cell_type": "code",
   "execution_count": 181,
   "id": "e2a79071",
   "metadata": {},
   "outputs": [
    {
     "data": {
      "text/plain": [
       "'17'"
      ]
     },
     "execution_count": 181,
     "metadata": {},
     "output_type": "execute_result"
    }
   ],
   "source": [
    "df_autismo_adulto['age'].min()"
   ]
  },
  {
   "cell_type": "code",
   "execution_count": 182,
   "id": "1d8f76be",
   "metadata": {},
   "outputs": [
    {
     "data": {
      "text/plain": [
       "'64'"
      ]
     },
     "execution_count": 182,
     "metadata": {},
     "output_type": "execute_result"
    }
   ],
   "source": [
    "df_autismo_adulto['age'].max()"
   ]
  },
  {
   "cell_type": "code",
   "execution_count": 183,
   "id": "43b325f3",
   "metadata": {},
   "outputs": [
    {
     "data": {
      "text/plain": [
       "no     522\n",
       "yes     85\n",
       "Name: austim, dtype: int64"
      ]
     },
     "execution_count": 183,
     "metadata": {},
     "output_type": "execute_result"
    }
   ],
   "source": [
    "df_autismo_adulto['austim'].value_counts()"
   ]
  },
  {
   "cell_type": "code",
   "execution_count": 184,
   "id": "e0205cfd",
   "metadata": {},
   "outputs": [
    {
     "data": {
      "text/plain": [
       "<AxesSubplot:>"
      ]
     },
     "execution_count": 184,
     "metadata": {},
     "output_type": "execute_result"
    },
    {
     "data": {
      "image/png": "[encoded data removed]",
      "text/plain": [
       "<Figure size 432x288 with 1 Axes>"
      ]
     },
     "metadata": {},
     "output_type": "display_data"
    }
   ],
   "source": [
    "df_autismo_adulto['austim'].value_counts().plot.bar()"
   ]
  },
  {
   "cell_type": "code",
   "execution_count": 185,
   "id": "159987ca",
   "metadata": {},
   "outputs": [
    {
     "data": {
      "text/plain": [
       "NO     427\n",
       "YES    180\n",
       "Name: Class/ASD, dtype: int64"
      ]
     },
     "execution_count": 185,
     "metadata": {},
     "output_type": "execute_result"
    }
   ],
   "source": [
    "df_autismo_adulto['Class/ASD'].value_counts()"
   ]
  },
  {
   "cell_type": "code",
   "execution_count": 186,
   "id": "bb1dd37c",
   "metadata": {},
   "outputs": [
    {
     "data": {
      "text/plain": [
       "<AxesSubplot:>"
      ]
     },
     "execution_count": 186,
     "metadata": {},
     "output_type": "execute_result"
    },
    {
     "data": {
      "image/png": "[encoded data removed]",
      "text/plain": [
       "<Figure size 432x288 with 1 Axes>"
      ]
     },
     "metadata": {},
     "output_type": "display_data"
    }
   ],
   "source": [
    "df_autismo_adulto['Class/ASD'].value_counts().plot.bar()"
   ]
  },
  {
   "cell_type": "code",
   "execution_count": null,
   "id": "d0a42a7b",
   "metadata": {},
   "outputs": [],
   "source": []
  }
 ],
 "metadata": {
  "kernelspec": {
   "display_name": "Python 3",
   "language": "python",
   "name": "python3"
  },
  "language_info": {
   "codemirror_mode": {
    "name": "ipython",
    "version": 3
   },
   "file_extension": ".py",
   "mimetype": "text/x-python",
   "name": "python",
   "nbconvert_exporter": "python",
   "pygments_lexer": "ipython3",
   "version": "3.8.8"
  }
 },
 "nbformat": 4,
 "nbformat_minor": 5
}
